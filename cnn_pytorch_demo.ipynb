{
 "cells": [
  {
   "attachments": {},
   "cell_type": "markdown",
   "metadata": {},
   "source": [
    "### CNN for CIFAR10\n",
    "\n",
    "CNN model that can be used for classification tasks. \n",
    "\n",
    "In this demo, we will train a 3-layer CNN on the CIFAR10 dataset. We will show 2 implementations of the CNN model. First is using PyTorch's  built-in `nn.Conv2d` API. Second, is we will use tensor level convolution. \n",
    "\n",
    "Let us first import the required modules."
   ]
  },
  {
   "cell_type": "code",
   "execution_count": 18,
   "metadata": {},
   "outputs": [],
   "source": [
    "import torch\n",
    "import torchvision\n",
    "import math\n",
    "import time\n",
    "\n",
    "import matplotlib.pyplot as plt\n",
    "from torch import nn\n",
    "from torch.optim import Adam\n",
    "from torch.optim.lr_scheduler import CosineAnnealingLR\n",
    "from matplotlib import image\n"
   ]
  },
  {
   "attachments": {},
   "cell_type": "markdown",
   "metadata": {},
   "source": [
    "#### CNN using PyTorch `nn.Conv2D`\n",
    "\n",
    "In this example, we use `nn.Conv2D` to create a 3-layer CNN model. Note the following:\n",
    "1. The first layer number of input features is equal to the number of input RGB channels (3).\n",
    "2. The output of the first layer is equal to the number of input features of the second layer.\n",
    "3. The same matching for the second and third (last) layer.\n",
    "4. We use `nn.MaxPool2d` to reduce the output feature map size.\n",
    "5. At the same, we increase the number of feature maps after every layer.\n",
    "6. We use `nn.ReLU` to activate the output of the layer.\n",
    "7. For the last linear layer `nn.Linear`, the number of input features has to be supplied manually. Below in comment is a simple script that can be used to calculate the number of input features.\n",
    "\n",
    "Ideas for experimentation:\n",
    "1. Try other kernel sizes\n",
    "2. Try deeper models\n",
    "3. Try different activation functions\n",
    "4. Try applying skip connections\n"
   ]
  },
  {
   "cell_type": "code",
   "execution_count": 19,
   "metadata": {},
   "outputs": [],
   "source": [
    "class SimpleCNN(nn.Module):\n",
    "    def __init__(self, n_features=3, kernel_size=3, n_filters=32, num_classes=10, conv2d=nn.Conv2d):\n",
    "        super().__init__()\n",
    "        self.conv1 = conv2d(n_features, n_filters, kernel_size=kernel_size)\n",
    "        self.conv2 = conv2d(n_filters, n_filters*2, kernel_size=kernel_size)\n",
    "        self.conv3 = conv2d(n_filters*2, n_filters*4, kernel_size=kernel_size)\n",
    "        \n",
    "        self.fc1 = nn.Linear(2048, num_classes)\n",
    "\n",
    "    def forward(self, x):\n",
    "        y = nn.ReLU()(self.conv1(x))\n",
    "        y = nn.MaxPool2d(kernel_size=2)(y)\n",
    "        y = nn.ReLU()(self.conv2(y))\n",
    "        y = nn.MaxPool2d(kernel_size=2)(y)\n",
    "        y = nn.ReLU()(self.conv3(y))\n",
    "        y = y.contiguous().view(y.size(0), -1)\n",
    "\n",
    "        y = self.fc1(y)\n",
    "        return y"
   ]
  },
  {
   "cell_type": "markdown",
   "metadata": {},
   "source": [
    "### Dataloaders\n",
    "\n",
    "Create train and test data loaders. We use the `torchvision` module to download the CIFAR10 dataset. We also apply some data augmentation to the training dataset."
   ]
  },
  {
   "cell_type": "code",
   "execution_count": 20,
   "metadata": {},
   "outputs": [
    {
     "name": "stdout",
     "output_type": "stream",
     "text": [
      "Files already downloaded and verified\n",
      "Files already downloaded and verified\n"
     ]
    }
   ],
   "source": [
    "batch_size = 64\n",
    "# load the CIFAR10 dataset\n",
    "transform_train = torchvision.transforms.Compose([\n",
    "    torchvision.transforms.RandomCrop(32, padding=4),\n",
    "    torchvision.transforms.RandomHorizontalFlip(),\n",
    "    torchvision.transforms.ToTensor(),\n",
    "    torchvision.transforms.Normalize((0.5, 0.5, 0.5), (0.5, 0.5, 0.5))\n",
    "])\n",
    "transform_test = torchvision.transforms.Compose([\n",
    "    torchvision.transforms.ToTensor(),\n",
    "    torchvision.transforms.Normalize((0.5, 0.5, 0.5), (0.5, 0.5, 0.5))\n",
    "])\n",
    "trainset = torchvision.datasets.CIFAR10(root='~/data', train=True, download=True, transform=transform_train)\n",
    "train_loader = torch.utils.data.DataLoader(trainset, batch_size=batch_size, shuffle=True, num_workers=2)\n",
    "testset = torchvision.datasets.CIFAR10(root='~/data', train=False, download=True, transform=transform_test)\n",
    "test_loader = torch.utils.data.DataLoader(testset, batch_size=batch_size, shuffle=False, num_workers=2)"
   ]
  },
  {
   "cell_type": "markdown",
   "metadata": {},
   "source": [
    "### Train and Test Functions\n",
    "\n",
    "We define the train and test functions. Note that we use the `nn.CrossEntropyLoss` loss function. We also use the `torch.optim.Adam` optimizer."
   ]
  },
  {
   "cell_type": "code",
   "execution_count": 21,
   "metadata": {},
   "outputs": [],
   "source": [
    "# define the training function\n",
    "def train(model, train_loader, optimizer, criterion,  device):\n",
    "    model.train()\n",
    "    train_loss = 0\n",
    "    correct = 0\n",
    "    total = 0\n",
    "    for batch_idx, (inputs, targets) in enumerate(train_loader):\n",
    "        inputs, targets = inputs.to(device), targets.to(device)\n",
    "        optimizer.zero_grad()\n",
    "        outputs = model(inputs)\n",
    "        loss = criterion(outputs, targets)\n",
    "        loss.backward()\n",
    "        optimizer.step()\n",
    "        train_loss += loss.item()\n",
    "        _, predicted = outputs.max(1)\n",
    "        total += targets.size(0)\n",
    "        correct += predicted.eq(targets).sum().item()\n",
    "\n",
    "    return train_loss/(batch_idx+1), 100.*correct/total\n",
    "\n",
    "# define the test function\n",
    "def test(model, test_loader, criterion, device):\n",
    "    model.eval()\n",
    "    test_loss = 0\n",
    "    correct = 0\n",
    "    total = 0\n",
    "    with torch.no_grad():\n",
    "        for batch_idx, (inputs, targets) in enumerate(test_loader):\n",
    "            inputs, targets = inputs.to(device), targets.to(device)\n",
    "            outputs = model(inputs)\n",
    "            loss = criterion(outputs, targets)\n",
    "\n",
    "            test_loss += loss.item()\n",
    "            _, predicted = outputs.max(1)\n",
    "            total += targets.size(0)\n",
    "            correct += predicted.eq(targets).sum().item()\n",
    "\n",
    "    return test_loss/(batch_idx+1), 100.*correct/total"
   ]
  },
  {
   "cell_type": "markdown",
   "metadata": {},
   "source": [
    "### Create the `main()` function\n",
    "\n",
    "We create the `main()` function. The `main()` function is the entry point of the program. We also define the hyperparameters of the model. We also define the number of epochs to train the model."
   ]
  },
  {
   "cell_type": "code",
   "execution_count": 22,
   "metadata": {},
   "outputs": [
    {
     "name": "stdout",
     "output_type": "stream",
     "text": [
      "Number of model parameters: 0.11 million\n",
      "Running on: cuda\n",
      "Epoch: 1, Train Loss: 1.5890, Train Acc: 41.47%, Test Loss: 1.2760, Test Acc: 53.57%, LR: 0.000976, Time: 11.57s\n",
      "Epoch: 2, Train Loss: 1.2822, Train Acc: 53.92%, Test Loss: 1.0892, Test Acc: 61.30%, LR: 0.000905, Time: 11.48s\n",
      "Epoch: 3, Train Loss: 1.1171, Train Acc: 60.42%, Test Loss: 0.9790, Test Acc: 65.63%, LR: 0.000794, Time: 11.57s\n",
      "Epoch: 4, Train Loss: 1.0223, Train Acc: 64.02%, Test Loss: 0.8940, Test Acc: 68.52%, LR: 0.000655, Time: 11.56s\n",
      "Epoch: 5, Train Loss: 0.9539, Train Acc: 66.55%, Test Loss: 0.8403, Test Acc: 70.50%, LR: 0.000500, Time: 11.48s\n",
      "Epoch: 6, Train Loss: 0.8989, Train Acc: 68.66%, Test Loss: 0.7856, Test Acc: 72.29%, LR: 0.000345, Time: 11.48s\n",
      "Epoch: 7, Train Loss: 0.8546, Train Acc: 70.27%, Test Loss: 0.8091, Test Acc: 72.32%, LR: 0.000206, Time: 11.61s\n",
      "Epoch: 8, Train Loss: 0.8228, Train Acc: 71.28%, Test Loss: 0.7669, Test Acc: 73.15%, LR: 0.000095, Time: 11.56s\n",
      "Epoch: 9, Train Loss: 0.7988, Train Acc: 72.21%, Test Loss: 0.7427, Test Acc: 73.50%, LR: 0.000024, Time: 11.50s\n",
      "Epoch: 10, Train Loss: 0.7889, Train Acc: 72.66%, Test Loss: 0.7311, Test Acc: 74.15%, LR: 0.000000, Time: 11.53s\n"
     ]
    },
    {
     "data": {
      "image/png": "[encoded data removed]",
      "text/plain": [
       "<Figure size 640x480 with 1 Axes>"
      ]
     },
     "metadata": {},
     "output_type": "display_data"
    },
    {
     "data": {
      "image/png": "[encoded data removed]",
      "text/plain": [
       "<Figure size 640x480 with 1 Axes>"
      ]
     },
     "metadata": {},
     "output_type": "display_data"
    }
   ],
   "source": [
    "\n",
    "# define the main function\n",
    "def main():\n",
    "    # set the device\n",
    "    device = 'cuda' if torch.cuda.is_available() else 'cpu'\n",
    "\n",
    "    # set the hyperparameters\n",
    "    lr = 0.001\n",
    "    momentum = 0.9\n",
    "    weight_decay = 5e-4\n",
    "    epochs = 10\n",
    "    \n",
    "    # define the model, optimizer and loss function\n",
    "    model = SimpleCNN().to(device)\n",
    "    optimizer = Adam(model.parameters(), lr=lr, weight_decay=weight_decay)\n",
    "    criterion = nn.CrossEntropyLoss()\n",
    "\n",
    "    # Define the learning rate scheduler\n",
    "    lr_scheduler = CosineAnnealingLR(optimizer, T_max=epochs, eta_min=0, last_epoch=-1)\n",
    "\n",
    "    print(f\"Number of model parameters: {sum(p.numel() for p in model.parameters())/1e6:.2f} million\")\n",
    "    print(f\"Running on: {device}\")\n",
    "    # train the model\n",
    "    train_losses = []\n",
    "    test_losses = []\n",
    "    train_accs = []\n",
    "    test_accs = []\n",
    "    for epoch in range(epochs):\n",
    "        start_time = time.time()\n",
    "        train_loss, train_acc = train(model, train_loader, optimizer, criterion,  device)\n",
    "        test_loss, test_acc = test(model, test_loader, criterion, device)\n",
    "        train_losses.append(train_loss)\n",
    "        test_losses.append(test_loss)\n",
    "        train_accs.append(train_acc)\n",
    "        test_accs.append(test_acc)\n",
    "        end_time = time.time()\n",
    "        lr_scheduler.step()\n",
    "\n",
    "        print('Epoch: {}, Train Loss: {:.4f}, Train Acc: {:.2f}%, Test Loss: {:.4f}, Test Acc: {:.2f}%, LR: {:.6f}, Time: {:.2f}s'.format(epoch+1, train_loss, train_acc, test_loss, test_acc, optimizer.param_groups[0]['lr'], end_time-start_time))\n",
    "\n",
    "    # plot the train and test losses\n",
    "    plt.plot(train_losses, label='Train Loss')\n",
    "    plt.plot(test_losses, label='Test Loss')\n",
    "    plt.xlabel('Epoch')\n",
    "    plt.ylabel('Loss')\n",
    "    plt.legend()\n",
    "    plt.show()\n",
    "\n",
    "    # plot the train and test accuracies\n",
    "    plt.plot(train_accs, label='Train Acc')\n",
    "    plt.plot(test_accs, label='Test Acc')\n",
    "    plt.xlabel('Epoch')\n",
    "    plt.ylabel('Accuracy')\n",
    "    plt.legend()\n",
    "    plt.show()\n",
    "\n",
    "if __name__ == '__main__':\n",
    "    main()"
   ]
  },
  {
   "cell_type": "markdown",
   "metadata": {},
   "source": [
    "### Hand-crafted implementation of 2D convolution\n",
    "\n",
    "`TensorConv2d` is a hand-crafted implementation of `nn.Conv2d`. This is a test of low-level understanding of convolution. It uses `einops` as a helper library for tensor manipulation."
   ]
  },
  {
   "cell_type": "code",
   "execution_count": 23,
   "metadata": {},
   "outputs": [],
   "source": [
    "from einops import rearrange\n",
    "\n",
    "class TensorConv2d(nn.Module):\n",
    "    def __init__(self, n_features, n_filters, kernel_size):\n",
    "        super().__init__()\n",
    "        self.n_features = n_features\n",
    "        self.kernel_size = kernel_size\n",
    "        self.n_filters = n_filters\n",
    "        self.kernel = nn.Parameter(torch.zeros((n_features * kernel_size * kernel_size, n_filters)))\n",
    "        self.bias = nn.Parameter(torch.zeros(n_filters))\n",
    "        self.reset_parameters()\n",
    "\n",
    "    def reset_parameters(self):\n",
    "        nn.init.constant_(self.bias, 0)\n",
    "        nn.init.kaiming_uniform_(self.kernel, a=math.sqrt(5))\n",
    "        \n",
    "    def forward(self, x):\n",
    "        k = self.kernel_size\n",
    "\n",
    "        # make sure that kernel and bias are in the same device as x\n",
    "        if self.kernel.device != x.device:\n",
    "            self.kernel.to(x.device)\n",
    "            self.bias.to(x.device)\n",
    "\n",
    "        # batch, height, width\n",
    "        b = x.shape[0]\n",
    "        h = x.shape[2]\n",
    "        w = x.shape[3]\n",
    "\n",
    "        # making sure the feature map to be convolved is of the right size\n",
    "        # and we dont go past beyond the the feature map boundary\n",
    "        wk = k * (w // k) \n",
    "        hk = k * (h // k)\n",
    "        wf = w % k \n",
    "        hf = h % k\n",
    "\n",
    "        # Tensor Level Convolution\n",
    "        # Basic idea: (Repeat kernel_size times per row and per col) \n",
    "        # 1) convert an image into patches\n",
    "        # 2) perform convolution on each patch which is equivalent to \n",
    "        #  - dot product of each patch with the kernel plus bias term\n",
    "        # 4) move 1 feature point along the horizontal axis (to be done kernel_size times)\n",
    "        # 5) go to 1)\n",
    "        # 6) move 1 feature point along the vertical axis (to be done kernel_size times)\n",
    "        # 7) go to 1)\n",
    "\n",
    "        # Tensor z contains the output of the convolution\n",
    "        # make sure tensor z is the correct device as x\n",
    "        z = torch.empty((b, self.n_filters, h-k+1, w-k+1)).to(x.device)\n",
    "\n",
    "        for i in range(k):\n",
    "            # row offset \n",
    "            # we need to perform offset k times\n",
    "            hoff = i if hf >= i else (-k + i)\n",
    "            for j in range(k):\n",
    "                # column offset \n",
    "                # we need to perform offset k times\n",
    "                woff = j if wf >= j else (-k + j)\n",
    "                \n",
    "                # shift i row and j col\n",
    "                y = x[:, :, i: hk + hoff:, j: wk + woff:]\n",
    "        \n",
    "                # convert to patches (p1 p2 c)\n",
    "                y = rearrange(y, \"b c (h p1) (w p2) -> b h w (p1 p2 c)\", p1=k, p2=k)\n",
    "                # dot product plus bias term\n",
    "                y = y @ self.kernel + self.bias\n",
    "\n",
    "                # sparse feature map: channel first\n",
    "                y = rearrange(y, 'b h w c -> b c h w')\n",
    "\n",
    "                # assign the feature map to the correct position in the output tensor\n",
    "                z[:,:,i::k,j::k] = y\n",
    "        \n",
    "        return z"
   ]
  },
  {
   "cell_type": "markdown",
   "metadata": {},
   "source": [
    "## PyTorch Lightning (PL) Implementation\n",
    "\n",
    "The following shows how PL simplifies the overall code. We use the same CNN model as above. We also use the same train and test functions. The only difference is that we use the `LightningModule` class to define the model. We also use the `Trainer` class to train the model.\n",
    "\n",
    "\n",
    "PL has built-in support for `accuracy` measurement (`torchmetrics`) and logging (`default`, `tensorboard` and `wandb`). We can also use `torchvision` to download the CIFAR10 dataset."
   ]
  },
  {
   "cell_type": "code",
   "execution_count": 33,
   "metadata": {},
   "outputs": [],
   "source": [
    "import lightning as L\n",
    "import torchmetrics\n",
    "\n",
    "class LSimpleCNN(L.LightningModule):\n",
    "    def __init__(self, n_features=3, kernel_size=3, n_filters=32, num_classes=10, conv2d=nn.Conv2d) -> None:\n",
    "        super().__init__()\n",
    "        self.model = SimpleCNN(n_features, kernel_size, n_filters, num_classes, conv2d)\n",
    "        self.epochs = 10\n",
    "        self.accuracy = torchmetrics.Accuracy(task='multiclass', num_classes=num_classes)\n",
    "        self.train_losses = []\n",
    "        self.train_acc = []\n",
    "        self.val_acc = []\n",
    "        self.val_losses = []\n",
    "        \n",
    "    def forward(self, x):\n",
    "        return self.model(x)\n",
    "        \n",
    "    def training_step(self, batch, batch_idx):\n",
    "        x, y = batch\n",
    "        y_hat = self.model(x)\n",
    "        loss = nn.CrossEntropyLoss()(y_hat, y)\n",
    "        self.train_losses.append(loss)\n",
    "        acc = self.accuracy(y_hat, y)\n",
    "        self.train_acc.append(acc)\n",
    "        self.log(\"train_acc\", acc, on_step=True, on_epoch=True, prog_bar=True, logger=True)\n",
    "        self.log(\"train_loss\", loss, on_step=True, on_epoch=True, prog_bar=True, logger=True)\n",
    "        return { \"loss\": loss, \"acc\": acc }\n",
    "    \n",
    "    def on_train_epoch_start(self):\n",
    "        self.train_losses.clear()\n",
    "    \n",
    "    def on_train_epoch_end(self):\n",
    "        self.log(\"lr\", self.optimizer.param_groups[0]['lr'], on_epoch=True, prog_bar=True, logger=True)\n",
    "\n",
    "    def on_test_epoch_start(self) -> None:\n",
    "        return self.on_validation_epoch_start()\n",
    "\n",
    "    def on_validation_epoch_start(self) -> None:\n",
    "        self.val_acc.clear()\n",
    "        self.val_losses.clear()\n",
    "        \n",
    "    def test_step(self, batch, batch_idx):\n",
    "        return self.validation_step(batch, batch_idx)\n",
    "\n",
    "    def validation_step(self, batch, batch_idx):\n",
    "        x, y = batch\n",
    "        y_hat = self.model(x)\n",
    "        loss = nn.CrossEntropyLoss()(y_hat, y)\n",
    "        acc = self.accuracy(y_hat, y)\n",
    "        self.val_acc.append(acc)\n",
    "        self.val_losses.append(loss)\n",
    "        return {\"test_loss\": loss, \"test_acc\": acc}\n",
    "    \n",
    "    def on_test_epoch_end(self) -> None:\n",
    "        return self.on_validation_epoch_end()\n",
    "    \n",
    "    def on_validation_epoch_end(self):\n",
    "        avg_acc = torch.stack([x for x in self.val_acc]).mean()\n",
    "        avg_loss = torch.stack([x for x in self.val_losses]).mean()\n",
    "        self.log(\"test_loss\", avg_loss, on_epoch=True, prog_bar=True, logger=True)\n",
    "        self.log(\"test_acc\", avg_acc, on_epoch=True, prog_bar=True, logger=True)\n",
    "    \n",
    "    def configure_optimizers(self):\n",
    "        self.optimizer = Adam(self.parameters(), lr=0.001, weight_decay=5e-4)\n",
    "        self.scheduler = CosineAnnealingLR(self.optimizer, T_max=self.epochs, eta_min=0, last_epoch=-1)\n",
    "        \n",
    "        return [self.optimizer], [self.scheduler]\n",
    "    "
   ]
  },
  {
   "cell_type": "markdown",
   "metadata": {},
   "source": [
    "### Model creation, training and testing\n",
    "\n",
    "Using PL, model creation, training and testing is simplified. We can also use `Trainer` to log the model metrics to `tensorboard` and `wandb`. For this example, we will just print the results on the screen."
   ]
  },
  {
   "cell_type": "code",
   "execution_count": 37,
   "metadata": {},
   "outputs": [
    {
     "name": "stderr",
     "output_type": "stream",
     "text": [
      "GPU available: True (cuda), used: True\n",
      "TPU available: False, using: 0 TPU cores\n",
      "IPU available: False, using: 0 IPUs\n",
      "HPU available: False, using: 0 HPUs\n",
      "LOCAL_RANK: 0 - CUDA_VISIBLE_DEVICES: [0,1,2,3,4,5,6,7]\n",
      "\n",
      "  | Name     | Type               | Params\n",
      "------------------------------------------------\n",
      "0 | model    | SimpleCNN          | 113 K \n",
      "1 | accuracy | MulticlassAccuracy | 0     \n",
      "------------------------------------------------\n",
      "113 K     Trainable params\n",
      "0         Non-trainable params\n",
      "113 K     Total params\n",
      "0.455     Total estimated model params size (MB)\n"
     ]
    },
    {
     "name": "stdout",
     "output_type": "stream",
     "text": [
      "Sanity Checking: |          | 0/? [00:00<?, ?it/s]"
     ]
    },
    {
     "name": "stdout",
     "output_type": "stream",
     "text": [
      "Epoch 9: 100%|██████████| 782/782 [00:11<00:00, 66.43it/s, v_num=6, train_acc_step=0.938, train_loss_step=0.313, test_loss=0.717, test_acc=0.753, train_acc_epoch=0.734, train_loss_epoch=0.764, lr=2.45e-5] "
     ]
    },
    {
     "name": "stderr",
     "output_type": "stream",
     "text": [
      "`Trainer.fit` stopped: `max_epochs=10` reached.\n"
     ]
    },
    {
     "name": "stdout",
     "output_type": "stream",
     "text": [
      "Epoch 9: 100%|██████████| 782/782 [00:11<00:00, 66.34it/s, v_num=6, train_acc_step=0.938, train_loss_step=0.313, test_loss=0.717, test_acc=0.753, train_acc_epoch=0.734, train_loss_epoch=0.764, lr=2.45e-5]\n"
     ]
    },
    {
     "name": "stderr",
     "output_type": "stream",
     "text": [
      "LOCAL_RANK: 0 - CUDA_VISIBLE_DEVICES: [0,1,2,3,4,5,6,7]\n"
     ]
    },
    {
     "name": "stdout",
     "output_type": "stream",
     "text": [
      "Testing DataLoader 0: 100%|██████████| 157/157 [00:01<00:00, 138.89it/s]\n"
     ]
    },
    {
     "data": {
      "text/html": [
       "<pre style=\"white-space:pre;overflow-x:auto;line-height:normal;font-family:Menlo,'DejaVu Sans Mono',consolas,'Courier New',monospace\">┏━━━━━━━━━━━━━━━━━━━━━━━━━━━┳━━━━━━━━━━━━━━━━━━━━━━━━━━━┓\n",
       "┃<span style=\"font-weight: bold\">        Test metric        </span>┃<span style=\"font-weight: bold\">       DataLoader 0        </span>┃\n",
       "┡━━━━━━━━━━━━━━━━━━━━━━━━━━━╇━━━━━━━━━━━━━━━━━━━━━━━━━━━┩\n",
       "│<span style=\"color: #008080; text-decoration-color: #008080\">         test_acc          </span>│<span style=\"color: #800080; text-decoration-color: #800080\">    0.7527866363525391     </span>│\n",
       "│<span style=\"color: #008080; text-decoration-color: #008080\">         test_loss         </span>│<span style=\"color: #800080; text-decoration-color: #800080\">    0.7170971632003784     </span>│\n",
       "└───────────────────────────┴───────────────────────────┘\n",
       "</pre>\n"
      ],
      "text/plain": [
       "┏━━━━━━━━━━━━━━━━━━━━━━━━━━━┳━━━━━━━━━━━━━━━━━━━━━━━━━━━┓\n",
       "┃\u001b[1m \u001b[0m\u001b[1m       Test metric       \u001b[0m\u001b[1m \u001b[0m┃\u001b[1m \u001b[0m\u001b[1m      DataLoader 0       \u001b[0m\u001b[1m \u001b[0m┃\n",
       "┡━━━━━━━━━━━━━━━━━━━━━━━━━━━╇━━━━━━━━━━━━━━━━━━━━━━━━━━━┩\n",
       "│\u001b[36m \u001b[0m\u001b[36m        test_acc         \u001b[0m\u001b[36m \u001b[0m│\u001b[35m \u001b[0m\u001b[35m   0.7527866363525391    \u001b[0m\u001b[35m \u001b[0m│\n",
       "│\u001b[36m \u001b[0m\u001b[36m        test_loss        \u001b[0m\u001b[36m \u001b[0m│\u001b[35m \u001b[0m\u001b[35m   0.7170971632003784    \u001b[0m\u001b[35m \u001b[0m│\n",
       "└───────────────────────────┴───────────────────────────┘\n"
      ]
     },
     "metadata": {},
     "output_type": "display_data"
    },
    {
     "data": {
      "text/plain": [
       "[{'test_loss': 0.7170971632003784, 'test_acc': 0.7527866363525391}]"
      ]
     },
     "execution_count": 37,
     "metadata": {},
     "output_type": "execute_result"
    }
   ],
   "source": [
    "model = LSimpleCNN()\n",
    "\n",
    "trainer = L.Trainer(max_epochs=10, devices=1, accelerator=\"gpu\",)\n",
    "trainer.fit(model, train_loader, test_loader)\n",
    "trainer.test(model, dataloaders=test_loader)"
   ]
  },
  {
   "cell_type": "markdown",
   "metadata": {},
   "source": [
    "### PL `LightningDataModule`\n",
    "\n",
    "PL has a built-in `LightningDataModule` class that can be used to create the train and test data loaders. We can also use `torchvision` to download the CIFAR10 dataset.\n",
    "\n",
    "This simplifies the overall management of datasets and dataloaders."
   ]
  },
  {
   "cell_type": "code",
   "execution_count": 38,
   "metadata": {},
   "outputs": [],
   "source": [
    "class LDataModule(L.LightningDataModule):\n",
    "    def __init__(self, batch_size=64) -> None:\n",
    "        super().__init__()\n",
    "        self.batch_size = batch_size\n",
    "        \n",
    "    def prepare_data(self):\n",
    "        # download\n",
    "        torchvision.datasets.CIFAR10(root='~/data', train=True, download=True)\n",
    "        torchvision.datasets.CIFAR10(root='~/data', train=False, download=True)\n",
    "        \n",
    "    def setup(self, stage=None):\n",
    "        # transform\n",
    "        transform_train = torchvision.transforms.Compose([\n",
    "            torchvision.transforms.RandomCrop(32, padding=4),\n",
    "            torchvision.transforms.RandomHorizontalFlip(),\n",
    "            torchvision.transforms.ToTensor(),\n",
    "            torchvision.transforms.Normalize((0.5, 0.5, 0.5), (0.5, 0.5, 0.5))\n",
    "        ])\n",
    "        transform_test = torchvision.transforms.Compose([\n",
    "            torchvision.transforms.ToTensor(),\n",
    "            torchvision.transforms.Normalize((0.5, 0.5, 0.5), (0.5, 0.5, 0.5))\n",
    "        ])\n",
    "        \n",
    "        # split\n",
    "        self.trainset = torchvision.datasets.CIFAR10(root='~/data', train=True, \n",
    "                                                     download=False, \n",
    "                                                     transform=transform_train)\n",
    "        self.testset = torchvision.datasets.CIFAR10(root='~/data', train=False, \n",
    "                                                    download=False, \n",
    "                                                    transform=transform_test)\n",
    "        \n",
    "    def train_dataloader(self):\n",
    "        return torch.utils.data.DataLoader(self.trainset, \n",
    "                                           batch_size=self.batch_size, \n",
    "                                           shuffle=True, num_workers=2)\n",
    "    \n",
    "    def val_dataloader(self):\n",
    "        return torch.utils.data.DataLoader(self.testset, \n",
    "                                           batch_size=self.batch_size, \n",
    "                                           shuffle=False, num_workers=2)\n",
    "    \n",
    "    def test_dataloader(self):\n",
    "        return self.val_dataloader()"
   ]
  },
  {
   "cell_type": "code",
   "execution_count": 39,
   "metadata": {},
   "outputs": [
    {
     "name": "stdout",
     "output_type": "stream",
     "text": [
      "Files already downloaded and verified\n",
      "Files already downloaded and verified\n"
     ]
    },
    {
     "name": "stderr",
     "output_type": "stream",
     "text": [
      "/home/rowel/anaconda3/envs/speech/lib/python3.10/site-packages/lightning/pytorch/callbacks/model_checkpoint.py:634: Checkpoint directory /home/rowel/github/roatienza/Deep-Learning-Experiments/versions/2023/cnn/demo/lightning_logs/version_6/checkpoints exists and is not empty.\n",
      "LOCAL_RANK: 0 - CUDA_VISIBLE_DEVICES: [0,1,2,3,4,5,6,7]\n",
      "\n",
      "  | Name     | Type               | Params\n",
      "------------------------------------------------\n",
      "0 | model    | SimpleCNN          | 113 K \n",
      "1 | accuracy | MulticlassAccuracy | 0     \n",
      "------------------------------------------------\n",
      "113 K     Trainable params\n",
      "0         Non-trainable params\n",
      "113 K     Total params\n",
      "0.455     Total estimated model params size (MB)\n"
     ]
    },
    {
     "name": "stdout",
     "output_type": "stream",
     "text": [
      "                                                                           \r"
     ]
    },
    {
     "name": "stderr",
     "output_type": "stream",
     "text": [
      "`Trainer.fit` stopped: `max_epochs=10` reached.\n"
     ]
    },
    {
     "name": "stdout",
     "output_type": "stream",
     "text": [
      "Files already downloaded and verified\n",
      "Files already downloaded and verified\n"
     ]
    },
    {
     "name": "stderr",
     "output_type": "stream",
     "text": [
      "LOCAL_RANK: 0 - CUDA_VISIBLE_DEVICES: [0,1,2,3,4,5,6,7]\n"
     ]
    },
    {
     "name": "stdout",
     "output_type": "stream",
     "text": [
      "Testing DataLoader 0: 100%|██████████| 157/157 [00:01<00:00, 139.74it/s]\n"
     ]
    },
    {
     "data": {
      "text/html": [
       "<pre style=\"white-space:pre;overflow-x:auto;line-height:normal;font-family:Menlo,'DejaVu Sans Mono',consolas,'Courier New',monospace\">┏━━━━━━━━━━━━━━━━━━━━━━━━━━━┳━━━━━━━━━━━━━━━━━━━━━━━━━━━┓\n",
       "┃<span style=\"font-weight: bold\">        Test metric        </span>┃<span style=\"font-weight: bold\">       DataLoader 0        </span>┃\n",
       "┡━━━━━━━━━━━━━━━━━━━━━━━━━━━╇━━━━━━━━━━━━━━━━━━━━━━━━━━━┩\n",
       "│<span style=\"color: #008080; text-decoration-color: #008080\">         test_acc          </span>│<span style=\"color: #800080; text-decoration-color: #800080\">    0.7527866363525391     </span>│\n",
       "│<span style=\"color: #008080; text-decoration-color: #008080\">         test_loss         </span>│<span style=\"color: #800080; text-decoration-color: #800080\">    0.7170971632003784     </span>│\n",
       "└───────────────────────────┴───────────────────────────┘\n",
       "</pre>\n"
      ],
      "text/plain": [
       "┏━━━━━━━━━━━━━━━━━━━━━━━━━━━┳━━━━━━━━━━━━━━━━━━━━━━━━━━━┓\n",
       "┃\u001b[1m \u001b[0m\u001b[1m       Test metric       \u001b[0m\u001b[1m \u001b[0m┃\u001b[1m \u001b[0m\u001b[1m      DataLoader 0       \u001b[0m\u001b[1m \u001b[0m┃\n",
       "┡━━━━━━━━━━━━━━━━━━━━━━━━━━━╇━━━━━━━━━━━━━━━━━━━━━━━━━━━┩\n",
       "│\u001b[36m \u001b[0m\u001b[36m        test_acc         \u001b[0m\u001b[36m \u001b[0m│\u001b[35m \u001b[0m\u001b[35m   0.7527866363525391    \u001b[0m\u001b[35m \u001b[0m│\n",
       "│\u001b[36m \u001b[0m\u001b[36m        test_loss        \u001b[0m\u001b[36m \u001b[0m│\u001b[35m \u001b[0m\u001b[35m   0.7170971632003784    \u001b[0m\u001b[35m \u001b[0m│\n",
       "└───────────────────────────┴───────────────────────────┘\n"
      ]
     },
     "metadata": {},
     "output_type": "display_data"
    },
    {
     "data": {
      "text/plain": [
       "[{'test_loss': 0.7170971632003784, 'test_acc': 0.7527866363525391}]"
      ]
     },
     "execution_count": 39,
     "metadata": {},
     "output_type": "execute_result"
    }
   ],
   "source": [
    "loader = LDataModule()\n",
    "trainer.fit(model, loader)\n",
    "trainer.test(model, dataloaders=loader)"
   ]
  }
 ],
 "metadata": {
  "interpreter": {
   "hash": "52772734322c44a04e342c358be70f2ff4d97da358cb3cd38ceb0f6066598be5"
  },
  "kernelspec": {
   "display_name": "Python 3.7.3 ('base')",
   "language": "python",
   "name": "python3"
  },
  "language_info": {
   "codemirror_mode": {
    "name": "ipython",
    "version": 3
   },
   "file_extension": ".py",
   "mimetype": "text/x-python",
   "name": "python",
   "nbconvert_exporter": "python",
   "pygments_lexer": "ipython3",
   "version": "3.10.11"
  },
  "orig_nbformat": 4
 },
 "nbformat": 4,
 "nbformat_minor": 2
}
