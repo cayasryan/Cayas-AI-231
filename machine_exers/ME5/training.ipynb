{
 "cells": [
  {
   "cell_type": "markdown",
   "metadata": {},
   "source": [
    "# Training a YOLO Model on the Grocery dataset"
   ]
  },
  {
   "cell_type": "code",
   "execution_count": 4,
   "metadata": {},
   "outputs": [
    {
     "name": "stdout",
     "output_type": "stream",
     "text": [
      "Using device: cuda\n",
      "Using GPU: NVIDIA A100-SXM4-40GB\n"
     ]
    }
   ],
   "source": [
    "import os\n",
    "import torch\n",
    "\n",
    "# Set-up CUDA device\n",
    "os.environ[\"CUDA_DEVICE_ORDER\"]=\"PCI_BUS_ID\" \n",
    "# use a specific GPU\n",
    "os.environ[\"CUDA_VISIBLE_DEVICES\"]=\"4\"\n",
    "\n",
    "# Use GPU for inference\n",
    "device = torch.device(\"cuda\" if torch.cuda.is_available() else \"cpu\")\n",
    "\n",
    "# Print the device being used\n",
    "print(f\"Using device: {device}\")\n",
    "\n",
    "# Check the GPU name\n",
    "if device.type == 'cuda':\n",
    "    gpu_name = torch.cuda.get_device_name(0)  # 0 because CUDA_VISIBLE_DEVICES=4 means GPU 4 is now 0\n",
    "    print(\"Using GPU:\", gpu_name)"
   ]
  },
  {
   "cell_type": "markdown",
   "metadata": {},
   "source": [
    "# Detection Model"
   ]
  },
  {
   "cell_type": "code",
   "execution_count": 6,
   "metadata": {},
   "outputs": [
    {
     "name": "stdout",
     "output_type": "stream",
     "text": [
      "Using device: cuda\n",
      "Ultralytics 8.3.29 🚀 Python-3.12.7 torch-2.4.1+cu121 CUDA:0 (NVIDIA A100-SXM4-40GB, 40339MiB)\n",
      "\u001b[34m\u001b[1mengine/trainer: \u001b[0mtask=detect, mode=train, model=yolo11n.pt, data=grocery.yaml, epochs=100, time=None, patience=10, batch=-1, imgsz=640, save=True, save_period=-1, cache=False, device=cuda, workers=8, project=YOLO-detect-v1, name=train1, exist_ok=False, pretrained=True, optimizer=auto, verbose=True, seed=0, deterministic=True, single_cls=False, rect=False, cos_lr=False, close_mosaic=10, resume=False, amp=True, fraction=1.0, profile=False, freeze=None, multi_scale=False, overlap_mask=True, mask_ratio=4, dropout=0.0, val=True, split=val, save_json=False, save_hybrid=False, conf=None, iou=0.7, max_det=300, half=False, dnn=False, plots=True, source=None, vid_stride=1, stream_buffer=False, visualize=False, augment=False, agnostic_nms=False, classes=None, retina_masks=False, embed=None, show=False, save_frames=False, save_txt=False, save_conf=False, save_crop=False, show_labels=True, show_conf=True, show_boxes=True, line_width=None, format=torchscript, keras=False, optimize=False, int8=False, dynamic=False, simplify=True, opset=None, workspace=4, nms=False, lr0=0.01, lrf=0.01, momentum=0.937, weight_decay=0.0005, warmup_epochs=3.0, warmup_momentum=0.8, warmup_bias_lr=0.1, box=7.5, cls=0.5, dfl=1.5, pose=12.0, kobj=1.0, label_smoothing=0.0, nbs=64, hsv_h=0.015, hsv_s=0.7, hsv_v=0.4, degrees=0.0, translate=0.1, scale=0.5, shear=0.0, perspective=0.0, flipud=0.0, fliplr=0.5, bgr=0.0, mosaic=1.0, mixup=0.0, copy_paste=0.0, copy_paste_mode=flip, auto_augment=randaugment, erasing=0.4, crop_fraction=1.0, cfg=None, tracker=botsort.yaml, save_dir=YOLO-detect-v1/train1\n",
      "Overriding model.yaml nc=80 with nc=22\n",
      "\n",
      "                   from  n    params  module                                       arguments                     \n",
      "  0                  -1  1       464  ultralytics.nn.modules.conv.Conv             [3, 16, 3, 2]                 \n",
      "  1                  -1  1      4672  ultralytics.nn.modules.conv.Conv             [16, 32, 3, 2]                \n",
      "  2                  -1  1      6640  ultralytics.nn.modules.block.C3k2            [32, 64, 1, False, 0.25]      \n",
      "  3                  -1  1     36992  ultralytics.nn.modules.conv.Conv             [64, 64, 3, 2]                \n",
      "  4                  -1  1     26080  ultralytics.nn.modules.block.C3k2            [64, 128, 1, False, 0.25]     \n",
      "  5                  -1  1    147712  ultralytics.nn.modules.conv.Conv             [128, 128, 3, 2]              \n",
      "  6                  -1  1     87040  ultralytics.nn.modules.block.C3k2            [128, 128, 1, True]           \n",
      "  7                  -1  1    295424  ultralytics.nn.modules.conv.Conv             [128, 256, 3, 2]              \n",
      "  8                  -1  1    346112  ultralytics.nn.modules.block.C3k2            [256, 256, 1, True]           \n",
      "  9                  -1  1    164608  ultralytics.nn.modules.block.SPPF            [256, 256, 5]                 \n",
      " 10                  -1  1    249728  ultralytics.nn.modules.block.C2PSA           [256, 256, 1]                 \n",
      " 11                  -1  1         0  torch.nn.modules.upsampling.Upsample         [None, 2, 'nearest']          \n",
      " 12             [-1, 6]  1         0  ultralytics.nn.modules.conv.Concat           [1]                           \n",
      " 13                  -1  1    111296  ultralytics.nn.modules.block.C3k2            [384, 128, 1, False]          \n",
      " 14                  -1  1         0  torch.nn.modules.upsampling.Upsample         [None, 2, 'nearest']          \n",
      " 15             [-1, 4]  1         0  ultralytics.nn.modules.conv.Concat           [1]                           \n",
      " 16                  -1  1     32096  ultralytics.nn.modules.block.C3k2            [256, 64, 1, False]           \n",
      " 17                  -1  1     36992  ultralytics.nn.modules.conv.Conv             [64, 64, 3, 2]                \n",
      " 18            [-1, 13]  1         0  ultralytics.nn.modules.conv.Concat           [1]                           \n",
      " 19                  -1  1     86720  ultralytics.nn.modules.block.C3k2            [192, 128, 1, False]          \n",
      " 20                  -1  1    147712  ultralytics.nn.modules.conv.Conv             [128, 128, 3, 2]              \n",
      " 21            [-1, 10]  1         0  ultralytics.nn.modules.conv.Concat           [1]                           \n",
      " 22                  -1  1    378880  ultralytics.nn.modules.block.C3k2            [384, 256, 1, True]           \n",
      " 23        [16, 19, 22]  1    434962  ultralytics.nn.modules.head.Detect           [22, [64, 128, 256]]          \n",
      "YOLO11n summary: 319 layers, 2,594,130 parameters, 2,594,114 gradients, 6.5 GFLOPs\n",
      "\n",
      "Transferred 448/499 items from pretrained weights\n",
      "Freezing layer 'model.23.dfl.conv.weight'\n",
      "\u001b[34m\u001b[1mAMP: \u001b[0mrunning Automatic Mixed Precision (AMP) checks...\n",
      "\u001b[34m\u001b[1mAMP: \u001b[0mchecks passed ✅\n",
      "\u001b[34m\u001b[1mAutoBatch: \u001b[0mComputing optimal batch size for imgsz=640 at 60.0% CUDA memory utilization.\n",
      "\u001b[34m\u001b[1mAutoBatch: \u001b[0mCUDA:0 (NVIDIA A100-SXM4-40GB) 39.39G total, 6.76G reserved, 0.09G allocated, 32.55G free\n",
      "      Params      GFLOPs  GPU_mem (GB)  forward (ms) backward (ms)                   input                  output\n",
      "     2594130       6.463         0.237         65.14         45.82        (1, 3, 640, 640)                    list\n",
      "     2594130       12.93         0.363         24.33         44.67        (2, 3, 640, 640)                    list\n",
      "     2594130       25.85         0.617         25.79         44.74        (4, 3, 640, 640)                    list\n",
      "     2594130       51.71         1.179         27.02         45.89        (8, 3, 640, 640)                    list\n",
      "     2594130       103.4         2.271         30.26         48.93       (16, 3, 640, 640)                    list\n",
      "     2594130       206.8         4.339         31.18         59.19       (32, 3, 640, 640)                    list\n",
      "     2594130       413.6         8.070         51.98         80.25       (64, 3, 640, 640)                    list\n",
      "\u001b[34m\u001b[1mAutoBatch: \u001b[0mUsing batch-size 154 for CUDA:0 26.28G/39.39G (67%) ✅\n"
     ]
    },
    {
     "name": "stderr",
     "output_type": "stream",
     "text": [
      "\u001b[34m\u001b[1mtrain: \u001b[0mScanning /raid/students/ryan/Cayas-AI-231/machine_exers/ME5/datasets/grocery/labels/train.cache... 6974 images, 0 backgrounds, 0 corrupt: 100%|██████████| 6974/6974 [00:00<?, ?it/s]"
     ]
    },
    {
     "name": "stdout",
     "output_type": "stream",
     "text": [
      "\u001b[34m\u001b[1mtrain: \u001b[0mWARNING ⚠️ /raid/students/ryan/Cayas-AI-231/machine_exers/ME5/datasets/grocery/images/train/090002.jpg: corrupt JPEG restored and saved\n",
      "\u001b[34m\u001b[1mtrain: \u001b[0mWARNING ⚠️ /raid/students/ryan/Cayas-AI-231/machine_exers/ME5/datasets/grocery/images/train/090003.jpg: corrupt JPEG restored and saved\n",
      "\u001b[34m\u001b[1mtrain: \u001b[0mWARNING ⚠️ /raid/students/ryan/Cayas-AI-231/machine_exers/ME5/datasets/grocery/images/train/090004.jpg: corrupt JPEG restored and saved\n",
      "\u001b[34m\u001b[1mtrain: \u001b[0mWARNING ⚠️ /raid/students/ryan/Cayas-AI-231/machine_exers/ME5/datasets/grocery/images/train/090005.jpg: corrupt JPEG restored and saved\n",
      "\u001b[34m\u001b[1mtrain: \u001b[0mWARNING ⚠️ /raid/students/ryan/Cayas-AI-231/machine_exers/ME5/datasets/grocery/images/train/090006.jpg: corrupt JPEG restored and saved\n",
      "\u001b[34m\u001b[1mtrain: \u001b[0mWARNING ⚠️ /raid/students/ryan/Cayas-AI-231/machine_exers/ME5/datasets/grocery/images/train/090007.jpg: corrupt JPEG restored and saved\n",
      "\u001b[34m\u001b[1mtrain: \u001b[0mWARNING ⚠️ /raid/students/ryan/Cayas-AI-231/machine_exers/ME5/datasets/grocery/images/train/090009.jpg: corrupt JPEG restored and saved\n",
      "\u001b[34m\u001b[1mtrain: \u001b[0mWARNING ⚠️ /raid/students/ryan/Cayas-AI-231/machine_exers/ME5/datasets/grocery/images/train/090010.jpg: corrupt JPEG restored and saved\n",
      "\u001b[34m\u001b[1mtrain: \u001b[0mWARNING ⚠️ /raid/students/ryan/Cayas-AI-231/machine_exers/ME5/datasets/grocery/images/train/090011.jpg: corrupt JPEG restored and saved\n",
      "\u001b[34m\u001b[1mtrain: \u001b[0mWARNING ⚠️ /raid/students/ryan/Cayas-AI-231/machine_exers/ME5/datasets/grocery/images/train/090012.jpg: corrupt JPEG restored and saved\n",
      "\u001b[34m\u001b[1mtrain: \u001b[0mWARNING ⚠️ /raid/students/ryan/Cayas-AI-231/machine_exers/ME5/datasets/grocery/images/train/090013.jpg: corrupt JPEG restored and saved\n",
      "\u001b[34m\u001b[1mtrain: \u001b[0mWARNING ⚠️ /raid/students/ryan/Cayas-AI-231/machine_exers/ME5/datasets/grocery/images/train/090014.jpg: corrupt JPEG restored and saved\n",
      "\u001b[34m\u001b[1mtrain: \u001b[0mWARNING ⚠️ /raid/students/ryan/Cayas-AI-231/machine_exers/ME5/datasets/grocery/images/train/090015.jpg: corrupt JPEG restored and saved\n",
      "\u001b[34m\u001b[1mtrain: \u001b[0mWARNING ⚠️ /raid/students/ryan/Cayas-AI-231/machine_exers/ME5/datasets/grocery/images/train/090017.jpg: corrupt JPEG restored and saved\n",
      "\u001b[34m\u001b[1mtrain: \u001b[0mWARNING ⚠️ /raid/students/ryan/Cayas-AI-231/machine_exers/ME5/datasets/grocery/images/train/090018.jpg: corrupt JPEG restored and saved\n",
      "\u001b[34m\u001b[1mtrain: \u001b[0mWARNING ⚠️ /raid/students/ryan/Cayas-AI-231/machine_exers/ME5/datasets/grocery/images/train/090019.jpg: corrupt JPEG restored and saved\n",
      "\u001b[34m\u001b[1mtrain: \u001b[0mWARNING ⚠️ /raid/students/ryan/Cayas-AI-231/machine_exers/ME5/datasets/grocery/images/train/090020.jpg: corrupt JPEG restored and saved\n",
      "\u001b[34m\u001b[1mtrain: \u001b[0mWARNING ⚠️ /raid/students/ryan/Cayas-AI-231/machine_exers/ME5/datasets/grocery/images/train/090021.jpg: corrupt JPEG restored and saved\n",
      "\u001b[34m\u001b[1mtrain: \u001b[0mWARNING ⚠️ /raid/students/ryan/Cayas-AI-231/machine_exers/ME5/datasets/grocery/images/train/090022.jpg: corrupt JPEG restored and saved\n",
      "\u001b[34m\u001b[1mtrain: \u001b[0mWARNING ⚠️ /raid/students/ryan/Cayas-AI-231/machine_exers/ME5/datasets/grocery/images/train/090023.jpg: corrupt JPEG restored and saved\n",
      "\u001b[34m\u001b[1mtrain: \u001b[0mWARNING ⚠️ /raid/students/ryan/Cayas-AI-231/machine_exers/ME5/datasets/grocery/images/train/090024.jpg: corrupt JPEG restored and saved\n",
      "\u001b[34m\u001b[1mtrain: \u001b[0mWARNING ⚠️ /raid/students/ryan/Cayas-AI-231/machine_exers/ME5/datasets/grocery/images/train/090025.jpg: corrupt JPEG restored and saved\n",
      "\u001b[34m\u001b[1mtrain: \u001b[0mWARNING ⚠️ /raid/students/ryan/Cayas-AI-231/machine_exers/ME5/datasets/grocery/images/train/090026.jpg: corrupt JPEG restored and saved\n",
      "\u001b[34m\u001b[1mtrain: \u001b[0mWARNING ⚠️ /raid/students/ryan/Cayas-AI-231/machine_exers/ME5/datasets/grocery/images/train/090027.jpg: corrupt JPEG restored and saved\n",
      "\u001b[34m\u001b[1mtrain: \u001b[0mWARNING ⚠️ /raid/students/ryan/Cayas-AI-231/machine_exers/ME5/datasets/grocery/images/train/090028.jpg: corrupt JPEG restored and saved\n",
      "\u001b[34m\u001b[1mtrain: \u001b[0mWARNING ⚠️ /raid/students/ryan/Cayas-AI-231/machine_exers/ME5/datasets/grocery/images/train/090029.jpg: corrupt JPEG restored and saved\n",
      "\u001b[34m\u001b[1mtrain: \u001b[0mWARNING ⚠️ /raid/students/ryan/Cayas-AI-231/machine_exers/ME5/datasets/grocery/images/train/090030.jpg: corrupt JPEG restored and saved\n",
      "\u001b[34m\u001b[1mtrain: \u001b[0mWARNING ⚠️ /raid/students/ryan/Cayas-AI-231/machine_exers/ME5/datasets/grocery/images/train/090031.jpg: corrupt JPEG restored and saved\n",
      "\u001b[34m\u001b[1mtrain: \u001b[0mWARNING ⚠️ /raid/students/ryan/Cayas-AI-231/machine_exers/ME5/datasets/grocery/images/train/090032.jpg: corrupt JPEG restored and saved\n",
      "\u001b[34m\u001b[1mtrain: \u001b[0mWARNING ⚠️ /raid/students/ryan/Cayas-AI-231/machine_exers/ME5/datasets/grocery/images/train/090033.jpg: corrupt JPEG restored and saved\n",
      "\u001b[34m\u001b[1mtrain: \u001b[0mWARNING ⚠️ /raid/students/ryan/Cayas-AI-231/machine_exers/ME5/datasets/grocery/images/train/090034.jpg: corrupt JPEG restored and saved\n",
      "\u001b[34m\u001b[1mtrain: \u001b[0mWARNING ⚠️ /raid/students/ryan/Cayas-AI-231/machine_exers/ME5/datasets/grocery/images/train/090035.jpg: corrupt JPEG restored and saved\n",
      "\u001b[34m\u001b[1mtrain: \u001b[0mWARNING ⚠️ /raid/students/ryan/Cayas-AI-231/machine_exers/ME5/datasets/grocery/images/train/090036.jpg: corrupt JPEG restored and saved\n",
      "\u001b[34m\u001b[1mtrain: \u001b[0mWARNING ⚠️ /raid/students/ryan/Cayas-AI-231/machine_exers/ME5/datasets/grocery/images/train/090037.jpg: corrupt JPEG restored and saved\n",
      "\u001b[34m\u001b[1mtrain: \u001b[0mWARNING ⚠️ /raid/students/ryan/Cayas-AI-231/machine_exers/ME5/datasets/grocery/images/train/090038.jpg: corrupt JPEG restored and saved\n",
      "\u001b[34m\u001b[1mtrain: \u001b[0mWARNING ⚠️ /raid/students/ryan/Cayas-AI-231/machine_exers/ME5/datasets/grocery/images/train/090040.jpg: corrupt JPEG restored and saved\n",
      "\u001b[34m\u001b[1mtrain: \u001b[0mWARNING ⚠️ /raid/students/ryan/Cayas-AI-231/machine_exers/ME5/datasets/grocery/images/train/090041.jpg: corrupt JPEG restored and saved\n",
      "\u001b[34m\u001b[1mtrain: \u001b[0mWARNING ⚠️ /raid/students/ryan/Cayas-AI-231/machine_exers/ME5/datasets/grocery/images/train/090042.jpg: corrupt JPEG restored and saved\n",
      "\u001b[34m\u001b[1mtrain: \u001b[0mWARNING ⚠️ /raid/students/ryan/Cayas-AI-231/machine_exers/ME5/datasets/grocery/images/train/090043.jpg: corrupt JPEG restored and saved\n",
      "\u001b[34m\u001b[1mtrain: \u001b[0mWARNING ⚠️ /raid/students/ryan/Cayas-AI-231/machine_exers/ME5/datasets/grocery/images/train/090044.jpg: corrupt JPEG restored and saved\n",
      "\u001b[34m\u001b[1mtrain: \u001b[0mWARNING ⚠️ /raid/students/ryan/Cayas-AI-231/machine_exers/ME5/datasets/grocery/images/train/090045.jpg: corrupt JPEG restored and saved\n",
      "\u001b[34m\u001b[1mtrain: \u001b[0mWARNING ⚠️ /raid/students/ryan/Cayas-AI-231/machine_exers/ME5/datasets/grocery/images/train/090046.jpg: corrupt JPEG restored and saved\n",
      "\u001b[34m\u001b[1mtrain: \u001b[0mWARNING ⚠️ /raid/students/ryan/Cayas-AI-231/machine_exers/ME5/datasets/grocery/images/train/090047.jpg: corrupt JPEG restored and saved\n",
      "\u001b[34m\u001b[1mtrain: \u001b[0mWARNING ⚠️ /raid/students/ryan/Cayas-AI-231/machine_exers/ME5/datasets/grocery/images/train/090048.jpg: corrupt JPEG restored and saved\n",
      "\u001b[34m\u001b[1mtrain: \u001b[0mWARNING ⚠️ /raid/students/ryan/Cayas-AI-231/machine_exers/ME5/datasets/grocery/images/train/090049.jpg: corrupt JPEG restored and saved\n",
      "\u001b[34m\u001b[1mtrain: \u001b[0mWARNING ⚠️ /raid/students/ryan/Cayas-AI-231/machine_exers/ME5/datasets/grocery/images/train/090050.jpg: corrupt JPEG restored and saved\n",
      "\u001b[34m\u001b[1mtrain: \u001b[0mWARNING ⚠️ /raid/students/ryan/Cayas-AI-231/machine_exers/ME5/datasets/grocery/images/train/090051.jpg: corrupt JPEG restored and saved\n",
      "\u001b[34m\u001b[1mtrain: \u001b[0mWARNING ⚠️ /raid/students/ryan/Cayas-AI-231/machine_exers/ME5/datasets/grocery/images/train/090052.jpg: corrupt JPEG restored and saved\n",
      "\u001b[34m\u001b[1mtrain: \u001b[0mWARNING ⚠️ /raid/students/ryan/Cayas-AI-231/machine_exers/ME5/datasets/grocery/images/train/090053.jpg: corrupt JPEG restored and saved\n",
      "\u001b[34m\u001b[1mtrain: \u001b[0mWARNING ⚠️ /raid/students/ryan/Cayas-AI-231/machine_exers/ME5/datasets/grocery/images/train/090054.jpg: corrupt JPEG restored and saved\n",
      "\u001b[34m\u001b[1mtrain: \u001b[0mWARNING ⚠️ /raid/students/ryan/Cayas-AI-231/machine_exers/ME5/datasets/grocery/images/train/090055.jpg: corrupt JPEG restored and saved\n",
      "\u001b[34m\u001b[1mtrain: \u001b[0mWARNING ⚠️ /raid/students/ryan/Cayas-AI-231/machine_exers/ME5/datasets/grocery/images/train/090056.jpg: corrupt JPEG restored and saved\n",
      "\u001b[34m\u001b[1mtrain: \u001b[0mWARNING ⚠️ /raid/students/ryan/Cayas-AI-231/machine_exers/ME5/datasets/grocery/images/train/090057.jpg: corrupt JPEG restored and saved\n",
      "\u001b[34m\u001b[1mtrain: \u001b[0mWARNING ⚠️ /raid/students/ryan/Cayas-AI-231/machine_exers/ME5/datasets/grocery/images/train/090058.jpg: corrupt JPEG restored and saved\n",
      "\u001b[34m\u001b[1mtrain: \u001b[0mWARNING ⚠️ /raid/students/ryan/Cayas-AI-231/machine_exers/ME5/datasets/grocery/images/train/090059.jpg: corrupt JPEG restored and saved\n",
      "\u001b[34m\u001b[1mtrain: \u001b[0mWARNING ⚠️ /raid/students/ryan/Cayas-AI-231/machine_exers/ME5/datasets/grocery/images/train/090060.jpg: corrupt JPEG restored and saved\n",
      "\u001b[34m\u001b[1mtrain: \u001b[0mWARNING ⚠️ /raid/students/ryan/Cayas-AI-231/machine_exers/ME5/datasets/grocery/images/train/090061.jpg: corrupt JPEG restored and saved\n",
      "\u001b[34m\u001b[1mtrain: \u001b[0mWARNING ⚠️ /raid/students/ryan/Cayas-AI-231/machine_exers/ME5/datasets/grocery/images/train/090062.jpg: corrupt JPEG restored and saved\n",
      "\u001b[34m\u001b[1mtrain: \u001b[0mWARNING ⚠️ /raid/students/ryan/Cayas-AI-231/machine_exers/ME5/datasets/grocery/images/train/090063.jpg: corrupt JPEG restored and saved\n",
      "\u001b[34m\u001b[1mtrain: \u001b[0mWARNING ⚠️ /raid/students/ryan/Cayas-AI-231/machine_exers/ME5/datasets/grocery/images/train/090065.jpg: corrupt JPEG restored and saved\n",
      "\u001b[34m\u001b[1mtrain: \u001b[0mWARNING ⚠️ /raid/students/ryan/Cayas-AI-231/machine_exers/ME5/datasets/grocery/images/train/090066.jpg: corrupt JPEG restored and saved\n",
      "\u001b[34m\u001b[1mtrain: \u001b[0mWARNING ⚠️ /raid/students/ryan/Cayas-AI-231/machine_exers/ME5/datasets/grocery/images/train/090067.jpg: corrupt JPEG restored and saved\n",
      "\u001b[34m\u001b[1mtrain: \u001b[0mWARNING ⚠️ /raid/students/ryan/Cayas-AI-231/machine_exers/ME5/datasets/grocery/images/train/090068.jpg: corrupt JPEG restored and saved\n",
      "\u001b[34m\u001b[1mtrain: \u001b[0mWARNING ⚠️ /raid/students/ryan/Cayas-AI-231/machine_exers/ME5/datasets/grocery/images/train/090069.jpg: corrupt JPEG restored and saved\n",
      "\u001b[34m\u001b[1mtrain: \u001b[0mWARNING ⚠️ /raid/students/ryan/Cayas-AI-231/machine_exers/ME5/datasets/grocery/images/train/090070.jpg: corrupt JPEG restored and saved\n",
      "\u001b[34m\u001b[1mtrain: \u001b[0mWARNING ⚠️ /raid/students/ryan/Cayas-AI-231/machine_exers/ME5/datasets/grocery/images/train/090071.jpg: corrupt JPEG restored and saved\n",
      "\u001b[34m\u001b[1mtrain: \u001b[0mWARNING ⚠️ /raid/students/ryan/Cayas-AI-231/machine_exers/ME5/datasets/grocery/images/train/090072.jpg: corrupt JPEG restored and saved\n",
      "\u001b[34m\u001b[1mtrain: \u001b[0mWARNING ⚠️ /raid/students/ryan/Cayas-AI-231/machine_exers/ME5/datasets/grocery/images/train/090073.jpg: corrupt JPEG restored and saved\n",
      "\u001b[34m\u001b[1mtrain: \u001b[0mWARNING ⚠️ /raid/students/ryan/Cayas-AI-231/machine_exers/ME5/datasets/grocery/images/train/090074.jpg: corrupt JPEG restored and saved\n",
      "\u001b[34m\u001b[1mtrain: \u001b[0mWARNING ⚠️ /raid/students/ryan/Cayas-AI-231/machine_exers/ME5/datasets/grocery/images/train/090075.jpg: corrupt JPEG restored and saved\n",
      "\u001b[34m\u001b[1mtrain: \u001b[0mWARNING ⚠️ /raid/students/ryan/Cayas-AI-231/machine_exers/ME5/datasets/grocery/images/train/090076.jpg: corrupt JPEG restored and saved\n",
      "\u001b[34m\u001b[1mtrain: \u001b[0mWARNING ⚠️ /raid/students/ryan/Cayas-AI-231/machine_exers/ME5/datasets/grocery/images/train/090077.jpg: corrupt JPEG restored and saved\n",
      "\u001b[34m\u001b[1mtrain: \u001b[0mWARNING ⚠️ /raid/students/ryan/Cayas-AI-231/machine_exers/ME5/datasets/grocery/images/train/090078.jpg: corrupt JPEG restored and saved\n",
      "\u001b[34m\u001b[1mtrain: \u001b[0mWARNING ⚠️ /raid/students/ryan/Cayas-AI-231/machine_exers/ME5/datasets/grocery/images/train/090079.jpg: corrupt JPEG restored and saved\n",
      "\u001b[34m\u001b[1mtrain: \u001b[0mWARNING ⚠️ /raid/students/ryan/Cayas-AI-231/machine_exers/ME5/datasets/grocery/images/train/090080.jpg: corrupt JPEG restored and saved\n",
      "\u001b[34m\u001b[1mtrain: \u001b[0mWARNING ⚠️ /raid/students/ryan/Cayas-AI-231/machine_exers/ME5/datasets/grocery/images/train/090082.jpg: corrupt JPEG restored and saved\n",
      "\u001b[34m\u001b[1mtrain: \u001b[0mWARNING ⚠️ /raid/students/ryan/Cayas-AI-231/machine_exers/ME5/datasets/grocery/images/train/090083.jpg: corrupt JPEG restored and saved\n",
      "\u001b[34m\u001b[1mtrain: \u001b[0mWARNING ⚠️ /raid/students/ryan/Cayas-AI-231/machine_exers/ME5/datasets/grocery/images/train/090085.jpg: corrupt JPEG restored and saved\n",
      "\u001b[34m\u001b[1mtrain: \u001b[0mWARNING ⚠️ /raid/students/ryan/Cayas-AI-231/machine_exers/ME5/datasets/grocery/images/train/090086.jpg: corrupt JPEG restored and saved\n",
      "\u001b[34m\u001b[1mtrain: \u001b[0mWARNING ⚠️ /raid/students/ryan/Cayas-AI-231/machine_exers/ME5/datasets/grocery/images/train/090087.jpg: corrupt JPEG restored and saved\n",
      "\u001b[34m\u001b[1mtrain: \u001b[0mWARNING ⚠️ /raid/students/ryan/Cayas-AI-231/machine_exers/ME5/datasets/grocery/images/train/090088.jpg: corrupt JPEG restored and saved\n",
      "\u001b[34m\u001b[1mtrain: \u001b[0mWARNING ⚠️ /raid/students/ryan/Cayas-AI-231/machine_exers/ME5/datasets/grocery/images/train/090089.jpg: corrupt JPEG restored and saved\n",
      "\u001b[34m\u001b[1mtrain: \u001b[0mWARNING ⚠️ /raid/students/ryan/Cayas-AI-231/machine_exers/ME5/datasets/grocery/images/train/090090.jpg: corrupt JPEG restored and saved\n",
      "\u001b[34m\u001b[1mtrain: \u001b[0mWARNING ⚠️ /raid/students/ryan/Cayas-AI-231/machine_exers/ME5/datasets/grocery/images/train/090091.jpg: corrupt JPEG restored and saved\n",
      "\u001b[34m\u001b[1mtrain: \u001b[0mWARNING ⚠️ /raid/students/ryan/Cayas-AI-231/machine_exers/ME5/datasets/grocery/images/train/090092.jpg: corrupt JPEG restored and saved\n",
      "\u001b[34m\u001b[1mtrain: \u001b[0mWARNING ⚠️ /raid/students/ryan/Cayas-AI-231/machine_exers/ME5/datasets/grocery/images/train/090093.jpg: corrupt JPEG restored and saved\n",
      "\u001b[34m\u001b[1mtrain: \u001b[0mWARNING ⚠️ /raid/students/ryan/Cayas-AI-231/machine_exers/ME5/datasets/grocery/images/train/090094.jpg: corrupt JPEG restored and saved\n",
      "\u001b[34m\u001b[1mtrain: \u001b[0mWARNING ⚠️ /raid/students/ryan/Cayas-AI-231/machine_exers/ME5/datasets/grocery/images/train/090095.jpg: corrupt JPEG restored and saved\n",
      "\u001b[34m\u001b[1mtrain: \u001b[0mWARNING ⚠️ /raid/students/ryan/Cayas-AI-231/machine_exers/ME5/datasets/grocery/images/train/090096.jpg: corrupt JPEG restored and saved\n",
      "\u001b[34m\u001b[1mtrain: \u001b[0mWARNING ⚠️ /raid/students/ryan/Cayas-AI-231/machine_exers/ME5/datasets/grocery/images/train/090098.jpg: corrupt JPEG restored and saved\n",
      "\u001b[34m\u001b[1mtrain: \u001b[0mWARNING ⚠️ /raid/students/ryan/Cayas-AI-231/machine_exers/ME5/datasets/grocery/images/train/090099.jpg: corrupt JPEG restored and saved\n",
      "\u001b[34m\u001b[1mtrain: \u001b[0mWARNING ⚠️ /raid/students/ryan/Cayas-AI-231/machine_exers/ME5/datasets/grocery/images/train/090100.jpg: corrupt JPEG restored and saved\n",
      "\u001b[34m\u001b[1mtrain: \u001b[0mWARNING ⚠️ /raid/students/ryan/Cayas-AI-231/machine_exers/ME5/datasets/grocery/images/train/090101.jpg: corrupt JPEG restored and saved\n",
      "\u001b[34m\u001b[1mtrain: \u001b[0mWARNING ⚠️ /raid/students/ryan/Cayas-AI-231/machine_exers/ME5/datasets/grocery/images/train/090104.jpg: corrupt JPEG restored and saved\n",
      "\u001b[34m\u001b[1mtrain: \u001b[0mWARNING ⚠️ /raid/students/ryan/Cayas-AI-231/machine_exers/ME5/datasets/grocery/images/train/090105.jpg: corrupt JPEG restored and saved\n",
      "\u001b[34m\u001b[1mtrain: \u001b[0mWARNING ⚠️ /raid/students/ryan/Cayas-AI-231/machine_exers/ME5/datasets/grocery/images/train/090106.jpg: corrupt JPEG restored and saved\n",
      "\u001b[34m\u001b[1mtrain: \u001b[0mWARNING ⚠️ /raid/students/ryan/Cayas-AI-231/machine_exers/ME5/datasets/grocery/images/train/090107.jpg: corrupt JPEG restored and saved\n",
      "\u001b[34m\u001b[1mtrain: \u001b[0mWARNING ⚠️ /raid/students/ryan/Cayas-AI-231/machine_exers/ME5/datasets/grocery/images/train/090109.jpg: corrupt JPEG restored and saved\n",
      "\u001b[34m\u001b[1mtrain: \u001b[0mWARNING ⚠️ /raid/students/ryan/Cayas-AI-231/machine_exers/ME5/datasets/grocery/images/train/090110.jpg: corrupt JPEG restored and saved\n",
      "\u001b[34m\u001b[1mtrain: \u001b[0mWARNING ⚠️ /raid/students/ryan/Cayas-AI-231/machine_exers/ME5/datasets/grocery/images/train/090111.jpg: corrupt JPEG restored and saved\n",
      "\u001b[34m\u001b[1mtrain: \u001b[0mWARNING ⚠️ /raid/students/ryan/Cayas-AI-231/machine_exers/ME5/datasets/grocery/images/train/090112.jpg: corrupt JPEG restored and saved\n",
      "\u001b[34m\u001b[1mtrain: \u001b[0mWARNING ⚠️ /raid/students/ryan/Cayas-AI-231/machine_exers/ME5/datasets/grocery/images/train/090113.jpg: corrupt JPEG restored and saved\n",
      "\u001b[34m\u001b[1mtrain: \u001b[0mWARNING ⚠️ /raid/students/ryan/Cayas-AI-231/machine_exers/ME5/datasets/grocery/images/train/090114.jpg: corrupt JPEG restored and saved\n",
      "\u001b[34m\u001b[1mtrain: \u001b[0mWARNING ⚠️ /raid/students/ryan/Cayas-AI-231/machine_exers/ME5/datasets/grocery/images/train/090115.jpg: corrupt JPEG restored and saved\n",
      "\u001b[34m\u001b[1mtrain: \u001b[0mWARNING ⚠️ /raid/students/ryan/Cayas-AI-231/machine_exers/ME5/datasets/grocery/images/train/090118.jpg: corrupt JPEG restored and saved\n",
      "\u001b[34m\u001b[1mtrain: \u001b[0mWARNING ⚠️ /raid/students/ryan/Cayas-AI-231/machine_exers/ME5/datasets/grocery/images/train/090119.jpg: corrupt JPEG restored and saved\n",
      "\u001b[34m\u001b[1mtrain: \u001b[0mWARNING ⚠️ /raid/students/ryan/Cayas-AI-231/machine_exers/ME5/datasets/grocery/images/train/090120.jpg: corrupt JPEG restored and saved\n",
      "\u001b[34m\u001b[1mtrain: \u001b[0mWARNING ⚠️ /raid/students/ryan/Cayas-AI-231/machine_exers/ME5/datasets/grocery/images/train/090121.jpg: corrupt JPEG restored and saved\n",
      "\u001b[34m\u001b[1mtrain: \u001b[0mWARNING ⚠️ /raid/students/ryan/Cayas-AI-231/machine_exers/ME5/datasets/grocery/images/train/090122.jpg: corrupt JPEG restored and saved\n",
      "\u001b[34m\u001b[1mtrain: \u001b[0mWARNING ⚠️ /raid/students/ryan/Cayas-AI-231/machine_exers/ME5/datasets/grocery/images/train/090123.jpg: corrupt JPEG restored and saved\n",
      "\u001b[34m\u001b[1mtrain: \u001b[0mWARNING ⚠️ /raid/students/ryan/Cayas-AI-231/machine_exers/ME5/datasets/grocery/images/train/090125.jpg: corrupt JPEG restored and saved\n",
      "\u001b[34m\u001b[1mtrain: \u001b[0mWARNING ⚠️ /raid/students/ryan/Cayas-AI-231/machine_exers/ME5/datasets/grocery/images/train/090126.jpg: corrupt JPEG restored and saved\n",
      "\u001b[34m\u001b[1mtrain: \u001b[0mWARNING ⚠️ /raid/students/ryan/Cayas-AI-231/machine_exers/ME5/datasets/grocery/images/train/090127.jpg: corrupt JPEG restored and saved\n",
      "\u001b[34m\u001b[1mtrain: \u001b[0mWARNING ⚠️ /raid/students/ryan/Cayas-AI-231/machine_exers/ME5/datasets/grocery/images/train/090128.jpg: corrupt JPEG restored and saved\n",
      "\u001b[34m\u001b[1mtrain: \u001b[0mWARNING ⚠️ /raid/students/ryan/Cayas-AI-231/machine_exers/ME5/datasets/grocery/images/train/090129.jpg: corrupt JPEG restored and saved\n",
      "\u001b[34m\u001b[1mtrain: \u001b[0mWARNING ⚠️ /raid/students/ryan/Cayas-AI-231/machine_exers/ME5/datasets/grocery/images/train/090130.jpg: corrupt JPEG restored and saved\n",
      "\u001b[34m\u001b[1mtrain: \u001b[0mWARNING ⚠️ /raid/students/ryan/Cayas-AI-231/machine_exers/ME5/datasets/grocery/images/train/090131.jpg: corrupt JPEG restored and saved\n",
      "\u001b[34m\u001b[1mtrain: \u001b[0mWARNING ⚠️ /raid/students/ryan/Cayas-AI-231/machine_exers/ME5/datasets/grocery/images/train/090132.jpg: corrupt JPEG restored and saved\n",
      "\u001b[34m\u001b[1mtrain: \u001b[0mWARNING ⚠️ /raid/students/ryan/Cayas-AI-231/machine_exers/ME5/datasets/grocery/images/train/090133.jpg: corrupt JPEG restored and saved\n",
      "\u001b[34m\u001b[1mtrain: \u001b[0mWARNING ⚠️ /raid/students/ryan/Cayas-AI-231/machine_exers/ME5/datasets/grocery/images/train/090134.jpg: corrupt JPEG restored and saved\n",
      "\u001b[34m\u001b[1mtrain: \u001b[0mWARNING ⚠️ /raid/students/ryan/Cayas-AI-231/machine_exers/ME5/datasets/grocery/images/train/090135.jpg: corrupt JPEG restored and saved\n",
      "\u001b[34m\u001b[1mtrain: \u001b[0mWARNING ⚠️ /raid/students/ryan/Cayas-AI-231/machine_exers/ME5/datasets/grocery/images/train/090136.jpg: corrupt JPEG restored and saved\n",
      "\u001b[34m\u001b[1mtrain: \u001b[0mWARNING ⚠️ /raid/students/ryan/Cayas-AI-231/machine_exers/ME5/datasets/grocery/images/train/090137.jpg: corrupt JPEG restored and saved\n",
      "\u001b[34m\u001b[1mtrain: \u001b[0mWARNING ⚠️ /raid/students/ryan/Cayas-AI-231/machine_exers/ME5/datasets/grocery/images/train/090138.jpg: corrupt JPEG restored and saved\n",
      "\u001b[34m\u001b[1mtrain: \u001b[0mWARNING ⚠️ /raid/students/ryan/Cayas-AI-231/machine_exers/ME5/datasets/grocery/images/train/090139.jpg: corrupt JPEG restored and saved\n",
      "\u001b[34m\u001b[1mtrain: \u001b[0mWARNING ⚠️ /raid/students/ryan/Cayas-AI-231/machine_exers/ME5/datasets/grocery/images/train/090140.jpg: corrupt JPEG restored and saved\n",
      "\u001b[34m\u001b[1mtrain: \u001b[0mWARNING ⚠️ /raid/students/ryan/Cayas-AI-231/machine_exers/ME5/datasets/grocery/images/train/090141.jpg: corrupt JPEG restored and saved\n",
      "\u001b[34m\u001b[1mtrain: \u001b[0mWARNING ⚠️ /raid/students/ryan/Cayas-AI-231/machine_exers/ME5/datasets/grocery/images/train/090142.jpg: corrupt JPEG restored and saved\n",
      "\u001b[34m\u001b[1mtrain: \u001b[0mWARNING ⚠️ /raid/students/ryan/Cayas-AI-231/machine_exers/ME5/datasets/grocery/images/train/090143.jpg: corrupt JPEG restored and saved\n",
      "\u001b[34m\u001b[1mtrain: \u001b[0mWARNING ⚠️ /raid/students/ryan/Cayas-AI-231/machine_exers/ME5/datasets/grocery/images/train/090144.jpg: corrupt JPEG restored and saved\n",
      "\u001b[34m\u001b[1mtrain: \u001b[0mWARNING ⚠️ /raid/students/ryan/Cayas-AI-231/machine_exers/ME5/datasets/grocery/images/train/090145.jpg: corrupt JPEG restored and saved\n",
      "\u001b[34m\u001b[1mtrain: \u001b[0mWARNING ⚠️ /raid/students/ryan/Cayas-AI-231/machine_exers/ME5/datasets/grocery/images/train/090146.jpg: corrupt JPEG restored and saved\n",
      "\u001b[34m\u001b[1mtrain: \u001b[0mWARNING ⚠️ /raid/students/ryan/Cayas-AI-231/machine_exers/ME5/datasets/grocery/images/train/090147.jpg: corrupt JPEG restored and saved\n",
      "\u001b[34m\u001b[1mtrain: \u001b[0mWARNING ⚠️ /raid/students/ryan/Cayas-AI-231/machine_exers/ME5/datasets/grocery/images/train/090148.jpg: corrupt JPEG restored and saved\n",
      "\u001b[34m\u001b[1mtrain: \u001b[0mWARNING ⚠️ /raid/students/ryan/Cayas-AI-231/machine_exers/ME5/datasets/grocery/images/train/090149.jpg: corrupt JPEG restored and saved\n",
      "\u001b[34m\u001b[1mtrain: \u001b[0mWARNING ⚠️ /raid/students/ryan/Cayas-AI-231/machine_exers/ME5/datasets/grocery/images/train/090150.jpg: corrupt JPEG restored and saved\n",
      "\u001b[34m\u001b[1mtrain: \u001b[0mWARNING ⚠️ /raid/students/ryan/Cayas-AI-231/machine_exers/ME5/datasets/grocery/images/train/090151.jpg: corrupt JPEG restored and saved\n",
      "\u001b[34m\u001b[1mtrain: \u001b[0mWARNING ⚠️ /raid/students/ryan/Cayas-AI-231/machine_exers/ME5/datasets/grocery/images/train/090152.jpg: corrupt JPEG restored and saved\n",
      "\u001b[34m\u001b[1mtrain: \u001b[0mWARNING ⚠️ /raid/students/ryan/Cayas-AI-231/machine_exers/ME5/datasets/grocery/images/train/090153.jpg: corrupt JPEG restored and saved\n",
      "\u001b[34m\u001b[1mtrain: \u001b[0mWARNING ⚠️ /raid/students/ryan/Cayas-AI-231/machine_exers/ME5/datasets/grocery/images/train/090154.jpg: corrupt JPEG restored and saved\n",
      "\u001b[34m\u001b[1mtrain: \u001b[0mWARNING ⚠️ /raid/students/ryan/Cayas-AI-231/machine_exers/ME5/datasets/grocery/images/train/090155.jpg: corrupt JPEG restored and saved\n",
      "\u001b[34m\u001b[1mtrain: \u001b[0mWARNING ⚠️ /raid/students/ryan/Cayas-AI-231/machine_exers/ME5/datasets/grocery/images/train/090156.jpg: corrupt JPEG restored and saved\n",
      "\u001b[34m\u001b[1mtrain: \u001b[0mWARNING ⚠️ /raid/students/ryan/Cayas-AI-231/machine_exers/ME5/datasets/grocery/images/train/090157.jpg: corrupt JPEG restored and saved\n",
      "\u001b[34m\u001b[1mtrain: \u001b[0mWARNING ⚠️ /raid/students/ryan/Cayas-AI-231/machine_exers/ME5/datasets/grocery/images/train/090158.jpg: corrupt JPEG restored and saved\n",
      "\u001b[34m\u001b[1mtrain: \u001b[0mWARNING ⚠️ /raid/students/ryan/Cayas-AI-231/machine_exers/ME5/datasets/grocery/images/train/090159.jpg: corrupt JPEG restored and saved\n",
      "\u001b[34m\u001b[1mtrain: \u001b[0mWARNING ⚠️ /raid/students/ryan/Cayas-AI-231/machine_exers/ME5/datasets/grocery/images/train/090160.jpg: corrupt JPEG restored and saved\n",
      "\u001b[34m\u001b[1mtrain: \u001b[0mWARNING ⚠️ /raid/students/ryan/Cayas-AI-231/machine_exers/ME5/datasets/grocery/images/train/090161.jpg: corrupt JPEG restored and saved\n",
      "\u001b[34m\u001b[1mtrain: \u001b[0mWARNING ⚠️ /raid/students/ryan/Cayas-AI-231/machine_exers/ME5/datasets/grocery/images/train/090162.jpg: corrupt JPEG restored and saved\n",
      "\u001b[34m\u001b[1mtrain: \u001b[0mWARNING ⚠️ /raid/students/ryan/Cayas-AI-231/machine_exers/ME5/datasets/grocery/images/train/090163.jpg: corrupt JPEG restored and saved\n",
      "\u001b[34m\u001b[1mtrain: \u001b[0mWARNING ⚠️ /raid/students/ryan/Cayas-AI-231/machine_exers/ME5/datasets/grocery/images/train/090164.jpg: corrupt JPEG restored and saved\n",
      "\u001b[34m\u001b[1mtrain: \u001b[0mWARNING ⚠️ /raid/students/ryan/Cayas-AI-231/machine_exers/ME5/datasets/grocery/images/train/090165.jpg: corrupt JPEG restored and saved\n",
      "\u001b[34m\u001b[1mtrain: \u001b[0mWARNING ⚠️ /raid/students/ryan/Cayas-AI-231/machine_exers/ME5/datasets/grocery/images/train/090166.jpg: corrupt JPEG restored and saved\n",
      "\u001b[34m\u001b[1mtrain: \u001b[0mWARNING ⚠️ /raid/students/ryan/Cayas-AI-231/machine_exers/ME5/datasets/grocery/images/train/090167.jpg: corrupt JPEG restored and saved\n",
      "\u001b[34m\u001b[1mtrain: \u001b[0mWARNING ⚠️ /raid/students/ryan/Cayas-AI-231/machine_exers/ME5/datasets/grocery/images/train/090168.jpg: corrupt JPEG restored and saved\n",
      "\u001b[34m\u001b[1mtrain: \u001b[0mWARNING ⚠️ /raid/students/ryan/Cayas-AI-231/machine_exers/ME5/datasets/grocery/images/train/090169.jpg: corrupt JPEG restored and saved\n",
      "\u001b[34m\u001b[1mtrain: \u001b[0mWARNING ⚠️ /raid/students/ryan/Cayas-AI-231/machine_exers/ME5/datasets/grocery/images/train/090171.jpg: corrupt JPEG restored and saved\n",
      "\u001b[34m\u001b[1mtrain: \u001b[0mWARNING ⚠️ /raid/students/ryan/Cayas-AI-231/machine_exers/ME5/datasets/grocery/images/train/090173.jpg: corrupt JPEG restored and saved\n",
      "\u001b[34m\u001b[1mtrain: \u001b[0mWARNING ⚠️ /raid/students/ryan/Cayas-AI-231/machine_exers/ME5/datasets/grocery/images/train/090174.jpg: corrupt JPEG restored and saved\n",
      "\u001b[34m\u001b[1mtrain: \u001b[0mWARNING ⚠️ /raid/students/ryan/Cayas-AI-231/machine_exers/ME5/datasets/grocery/images/train/090175.jpg: corrupt JPEG restored and saved\n",
      "\u001b[34m\u001b[1mtrain: \u001b[0mWARNING ⚠️ /raid/students/ryan/Cayas-AI-231/machine_exers/ME5/datasets/grocery/images/train/090176.jpg: corrupt JPEG restored and saved\n",
      "\u001b[34m\u001b[1mtrain: \u001b[0mWARNING ⚠️ /raid/students/ryan/Cayas-AI-231/machine_exers/ME5/datasets/grocery/images/train/090177.jpg: corrupt JPEG restored and saved\n",
      "\u001b[34m\u001b[1mtrain: \u001b[0mWARNING ⚠️ /raid/students/ryan/Cayas-AI-231/machine_exers/ME5/datasets/grocery/images/train/090178.jpg: corrupt JPEG restored and saved\n",
      "\u001b[34m\u001b[1mtrain: \u001b[0mWARNING ⚠️ /raid/students/ryan/Cayas-AI-231/machine_exers/ME5/datasets/grocery/images/train/090179.jpg: corrupt JPEG restored and saved\n",
      "\u001b[34m\u001b[1mtrain: \u001b[0mWARNING ⚠️ /raid/students/ryan/Cayas-AI-231/machine_exers/ME5/datasets/grocery/images/train/090180.jpg: corrupt JPEG restored and saved\n",
      "\u001b[34m\u001b[1mtrain: \u001b[0mWARNING ⚠️ /raid/students/ryan/Cayas-AI-231/machine_exers/ME5/datasets/grocery/images/train/090181.jpg: corrupt JPEG restored and saved\n",
      "\u001b[34m\u001b[1mtrain: \u001b[0mWARNING ⚠️ /raid/students/ryan/Cayas-AI-231/machine_exers/ME5/datasets/grocery/images/train/090183.jpg: corrupt JPEG restored and saved\n",
      "\u001b[34m\u001b[1mtrain: \u001b[0mWARNING ⚠️ /raid/students/ryan/Cayas-AI-231/machine_exers/ME5/datasets/grocery/images/train/090184.jpg: corrupt JPEG restored and saved\n",
      "\u001b[34m\u001b[1mtrain: \u001b[0mWARNING ⚠️ /raid/students/ryan/Cayas-AI-231/machine_exers/ME5/datasets/grocery/images/train/090186.jpg: corrupt JPEG restored and saved\n",
      "\u001b[34m\u001b[1mtrain: \u001b[0mWARNING ⚠️ /raid/students/ryan/Cayas-AI-231/machine_exers/ME5/datasets/grocery/images/train/090187.jpg: corrupt JPEG restored and saved\n",
      "\u001b[34m\u001b[1mtrain: \u001b[0mWARNING ⚠️ /raid/students/ryan/Cayas-AI-231/machine_exers/ME5/datasets/grocery/images/train/090188.jpg: corrupt JPEG restored and saved\n",
      "\u001b[34m\u001b[1mtrain: \u001b[0mWARNING ⚠️ /raid/students/ryan/Cayas-AI-231/machine_exers/ME5/datasets/grocery/images/train/090189.jpg: corrupt JPEG restored and saved\n",
      "\u001b[34m\u001b[1mtrain: \u001b[0mWARNING ⚠️ /raid/students/ryan/Cayas-AI-231/machine_exers/ME5/datasets/grocery/images/train/090190.jpg: corrupt JPEG restored and saved\n",
      "\u001b[34m\u001b[1mtrain: \u001b[0mWARNING ⚠️ /raid/students/ryan/Cayas-AI-231/machine_exers/ME5/datasets/grocery/images/train/090191.jpg: corrupt JPEG restored and saved\n",
      "\u001b[34m\u001b[1mtrain: \u001b[0mWARNING ⚠️ /raid/students/ryan/Cayas-AI-231/machine_exers/ME5/datasets/grocery/images/train/090192.jpg: corrupt JPEG restored and saved\n",
      "\u001b[34m\u001b[1mtrain: \u001b[0mWARNING ⚠️ /raid/students/ryan/Cayas-AI-231/machine_exers/ME5/datasets/grocery/images/train/090193.jpg: corrupt JPEG restored and saved\n",
      "\u001b[34m\u001b[1mtrain: \u001b[0mWARNING ⚠️ /raid/students/ryan/Cayas-AI-231/machine_exers/ME5/datasets/grocery/images/train/090194.jpg: corrupt JPEG restored and saved\n",
      "\u001b[34m\u001b[1mtrain: \u001b[0mWARNING ⚠️ /raid/students/ryan/Cayas-AI-231/machine_exers/ME5/datasets/grocery/images/train/090195.jpg: corrupt JPEG restored and saved\n",
      "\u001b[34m\u001b[1mtrain: \u001b[0mWARNING ⚠️ /raid/students/ryan/Cayas-AI-231/machine_exers/ME5/datasets/grocery/images/train/090196.jpg: corrupt JPEG restored and saved\n",
      "\u001b[34m\u001b[1mtrain: \u001b[0mWARNING ⚠️ /raid/students/ryan/Cayas-AI-231/machine_exers/ME5/datasets/grocery/images/train/090197.jpg: corrupt JPEG restored and saved\n",
      "\u001b[34m\u001b[1mtrain: \u001b[0mWARNING ⚠️ /raid/students/ryan/Cayas-AI-231/machine_exers/ME5/datasets/grocery/images/train/090198.jpg: corrupt JPEG restored and saved\n",
      "\u001b[34m\u001b[1mtrain: \u001b[0mWARNING ⚠️ /raid/students/ryan/Cayas-AI-231/machine_exers/ME5/datasets/grocery/images/train/090199.jpg: corrupt JPEG restored and saved\n",
      "\u001b[34m\u001b[1mtrain: \u001b[0mWARNING ⚠️ /raid/students/ryan/Cayas-AI-231/machine_exers/ME5/datasets/grocery/images/train/090200.jpg: corrupt JPEG restored and saved\n",
      "\u001b[34m\u001b[1mtrain: \u001b[0mWARNING ⚠️ /raid/students/ryan/Cayas-AI-231/machine_exers/ME5/datasets/grocery/images/train/090201.jpg: corrupt JPEG restored and saved\n",
      "\u001b[34m\u001b[1mtrain: \u001b[0mWARNING ⚠️ /raid/students/ryan/Cayas-AI-231/machine_exers/ME5/datasets/grocery/images/train/090202.jpg: corrupt JPEG restored and saved\n",
      "\u001b[34m\u001b[1mtrain: \u001b[0mWARNING ⚠️ /raid/students/ryan/Cayas-AI-231/machine_exers/ME5/datasets/grocery/images/train/090203.jpg: corrupt JPEG restored and saved\n",
      "\u001b[34m\u001b[1mtrain: \u001b[0mWARNING ⚠️ /raid/students/ryan/Cayas-AI-231/machine_exers/ME5/datasets/grocery/images/train/090204.jpg: corrupt JPEG restored and saved\n",
      "\u001b[34m\u001b[1mtrain: \u001b[0mWARNING ⚠️ /raid/students/ryan/Cayas-AI-231/machine_exers/ME5/datasets/grocery/images/train/090205.jpg: corrupt JPEG restored and saved\n",
      "\u001b[34m\u001b[1mtrain: \u001b[0mWARNING ⚠️ /raid/students/ryan/Cayas-AI-231/machine_exers/ME5/datasets/grocery/images/train/090206.jpg: corrupt JPEG restored and saved\n",
      "\u001b[34m\u001b[1mtrain: \u001b[0mWARNING ⚠️ /raid/students/ryan/Cayas-AI-231/machine_exers/ME5/datasets/grocery/images/train/090207.jpg: corrupt JPEG restored and saved\n",
      "\u001b[34m\u001b[1mtrain: \u001b[0mWARNING ⚠️ /raid/students/ryan/Cayas-AI-231/machine_exers/ME5/datasets/grocery/images/train/090208.jpg: corrupt JPEG restored and saved\n",
      "\u001b[34m\u001b[1mtrain: \u001b[0mWARNING ⚠️ /raid/students/ryan/Cayas-AI-231/machine_exers/ME5/datasets/grocery/images/train/090209.jpg: corrupt JPEG restored and saved\n",
      "\u001b[34m\u001b[1mtrain: \u001b[0mWARNING ⚠️ /raid/students/ryan/Cayas-AI-231/machine_exers/ME5/datasets/grocery/images/train/090210.jpg: corrupt JPEG restored and saved\n",
      "\u001b[34m\u001b[1mtrain: \u001b[0mWARNING ⚠️ /raid/students/ryan/Cayas-AI-231/machine_exers/ME5/datasets/grocery/images/train/090211.jpg: corrupt JPEG restored and saved\n",
      "\u001b[34m\u001b[1mtrain: \u001b[0mWARNING ⚠️ /raid/students/ryan/Cayas-AI-231/machine_exers/ME5/datasets/grocery/images/train/090212.jpg: corrupt JPEG restored and saved\n",
      "\u001b[34m\u001b[1mtrain: \u001b[0mWARNING ⚠️ /raid/students/ryan/Cayas-AI-231/machine_exers/ME5/datasets/grocery/images/train/090213.jpg: corrupt JPEG restored and saved\n",
      "\u001b[34m\u001b[1mtrain: \u001b[0mWARNING ⚠️ /raid/students/ryan/Cayas-AI-231/machine_exers/ME5/datasets/grocery/images/train/090215.jpg: corrupt JPEG restored and saved\n",
      "\u001b[34m\u001b[1mtrain: \u001b[0mWARNING ⚠️ /raid/students/ryan/Cayas-AI-231/machine_exers/ME5/datasets/grocery/images/train/090216.jpg: corrupt JPEG restored and saved\n",
      "\u001b[34m\u001b[1mtrain: \u001b[0mWARNING ⚠️ /raid/students/ryan/Cayas-AI-231/machine_exers/ME5/datasets/grocery/images/train/090217.jpg: corrupt JPEG restored and saved\n",
      "\u001b[34m\u001b[1mtrain: \u001b[0mWARNING ⚠️ /raid/students/ryan/Cayas-AI-231/machine_exers/ME5/datasets/grocery/images/train/090218.jpg: corrupt JPEG restored and saved\n",
      "\u001b[34m\u001b[1mtrain: \u001b[0mWARNING ⚠️ /raid/students/ryan/Cayas-AI-231/machine_exers/ME5/datasets/grocery/images/train/090219.jpg: corrupt JPEG restored and saved\n",
      "\u001b[34m\u001b[1mtrain: \u001b[0mWARNING ⚠️ /raid/students/ryan/Cayas-AI-231/machine_exers/ME5/datasets/grocery/images/train/090220.jpg: corrupt JPEG restored and saved\n",
      "\u001b[34m\u001b[1mtrain: \u001b[0mWARNING ⚠️ /raid/students/ryan/Cayas-AI-231/machine_exers/ME5/datasets/grocery/images/train/090221.jpg: corrupt JPEG restored and saved\n",
      "\u001b[34m\u001b[1mtrain: \u001b[0mWARNING ⚠️ /raid/students/ryan/Cayas-AI-231/machine_exers/ME5/datasets/grocery/images/train/090222.jpg: corrupt JPEG restored and saved\n",
      "\u001b[34m\u001b[1mtrain: \u001b[0mWARNING ⚠️ /raid/students/ryan/Cayas-AI-231/machine_exers/ME5/datasets/grocery/images/train/090223.jpg: corrupt JPEG restored and saved\n",
      "\u001b[34m\u001b[1mtrain: \u001b[0mWARNING ⚠️ /raid/students/ryan/Cayas-AI-231/machine_exers/ME5/datasets/grocery/images/train/090225.jpg: corrupt JPEG restored and saved\n",
      "\u001b[34m\u001b[1mtrain: \u001b[0mWARNING ⚠️ /raid/students/ryan/Cayas-AI-231/machine_exers/ME5/datasets/grocery/images/train/090226.jpg: corrupt JPEG restored and saved\n",
      "\u001b[34m\u001b[1mtrain: \u001b[0mWARNING ⚠️ /raid/students/ryan/Cayas-AI-231/machine_exers/ME5/datasets/grocery/images/train/090227.jpg: corrupt JPEG restored and saved\n",
      "\u001b[34m\u001b[1mtrain: \u001b[0mWARNING ⚠️ /raid/students/ryan/Cayas-AI-231/machine_exers/ME5/datasets/grocery/images/train/090228.jpg: corrupt JPEG restored and saved\n",
      "\u001b[34m\u001b[1mtrain: \u001b[0mWARNING ⚠️ /raid/students/ryan/Cayas-AI-231/machine_exers/ME5/datasets/grocery/images/train/090229.jpg: corrupt JPEG restored and saved\n",
      "\u001b[34m\u001b[1mtrain: \u001b[0mWARNING ⚠️ /raid/students/ryan/Cayas-AI-231/machine_exers/ME5/datasets/grocery/images/train/090230.jpg: corrupt JPEG restored and saved\n",
      "\u001b[34m\u001b[1mtrain: \u001b[0mWARNING ⚠️ /raid/students/ryan/Cayas-AI-231/machine_exers/ME5/datasets/grocery/images/train/090232.jpg: corrupt JPEG restored and saved\n",
      "\u001b[34m\u001b[1mtrain: \u001b[0mWARNING ⚠️ /raid/students/ryan/Cayas-AI-231/machine_exers/ME5/datasets/grocery/images/train/090233.jpg: corrupt JPEG restored and saved\n",
      "\u001b[34m\u001b[1mtrain: \u001b[0mWARNING ⚠️ /raid/students/ryan/Cayas-AI-231/machine_exers/ME5/datasets/grocery/images/train/090235.jpg: corrupt JPEG restored and saved\n",
      "\u001b[34m\u001b[1mtrain: \u001b[0mWARNING ⚠️ /raid/students/ryan/Cayas-AI-231/machine_exers/ME5/datasets/grocery/images/train/090236.jpg: corrupt JPEG restored and saved\n",
      "\u001b[34m\u001b[1mtrain: \u001b[0mWARNING ⚠️ /raid/students/ryan/Cayas-AI-231/machine_exers/ME5/datasets/grocery/images/train/090237.jpg: corrupt JPEG restored and saved\n",
      "\u001b[34m\u001b[1mtrain: \u001b[0mWARNING ⚠️ /raid/students/ryan/Cayas-AI-231/machine_exers/ME5/datasets/grocery/images/train/090238.jpg: corrupt JPEG restored and saved\n",
      "\u001b[34m\u001b[1mtrain: \u001b[0mWARNING ⚠️ /raid/students/ryan/Cayas-AI-231/machine_exers/ME5/datasets/grocery/images/train/090239.jpg: corrupt JPEG restored and saved\n",
      "\u001b[34m\u001b[1mtrain: \u001b[0mWARNING ⚠️ /raid/students/ryan/Cayas-AI-231/machine_exers/ME5/datasets/grocery/images/train/090240.jpg: corrupt JPEG restored and saved\n",
      "\u001b[34m\u001b[1mtrain: \u001b[0mWARNING ⚠️ /raid/students/ryan/Cayas-AI-231/machine_exers/ME5/datasets/grocery/images/train/090241.jpg: corrupt JPEG restored and saved\n",
      "\u001b[34m\u001b[1mtrain: \u001b[0mWARNING ⚠️ /raid/students/ryan/Cayas-AI-231/machine_exers/ME5/datasets/grocery/images/train/090242.jpg: corrupt JPEG restored and saved\n",
      "\u001b[34m\u001b[1mtrain: \u001b[0mWARNING ⚠️ /raid/students/ryan/Cayas-AI-231/machine_exers/ME5/datasets/grocery/images/train/090243.jpg: corrupt JPEG restored and saved\n",
      "\u001b[34m\u001b[1mtrain: \u001b[0mWARNING ⚠️ /raid/students/ryan/Cayas-AI-231/machine_exers/ME5/datasets/grocery/images/train/090244.jpg: corrupt JPEG restored and saved\n",
      "\u001b[34m\u001b[1mtrain: \u001b[0mWARNING ⚠️ /raid/students/ryan/Cayas-AI-231/machine_exers/ME5/datasets/grocery/images/train/090245.jpg: corrupt JPEG restored and saved\n",
      "\u001b[34m\u001b[1mtrain: \u001b[0mWARNING ⚠️ /raid/students/ryan/Cayas-AI-231/machine_exers/ME5/datasets/grocery/images/train/090246.jpg: corrupt JPEG restored and saved\n",
      "\u001b[34m\u001b[1mtrain: \u001b[0mWARNING ⚠️ /raid/students/ryan/Cayas-AI-231/machine_exers/ME5/datasets/grocery/images/train/090247.jpg: corrupt JPEG restored and saved\n",
      "\u001b[34m\u001b[1mtrain: \u001b[0mWARNING ⚠️ /raid/students/ryan/Cayas-AI-231/machine_exers/ME5/datasets/grocery/images/train/090249.jpg: corrupt JPEG restored and saved\n",
      "\u001b[34m\u001b[1mtrain: \u001b[0mWARNING ⚠️ /raid/students/ryan/Cayas-AI-231/machine_exers/ME5/datasets/grocery/images/train/090250.jpg: corrupt JPEG restored and saved\n",
      "\u001b[34m\u001b[1mtrain: \u001b[0mWARNING ⚠️ /raid/students/ryan/Cayas-AI-231/machine_exers/ME5/datasets/grocery/images/train/090251.jpg: corrupt JPEG restored and saved\n",
      "\u001b[34m\u001b[1mtrain: \u001b[0mWARNING ⚠️ /raid/students/ryan/Cayas-AI-231/machine_exers/ME5/datasets/grocery/images/train/090252.jpg: corrupt JPEG restored and saved\n",
      "\u001b[34m\u001b[1mtrain: \u001b[0mWARNING ⚠️ /raid/students/ryan/Cayas-AI-231/machine_exers/ME5/datasets/grocery/images/train/090253.jpg: corrupt JPEG restored and saved\n",
      "\u001b[34m\u001b[1mtrain: \u001b[0mWARNING ⚠️ /raid/students/ryan/Cayas-AI-231/machine_exers/ME5/datasets/grocery/images/train/090254.jpg: corrupt JPEG restored and saved\n",
      "\u001b[34m\u001b[1mtrain: \u001b[0mWARNING ⚠️ /raid/students/ryan/Cayas-AI-231/machine_exers/ME5/datasets/grocery/images/train/090255.jpg: corrupt JPEG restored and saved\n",
      "\u001b[34m\u001b[1mtrain: \u001b[0mWARNING ⚠️ /raid/students/ryan/Cayas-AI-231/machine_exers/ME5/datasets/grocery/images/train/090256.jpg: corrupt JPEG restored and saved\n",
      "\u001b[34m\u001b[1mtrain: \u001b[0mWARNING ⚠️ /raid/students/ryan/Cayas-AI-231/machine_exers/ME5/datasets/grocery/images/train/090257.jpg: corrupt JPEG restored and saved\n",
      "\u001b[34m\u001b[1mtrain: \u001b[0mWARNING ⚠️ /raid/students/ryan/Cayas-AI-231/machine_exers/ME5/datasets/grocery/images/train/090258.jpg: corrupt JPEG restored and saved\n",
      "\u001b[34m\u001b[1mtrain: \u001b[0mWARNING ⚠️ /raid/students/ryan/Cayas-AI-231/machine_exers/ME5/datasets/grocery/images/train/090260.jpg: corrupt JPEG restored and saved\n",
      "\u001b[34m\u001b[1mtrain: \u001b[0mWARNING ⚠️ /raid/students/ryan/Cayas-AI-231/machine_exers/ME5/datasets/grocery/images/train/090261.jpg: corrupt JPEG restored and saved\n",
      "\u001b[34m\u001b[1mtrain: \u001b[0mWARNING ⚠️ /raid/students/ryan/Cayas-AI-231/machine_exers/ME5/datasets/grocery/images/train/090262.jpg: corrupt JPEG restored and saved\n",
      "\u001b[34m\u001b[1mtrain: \u001b[0mWARNING ⚠️ /raid/students/ryan/Cayas-AI-231/machine_exers/ME5/datasets/grocery/images/train/090263.jpg: corrupt JPEG restored and saved\n",
      "\u001b[34m\u001b[1mtrain: \u001b[0mWARNING ⚠️ /raid/students/ryan/Cayas-AI-231/machine_exers/ME5/datasets/grocery/images/train/090264.jpg: corrupt JPEG restored and saved\n",
      "\u001b[34m\u001b[1mtrain: \u001b[0mWARNING ⚠️ /raid/students/ryan/Cayas-AI-231/machine_exers/ME5/datasets/grocery/images/train/090265.jpg: corrupt JPEG restored and saved\n",
      "\u001b[34m\u001b[1mtrain: \u001b[0mWARNING ⚠️ /raid/students/ryan/Cayas-AI-231/machine_exers/ME5/datasets/grocery/images/train/090266.jpg: corrupt JPEG restored and saved\n",
      "\u001b[34m\u001b[1mtrain: \u001b[0mWARNING ⚠️ /raid/students/ryan/Cayas-AI-231/machine_exers/ME5/datasets/grocery/images/train/090267.jpg: corrupt JPEG restored and saved\n",
      "\u001b[34m\u001b[1mtrain: \u001b[0mWARNING ⚠️ /raid/students/ryan/Cayas-AI-231/machine_exers/ME5/datasets/grocery/images/train/090268.jpg: corrupt JPEG restored and saved\n",
      "\u001b[34m\u001b[1mtrain: \u001b[0mWARNING ⚠️ /raid/students/ryan/Cayas-AI-231/machine_exers/ME5/datasets/grocery/images/train/090269.jpg: corrupt JPEG restored and saved\n",
      "\u001b[34m\u001b[1mtrain: \u001b[0mWARNING ⚠️ /raid/students/ryan/Cayas-AI-231/machine_exers/ME5/datasets/grocery/images/train/090270.jpg: corrupt JPEG restored and saved\n",
      "\u001b[34m\u001b[1mtrain: \u001b[0mWARNING ⚠️ /raid/students/ryan/Cayas-AI-231/machine_exers/ME5/datasets/grocery/images/train/090271.jpg: corrupt JPEG restored and saved\n",
      "\u001b[34m\u001b[1mtrain: \u001b[0mWARNING ⚠️ /raid/students/ryan/Cayas-AI-231/machine_exers/ME5/datasets/grocery/images/train/090272.jpg: corrupt JPEG restored and saved\n",
      "\u001b[34m\u001b[1mtrain: \u001b[0mWARNING ⚠️ /raid/students/ryan/Cayas-AI-231/machine_exers/ME5/datasets/grocery/images/train/090273.jpg: corrupt JPEG restored and saved\n",
      "\u001b[34m\u001b[1mtrain: \u001b[0mWARNING ⚠️ /raid/students/ryan/Cayas-AI-231/machine_exers/ME5/datasets/grocery/images/train/090274.jpg: corrupt JPEG restored and saved\n",
      "\u001b[34m\u001b[1mtrain: \u001b[0mWARNING ⚠️ /raid/students/ryan/Cayas-AI-231/machine_exers/ME5/datasets/grocery/images/train/090275.jpg: corrupt JPEG restored and saved\n",
      "\u001b[34m\u001b[1mtrain: \u001b[0mWARNING ⚠️ /raid/students/ryan/Cayas-AI-231/machine_exers/ME5/datasets/grocery/images/train/090276.jpg: corrupt JPEG restored and saved\n",
      "\u001b[34m\u001b[1mtrain: \u001b[0mWARNING ⚠️ /raid/students/ryan/Cayas-AI-231/machine_exers/ME5/datasets/grocery/images/train/090277.jpg: corrupt JPEG restored and saved\n",
      "\u001b[34m\u001b[1mtrain: \u001b[0mWARNING ⚠️ /raid/students/ryan/Cayas-AI-231/machine_exers/ME5/datasets/grocery/images/train/090278.jpg: corrupt JPEG restored and saved\n",
      "\u001b[34m\u001b[1mtrain: \u001b[0mWARNING ⚠️ /raid/students/ryan/Cayas-AI-231/machine_exers/ME5/datasets/grocery/images/train/090279.jpg: corrupt JPEG restored and saved\n",
      "\u001b[34m\u001b[1mtrain: \u001b[0mWARNING ⚠️ /raid/students/ryan/Cayas-AI-231/machine_exers/ME5/datasets/grocery/images/train/090280.jpg: corrupt JPEG restored and saved\n",
      "\u001b[34m\u001b[1mtrain: \u001b[0mWARNING ⚠️ /raid/students/ryan/Cayas-AI-231/machine_exers/ME5/datasets/grocery/images/train/090281.jpg: corrupt JPEG restored and saved\n",
      "\u001b[34m\u001b[1mtrain: \u001b[0mWARNING ⚠️ /raid/students/ryan/Cayas-AI-231/machine_exers/ME5/datasets/grocery/images/train/090282.jpg: corrupt JPEG restored and saved\n",
      "\u001b[34m\u001b[1mtrain: \u001b[0mWARNING ⚠️ /raid/students/ryan/Cayas-AI-231/machine_exers/ME5/datasets/grocery/images/train/090283.jpg: corrupt JPEG restored and saved\n",
      "\u001b[34m\u001b[1mtrain: \u001b[0mWARNING ⚠️ /raid/students/ryan/Cayas-AI-231/machine_exers/ME5/datasets/grocery/images/train/090284.jpg: corrupt JPEG restored and saved\n",
      "\u001b[34m\u001b[1mtrain: \u001b[0mWARNING ⚠️ /raid/students/ryan/Cayas-AI-231/machine_exers/ME5/datasets/grocery/images/train/090285.jpg: corrupt JPEG restored and saved\n",
      "\u001b[34m\u001b[1mtrain: \u001b[0mWARNING ⚠️ /raid/students/ryan/Cayas-AI-231/machine_exers/ME5/datasets/grocery/images/train/090286.jpg: corrupt JPEG restored and saved\n",
      "\u001b[34m\u001b[1mtrain: \u001b[0mWARNING ⚠️ /raid/students/ryan/Cayas-AI-231/machine_exers/ME5/datasets/grocery/images/train/090287.jpg: corrupt JPEG restored and saved\n",
      "\u001b[34m\u001b[1mtrain: \u001b[0mWARNING ⚠️ /raid/students/ryan/Cayas-AI-231/machine_exers/ME5/datasets/grocery/images/train/090288.jpg: corrupt JPEG restored and saved\n",
      "\u001b[34m\u001b[1mtrain: \u001b[0mWARNING ⚠️ /raid/students/ryan/Cayas-AI-231/machine_exers/ME5/datasets/grocery/images/train/090289.jpg: corrupt JPEG restored and saved\n",
      "\u001b[34m\u001b[1mtrain: \u001b[0mWARNING ⚠️ /raid/students/ryan/Cayas-AI-231/machine_exers/ME5/datasets/grocery/images/train/090290.jpg: corrupt JPEG restored and saved\n",
      "\u001b[34m\u001b[1mtrain: \u001b[0mWARNING ⚠️ /raid/students/ryan/Cayas-AI-231/machine_exers/ME5/datasets/grocery/images/train/090292.jpg: corrupt JPEG restored and saved\n",
      "\u001b[34m\u001b[1mtrain: \u001b[0mWARNING ⚠️ /raid/students/ryan/Cayas-AI-231/machine_exers/ME5/datasets/grocery/images/train/090293.jpg: corrupt JPEG restored and saved\n",
      "\u001b[34m\u001b[1mtrain: \u001b[0mWARNING ⚠️ /raid/students/ryan/Cayas-AI-231/machine_exers/ME5/datasets/grocery/images/train/090294.jpg: corrupt JPEG restored and saved\n",
      "\u001b[34m\u001b[1mtrain: \u001b[0mWARNING ⚠️ /raid/students/ryan/Cayas-AI-231/machine_exers/ME5/datasets/grocery/images/train/090295.jpg: corrupt JPEG restored and saved\n",
      "\u001b[34m\u001b[1mtrain: \u001b[0mWARNING ⚠️ /raid/students/ryan/Cayas-AI-231/machine_exers/ME5/datasets/grocery/images/train/090296.jpg: corrupt JPEG restored and saved\n",
      "\u001b[34m\u001b[1mtrain: \u001b[0mWARNING ⚠️ /raid/students/ryan/Cayas-AI-231/machine_exers/ME5/datasets/grocery/images/train/090298.jpg: corrupt JPEG restored and saved\n",
      "\u001b[34m\u001b[1mtrain: \u001b[0mWARNING ⚠️ /raid/students/ryan/Cayas-AI-231/machine_exers/ME5/datasets/grocery/images/train/090299.jpg: corrupt JPEG restored and saved\n",
      "\u001b[34m\u001b[1mtrain: \u001b[0mWARNING ⚠️ /raid/students/ryan/Cayas-AI-231/machine_exers/ME5/datasets/grocery/images/train/090300.jpg: corrupt JPEG restored and saved\n",
      "\u001b[34m\u001b[1mtrain: \u001b[0mWARNING ⚠️ /raid/students/ryan/Cayas-AI-231/machine_exers/ME5/datasets/grocery/images/train/090301.jpg: corrupt JPEG restored and saved\n",
      "\u001b[34m\u001b[1mtrain: \u001b[0mWARNING ⚠️ /raid/students/ryan/Cayas-AI-231/machine_exers/ME5/datasets/grocery/images/train/090302.jpg: corrupt JPEG restored and saved\n",
      "\u001b[34m\u001b[1mtrain: \u001b[0mWARNING ⚠️ /raid/students/ryan/Cayas-AI-231/machine_exers/ME5/datasets/grocery/images/train/090303.jpg: corrupt JPEG restored and saved\n",
      "\u001b[34m\u001b[1mtrain: \u001b[0mWARNING ⚠️ /raid/students/ryan/Cayas-AI-231/machine_exers/ME5/datasets/grocery/images/train/090304.jpg: corrupt JPEG restored and saved\n",
      "\u001b[34m\u001b[1mtrain: \u001b[0mWARNING ⚠️ /raid/students/ryan/Cayas-AI-231/machine_exers/ME5/datasets/grocery/images/train/090305.jpg: corrupt JPEG restored and saved\n",
      "\u001b[34m\u001b[1mtrain: \u001b[0mWARNING ⚠️ /raid/students/ryan/Cayas-AI-231/machine_exers/ME5/datasets/grocery/images/train/090307.jpg: corrupt JPEG restored and saved\n",
      "\u001b[34m\u001b[1mtrain: \u001b[0mWARNING ⚠️ /raid/students/ryan/Cayas-AI-231/machine_exers/ME5/datasets/grocery/images/train/090308.jpg: corrupt JPEG restored and saved\n",
      "\u001b[34m\u001b[1mtrain: \u001b[0mWARNING ⚠️ /raid/students/ryan/Cayas-AI-231/machine_exers/ME5/datasets/grocery/images/train/090309.jpg: corrupt JPEG restored and saved\n",
      "\u001b[34m\u001b[1mtrain: \u001b[0mWARNING ⚠️ /raid/students/ryan/Cayas-AI-231/machine_exers/ME5/datasets/grocery/images/train/090310.jpg: corrupt JPEG restored and saved\n",
      "\u001b[34m\u001b[1mtrain: \u001b[0mWARNING ⚠️ /raid/students/ryan/Cayas-AI-231/machine_exers/ME5/datasets/grocery/images/train/090311.jpg: corrupt JPEG restored and saved\n",
      "\u001b[34m\u001b[1mtrain: \u001b[0mWARNING ⚠️ /raid/students/ryan/Cayas-AI-231/machine_exers/ME5/datasets/grocery/images/train/090312.jpg: corrupt JPEG restored and saved\n",
      "\u001b[34m\u001b[1mtrain: \u001b[0mWARNING ⚠️ /raid/students/ryan/Cayas-AI-231/machine_exers/ME5/datasets/grocery/images/train/090313.jpg: corrupt JPEG restored and saved\n",
      "\u001b[34m\u001b[1mtrain: \u001b[0mWARNING ⚠️ /raid/students/ryan/Cayas-AI-231/machine_exers/ME5/datasets/grocery/images/train/090314.jpg: corrupt JPEG restored and saved\n",
      "\u001b[34m\u001b[1mtrain: \u001b[0mWARNING ⚠️ /raid/students/ryan/Cayas-AI-231/machine_exers/ME5/datasets/grocery/images/train/090315.jpg: corrupt JPEG restored and saved\n",
      "\u001b[34m\u001b[1mtrain: \u001b[0mWARNING ⚠️ /raid/students/ryan/Cayas-AI-231/machine_exers/ME5/datasets/grocery/images/train/090316.jpg: corrupt JPEG restored and saved\n",
      "\u001b[34m\u001b[1mtrain: \u001b[0mWARNING ⚠️ /raid/students/ryan/Cayas-AI-231/machine_exers/ME5/datasets/grocery/images/train/090317.jpg: corrupt JPEG restored and saved\n",
      "\u001b[34m\u001b[1mtrain: \u001b[0mWARNING ⚠️ /raid/students/ryan/Cayas-AI-231/machine_exers/ME5/datasets/grocery/images/train/090319.jpg: corrupt JPEG restored and saved\n",
      "\u001b[34m\u001b[1mtrain: \u001b[0mWARNING ⚠️ /raid/students/ryan/Cayas-AI-231/machine_exers/ME5/datasets/grocery/images/train/090320.jpg: corrupt JPEG restored and saved\n",
      "\u001b[34m\u001b[1mtrain: \u001b[0mWARNING ⚠️ /raid/students/ryan/Cayas-AI-231/machine_exers/ME5/datasets/grocery/images/train/090321.jpg: corrupt JPEG restored and saved\n",
      "\u001b[34m\u001b[1mtrain: \u001b[0mWARNING ⚠️ /raid/students/ryan/Cayas-AI-231/machine_exers/ME5/datasets/grocery/images/train/090323.jpg: corrupt JPEG restored and saved\n",
      "\u001b[34m\u001b[1mtrain: \u001b[0mWARNING ⚠️ /raid/students/ryan/Cayas-AI-231/machine_exers/ME5/datasets/grocery/images/train/090324.jpg: corrupt JPEG restored and saved\n",
      "\u001b[34m\u001b[1mtrain: \u001b[0mWARNING ⚠️ /raid/students/ryan/Cayas-AI-231/machine_exers/ME5/datasets/grocery/images/train/090325.jpg: corrupt JPEG restored and saved\n",
      "\u001b[34m\u001b[1mtrain: \u001b[0mWARNING ⚠️ /raid/students/ryan/Cayas-AI-231/machine_exers/ME5/datasets/grocery/images/train/090326.jpg: corrupt JPEG restored and saved\n",
      "\u001b[34m\u001b[1mtrain: \u001b[0mWARNING ⚠️ /raid/students/ryan/Cayas-AI-231/machine_exers/ME5/datasets/grocery/images/train/090327.jpg: corrupt JPEG restored and saved\n",
      "\u001b[34m\u001b[1mtrain: \u001b[0mWARNING ⚠️ /raid/students/ryan/Cayas-AI-231/machine_exers/ME5/datasets/grocery/images/train/090329.jpg: corrupt JPEG restored and saved\n",
      "\u001b[34m\u001b[1mtrain: \u001b[0mWARNING ⚠️ /raid/students/ryan/Cayas-AI-231/machine_exers/ME5/datasets/grocery/images/train/090330.jpg: corrupt JPEG restored and saved\n",
      "\u001b[34m\u001b[1mtrain: \u001b[0mWARNING ⚠️ /raid/students/ryan/Cayas-AI-231/machine_exers/ME5/datasets/grocery/images/train/090331.jpg: corrupt JPEG restored and saved\n",
      "\u001b[34m\u001b[1mtrain: \u001b[0mWARNING ⚠️ /raid/students/ryan/Cayas-AI-231/machine_exers/ME5/datasets/grocery/images/train/090333.jpg: corrupt JPEG restored and saved\n",
      "\u001b[34m\u001b[1mtrain: \u001b[0mWARNING ⚠️ /raid/students/ryan/Cayas-AI-231/machine_exers/ME5/datasets/grocery/images/train/090334.jpg: corrupt JPEG restored and saved\n",
      "\u001b[34m\u001b[1mtrain: \u001b[0mWARNING ⚠️ /raid/students/ryan/Cayas-AI-231/machine_exers/ME5/datasets/grocery/images/train/090335.jpg: corrupt JPEG restored and saved\n",
      "\u001b[34m\u001b[1mtrain: \u001b[0mWARNING ⚠️ /raid/students/ryan/Cayas-AI-231/machine_exers/ME5/datasets/grocery/images/train/090336.jpg: corrupt JPEG restored and saved\n",
      "\u001b[34m\u001b[1mtrain: \u001b[0mWARNING ⚠️ /raid/students/ryan/Cayas-AI-231/machine_exers/ME5/datasets/grocery/images/train/090338.jpg: corrupt JPEG restored and saved\n",
      "\u001b[34m\u001b[1mtrain: \u001b[0mWARNING ⚠️ /raid/students/ryan/Cayas-AI-231/machine_exers/ME5/datasets/grocery/images/train/090339.jpg: corrupt JPEG restored and saved\n",
      "\u001b[34m\u001b[1mtrain: \u001b[0mWARNING ⚠️ /raid/students/ryan/Cayas-AI-231/machine_exers/ME5/datasets/grocery/images/train/090340.jpg: corrupt JPEG restored and saved\n",
      "\u001b[34m\u001b[1mtrain: \u001b[0mWARNING ⚠️ /raid/students/ryan/Cayas-AI-231/machine_exers/ME5/datasets/grocery/images/train/090341.jpg: corrupt JPEG restored and saved\n",
      "\u001b[34m\u001b[1mtrain: \u001b[0mWARNING ⚠️ /raid/students/ryan/Cayas-AI-231/machine_exers/ME5/datasets/grocery/images/train/090342.jpg: corrupt JPEG restored and saved\n",
      "\u001b[34m\u001b[1mtrain: \u001b[0mWARNING ⚠️ /raid/students/ryan/Cayas-AI-231/machine_exers/ME5/datasets/grocery/images/train/090343.jpg: corrupt JPEG restored and saved\n",
      "\u001b[34m\u001b[1mtrain: \u001b[0mWARNING ⚠️ /raid/students/ryan/Cayas-AI-231/machine_exers/ME5/datasets/grocery/images/train/090344.jpg: corrupt JPEG restored and saved\n",
      "\u001b[34m\u001b[1mtrain: \u001b[0mWARNING ⚠️ /raid/students/ryan/Cayas-AI-231/machine_exers/ME5/datasets/grocery/images/train/090345.jpg: corrupt JPEG restored and saved\n",
      "\u001b[34m\u001b[1mtrain: \u001b[0mWARNING ⚠️ /raid/students/ryan/Cayas-AI-231/machine_exers/ME5/datasets/grocery/images/train/090346.jpg: corrupt JPEG restored and saved\n",
      "\u001b[34m\u001b[1mtrain: \u001b[0mWARNING ⚠️ /raid/students/ryan/Cayas-AI-231/machine_exers/ME5/datasets/grocery/images/train/090347.jpg: corrupt JPEG restored and saved\n",
      "\u001b[34m\u001b[1mtrain: \u001b[0mWARNING ⚠️ /raid/students/ryan/Cayas-AI-231/machine_exers/ME5/datasets/grocery/images/train/090348.jpg: corrupt JPEG restored and saved\n",
      "\u001b[34m\u001b[1mtrain: \u001b[0mWARNING ⚠️ /raid/students/ryan/Cayas-AI-231/machine_exers/ME5/datasets/grocery/images/train/090349.jpg: corrupt JPEG restored and saved\n",
      "\u001b[34m\u001b[1mtrain: \u001b[0mWARNING ⚠️ /raid/students/ryan/Cayas-AI-231/machine_exers/ME5/datasets/grocery/images/train/090350.jpg: corrupt JPEG restored and saved\n",
      "\u001b[34m\u001b[1mtrain: \u001b[0mWARNING ⚠️ /raid/students/ryan/Cayas-AI-231/machine_exers/ME5/datasets/grocery/images/train/220002.jpg: 5 duplicate labels removed\n",
      "\u001b[34m\u001b[1mtrain: \u001b[0mWARNING ⚠️ /raid/students/ryan/Cayas-AI-231/machine_exers/ME5/datasets/grocery/images/train/220004.jpg: 1 duplicate labels removed\n",
      "\u001b[34m\u001b[1mtrain: \u001b[0mWARNING ⚠️ /raid/students/ryan/Cayas-AI-231/machine_exers/ME5/datasets/grocery/images/train/220005.jpg: 2 duplicate labels removed\n",
      "\u001b[34m\u001b[1mtrain: \u001b[0mWARNING ⚠️ /raid/students/ryan/Cayas-AI-231/machine_exers/ME5/datasets/grocery/images/train/220011.jpg: 2 duplicate labels removed\n",
      "\u001b[34m\u001b[1mtrain: \u001b[0mWARNING ⚠️ /raid/students/ryan/Cayas-AI-231/machine_exers/ME5/datasets/grocery/images/train/230008.jpg: 1 duplicate labels removed\n",
      "\u001b[34m\u001b[1mtrain: \u001b[0mWARNING ⚠️ /raid/students/ryan/Cayas-AI-231/machine_exers/ME5/datasets/grocery/images/train/240001.jpg: 1 duplicate labels removed\n",
      "\u001b[34m\u001b[1mtrain: \u001b[0mWARNING ⚠️ /raid/students/ryan/Cayas-AI-231/machine_exers/ME5/datasets/grocery/images/train/240002.jpg: 1 duplicate labels removed\n"
     ]
    },
    {
     "name": "stderr",
     "output_type": "stream",
     "text": [
      "\n",
      "\u001b[34m\u001b[1mval: \u001b[0mScanning /raid/students/ryan/Cayas-AI-231/machine_exers/ME5/datasets/grocery/labels/val.cache... 775 images, 0 backgrounds, 0 corrupt: 100%|██████████| 775/775 [00:00<?, ?it/s]"
     ]
    },
    {
     "name": "stdout",
     "output_type": "stream",
     "text": [
      "\u001b[34m\u001b[1mval: \u001b[0mWARNING ⚠️ /raid/students/ryan/Cayas-AI-231/machine_exers/ME5/datasets/grocery/images/val/090008.jpg: corrupt JPEG restored and saved\n",
      "\u001b[34m\u001b[1mval: \u001b[0mWARNING ⚠️ /raid/students/ryan/Cayas-AI-231/machine_exers/ME5/datasets/grocery/images/val/090016.jpg: corrupt JPEG restored and saved\n",
      "\u001b[34m\u001b[1mval: \u001b[0mWARNING ⚠️ /raid/students/ryan/Cayas-AI-231/machine_exers/ME5/datasets/grocery/images/val/090039.jpg: corrupt JPEG restored and saved\n",
      "\u001b[34m\u001b[1mval: \u001b[0mWARNING ⚠️ /raid/students/ryan/Cayas-AI-231/machine_exers/ME5/datasets/grocery/images/val/090064.jpg: corrupt JPEG restored and saved\n",
      "\u001b[34m\u001b[1mval: \u001b[0mWARNING ⚠️ /raid/students/ryan/Cayas-AI-231/machine_exers/ME5/datasets/grocery/images/val/090081.jpg: corrupt JPEG restored and saved\n",
      "\u001b[34m\u001b[1mval: \u001b[0mWARNING ⚠️ /raid/students/ryan/Cayas-AI-231/machine_exers/ME5/datasets/grocery/images/val/090084.jpg: corrupt JPEG restored and saved\n",
      "\u001b[34m\u001b[1mval: \u001b[0mWARNING ⚠️ /raid/students/ryan/Cayas-AI-231/machine_exers/ME5/datasets/grocery/images/val/090097.jpg: corrupt JPEG restored and saved\n",
      "\u001b[34m\u001b[1mval: \u001b[0mWARNING ⚠️ /raid/students/ryan/Cayas-AI-231/machine_exers/ME5/datasets/grocery/images/val/090102.jpg: corrupt JPEG restored and saved\n",
      "\u001b[34m\u001b[1mval: \u001b[0mWARNING ⚠️ /raid/students/ryan/Cayas-AI-231/machine_exers/ME5/datasets/grocery/images/val/090103.jpg: corrupt JPEG restored and saved\n",
      "\u001b[34m\u001b[1mval: \u001b[0mWARNING ⚠️ /raid/students/ryan/Cayas-AI-231/machine_exers/ME5/datasets/grocery/images/val/090108.jpg: corrupt JPEG restored and saved\n",
      "\u001b[34m\u001b[1mval: \u001b[0mWARNING ⚠️ /raid/students/ryan/Cayas-AI-231/machine_exers/ME5/datasets/grocery/images/val/090116.jpg: corrupt JPEG restored and saved\n",
      "\u001b[34m\u001b[1mval: \u001b[0mWARNING ⚠️ /raid/students/ryan/Cayas-AI-231/machine_exers/ME5/datasets/grocery/images/val/090117.jpg: corrupt JPEG restored and saved\n",
      "\u001b[34m\u001b[1mval: \u001b[0mWARNING ⚠️ /raid/students/ryan/Cayas-AI-231/machine_exers/ME5/datasets/grocery/images/val/090124.jpg: corrupt JPEG restored and saved\n",
      "\u001b[34m\u001b[1mval: \u001b[0mWARNING ⚠️ /raid/students/ryan/Cayas-AI-231/machine_exers/ME5/datasets/grocery/images/val/090170.jpg: corrupt JPEG restored and saved\n",
      "\u001b[34m\u001b[1mval: \u001b[0mWARNING ⚠️ /raid/students/ryan/Cayas-AI-231/machine_exers/ME5/datasets/grocery/images/val/090172.jpg: corrupt JPEG restored and saved\n",
      "\u001b[34m\u001b[1mval: \u001b[0mWARNING ⚠️ /raid/students/ryan/Cayas-AI-231/machine_exers/ME5/datasets/grocery/images/val/090182.jpg: corrupt JPEG restored and saved\n",
      "\u001b[34m\u001b[1mval: \u001b[0mWARNING ⚠️ /raid/students/ryan/Cayas-AI-231/machine_exers/ME5/datasets/grocery/images/val/090185.jpg: corrupt JPEG restored and saved\n",
      "\u001b[34m\u001b[1mval: \u001b[0mWARNING ⚠️ /raid/students/ryan/Cayas-AI-231/machine_exers/ME5/datasets/grocery/images/val/090214.jpg: corrupt JPEG restored and saved\n",
      "\u001b[34m\u001b[1mval: \u001b[0mWARNING ⚠️ /raid/students/ryan/Cayas-AI-231/machine_exers/ME5/datasets/grocery/images/val/090224.jpg: corrupt JPEG restored and saved\n",
      "\u001b[34m\u001b[1mval: \u001b[0mWARNING ⚠️ /raid/students/ryan/Cayas-AI-231/machine_exers/ME5/datasets/grocery/images/val/090231.jpg: corrupt JPEG restored and saved\n",
      "\u001b[34m\u001b[1mval: \u001b[0mWARNING ⚠️ /raid/students/ryan/Cayas-AI-231/machine_exers/ME5/datasets/grocery/images/val/090234.jpg: corrupt JPEG restored and saved\n",
      "\u001b[34m\u001b[1mval: \u001b[0mWARNING ⚠️ /raid/students/ryan/Cayas-AI-231/machine_exers/ME5/datasets/grocery/images/val/090248.jpg: corrupt JPEG restored and saved\n",
      "\u001b[34m\u001b[1mval: \u001b[0mWARNING ⚠️ /raid/students/ryan/Cayas-AI-231/machine_exers/ME5/datasets/grocery/images/val/090259.jpg: corrupt JPEG restored and saved\n",
      "\u001b[34m\u001b[1mval: \u001b[0mWARNING ⚠️ /raid/students/ryan/Cayas-AI-231/machine_exers/ME5/datasets/grocery/images/val/090291.jpg: corrupt JPEG restored and saved\n",
      "\u001b[34m\u001b[1mval: \u001b[0mWARNING ⚠️ /raid/students/ryan/Cayas-AI-231/machine_exers/ME5/datasets/grocery/images/val/090297.jpg: corrupt JPEG restored and saved\n",
      "\u001b[34m\u001b[1mval: \u001b[0mWARNING ⚠️ /raid/students/ryan/Cayas-AI-231/machine_exers/ME5/datasets/grocery/images/val/090306.jpg: corrupt JPEG restored and saved\n",
      "\u001b[34m\u001b[1mval: \u001b[0mWARNING ⚠️ /raid/students/ryan/Cayas-AI-231/machine_exers/ME5/datasets/grocery/images/val/090318.jpg: corrupt JPEG restored and saved\n",
      "\u001b[34m\u001b[1mval: \u001b[0mWARNING ⚠️ /raid/students/ryan/Cayas-AI-231/machine_exers/ME5/datasets/grocery/images/val/090322.jpg: corrupt JPEG restored and saved\n",
      "\u001b[34m\u001b[1mval: \u001b[0mWARNING ⚠️ /raid/students/ryan/Cayas-AI-231/machine_exers/ME5/datasets/grocery/images/val/090328.jpg: corrupt JPEG restored and saved\n",
      "\u001b[34m\u001b[1mval: \u001b[0mWARNING ⚠️ /raid/students/ryan/Cayas-AI-231/machine_exers/ME5/datasets/grocery/images/val/090332.jpg: corrupt JPEG restored and saved\n"
     ]
    },
    {
     "name": "stderr",
     "output_type": "stream",
     "text": [
      "\n"
     ]
    },
    {
     "name": "stdout",
     "output_type": "stream",
     "text": [
      "Plotting labels to YOLO-detect-v1/train1/labels.jpg... \n",
      "\u001b[34m\u001b[1moptimizer:\u001b[0m 'optimizer=auto' found, ignoring 'lr0=0.01' and 'momentum=0.937' and determining best 'optimizer', 'lr0' and 'momentum' automatically... \n",
      "\u001b[34m\u001b[1moptimizer:\u001b[0m AdamW(lr=0.000385, momentum=0.9) with parameter groups 81 weight(decay=0.0), 88 weight(decay=0.001203125), 87 bias(decay=0.0)\n",
      "Image sizes 640 train, 640 val\n",
      "Using 8 dataloader workers\n",
      "Logging results to \u001b[1mYOLO-detect-v1/train1\u001b[0m\n",
      "Starting training for 100 epochs...\n",
      "\n",
      "      Epoch    GPU_mem   box_loss   cls_loss   dfl_loss  Instances       Size\n"
     ]
    },
    {
     "name": "stderr",
     "output_type": "stream",
     "text": [
      "      1/100      23.2G     0.7765      4.131      1.075        180        640: 100%|██████████| 46/46 [00:23<00:00,  1.95it/s]\n",
      "                 Class     Images  Instances      Box(P          R      mAP50  mAP50-95): 100%|██████████| 3/3 [00:01<00:00,  1.59it/s]"
     ]
    },
    {
     "name": "stdout",
     "output_type": "stream",
     "text": [
      "                   all        775       1765     0.0831      0.373      0.184      0.167\n"
     ]
    },
    {
     "name": "stderr",
     "output_type": "stream",
     "text": [
      "\n"
     ]
    },
    {
     "name": "stdout",
     "output_type": "stream",
     "text": [
      "\n",
      "      Epoch    GPU_mem   box_loss   cls_loss   dfl_loss  Instances       Size\n"
     ]
    },
    {
     "name": "stderr",
     "output_type": "stream",
     "text": [
      "      2/100      23.5G     0.7512      2.893      1.038        221        640: 100%|██████████| 46/46 [00:20<00:00,  2.29it/s]\n",
      "                 Class     Images  Instances      Box(P          R      mAP50  mAP50-95): 100%|██████████| 3/3 [00:02<00:00,  1.37it/s]"
     ]
    },
    {
     "name": "stdout",
     "output_type": "stream",
     "text": [
      "                   all        775       1765      0.669      0.404      0.563      0.478\n"
     ]
    },
    {
     "name": "stderr",
     "output_type": "stream",
     "text": [
      "\n"
     ]
    },
    {
     "name": "stdout",
     "output_type": "stream",
     "text": [
      "\n",
      "      Epoch    GPU_mem   box_loss   cls_loss   dfl_loss  Instances       Size\n"
     ]
    },
    {
     "name": "stderr",
     "output_type": "stream",
     "text": [
      "      3/100      23.7G     0.7179      1.735      1.025        152        640: 100%|██████████| 46/46 [00:20<00:00,  2.28it/s]\n",
      "                 Class     Images  Instances      Box(P          R      mAP50  mAP50-95): 100%|██████████| 3/3 [00:02<00:00,  1.45it/s]"
     ]
    },
    {
     "name": "stdout",
     "output_type": "stream",
     "text": [
      "                   all        775       1765      0.764      0.708      0.771      0.644\n"
     ]
    },
    {
     "name": "stderr",
     "output_type": "stream",
     "text": [
      "\n"
     ]
    },
    {
     "name": "stdout",
     "output_type": "stream",
     "text": [
      "\n",
      "      Epoch    GPU_mem   box_loss   cls_loss   dfl_loss  Instances       Size\n"
     ]
    },
    {
     "name": "stderr",
     "output_type": "stream",
     "text": [
      "      4/100      22.2G      0.679       1.29     0.9974        212        640: 100%|██████████| 46/46 [00:20<00:00,  2.30it/s]\n",
      "                 Class     Images  Instances      Box(P          R      mAP50  mAP50-95): 100%|██████████| 3/3 [00:02<00:00,  1.43it/s]"
     ]
    },
    {
     "name": "stdout",
     "output_type": "stream",
     "text": [
      "                   all        775       1765      0.808      0.572      0.688      0.564\n"
     ]
    },
    {
     "name": "stderr",
     "output_type": "stream",
     "text": [
      "\n"
     ]
    },
    {
     "name": "stdout",
     "output_type": "stream",
     "text": [
      "\n",
      "      Epoch    GPU_mem   box_loss   cls_loss   dfl_loss  Instances       Size\n"
     ]
    },
    {
     "name": "stderr",
     "output_type": "stream",
     "text": [
      "      5/100      22.7G       0.65      1.115     0.9826        182        640: 100%|██████████| 46/46 [00:20<00:00,  2.29it/s]\n",
      "                 Class     Images  Instances      Box(P          R      mAP50  mAP50-95): 100%|██████████| 3/3 [00:02<00:00,  1.41it/s]"
     ]
    },
    {
     "name": "stdout",
     "output_type": "stream",
     "text": [
      "                   all        775       1765      0.783      0.706      0.799      0.664\n"
     ]
    },
    {
     "name": "stderr",
     "output_type": "stream",
     "text": [
      "\n"
     ]
    },
    {
     "name": "stdout",
     "output_type": "stream",
     "text": [
      "\n",
      "      Epoch    GPU_mem   box_loss   cls_loss   dfl_loss  Instances       Size\n"
     ]
    },
    {
     "name": "stderr",
     "output_type": "stream",
     "text": [
      "      6/100      23.8G     0.6316     0.9897     0.9721        250        640: 100%|██████████| 46/46 [00:20<00:00,  2.29it/s]\n",
      "                 Class     Images  Instances      Box(P          R      mAP50  mAP50-95): 100%|██████████| 3/3 [00:02<00:00,  1.44it/s]"
     ]
    },
    {
     "name": "stdout",
     "output_type": "stream",
     "text": [
      "                   all        775       1765      0.821      0.696      0.787      0.652\n"
     ]
    },
    {
     "name": "stderr",
     "output_type": "stream",
     "text": [
      "\n"
     ]
    },
    {
     "name": "stdout",
     "output_type": "stream",
     "text": [
      "\n",
      "      Epoch    GPU_mem   box_loss   cls_loss   dfl_loss  Instances       Size\n"
     ]
    },
    {
     "name": "stderr",
     "output_type": "stream",
     "text": [
      "      7/100      23.4G     0.6171     0.9262     0.9592        157        640: 100%|██████████| 46/46 [00:20<00:00,  2.30it/s]\n",
      "                 Class     Images  Instances      Box(P          R      mAP50  mAP50-95): 100%|██████████| 3/3 [00:02<00:00,  1.43it/s]"
     ]
    },
    {
     "name": "stdout",
     "output_type": "stream",
     "text": [
      "                   all        775       1765        0.9      0.756      0.849      0.727\n"
     ]
    },
    {
     "name": "stderr",
     "output_type": "stream",
     "text": [
      "\n"
     ]
    },
    {
     "name": "stdout",
     "output_type": "stream",
     "text": [
      "\n",
      "      Epoch    GPU_mem   box_loss   cls_loss   dfl_loss  Instances       Size\n"
     ]
    },
    {
     "name": "stderr",
     "output_type": "stream",
     "text": [
      "      8/100      22.6G      0.593     0.8361     0.9517        163        640: 100%|██████████| 46/46 [00:19<00:00,  2.31it/s]\n",
      "                 Class     Images  Instances      Box(P          R      mAP50  mAP50-95): 100%|██████████| 3/3 [00:02<00:00,  1.43it/s]"
     ]
    },
    {
     "name": "stdout",
     "output_type": "stream",
     "text": [
      "                   all        775       1765       0.91      0.835        0.9      0.772\n"
     ]
    },
    {
     "name": "stderr",
     "output_type": "stream",
     "text": [
      "\n"
     ]
    },
    {
     "name": "stdout",
     "output_type": "stream",
     "text": [
      "\n",
      "      Epoch    GPU_mem   box_loss   cls_loss   dfl_loss  Instances       Size\n"
     ]
    },
    {
     "name": "stderr",
     "output_type": "stream",
     "text": [
      "      9/100      23.7G     0.5889     0.7943     0.9455        144        640: 100%|██████████| 46/46 [00:19<00:00,  2.30it/s]\n",
      "                 Class     Images  Instances      Box(P          R      mAP50  mAP50-95): 100%|██████████| 3/3 [00:02<00:00,  1.43it/s]"
     ]
    },
    {
     "name": "stdout",
     "output_type": "stream",
     "text": [
      "                   all        775       1765      0.907       0.85      0.903      0.779\n"
     ]
    },
    {
     "name": "stderr",
     "output_type": "stream",
     "text": [
      "\n"
     ]
    },
    {
     "name": "stdout",
     "output_type": "stream",
     "text": [
      "\n",
      "      Epoch    GPU_mem   box_loss   cls_loss   dfl_loss  Instances       Size\n"
     ]
    },
    {
     "name": "stderr",
     "output_type": "stream",
     "text": [
      "     10/100      23.8G     0.5771     0.7519     0.9439        186        640: 100%|██████████| 46/46 [00:20<00:00,  2.30it/s]\n",
      "                 Class     Images  Instances      Box(P          R      mAP50  mAP50-95): 100%|██████████| 3/3 [00:02<00:00,  1.45it/s]"
     ]
    },
    {
     "name": "stdout",
     "output_type": "stream",
     "text": [
      "                   all        775       1765      0.934      0.835      0.908       0.78\n"
     ]
    },
    {
     "name": "stderr",
     "output_type": "stream",
     "text": [
      "\n"
     ]
    },
    {
     "name": "stdout",
     "output_type": "stream",
     "text": [
      "\n",
      "      Epoch    GPU_mem   box_loss   cls_loss   dfl_loss  Instances       Size\n"
     ]
    },
    {
     "name": "stderr",
     "output_type": "stream",
     "text": [
      "     11/100      23.6G     0.5734     0.7116     0.9372        210        640: 100%|██████████| 46/46 [00:19<00:00,  2.31it/s]\n",
      "                 Class     Images  Instances      Box(P          R      mAP50  mAP50-95): 100%|██████████| 3/3 [00:02<00:00,  1.44it/s]"
     ]
    },
    {
     "name": "stdout",
     "output_type": "stream",
     "text": [
      "                   all        775       1765      0.913       0.86      0.909        0.8\n"
     ]
    },
    {
     "name": "stderr",
     "output_type": "stream",
     "text": [
      "\n"
     ]
    },
    {
     "name": "stdout",
     "output_type": "stream",
     "text": [
      "\n",
      "      Epoch    GPU_mem   box_loss   cls_loss   dfl_loss  Instances       Size\n"
     ]
    },
    {
     "name": "stderr",
     "output_type": "stream",
     "text": [
      "     12/100      23.1G     0.5552     0.6643      0.929        154        640: 100%|██████████| 46/46 [00:19<00:00,  2.31it/s]\n",
      "                 Class     Images  Instances      Box(P          R      mAP50  mAP50-95): 100%|██████████| 3/3 [00:02<00:00,  1.46it/s]"
     ]
    },
    {
     "name": "stdout",
     "output_type": "stream",
     "text": [
      "                   all        775       1765      0.919      0.826      0.897      0.768\n"
     ]
    },
    {
     "name": "stderr",
     "output_type": "stream",
     "text": [
      "\n"
     ]
    },
    {
     "name": "stdout",
     "output_type": "stream",
     "text": [
      "\n",
      "      Epoch    GPU_mem   box_loss   cls_loss   dfl_loss  Instances       Size\n"
     ]
    },
    {
     "name": "stderr",
     "output_type": "stream",
     "text": [
      "     13/100      23.2G      0.559     0.6499     0.9325        176        640: 100%|██████████| 46/46 [00:19<00:00,  2.32it/s]\n",
      "                 Class     Images  Instances      Box(P          R      mAP50  mAP50-95): 100%|██████████| 3/3 [00:02<00:00,  1.41it/s]"
     ]
    },
    {
     "name": "stdout",
     "output_type": "stream",
     "text": [
      "                   all        775       1765      0.901      0.873       0.91      0.795\n"
     ]
    },
    {
     "name": "stderr",
     "output_type": "stream",
     "text": [
      "\n"
     ]
    },
    {
     "name": "stdout",
     "output_type": "stream",
     "text": [
      "\n",
      "      Epoch    GPU_mem   box_loss   cls_loss   dfl_loss  Instances       Size\n"
     ]
    },
    {
     "name": "stderr",
     "output_type": "stream",
     "text": [
      "     14/100        24G     0.5524     0.6158     0.9288        164        640: 100%|██████████| 46/46 [00:19<00:00,  2.30it/s]\n",
      "                 Class     Images  Instances      Box(P          R      mAP50  mAP50-95): 100%|██████████| 3/3 [00:02<00:00,  1.45it/s]"
     ]
    },
    {
     "name": "stdout",
     "output_type": "stream",
     "text": [
      "                   all        775       1765       0.92      0.862      0.913      0.801\n"
     ]
    },
    {
     "name": "stderr",
     "output_type": "stream",
     "text": [
      "\n"
     ]
    },
    {
     "name": "stdout",
     "output_type": "stream",
     "text": [
      "\n",
      "      Epoch    GPU_mem   box_loss   cls_loss   dfl_loss  Instances       Size\n"
     ]
    },
    {
     "name": "stderr",
     "output_type": "stream",
     "text": [
      "     15/100      23.9G     0.5516     0.6081     0.9296        146        640: 100%|██████████| 46/46 [00:19<00:00,  2.31it/s]\n",
      "                 Class     Images  Instances      Box(P          R      mAP50  mAP50-95): 100%|██████████| 3/3 [00:02<00:00,  1.45it/s]"
     ]
    },
    {
     "name": "stdout",
     "output_type": "stream",
     "text": [
      "                   all        775       1765      0.925      0.872      0.909      0.801\n"
     ]
    },
    {
     "name": "stderr",
     "output_type": "stream",
     "text": [
      "\n"
     ]
    },
    {
     "name": "stdout",
     "output_type": "stream",
     "text": [
      "\n",
      "      Epoch    GPU_mem   box_loss   cls_loss   dfl_loss  Instances       Size\n"
     ]
    },
    {
     "name": "stderr",
     "output_type": "stream",
     "text": [
      "     16/100      23.7G     0.5461     0.5861     0.9266        168        640: 100%|██████████| 46/46 [00:19<00:00,  2.31it/s]\n",
      "                 Class     Images  Instances      Box(P          R      mAP50  mAP50-95): 100%|██████████| 3/3 [00:02<00:00,  1.45it/s]"
     ]
    },
    {
     "name": "stdout",
     "output_type": "stream",
     "text": [
      "                   all        775       1765       0.93      0.882      0.918      0.806\n"
     ]
    },
    {
     "name": "stderr",
     "output_type": "stream",
     "text": [
      "\n"
     ]
    },
    {
     "name": "stdout",
     "output_type": "stream",
     "text": [
      "\n",
      "      Epoch    GPU_mem   box_loss   cls_loss   dfl_loss  Instances       Size\n"
     ]
    },
    {
     "name": "stderr",
     "output_type": "stream",
     "text": [
      "     17/100      23.3G     0.5348     0.5536     0.9216        170        640: 100%|██████████| 46/46 [00:19<00:00,  2.32it/s]\n",
      "                 Class     Images  Instances      Box(P          R      mAP50  mAP50-95): 100%|██████████| 3/3 [00:02<00:00,  1.45it/s]"
     ]
    },
    {
     "name": "stdout",
     "output_type": "stream",
     "text": [
      "                   all        775       1765      0.951      0.884      0.926      0.821\n"
     ]
    },
    {
     "name": "stderr",
     "output_type": "stream",
     "text": [
      "\n"
     ]
    },
    {
     "name": "stdout",
     "output_type": "stream",
     "text": [
      "\n",
      "      Epoch    GPU_mem   box_loss   cls_loss   dfl_loss  Instances       Size\n"
     ]
    },
    {
     "name": "stderr",
     "output_type": "stream",
     "text": [
      "     18/100      24.9G     0.5358     0.5466     0.9252        178        640: 100%|██████████| 46/46 [00:19<00:00,  2.31it/s]\n",
      "                 Class     Images  Instances      Box(P          R      mAP50  mAP50-95): 100%|██████████| 3/3 [00:02<00:00,  1.45it/s]"
     ]
    },
    {
     "name": "stdout",
     "output_type": "stream",
     "text": [
      "                   all        775       1765       0.95      0.882      0.923      0.817\n"
     ]
    },
    {
     "name": "stderr",
     "output_type": "stream",
     "text": [
      "\n"
     ]
    },
    {
     "name": "stdout",
     "output_type": "stream",
     "text": [
      "\n",
      "      Epoch    GPU_mem   box_loss   cls_loss   dfl_loss  Instances       Size\n"
     ]
    },
    {
     "name": "stderr",
     "output_type": "stream",
     "text": [
      "     19/100        23G     0.5301     0.5306     0.9191        269        640: 100%|██████████| 46/46 [00:19<00:00,  2.30it/s]\n",
      "                 Class     Images  Instances      Box(P          R      mAP50  mAP50-95): 100%|██████████| 3/3 [00:02<00:00,  1.36it/s]"
     ]
    },
    {
     "name": "stdout",
     "output_type": "stream",
     "text": [
      "                   all        775       1765      0.923      0.859      0.914      0.812\n"
     ]
    },
    {
     "name": "stderr",
     "output_type": "stream",
     "text": [
      "\n"
     ]
    },
    {
     "name": "stdout",
     "output_type": "stream",
     "text": [
      "\n",
      "      Epoch    GPU_mem   box_loss   cls_loss   dfl_loss  Instances       Size\n"
     ]
    },
    {
     "name": "stderr",
     "output_type": "stream",
     "text": [
      "     20/100      23.3G     0.5267     0.5213     0.9154        225        640: 100%|██████████| 46/46 [00:19<00:00,  2.31it/s]\n",
      "                 Class     Images  Instances      Box(P          R      mAP50  mAP50-95): 100%|██████████| 3/3 [00:02<00:00,  1.46it/s]"
     ]
    },
    {
     "name": "stdout",
     "output_type": "stream",
     "text": [
      "                   all        775       1765      0.962      0.874      0.927      0.826\n"
     ]
    },
    {
     "name": "stderr",
     "output_type": "stream",
     "text": [
      "\n"
     ]
    },
    {
     "name": "stdout",
     "output_type": "stream",
     "text": [
      "\n",
      "      Epoch    GPU_mem   box_loss   cls_loss   dfl_loss  Instances       Size\n"
     ]
    },
    {
     "name": "stderr",
     "output_type": "stream",
     "text": [
      "     21/100      24.3G     0.5189     0.5124     0.9185        161        640: 100%|██████████| 46/46 [00:19<00:00,  2.31it/s]\n",
      "                 Class     Images  Instances      Box(P          R      mAP50  mAP50-95): 100%|██████████| 3/3 [00:02<00:00,  1.46it/s]"
     ]
    },
    {
     "name": "stdout",
     "output_type": "stream",
     "text": [
      "                   all        775       1765      0.927      0.878      0.915      0.816\n"
     ]
    },
    {
     "name": "stderr",
     "output_type": "stream",
     "text": [
      "\n"
     ]
    },
    {
     "name": "stdout",
     "output_type": "stream",
     "text": [
      "\n",
      "      Epoch    GPU_mem   box_loss   cls_loss   dfl_loss  Instances       Size\n"
     ]
    },
    {
     "name": "stderr",
     "output_type": "stream",
     "text": [
      "     22/100      23.2G     0.5195     0.4979     0.9141        212        640: 100%|██████████| 46/46 [00:19<00:00,  2.32it/s]\n",
      "                 Class     Images  Instances      Box(P          R      mAP50  mAP50-95): 100%|██████████| 3/3 [00:02<00:00,  1.46it/s]"
     ]
    },
    {
     "name": "stdout",
     "output_type": "stream",
     "text": [
      "                   all        775       1765      0.945      0.893      0.927      0.828\n"
     ]
    },
    {
     "name": "stderr",
     "output_type": "stream",
     "text": [
      "\n"
     ]
    },
    {
     "name": "stdout",
     "output_type": "stream",
     "text": [
      "\n",
      "      Epoch    GPU_mem   box_loss   cls_loss   dfl_loss  Instances       Size\n"
     ]
    },
    {
     "name": "stderr",
     "output_type": "stream",
     "text": [
      "     23/100      23.2G     0.5161     0.4979     0.9133        216        640: 100%|██████████| 46/46 [00:19<00:00,  2.31it/s]\n",
      "                 Class     Images  Instances      Box(P          R      mAP50  mAP50-95): 100%|██████████| 3/3 [00:02<00:00,  1.45it/s]"
     ]
    },
    {
     "name": "stdout",
     "output_type": "stream",
     "text": [
      "                   all        775       1765      0.924      0.886      0.919      0.825\n"
     ]
    },
    {
     "name": "stderr",
     "output_type": "stream",
     "text": [
      "\n"
     ]
    },
    {
     "name": "stdout",
     "output_type": "stream",
     "text": [
      "\n",
      "      Epoch    GPU_mem   box_loss   cls_loss   dfl_loss  Instances       Size\n"
     ]
    },
    {
     "name": "stderr",
     "output_type": "stream",
     "text": [
      "     24/100      24.4G     0.5136     0.4868     0.9109        154        640: 100%|██████████| 46/46 [00:19<00:00,  2.31it/s]\n",
      "                 Class     Images  Instances      Box(P          R      mAP50  mAP50-95): 100%|██████████| 3/3 [00:02<00:00,  1.46it/s]"
     ]
    },
    {
     "name": "stdout",
     "output_type": "stream",
     "text": [
      "                   all        775       1765      0.941      0.894      0.927       0.83\n"
     ]
    },
    {
     "name": "stderr",
     "output_type": "stream",
     "text": [
      "\n"
     ]
    },
    {
     "name": "stdout",
     "output_type": "stream",
     "text": [
      "\n",
      "      Epoch    GPU_mem   box_loss   cls_loss   dfl_loss  Instances       Size\n"
     ]
    },
    {
     "name": "stderr",
     "output_type": "stream",
     "text": [
      "     25/100      23.3G     0.5194      0.485     0.9149        166        640: 100%|██████████| 46/46 [00:19<00:00,  2.31it/s]\n",
      "                 Class     Images  Instances      Box(P          R      mAP50  mAP50-95): 100%|██████████| 3/3 [00:02<00:00,  1.46it/s]"
     ]
    },
    {
     "name": "stdout",
     "output_type": "stream",
     "text": [
      "                   all        775       1765      0.952      0.903      0.929      0.834\n"
     ]
    },
    {
     "name": "stderr",
     "output_type": "stream",
     "text": [
      "\n"
     ]
    },
    {
     "name": "stdout",
     "output_type": "stream",
     "text": [
      "\n",
      "      Epoch    GPU_mem   box_loss   cls_loss   dfl_loss  Instances       Size\n"
     ]
    },
    {
     "name": "stderr",
     "output_type": "stream",
     "text": [
      "     26/100      22.1G     0.5096     0.4727       0.91        239        640: 100%|██████████| 46/46 [00:19<00:00,  2.32it/s]\n",
      "                 Class     Images  Instances      Box(P          R      mAP50  mAP50-95): 100%|██████████| 3/3 [00:02<00:00,  1.46it/s]"
     ]
    },
    {
     "name": "stdout",
     "output_type": "stream",
     "text": [
      "                   all        775       1765      0.946      0.891      0.926      0.833\n"
     ]
    },
    {
     "name": "stderr",
     "output_type": "stream",
     "text": [
      "\n"
     ]
    },
    {
     "name": "stdout",
     "output_type": "stream",
     "text": [
      "\n",
      "      Epoch    GPU_mem   box_loss   cls_loss   dfl_loss  Instances       Size\n"
     ]
    },
    {
     "name": "stderr",
     "output_type": "stream",
     "text": [
      "     27/100      23.5G     0.5013      0.458      0.906        274        640: 100%|██████████| 46/46 [00:19<00:00,  2.30it/s]\n",
      "                 Class     Images  Instances      Box(P          R      mAP50  mAP50-95): 100%|██████████| 3/3 [00:02<00:00,  1.46it/s]"
     ]
    },
    {
     "name": "stdout",
     "output_type": "stream",
     "text": [
      "                   all        775       1765      0.946      0.893      0.925      0.831\n"
     ]
    },
    {
     "name": "stderr",
     "output_type": "stream",
     "text": [
      "\n"
     ]
    },
    {
     "name": "stdout",
     "output_type": "stream",
     "text": [
      "\n",
      "      Epoch    GPU_mem   box_loss   cls_loss   dfl_loss  Instances       Size\n"
     ]
    },
    {
     "name": "stderr",
     "output_type": "stream",
     "text": [
      "     28/100      24.4G     0.5075     0.4564     0.9114        205        640: 100%|██████████| 46/46 [00:19<00:00,  2.32it/s]\n",
      "                 Class     Images  Instances      Box(P          R      mAP50  mAP50-95): 100%|██████████| 3/3 [00:02<00:00,  1.46it/s]"
     ]
    },
    {
     "name": "stdout",
     "output_type": "stream",
     "text": [
      "                   all        775       1765      0.959        0.9      0.931      0.836\n"
     ]
    },
    {
     "name": "stderr",
     "output_type": "stream",
     "text": [
      "\n"
     ]
    },
    {
     "name": "stdout",
     "output_type": "stream",
     "text": [
      "\n",
      "      Epoch    GPU_mem   box_loss   cls_loss   dfl_loss  Instances       Size\n"
     ]
    },
    {
     "name": "stderr",
     "output_type": "stream",
     "text": [
      "     29/100      24.3G     0.5114      0.461     0.9124        193        640: 100%|██████████| 46/46 [00:19<00:00,  2.30it/s]\n",
      "                 Class     Images  Instances      Box(P          R      mAP50  mAP50-95): 100%|██████████| 3/3 [00:02<00:00,  1.46it/s]"
     ]
    },
    {
     "name": "stdout",
     "output_type": "stream",
     "text": [
      "                   all        775       1765      0.938      0.903      0.934      0.842\n"
     ]
    },
    {
     "name": "stderr",
     "output_type": "stream",
     "text": [
      "\n"
     ]
    },
    {
     "name": "stdout",
     "output_type": "stream",
     "text": [
      "\n",
      "      Epoch    GPU_mem   box_loss   cls_loss   dfl_loss  Instances       Size\n"
     ]
    },
    {
     "name": "stderr",
     "output_type": "stream",
     "text": [
      "     30/100      24.3G     0.5014     0.4493     0.9083        189        640: 100%|██████████| 46/46 [00:19<00:00,  2.30it/s]\n",
      "                 Class     Images  Instances      Box(P          R      mAP50  mAP50-95): 100%|██████████| 3/3 [00:02<00:00,  1.46it/s]"
     ]
    },
    {
     "name": "stdout",
     "output_type": "stream",
     "text": [
      "                   all        775       1765      0.961      0.894      0.932      0.844\n"
     ]
    },
    {
     "name": "stderr",
     "output_type": "stream",
     "text": [
      "\n"
     ]
    },
    {
     "name": "stdout",
     "output_type": "stream",
     "text": [
      "\n",
      "      Epoch    GPU_mem   box_loss   cls_loss   dfl_loss  Instances       Size\n"
     ]
    },
    {
     "name": "stderr",
     "output_type": "stream",
     "text": [
      "     31/100      23.3G      0.494     0.4382     0.9049        255        640: 100%|██████████| 46/46 [00:19<00:00,  2.32it/s]\n",
      "                 Class     Images  Instances      Box(P          R      mAP50  mAP50-95): 100%|██████████| 3/3 [00:02<00:00,  1.46it/s]"
     ]
    },
    {
     "name": "stdout",
     "output_type": "stream",
     "text": [
      "                   all        775       1765      0.958        0.9      0.934      0.846\n"
     ]
    },
    {
     "name": "stderr",
     "output_type": "stream",
     "text": [
      "\n"
     ]
    },
    {
     "name": "stdout",
     "output_type": "stream",
     "text": [
      "\n",
      "      Epoch    GPU_mem   box_loss   cls_loss   dfl_loss  Instances       Size\n"
     ]
    },
    {
     "name": "stderr",
     "output_type": "stream",
     "text": [
      "     32/100      23.3G     0.5019      0.441     0.9071        203        640: 100%|██████████| 46/46 [00:19<00:00,  2.30it/s]\n",
      "                 Class     Images  Instances      Box(P          R      mAP50  mAP50-95): 100%|██████████| 3/3 [00:02<00:00,  1.47it/s]"
     ]
    },
    {
     "name": "stdout",
     "output_type": "stream",
     "text": [
      "                   all        775       1765      0.959       0.91      0.939      0.843\n"
     ]
    },
    {
     "name": "stderr",
     "output_type": "stream",
     "text": [
      "\n"
     ]
    },
    {
     "name": "stdout",
     "output_type": "stream",
     "text": [
      "\n",
      "      Epoch    GPU_mem   box_loss   cls_loss   dfl_loss  Instances       Size\n"
     ]
    },
    {
     "name": "stderr",
     "output_type": "stream",
     "text": [
      "     33/100      23.8G     0.4928      0.431     0.9038        202        640: 100%|██████████| 46/46 [00:19<00:00,  2.30it/s]\n",
      "                 Class     Images  Instances      Box(P          R      mAP50  mAP50-95): 100%|██████████| 3/3 [00:02<00:00,  1.46it/s]"
     ]
    },
    {
     "name": "stdout",
     "output_type": "stream",
     "text": [
      "                   all        775       1765      0.956      0.897      0.934      0.848\n"
     ]
    },
    {
     "name": "stderr",
     "output_type": "stream",
     "text": [
      "\n"
     ]
    },
    {
     "name": "stdout",
     "output_type": "stream",
     "text": [
      "\n",
      "      Epoch    GPU_mem   box_loss   cls_loss   dfl_loss  Instances       Size\n"
     ]
    },
    {
     "name": "stderr",
     "output_type": "stream",
     "text": [
      "     34/100      23.3G      0.491     0.4297     0.9021        208        640: 100%|██████████| 46/46 [00:19<00:00,  2.31it/s]\n",
      "                 Class     Images  Instances      Box(P          R      mAP50  mAP50-95): 100%|██████████| 3/3 [00:02<00:00,  1.46it/s]"
     ]
    },
    {
     "name": "stdout",
     "output_type": "stream",
     "text": [
      "                   all        775       1765      0.949      0.909      0.934      0.847\n"
     ]
    },
    {
     "name": "stderr",
     "output_type": "stream",
     "text": [
      "\n"
     ]
    },
    {
     "name": "stdout",
     "output_type": "stream",
     "text": [
      "\n",
      "      Epoch    GPU_mem   box_loss   cls_loss   dfl_loss  Instances       Size\n"
     ]
    },
    {
     "name": "stderr",
     "output_type": "stream",
     "text": [
      "     35/100      22.7G     0.4845     0.4223     0.9027        199        640: 100%|██████████| 46/46 [00:19<00:00,  2.30it/s]\n",
      "                 Class     Images  Instances      Box(P          R      mAP50  mAP50-95): 100%|██████████| 3/3 [00:02<00:00,  1.46it/s]"
     ]
    },
    {
     "name": "stdout",
     "output_type": "stream",
     "text": [
      "                   all        775       1765      0.955      0.914      0.936      0.847\n"
     ]
    },
    {
     "name": "stderr",
     "output_type": "stream",
     "text": [
      "\n"
     ]
    },
    {
     "name": "stdout",
     "output_type": "stream",
     "text": [
      "\n",
      "      Epoch    GPU_mem   box_loss   cls_loss   dfl_loss  Instances       Size\n"
     ]
    },
    {
     "name": "stderr",
     "output_type": "stream",
     "text": [
      "     36/100      23.3G     0.4914     0.4263     0.9019        165        640: 100%|██████████| 46/46 [00:19<00:00,  2.31it/s]\n",
      "                 Class     Images  Instances      Box(P          R      mAP50  mAP50-95): 100%|██████████| 3/3 [00:02<00:00,  1.35it/s]"
     ]
    },
    {
     "name": "stdout",
     "output_type": "stream",
     "text": [
      "                   all        775       1765      0.963      0.911      0.937      0.854\n"
     ]
    },
    {
     "name": "stderr",
     "output_type": "stream",
     "text": [
      "\n"
     ]
    },
    {
     "name": "stdout",
     "output_type": "stream",
     "text": [
      "\n",
      "      Epoch    GPU_mem   box_loss   cls_loss   dfl_loss  Instances       Size\n"
     ]
    },
    {
     "name": "stderr",
     "output_type": "stream",
     "text": [
      "     37/100      24.3G      0.482     0.4126     0.8989        266        640: 100%|██████████| 46/46 [00:19<00:00,  2.32it/s]\n",
      "                 Class     Images  Instances      Box(P          R      mAP50  mAP50-95): 100%|██████████| 3/3 [00:02<00:00,  1.47it/s]"
     ]
    },
    {
     "name": "stdout",
     "output_type": "stream",
     "text": [
      "                   all        775       1765      0.964       0.91      0.938       0.85\n"
     ]
    },
    {
     "name": "stderr",
     "output_type": "stream",
     "text": [
      "\n"
     ]
    },
    {
     "name": "stdout",
     "output_type": "stream",
     "text": [
      "\n",
      "      Epoch    GPU_mem   box_loss   cls_loss   dfl_loss  Instances       Size\n"
     ]
    },
    {
     "name": "stderr",
     "output_type": "stream",
     "text": [
      "     38/100      23.4G     0.4785     0.4135      0.899        157        640: 100%|██████████| 46/46 [00:19<00:00,  2.30it/s]\n",
      "                 Class     Images  Instances      Box(P          R      mAP50  mAP50-95): 100%|██████████| 3/3 [00:02<00:00,  1.45it/s]"
     ]
    },
    {
     "name": "stdout",
     "output_type": "stream",
     "text": [
      "                   all        775       1765      0.942      0.917      0.932       0.84\n"
     ]
    },
    {
     "name": "stderr",
     "output_type": "stream",
     "text": [
      "\n"
     ]
    },
    {
     "name": "stdout",
     "output_type": "stream",
     "text": [
      "\n",
      "      Epoch    GPU_mem   box_loss   cls_loss   dfl_loss  Instances       Size\n"
     ]
    },
    {
     "name": "stderr",
     "output_type": "stream",
     "text": [
      "     39/100      23.3G     0.4797     0.4075     0.8992        140        640: 100%|██████████| 46/46 [00:19<00:00,  2.32it/s]\n",
      "                 Class     Images  Instances      Box(P          R      mAP50  mAP50-95): 100%|██████████| 3/3 [00:02<00:00,  1.45it/s]"
     ]
    },
    {
     "name": "stdout",
     "output_type": "stream",
     "text": [
      "                   all        775       1765      0.963      0.903      0.939      0.852\n"
     ]
    },
    {
     "name": "stderr",
     "output_type": "stream",
     "text": [
      "\n"
     ]
    },
    {
     "name": "stdout",
     "output_type": "stream",
     "text": [
      "\n",
      "      Epoch    GPU_mem   box_loss   cls_loss   dfl_loss  Instances       Size\n"
     ]
    },
    {
     "name": "stderr",
     "output_type": "stream",
     "text": [
      "     40/100      23.9G     0.4795      0.409     0.8999        160        640: 100%|██████████| 46/46 [00:19<00:00,  2.31it/s]\n",
      "                 Class     Images  Instances      Box(P          R      mAP50  mAP50-95): 100%|██████████| 3/3 [00:02<00:00,  1.48it/s]"
     ]
    },
    {
     "name": "stdout",
     "output_type": "stream",
     "text": [
      "                   all        775       1765      0.958      0.908      0.936      0.851\n"
     ]
    },
    {
     "name": "stderr",
     "output_type": "stream",
     "text": [
      "\n"
     ]
    },
    {
     "name": "stdout",
     "output_type": "stream",
     "text": [
      "\n",
      "      Epoch    GPU_mem   box_loss   cls_loss   dfl_loss  Instances       Size\n"
     ]
    },
    {
     "name": "stderr",
     "output_type": "stream",
     "text": [
      "     41/100      23.4G     0.4756     0.3963     0.8993        226        640: 100%|██████████| 46/46 [00:19<00:00,  2.30it/s]\n",
      "                 Class     Images  Instances      Box(P          R      mAP50  mAP50-95): 100%|██████████| 3/3 [00:02<00:00,  1.20it/s]"
     ]
    },
    {
     "name": "stdout",
     "output_type": "stream",
     "text": [
      "                   all        775       1765      0.946      0.916      0.937      0.856\n"
     ]
    },
    {
     "name": "stderr",
     "output_type": "stream",
     "text": [
      "\n"
     ]
    },
    {
     "name": "stdout",
     "output_type": "stream",
     "text": [
      "\n",
      "      Epoch    GPU_mem   box_loss   cls_loss   dfl_loss  Instances       Size\n"
     ]
    },
    {
     "name": "stderr",
     "output_type": "stream",
     "text": [
      "     42/100      23.7G     0.4744     0.3934     0.8957        174        640: 100%|██████████| 46/46 [00:20<00:00,  2.25it/s]\n",
      "                 Class     Images  Instances      Box(P          R      mAP50  mAP50-95): 100%|██████████| 3/3 [00:02<00:00,  1.47it/s]"
     ]
    },
    {
     "name": "stdout",
     "output_type": "stream",
     "text": [
      "                   all        775       1765      0.955      0.913      0.937      0.857\n"
     ]
    },
    {
     "name": "stderr",
     "output_type": "stream",
     "text": [
      "\n"
     ]
    },
    {
     "name": "stdout",
     "output_type": "stream",
     "text": [
      "\n",
      "      Epoch    GPU_mem   box_loss   cls_loss   dfl_loss  Instances       Size\n"
     ]
    },
    {
     "name": "stderr",
     "output_type": "stream",
     "text": [
      "     43/100      23.3G     0.4757     0.3967      0.894        194        640: 100%|██████████| 46/46 [00:19<00:00,  2.31it/s]\n",
      "                 Class     Images  Instances      Box(P          R      mAP50  mAP50-95): 100%|██████████| 3/3 [00:02<00:00,  1.47it/s]"
     ]
    },
    {
     "name": "stdout",
     "output_type": "stream",
     "text": [
      "                   all        775       1765      0.957      0.913      0.938      0.853\n"
     ]
    },
    {
     "name": "stderr",
     "output_type": "stream",
     "text": [
      "\n"
     ]
    },
    {
     "name": "stdout",
     "output_type": "stream",
     "text": [
      "\n",
      "      Epoch    GPU_mem   box_loss   cls_loss   dfl_loss  Instances       Size\n"
     ]
    },
    {
     "name": "stderr",
     "output_type": "stream",
     "text": [
      "     44/100      22.9G     0.4672     0.3913     0.8922        152        640: 100%|██████████| 46/46 [00:19<00:00,  2.30it/s]\n",
      "                 Class     Images  Instances      Box(P          R      mAP50  mAP50-95): 100%|██████████| 3/3 [00:02<00:00,  1.46it/s]"
     ]
    },
    {
     "name": "stdout",
     "output_type": "stream",
     "text": [
      "                   all        775       1765      0.959      0.908      0.937      0.856\n"
     ]
    },
    {
     "name": "stderr",
     "output_type": "stream",
     "text": [
      "\n"
     ]
    },
    {
     "name": "stdout",
     "output_type": "stream",
     "text": [
      "\n",
      "      Epoch    GPU_mem   box_loss   cls_loss   dfl_loss  Instances       Size\n"
     ]
    },
    {
     "name": "stderr",
     "output_type": "stream",
     "text": [
      "     45/100      24.3G     0.4714     0.3909     0.8981        205        640: 100%|██████████| 46/46 [00:19<00:00,  2.31it/s]\n",
      "                 Class     Images  Instances      Box(P          R      mAP50  mAP50-95): 100%|██████████| 3/3 [00:02<00:00,  1.46it/s]"
     ]
    },
    {
     "name": "stdout",
     "output_type": "stream",
     "text": [
      "                   all        775       1765      0.962      0.912      0.937      0.855\n"
     ]
    },
    {
     "name": "stderr",
     "output_type": "stream",
     "text": [
      "\n"
     ]
    },
    {
     "name": "stdout",
     "output_type": "stream",
     "text": [
      "\n",
      "      Epoch    GPU_mem   box_loss   cls_loss   dfl_loss  Instances       Size\n"
     ]
    },
    {
     "name": "stderr",
     "output_type": "stream",
     "text": [
      "     46/100      23.2G     0.4662     0.3883     0.8931        199        640: 100%|██████████| 46/46 [00:19<00:00,  2.30it/s]\n",
      "                 Class     Images  Instances      Box(P          R      mAP50  mAP50-95): 100%|██████████| 3/3 [00:02<00:00,  1.47it/s]"
     ]
    },
    {
     "name": "stdout",
     "output_type": "stream",
     "text": [
      "                   all        775       1765      0.963        0.9      0.935      0.853\n"
     ]
    },
    {
     "name": "stderr",
     "output_type": "stream",
     "text": [
      "\n"
     ]
    },
    {
     "name": "stdout",
     "output_type": "stream",
     "text": [
      "\n",
      "      Epoch    GPU_mem   box_loss   cls_loss   dfl_loss  Instances       Size\n"
     ]
    },
    {
     "name": "stderr",
     "output_type": "stream",
     "text": [
      "     47/100      23.6G     0.4634     0.3811     0.8939        174        640: 100%|██████████| 46/46 [00:19<00:00,  2.31it/s]\n",
      "                 Class     Images  Instances      Box(P          R      mAP50  mAP50-95): 100%|██████████| 3/3 [00:02<00:00,  1.47it/s]"
     ]
    },
    {
     "name": "stdout",
     "output_type": "stream",
     "text": [
      "                   all        775       1765      0.962      0.909      0.936       0.86\n"
     ]
    },
    {
     "name": "stderr",
     "output_type": "stream",
     "text": [
      "\n"
     ]
    },
    {
     "name": "stdout",
     "output_type": "stream",
     "text": [
      "\n",
      "      Epoch    GPU_mem   box_loss   cls_loss   dfl_loss  Instances       Size\n"
     ]
    },
    {
     "name": "stderr",
     "output_type": "stream",
     "text": [
      "     48/100      23.2G     0.4604     0.3773     0.8936        187        640: 100%|██████████| 46/46 [00:20<00:00,  2.30it/s]\n",
      "                 Class     Images  Instances      Box(P          R      mAP50  mAP50-95): 100%|██████████| 3/3 [00:02<00:00,  1.46it/s]"
     ]
    },
    {
     "name": "stdout",
     "output_type": "stream",
     "text": [
      "                   all        775       1765      0.965      0.912      0.937      0.862\n"
     ]
    },
    {
     "name": "stderr",
     "output_type": "stream",
     "text": [
      "\n"
     ]
    },
    {
     "name": "stdout",
     "output_type": "stream",
     "text": [
      "\n",
      "      Epoch    GPU_mem   box_loss   cls_loss   dfl_loss  Instances       Size\n"
     ]
    },
    {
     "name": "stderr",
     "output_type": "stream",
     "text": [
      "     49/100      23.2G      0.455     0.3728     0.8888        150        640: 100%|██████████| 46/46 [00:19<00:00,  2.31it/s]\n",
      "                 Class     Images  Instances      Box(P          R      mAP50  mAP50-95): 100%|██████████| 3/3 [00:02<00:00,  1.47it/s]"
     ]
    },
    {
     "name": "stdout",
     "output_type": "stream",
     "text": [
      "                   all        775       1765      0.962      0.915      0.937      0.858\n"
     ]
    },
    {
     "name": "stderr",
     "output_type": "stream",
     "text": [
      "\n"
     ]
    },
    {
     "name": "stdout",
     "output_type": "stream",
     "text": [
      "\n",
      "      Epoch    GPU_mem   box_loss   cls_loss   dfl_loss  Instances       Size\n"
     ]
    },
    {
     "name": "stderr",
     "output_type": "stream",
     "text": [
      "     50/100      23.1G      0.459     0.3732     0.8907        222        640: 100%|██████████| 46/46 [00:19<00:00,  2.31it/s]\n",
      "                 Class     Images  Instances      Box(P          R      mAP50  mAP50-95): 100%|██████████| 3/3 [00:02<00:00,  1.46it/s]"
     ]
    },
    {
     "name": "stdout",
     "output_type": "stream",
     "text": [
      "                   all        775       1765      0.964      0.913      0.939      0.867\n"
     ]
    },
    {
     "name": "stderr",
     "output_type": "stream",
     "text": [
      "\n"
     ]
    },
    {
     "name": "stdout",
     "output_type": "stream",
     "text": [
      "\n",
      "      Epoch    GPU_mem   box_loss   cls_loss   dfl_loss  Instances       Size\n"
     ]
    },
    {
     "name": "stderr",
     "output_type": "stream",
     "text": [
      "     51/100      23.1G     0.4549     0.3675     0.8888        227        640: 100%|██████████| 46/46 [00:19<00:00,  2.31it/s]\n",
      "                 Class     Images  Instances      Box(P          R      mAP50  mAP50-95): 100%|██████████| 3/3 [00:02<00:00,  1.46it/s]"
     ]
    },
    {
     "name": "stdout",
     "output_type": "stream",
     "text": [
      "                   all        775       1765       0.96      0.906      0.939      0.865\n"
     ]
    },
    {
     "name": "stderr",
     "output_type": "stream",
     "text": [
      "\n"
     ]
    },
    {
     "name": "stdout",
     "output_type": "stream",
     "text": [
      "\n",
      "      Epoch    GPU_mem   box_loss   cls_loss   dfl_loss  Instances       Size\n"
     ]
    },
    {
     "name": "stderr",
     "output_type": "stream",
     "text": [
      "     52/100      23.3G     0.4575     0.3693     0.8909        201        640: 100%|██████████| 46/46 [00:20<00:00,  2.30it/s]\n",
      "                 Class     Images  Instances      Box(P          R      mAP50  mAP50-95): 100%|██████████| 3/3 [00:02<00:00,  1.47it/s]"
     ]
    },
    {
     "name": "stdout",
     "output_type": "stream",
     "text": [
      "                   all        775       1765       0.95      0.916      0.937      0.859\n"
     ]
    },
    {
     "name": "stderr",
     "output_type": "stream",
     "text": [
      "\n"
     ]
    },
    {
     "name": "stdout",
     "output_type": "stream",
     "text": [
      "\n",
      "      Epoch    GPU_mem   box_loss   cls_loss   dfl_loss  Instances       Size\n"
     ]
    },
    {
     "name": "stderr",
     "output_type": "stream",
     "text": [
      "     53/100      23.3G     0.4556     0.3673     0.8894        212        640: 100%|██████████| 46/46 [00:19<00:00,  2.31it/s]\n",
      "                 Class     Images  Instances      Box(P          R      mAP50  mAP50-95): 100%|██████████| 3/3 [00:02<00:00,  1.48it/s]"
     ]
    },
    {
     "name": "stdout",
     "output_type": "stream",
     "text": [
      "                   all        775       1765      0.964      0.917       0.94      0.865\n"
     ]
    },
    {
     "name": "stderr",
     "output_type": "stream",
     "text": [
      "\n"
     ]
    },
    {
     "name": "stdout",
     "output_type": "stream",
     "text": [
      "\n",
      "      Epoch    GPU_mem   box_loss   cls_loss   dfl_loss  Instances       Size\n"
     ]
    },
    {
     "name": "stderr",
     "output_type": "stream",
     "text": [
      "     54/100      23.4G     0.4593     0.3722     0.8922        243        640: 100%|██████████| 46/46 [00:19<00:00,  2.31it/s]\n",
      "                 Class     Images  Instances      Box(P          R      mAP50  mAP50-95): 100%|██████████| 3/3 [00:02<00:00,  1.47it/s]"
     ]
    },
    {
     "name": "stdout",
     "output_type": "stream",
     "text": [
      "                   all        775       1765      0.954      0.919       0.94      0.862\n"
     ]
    },
    {
     "name": "stderr",
     "output_type": "stream",
     "text": [
      "\n"
     ]
    },
    {
     "name": "stdout",
     "output_type": "stream",
     "text": [
      "\n",
      "      Epoch    GPU_mem   box_loss   cls_loss   dfl_loss  Instances       Size\n"
     ]
    },
    {
     "name": "stderr",
     "output_type": "stream",
     "text": [
      "     55/100      23.6G     0.4499     0.3619     0.8896        205        640: 100%|██████████| 46/46 [00:19<00:00,  2.31it/s]\n",
      "                 Class     Images  Instances      Box(P          R      mAP50  mAP50-95): 100%|██████████| 3/3 [00:02<00:00,  1.47it/s]"
     ]
    },
    {
     "name": "stdout",
     "output_type": "stream",
     "text": [
      "                   all        775       1765       0.96      0.916      0.942      0.868\n"
     ]
    },
    {
     "name": "stderr",
     "output_type": "stream",
     "text": [
      "\n"
     ]
    },
    {
     "name": "stdout",
     "output_type": "stream",
     "text": [
      "\n",
      "      Epoch    GPU_mem   box_loss   cls_loss   dfl_loss  Instances       Size\n"
     ]
    },
    {
     "name": "stderr",
     "output_type": "stream",
     "text": [
      "     56/100      25.7G      0.451     0.3626     0.8892        213        640: 100%|██████████| 46/46 [00:19<00:00,  2.30it/s]\n",
      "                 Class     Images  Instances      Box(P          R      mAP50  mAP50-95): 100%|██████████| 3/3 [00:02<00:00,  1.38it/s]"
     ]
    },
    {
     "name": "stdout",
     "output_type": "stream",
     "text": [
      "                   all        775       1765      0.958      0.921       0.94      0.866\n"
     ]
    },
    {
     "name": "stderr",
     "output_type": "stream",
     "text": [
      "\n"
     ]
    },
    {
     "name": "stdout",
     "output_type": "stream",
     "text": [
      "\n",
      "      Epoch    GPU_mem   box_loss   cls_loss   dfl_loss  Instances       Size\n"
     ]
    },
    {
     "name": "stderr",
     "output_type": "stream",
     "text": [
      "     57/100      23.2G       0.45     0.3574     0.8865        209        640: 100%|██████████| 46/46 [00:19<00:00,  2.31it/s]\n",
      "                 Class     Images  Instances      Box(P          R      mAP50  mAP50-95): 100%|██████████| 3/3 [00:02<00:00,  1.47it/s]"
     ]
    },
    {
     "name": "stdout",
     "output_type": "stream",
     "text": [
      "                   all        775       1765      0.961      0.919      0.943      0.869\n"
     ]
    },
    {
     "name": "stderr",
     "output_type": "stream",
     "text": [
      "\n"
     ]
    },
    {
     "name": "stdout",
     "output_type": "stream",
     "text": [
      "\n",
      "      Epoch    GPU_mem   box_loss   cls_loss   dfl_loss  Instances       Size\n"
     ]
    },
    {
     "name": "stderr",
     "output_type": "stream",
     "text": [
      "     58/100      23.7G     0.4533     0.3576     0.8898        276        640: 100%|██████████| 46/46 [00:19<00:00,  2.31it/s]\n",
      "                 Class     Images  Instances      Box(P          R      mAP50  mAP50-95): 100%|██████████| 3/3 [00:02<00:00,  1.47it/s]"
     ]
    },
    {
     "name": "stdout",
     "output_type": "stream",
     "text": [
      "                   all        775       1765      0.968      0.914      0.941      0.866\n"
     ]
    },
    {
     "name": "stderr",
     "output_type": "stream",
     "text": [
      "\n"
     ]
    },
    {
     "name": "stdout",
     "output_type": "stream",
     "text": [
      "\n",
      "      Epoch    GPU_mem   box_loss   cls_loss   dfl_loss  Instances       Size\n"
     ]
    },
    {
     "name": "stderr",
     "output_type": "stream",
     "text": [
      "     59/100      23.7G     0.4462     0.3532     0.8866        253        640: 100%|██████████| 46/46 [00:19<00:00,  2.31it/s]\n",
      "                 Class     Images  Instances      Box(P          R      mAP50  mAP50-95): 100%|██████████| 3/3 [00:02<00:00,  1.46it/s]"
     ]
    },
    {
     "name": "stdout",
     "output_type": "stream",
     "text": [
      "                   all        775       1765      0.967      0.915      0.941      0.865\n"
     ]
    },
    {
     "name": "stderr",
     "output_type": "stream",
     "text": [
      "\n"
     ]
    },
    {
     "name": "stdout",
     "output_type": "stream",
     "text": [
      "\n",
      "      Epoch    GPU_mem   box_loss   cls_loss   dfl_loss  Instances       Size\n"
     ]
    },
    {
     "name": "stderr",
     "output_type": "stream",
     "text": [
      "     60/100      23.6G     0.4442     0.3502     0.8833        147        640: 100%|██████████| 46/46 [00:19<00:00,  2.32it/s]\n",
      "                 Class     Images  Instances      Box(P          R      mAP50  mAP50-95): 100%|██████████| 3/3 [00:02<00:00,  1.47it/s]"
     ]
    },
    {
     "name": "stdout",
     "output_type": "stream",
     "text": [
      "                   all        775       1765      0.969      0.913       0.94      0.867\n"
     ]
    },
    {
     "name": "stderr",
     "output_type": "stream",
     "text": [
      "\n"
     ]
    },
    {
     "name": "stdout",
     "output_type": "stream",
     "text": [
      "\n",
      "      Epoch    GPU_mem   box_loss   cls_loss   dfl_loss  Instances       Size\n"
     ]
    },
    {
     "name": "stderr",
     "output_type": "stream",
     "text": [
      "     61/100      23.4G     0.4434     0.3462     0.8877        193        640: 100%|██████████| 46/46 [00:19<00:00,  2.31it/s]\n",
      "                 Class     Images  Instances      Box(P          R      mAP50  mAP50-95): 100%|██████████| 3/3 [00:02<00:00,  1.47it/s]"
     ]
    },
    {
     "name": "stdout",
     "output_type": "stream",
     "text": [
      "                   all        775       1765      0.962      0.917      0.944      0.873\n"
     ]
    },
    {
     "name": "stderr",
     "output_type": "stream",
     "text": [
      "\n"
     ]
    },
    {
     "name": "stdout",
     "output_type": "stream",
     "text": [
      "\n",
      "      Epoch    GPU_mem   box_loss   cls_loss   dfl_loss  Instances       Size\n"
     ]
    },
    {
     "name": "stderr",
     "output_type": "stream",
     "text": [
      "     62/100        24G     0.4442     0.3471     0.8833        225        640: 100%|██████████| 46/46 [00:19<00:00,  2.32it/s]\n",
      "                 Class     Images  Instances      Box(P          R      mAP50  mAP50-95): 100%|██████████| 3/3 [00:02<00:00,  1.48it/s]"
     ]
    },
    {
     "name": "stdout",
     "output_type": "stream",
     "text": [
      "                   all        775       1765       0.97      0.915      0.942       0.87\n"
     ]
    },
    {
     "name": "stderr",
     "output_type": "stream",
     "text": [
      "\n"
     ]
    },
    {
     "name": "stdout",
     "output_type": "stream",
     "text": [
      "\n",
      "      Epoch    GPU_mem   box_loss   cls_loss   dfl_loss  Instances       Size\n"
     ]
    },
    {
     "name": "stderr",
     "output_type": "stream",
     "text": [
      "     63/100      25.1G     0.4396     0.3442     0.8828        187        640: 100%|██████████| 46/46 [00:19<00:00,  2.30it/s]\n",
      "                 Class     Images  Instances      Box(P          R      mAP50  mAP50-95): 100%|██████████| 3/3 [00:02<00:00,  1.48it/s]"
     ]
    },
    {
     "name": "stdout",
     "output_type": "stream",
     "text": [
      "                   all        775       1765       0.95      0.921      0.941      0.871\n"
     ]
    },
    {
     "name": "stderr",
     "output_type": "stream",
     "text": [
      "\n"
     ]
    },
    {
     "name": "stdout",
     "output_type": "stream",
     "text": [
      "\n",
      "      Epoch    GPU_mem   box_loss   cls_loss   dfl_loss  Instances       Size\n"
     ]
    },
    {
     "name": "stderr",
     "output_type": "stream",
     "text": [
      "     64/100      22.7G      0.438     0.3392     0.8843        158        640: 100%|██████████| 46/46 [00:19<00:00,  2.31it/s]\n",
      "                 Class     Images  Instances      Box(P          R      mAP50  mAP50-95): 100%|██████████| 3/3 [00:02<00:00,  1.47it/s]"
     ]
    },
    {
     "name": "stdout",
     "output_type": "stream",
     "text": [
      "                   all        775       1765      0.968      0.919      0.943      0.874\n"
     ]
    },
    {
     "name": "stderr",
     "output_type": "stream",
     "text": [
      "\n"
     ]
    },
    {
     "name": "stdout",
     "output_type": "stream",
     "text": [
      "\n",
      "      Epoch    GPU_mem   box_loss   cls_loss   dfl_loss  Instances       Size\n"
     ]
    },
    {
     "name": "stderr",
     "output_type": "stream",
     "text": [
      "     65/100      22.8G     0.4424      0.342     0.8856        221        640: 100%|██████████| 46/46 [00:19<00:00,  2.31it/s]\n",
      "                 Class     Images  Instances      Box(P          R      mAP50  mAP50-95): 100%|██████████| 3/3 [00:02<00:00,  1.48it/s]"
     ]
    },
    {
     "name": "stdout",
     "output_type": "stream",
     "text": [
      "                   all        775       1765      0.967      0.919      0.943      0.871\n"
     ]
    },
    {
     "name": "stderr",
     "output_type": "stream",
     "text": [
      "\n"
     ]
    },
    {
     "name": "stdout",
     "output_type": "stream",
     "text": [
      "\n",
      "      Epoch    GPU_mem   box_loss   cls_loss   dfl_loss  Instances       Size\n"
     ]
    },
    {
     "name": "stderr",
     "output_type": "stream",
     "text": [
      "     66/100      23.3G     0.4379     0.3438     0.8827        216        640: 100%|██████████| 46/46 [00:19<00:00,  2.31it/s]\n",
      "                 Class     Images  Instances      Box(P          R      mAP50  mAP50-95): 100%|██████████| 3/3 [00:02<00:00,  1.47it/s]"
     ]
    },
    {
     "name": "stdout",
     "output_type": "stream",
     "text": [
      "                   all        775       1765      0.961      0.923      0.943      0.871\n"
     ]
    },
    {
     "name": "stderr",
     "output_type": "stream",
     "text": [
      "\n"
     ]
    },
    {
     "name": "stdout",
     "output_type": "stream",
     "text": [
      "\n",
      "      Epoch    GPU_mem   box_loss   cls_loss   dfl_loss  Instances       Size\n"
     ]
    },
    {
     "name": "stderr",
     "output_type": "stream",
     "text": [
      "     67/100      23.4G     0.4308     0.3362     0.8804        170        640: 100%|██████████| 46/46 [00:19<00:00,  2.31it/s]\n",
      "                 Class     Images  Instances      Box(P          R      mAP50  mAP50-95): 100%|██████████| 3/3 [00:02<00:00,  1.47it/s]"
     ]
    },
    {
     "name": "stdout",
     "output_type": "stream",
     "text": [
      "                   all        775       1765      0.966       0.92      0.943      0.875\n"
     ]
    },
    {
     "name": "stderr",
     "output_type": "stream",
     "text": [
      "\n"
     ]
    },
    {
     "name": "stdout",
     "output_type": "stream",
     "text": [
      "\n",
      "      Epoch    GPU_mem   box_loss   cls_loss   dfl_loss  Instances       Size\n"
     ]
    },
    {
     "name": "stderr",
     "output_type": "stream",
     "text": [
      "     68/100      25.6G     0.4291     0.3335      0.876        159        640: 100%|██████████| 46/46 [00:19<00:00,  2.30it/s]\n",
      "                 Class     Images  Instances      Box(P          R      mAP50  mAP50-95): 100%|██████████| 3/3 [00:02<00:00,  1.46it/s]"
     ]
    },
    {
     "name": "stdout",
     "output_type": "stream",
     "text": [
      "                   all        775       1765      0.969      0.919       0.94      0.874\n"
     ]
    },
    {
     "name": "stderr",
     "output_type": "stream",
     "text": [
      "\n"
     ]
    },
    {
     "name": "stdout",
     "output_type": "stream",
     "text": [
      "\n",
      "      Epoch    GPU_mem   box_loss   cls_loss   dfl_loss  Instances       Size\n"
     ]
    },
    {
     "name": "stderr",
     "output_type": "stream",
     "text": [
      "     69/100      23.3G     0.4348     0.3375     0.8827        201        640: 100%|██████████| 46/46 [00:19<00:00,  2.30it/s]\n",
      "                 Class     Images  Instances      Box(P          R      mAP50  mAP50-95): 100%|██████████| 3/3 [00:02<00:00,  1.48it/s]"
     ]
    },
    {
     "name": "stdout",
     "output_type": "stream",
     "text": [
      "                   all        775       1765      0.969       0.92      0.942      0.874\n"
     ]
    },
    {
     "name": "stderr",
     "output_type": "stream",
     "text": [
      "\n"
     ]
    },
    {
     "name": "stdout",
     "output_type": "stream",
     "text": [
      "\n",
      "      Epoch    GPU_mem   box_loss   cls_loss   dfl_loss  Instances       Size\n"
     ]
    },
    {
     "name": "stderr",
     "output_type": "stream",
     "text": [
      "     70/100      23.2G     0.4313     0.3317     0.8804        172        640: 100%|██████████| 46/46 [00:19<00:00,  2.31it/s]\n",
      "                 Class     Images  Instances      Box(P          R      mAP50  mAP50-95): 100%|██████████| 3/3 [00:02<00:00,  1.48it/s]"
     ]
    },
    {
     "name": "stdout",
     "output_type": "stream",
     "text": [
      "                   all        775       1765       0.96      0.926      0.944      0.876\n"
     ]
    },
    {
     "name": "stderr",
     "output_type": "stream",
     "text": [
      "\n"
     ]
    },
    {
     "name": "stdout",
     "output_type": "stream",
     "text": [
      "\n",
      "      Epoch    GPU_mem   box_loss   cls_loss   dfl_loss  Instances       Size\n"
     ]
    },
    {
     "name": "stderr",
     "output_type": "stream",
     "text": [
      "     71/100      23.3G     0.4236     0.3267     0.8781        215        640: 100%|██████████| 46/46 [00:19<00:00,  2.31it/s]\n",
      "                 Class     Images  Instances      Box(P          R      mAP50  mAP50-95): 100%|██████████| 3/3 [00:02<00:00,  1.46it/s]"
     ]
    },
    {
     "name": "stdout",
     "output_type": "stream",
     "text": [
      "                   all        775       1765      0.958      0.923      0.944      0.879\n"
     ]
    },
    {
     "name": "stderr",
     "output_type": "stream",
     "text": [
      "\n"
     ]
    },
    {
     "name": "stdout",
     "output_type": "stream",
     "text": [
      "\n",
      "      Epoch    GPU_mem   box_loss   cls_loss   dfl_loss  Instances       Size\n"
     ]
    },
    {
     "name": "stderr",
     "output_type": "stream",
     "text": [
      "     72/100      24.5G     0.4272     0.3294      0.879        188        640: 100%|██████████| 46/46 [00:19<00:00,  2.32it/s]\n",
      "                 Class     Images  Instances      Box(P          R      mAP50  mAP50-95): 100%|██████████| 3/3 [00:02<00:00,  1.48it/s]"
     ]
    },
    {
     "name": "stdout",
     "output_type": "stream",
     "text": [
      "                   all        775       1765      0.963      0.918      0.944      0.877\n"
     ]
    },
    {
     "name": "stderr",
     "output_type": "stream",
     "text": [
      "\n"
     ]
    },
    {
     "name": "stdout",
     "output_type": "stream",
     "text": [
      "\n",
      "      Epoch    GPU_mem   box_loss   cls_loss   dfl_loss  Instances       Size\n"
     ]
    },
    {
     "name": "stderr",
     "output_type": "stream",
     "text": [
      "     73/100      23.7G     0.4375     0.3337     0.8815        154        640: 100%|██████████| 46/46 [00:20<00:00,  2.30it/s]\n",
      "                 Class     Images  Instances      Box(P          R      mAP50  mAP50-95): 100%|██████████| 3/3 [00:02<00:00,  1.47it/s]"
     ]
    },
    {
     "name": "stdout",
     "output_type": "stream",
     "text": [
      "                   all        775       1765      0.966      0.915      0.944      0.877\n"
     ]
    },
    {
     "name": "stderr",
     "output_type": "stream",
     "text": [
      "\n"
     ]
    },
    {
     "name": "stdout",
     "output_type": "stream",
     "text": [
      "\n",
      "      Epoch    GPU_mem   box_loss   cls_loss   dfl_loss  Instances       Size\n"
     ]
    },
    {
     "name": "stderr",
     "output_type": "stream",
     "text": [
      "     74/100      24.4G     0.4239     0.3243     0.8782        145        640: 100%|██████████| 46/46 [00:20<00:00,  2.28it/s]\n",
      "                 Class     Images  Instances      Box(P          R      mAP50  mAP50-95): 100%|██████████| 3/3 [00:02<00:00,  1.45it/s]"
     ]
    },
    {
     "name": "stdout",
     "output_type": "stream",
     "text": [
      "                   all        775       1765      0.959      0.922      0.943      0.877\n"
     ]
    },
    {
     "name": "stderr",
     "output_type": "stream",
     "text": [
      "\n"
     ]
    },
    {
     "name": "stdout",
     "output_type": "stream",
     "text": [
      "\n",
      "      Epoch    GPU_mem   box_loss   cls_loss   dfl_loss  Instances       Size\n"
     ]
    },
    {
     "name": "stderr",
     "output_type": "stream",
     "text": [
      "     75/100      23.8G     0.4236     0.3234      0.878        181        640: 100%|██████████| 46/46 [00:20<00:00,  2.29it/s]\n",
      "                 Class     Images  Instances      Box(P          R      mAP50  mAP50-95): 100%|██████████| 3/3 [00:02<00:00,  1.46it/s]"
     ]
    },
    {
     "name": "stdout",
     "output_type": "stream",
     "text": [
      "                   all        775       1765      0.964      0.918      0.943      0.876\n"
     ]
    },
    {
     "name": "stderr",
     "output_type": "stream",
     "text": [
      "\n"
     ]
    },
    {
     "name": "stdout",
     "output_type": "stream",
     "text": [
      "\n",
      "      Epoch    GPU_mem   box_loss   cls_loss   dfl_loss  Instances       Size\n"
     ]
    },
    {
     "name": "stderr",
     "output_type": "stream",
     "text": [
      "     76/100      23.8G     0.4177     0.3234     0.8787        159        640: 100%|██████████| 46/46 [00:20<00:00,  2.27it/s]\n",
      "                 Class     Images  Instances      Box(P          R      mAP50  mAP50-95): 100%|██████████| 3/3 [00:02<00:00,  1.47it/s]"
     ]
    },
    {
     "name": "stdout",
     "output_type": "stream",
     "text": [
      "                   all        775       1765      0.962      0.928      0.944      0.874\n"
     ]
    },
    {
     "name": "stderr",
     "output_type": "stream",
     "text": [
      "\n"
     ]
    },
    {
     "name": "stdout",
     "output_type": "stream",
     "text": [
      "\n",
      "      Epoch    GPU_mem   box_loss   cls_loss   dfl_loss  Instances       Size\n"
     ]
    },
    {
     "name": "stderr",
     "output_type": "stream",
     "text": [
      "     77/100      22.9G      0.419     0.3208     0.8752        213        640: 100%|██████████| 46/46 [00:19<00:00,  2.31it/s]\n",
      "                 Class     Images  Instances      Box(P          R      mAP50  mAP50-95): 100%|██████████| 3/3 [00:02<00:00,  1.48it/s]"
     ]
    },
    {
     "name": "stdout",
     "output_type": "stream",
     "text": [
      "                   all        775       1765      0.963       0.92      0.944      0.879\n"
     ]
    },
    {
     "name": "stderr",
     "output_type": "stream",
     "text": [
      "\n"
     ]
    },
    {
     "name": "stdout",
     "output_type": "stream",
     "text": [
      "\n",
      "      Epoch    GPU_mem   box_loss   cls_loss   dfl_loss  Instances       Size\n"
     ]
    },
    {
     "name": "stderr",
     "output_type": "stream",
     "text": [
      "     78/100      23.7G     0.4198     0.3198     0.8751        189        640: 100%|██████████| 46/46 [00:19<00:00,  2.30it/s]\n",
      "                 Class     Images  Instances      Box(P          R      mAP50  mAP50-95): 100%|██████████| 3/3 [00:02<00:00,  1.46it/s]"
     ]
    },
    {
     "name": "stdout",
     "output_type": "stream",
     "text": [
      "                   all        775       1765      0.958      0.926      0.943      0.878\n"
     ]
    },
    {
     "name": "stderr",
     "output_type": "stream",
     "text": [
      "\n"
     ]
    },
    {
     "name": "stdout",
     "output_type": "stream",
     "text": [
      "\n",
      "      Epoch    GPU_mem   box_loss   cls_loss   dfl_loss  Instances       Size\n"
     ]
    },
    {
     "name": "stderr",
     "output_type": "stream",
     "text": [
      "     79/100      23.9G     0.4164     0.3169     0.8762        183        640: 100%|██████████| 46/46 [00:20<00:00,  2.30it/s]\n",
      "                 Class     Images  Instances      Box(P          R      mAP50  mAP50-95): 100%|██████████| 3/3 [00:02<00:00,  1.47it/s]"
     ]
    },
    {
     "name": "stdout",
     "output_type": "stream",
     "text": [
      "                   all        775       1765      0.971      0.919      0.945      0.881\n"
     ]
    },
    {
     "name": "stderr",
     "output_type": "stream",
     "text": [
      "\n"
     ]
    },
    {
     "name": "stdout",
     "output_type": "stream",
     "text": [
      "\n",
      "      Epoch    GPU_mem   box_loss   cls_loss   dfl_loss  Instances       Size\n"
     ]
    },
    {
     "name": "stderr",
     "output_type": "stream",
     "text": [
      "     80/100      23.4G     0.4173     0.3197     0.8752        240        640: 100%|██████████| 46/46 [00:19<00:00,  2.30it/s]\n",
      "                 Class     Images  Instances      Box(P          R      mAP50  mAP50-95): 100%|██████████| 3/3 [00:02<00:00,  1.48it/s]"
     ]
    },
    {
     "name": "stdout",
     "output_type": "stream",
     "text": [
      "                   all        775       1765      0.962      0.922      0.945      0.881\n"
     ]
    },
    {
     "name": "stderr",
     "output_type": "stream",
     "text": [
      "\n"
     ]
    },
    {
     "name": "stdout",
     "output_type": "stream",
     "text": [
      "\n",
      "      Epoch    GPU_mem   box_loss   cls_loss   dfl_loss  Instances       Size\n"
     ]
    },
    {
     "name": "stderr",
     "output_type": "stream",
     "text": [
      "     81/100        23G     0.4146     0.3134     0.8743        210        640: 100%|██████████| 46/46 [00:19<00:00,  2.31it/s]\n",
      "                 Class     Images  Instances      Box(P          R      mAP50  mAP50-95): 100%|██████████| 3/3 [00:02<00:00,  1.48it/s]"
     ]
    },
    {
     "name": "stdout",
     "output_type": "stream",
     "text": [
      "                   all        775       1765      0.962      0.925      0.945      0.879\n"
     ]
    },
    {
     "name": "stderr",
     "output_type": "stream",
     "text": [
      "\n"
     ]
    },
    {
     "name": "stdout",
     "output_type": "stream",
     "text": [
      "\n",
      "      Epoch    GPU_mem   box_loss   cls_loss   dfl_loss  Instances       Size\n"
     ]
    },
    {
     "name": "stderr",
     "output_type": "stream",
     "text": [
      "     82/100      23.4G     0.4122     0.3121     0.8721        234        640: 100%|██████████| 46/46 [00:19<00:00,  2.30it/s]\n",
      "                 Class     Images  Instances      Box(P          R      mAP50  mAP50-95): 100%|██████████| 3/3 [00:02<00:00,  1.47it/s]"
     ]
    },
    {
     "name": "stdout",
     "output_type": "stream",
     "text": [
      "                   all        775       1765      0.961      0.929      0.946      0.881\n"
     ]
    },
    {
     "name": "stderr",
     "output_type": "stream",
     "text": [
      "\n"
     ]
    },
    {
     "name": "stdout",
     "output_type": "stream",
     "text": [
      "\n",
      "      Epoch    GPU_mem   box_loss   cls_loss   dfl_loss  Instances       Size\n"
     ]
    },
    {
     "name": "stderr",
     "output_type": "stream",
     "text": [
      "     83/100      23.2G     0.4106     0.3138     0.8757        188        640: 100%|██████████| 46/46 [00:19<00:00,  2.32it/s]\n",
      "                 Class     Images  Instances      Box(P          R      mAP50  mAP50-95): 100%|██████████| 3/3 [00:02<00:00,  1.47it/s]"
     ]
    },
    {
     "name": "stdout",
     "output_type": "stream",
     "text": [
      "                   all        775       1765      0.965      0.921      0.945       0.88\n"
     ]
    },
    {
     "name": "stderr",
     "output_type": "stream",
     "text": [
      "\n"
     ]
    },
    {
     "name": "stdout",
     "output_type": "stream",
     "text": [
      "\n",
      "      Epoch    GPU_mem   box_loss   cls_loss   dfl_loss  Instances       Size\n"
     ]
    },
    {
     "name": "stderr",
     "output_type": "stream",
     "text": [
      "     84/100      23.3G     0.4095     0.3076     0.8717        211        640: 100%|██████████| 46/46 [00:19<00:00,  2.31it/s]\n",
      "                 Class     Images  Instances      Box(P          R      mAP50  mAP50-95): 100%|██████████| 3/3 [00:02<00:00,  1.47it/s]"
     ]
    },
    {
     "name": "stdout",
     "output_type": "stream",
     "text": [
      "                   all        775       1765       0.96      0.926      0.946      0.883\n"
     ]
    },
    {
     "name": "stderr",
     "output_type": "stream",
     "text": [
      "\n"
     ]
    },
    {
     "name": "stdout",
     "output_type": "stream",
     "text": [
      "\n",
      "      Epoch    GPU_mem   box_loss   cls_loss   dfl_loss  Instances       Size\n"
     ]
    },
    {
     "name": "stderr",
     "output_type": "stream",
     "text": [
      "     85/100      23.3G     0.4132     0.3091     0.8732        225        640: 100%|██████████| 46/46 [00:19<00:00,  2.31it/s]\n",
      "                 Class     Images  Instances      Box(P          R      mAP50  mAP50-95): 100%|██████████| 3/3 [00:02<00:00,  1.40it/s]"
     ]
    },
    {
     "name": "stdout",
     "output_type": "stream",
     "text": [
      "                   all        775       1765      0.962      0.922      0.945       0.88\n"
     ]
    },
    {
     "name": "stderr",
     "output_type": "stream",
     "text": [
      "\n"
     ]
    },
    {
     "name": "stdout",
     "output_type": "stream",
     "text": [
      "\n",
      "      Epoch    GPU_mem   box_loss   cls_loss   dfl_loss  Instances       Size\n"
     ]
    },
    {
     "name": "stderr",
     "output_type": "stream",
     "text": [
      "     86/100      23.4G     0.4052      0.305     0.8728        211        640: 100%|██████████| 46/46 [00:19<00:00,  2.32it/s]\n",
      "                 Class     Images  Instances      Box(P          R      mAP50  mAP50-95): 100%|██████████| 3/3 [00:02<00:00,  1.47it/s]"
     ]
    },
    {
     "name": "stdout",
     "output_type": "stream",
     "text": [
      "                   all        775       1765      0.969      0.918      0.945      0.881\n"
     ]
    },
    {
     "name": "stderr",
     "output_type": "stream",
     "text": [
      "\n"
     ]
    },
    {
     "name": "stdout",
     "output_type": "stream",
     "text": [
      "\n",
      "      Epoch    GPU_mem   box_loss   cls_loss   dfl_loss  Instances       Size\n"
     ]
    },
    {
     "name": "stderr",
     "output_type": "stream",
     "text": [
      "     87/100      24.4G      0.409     0.3082     0.8722        147        640: 100%|██████████| 46/46 [00:19<00:00,  2.31it/s]\n",
      "                 Class     Images  Instances      Box(P          R      mAP50  mAP50-95): 100%|██████████| 3/3 [00:02<00:00,  1.48it/s]"
     ]
    },
    {
     "name": "stdout",
     "output_type": "stream",
     "text": [
      "                   all        775       1765      0.964      0.925      0.945      0.881\n"
     ]
    },
    {
     "name": "stderr",
     "output_type": "stream",
     "text": [
      "\n"
     ]
    },
    {
     "name": "stdout",
     "output_type": "stream",
     "text": [
      "\n",
      "      Epoch    GPU_mem   box_loss   cls_loss   dfl_loss  Instances       Size\n"
     ]
    },
    {
     "name": "stderr",
     "output_type": "stream",
     "text": [
      "     88/100      23.4G      0.408     0.3086      0.874        220        640: 100%|██████████| 46/46 [00:19<00:00,  2.32it/s]\n",
      "                 Class     Images  Instances      Box(P          R      mAP50  mAP50-95): 100%|██████████| 3/3 [00:02<00:00,  1.48it/s]"
     ]
    },
    {
     "name": "stdout",
     "output_type": "stream",
     "text": [
      "                   all        775       1765      0.961      0.927      0.945      0.881\n"
     ]
    },
    {
     "name": "stderr",
     "output_type": "stream",
     "text": [
      "\n"
     ]
    },
    {
     "name": "stdout",
     "output_type": "stream",
     "text": [
      "\n",
      "      Epoch    GPU_mem   box_loss   cls_loss   dfl_loss  Instances       Size\n"
     ]
    },
    {
     "name": "stderr",
     "output_type": "stream",
     "text": [
      "     89/100      23.1G     0.4096     0.3093     0.8717        232        640: 100%|██████████| 46/46 [00:19<00:00,  2.30it/s]\n",
      "                 Class     Images  Instances      Box(P          R      mAP50  mAP50-95): 100%|██████████| 3/3 [00:02<00:00,  1.48it/s]"
     ]
    },
    {
     "name": "stdout",
     "output_type": "stream",
     "text": [
      "                   all        775       1765      0.965      0.919      0.945      0.882\n"
     ]
    },
    {
     "name": "stderr",
     "output_type": "stream",
     "text": [
      "\n"
     ]
    },
    {
     "name": "stdout",
     "output_type": "stream",
     "text": [
      "\n",
      "      Epoch    GPU_mem   box_loss   cls_loss   dfl_loss  Instances       Size\n"
     ]
    },
    {
     "name": "stderr",
     "output_type": "stream",
     "text": [
      "     90/100      23.1G     0.4019     0.3021     0.8713        226        640: 100%|██████████| 46/46 [00:19<00:00,  2.32it/s]\n",
      "                 Class     Images  Instances      Box(P          R      mAP50  mAP50-95): 100%|██████████| 3/3 [00:02<00:00,  1.48it/s]"
     ]
    },
    {
     "name": "stdout",
     "output_type": "stream",
     "text": [
      "                   all        775       1765      0.968      0.917      0.946      0.881\n"
     ]
    },
    {
     "name": "stderr",
     "output_type": "stream",
     "text": [
      "\n"
     ]
    },
    {
     "name": "stdout",
     "output_type": "stream",
     "text": [
      "Closing dataloader mosaic\n",
      "\n",
      "      Epoch    GPU_mem   box_loss   cls_loss   dfl_loss  Instances       Size\n"
     ]
    },
    {
     "name": "stderr",
     "output_type": "stream",
     "text": [
      "     91/100      23.3G     0.3519     0.2591     0.8291         69        640: 100%|██████████| 46/46 [00:22<00:00,  2.05it/s]\n",
      "                 Class     Images  Instances      Box(P          R      mAP50  mAP50-95): 100%|██████████| 3/3 [00:02<00:00,  1.46it/s]"
     ]
    },
    {
     "name": "stdout",
     "output_type": "stream",
     "text": [
      "                   all        775       1765       0.96      0.925      0.945      0.879\n"
     ]
    },
    {
     "name": "stderr",
     "output_type": "stream",
     "text": [
      "\n"
     ]
    },
    {
     "name": "stdout",
     "output_type": "stream",
     "text": [
      "\n",
      "      Epoch    GPU_mem   box_loss   cls_loss   dfl_loss  Instances       Size\n"
     ]
    },
    {
     "name": "stderr",
     "output_type": "stream",
     "text": [
      "     92/100      24.2G       0.34     0.2386     0.8287         97        640: 100%|██████████| 46/46 [00:19<00:00,  2.32it/s]\n",
      "                 Class     Images  Instances      Box(P          R      mAP50  mAP50-95): 100%|██████████| 3/3 [00:02<00:00,  1.47it/s]"
     ]
    },
    {
     "name": "stdout",
     "output_type": "stream",
     "text": [
      "                   all        775       1765      0.962      0.925      0.943      0.877\n"
     ]
    },
    {
     "name": "stderr",
     "output_type": "stream",
     "text": [
      "\n"
     ]
    },
    {
     "name": "stdout",
     "output_type": "stream",
     "text": [
      "\n",
      "      Epoch    GPU_mem   box_loss   cls_loss   dfl_loss  Instances       Size\n"
     ]
    },
    {
     "name": "stderr",
     "output_type": "stream",
     "text": [
      "     93/100      22.6G     0.3394     0.2348     0.8246        140        640: 100%|██████████| 46/46 [00:19<00:00,  2.33it/s]\n",
      "                 Class     Images  Instances      Box(P          R      mAP50  mAP50-95): 100%|██████████| 3/3 [00:02<00:00,  1.48it/s]"
     ]
    },
    {
     "name": "stdout",
     "output_type": "stream",
     "text": [
      "                   all        775       1765      0.961      0.925      0.943      0.875\n"
     ]
    },
    {
     "name": "stderr",
     "output_type": "stream",
     "text": [
      "\n"
     ]
    },
    {
     "name": "stdout",
     "output_type": "stream",
     "text": [
      "\n",
      "      Epoch    GPU_mem   box_loss   cls_loss   dfl_loss  Instances       Size\n"
     ]
    },
    {
     "name": "stderr",
     "output_type": "stream",
     "text": [
      "     94/100      24.1G     0.3338     0.2304     0.8224         75        640: 100%|██████████| 46/46 [00:19<00:00,  2.33it/s]\n",
      "                 Class     Images  Instances      Box(P          R      mAP50  mAP50-95): 100%|██████████| 3/3 [00:02<00:00,  1.46it/s]"
     ]
    },
    {
     "name": "stdout",
     "output_type": "stream",
     "text": [
      "                   all        775       1765      0.965      0.923      0.942      0.877\n",
      "\u001b[34m\u001b[1mEarlyStopping: \u001b[0mTraining stopped early as no improvement observed in last 10 epochs. Best results observed at epoch 84, best model saved as best.pt.\n",
      "To update EarlyStopping(patience=10) pass a new patience value, i.e. `patience=300` or use `patience=0` to disable EarlyStopping.\n"
     ]
    },
    {
     "name": "stderr",
     "output_type": "stream",
     "text": [
      "\n"
     ]
    },
    {
     "name": "stdout",
     "output_type": "stream",
     "text": [
      "\n",
      "94 epochs completed in 0.591 hours.\n",
      "Optimizer stripped from YOLO-detect-v1/train1/weights/last.pt, 5.5MB\n",
      "Optimizer stripped from YOLO-detect-v1/train1/weights/best.pt, 5.5MB\n",
      "\n",
      "Validating YOLO-detect-v1/train1/weights/best.pt...\n",
      "Ultralytics 8.3.29 🚀 Python-3.12.7 torch-2.4.1+cu121 CUDA:0 (NVIDIA A100-SXM4-40GB, 40339MiB)\n",
      "YOLO11n summary (fused): 238 layers, 2,586,442 parameters, 0 gradients, 6.3 GFLOPs\n"
     ]
    },
    {
     "name": "stderr",
     "output_type": "stream",
     "text": [
      "                 Class     Images  Instances      Box(P          R      mAP50  mAP50-95): 100%|██████████| 3/3 [00:03<00:00,  1.09s/it]\n"
     ]
    },
    {
     "name": "stdout",
     "output_type": "stream",
     "text": [
      "                   all        775       1765       0.96      0.926      0.946      0.883\n",
      "          bottled_soda         37         37      0.986          1      0.995      0.942\n",
      "                cheese         40         58       0.97      0.948      0.972      0.911\n",
      "                Kitkat         42         47      0.986      0.979      0.981      0.934\n",
      "                coffee         30         66       0.97      0.939      0.972      0.884\n",
      "        condensed_milk         37         52      0.973          1      0.994      0.978\n",
      "           Cooking_oil         40         40      0.987          1      0.995      0.941\n",
      "           corned_beef         41        247      0.976      0.983      0.989       0.93\n",
      "                garlic         33         33      0.996       0.97      0.993      0.917\n",
      "       instant_noodles         30         30      0.983          1      0.995      0.977\n",
      "                 lemon         37         46      0.988          1      0.995      0.976\n",
      "            Mayonnaise         31        105      0.919       0.97      0.986      0.903\n",
      "         peanut_butter         26        158      0.951      0.487      0.627      0.606\n",
      "                 pasta         37         39      0.825      0.846      0.846      0.679\n",
      "       pineapple_juice         35        116      0.948      0.946      0.977      0.943\n",
      "              crackers         32         48      0.902      0.979      0.966      0.919\n",
      "       canned_sardines         45         61      0.998      0.984      0.989      0.919\n",
      "          pink_shampoo         36         51      0.984          1      0.995       0.99\n",
      "                  soap         34         34      0.985          1      0.995      0.985\n",
      "            silverswan         34         95       0.88      0.851      0.938      0.761\n",
      "            toothpaste         25         42      0.989          1      0.995      0.949\n",
      "           canned_tuna         42        327       0.92      0.523      0.634      0.549\n",
      "GreenCross_Ethyl_Alcohol         31         33          1      0.964      0.992      0.841\n",
      "Speed: 0.1ms preprocess, 0.4ms inference, 0.0ms loss, 0.8ms postprocess per image\n",
      "Results saved to \u001b[1mYOLO-detect-v1/train1\u001b[0m\n",
      "Ultralytics 8.3.29 🚀 Python-3.12.7 torch-2.4.1+cu121 CUDA:0 (NVIDIA A100-SXM4-40GB, 40339MiB)\n",
      "YOLO11n summary (fused): 238 layers, 2,586,442 parameters, 0 gradients, 6.3 GFLOPs\n"
     ]
    },
    {
     "name": "stderr",
     "output_type": "stream",
     "text": [
      "\u001b[34m\u001b[1mval: \u001b[0mScanning /raid/students/ryan/Cayas-AI-231/machine_exers/ME5/datasets/grocery/labels/val.cache... 775 images, 0 backgrounds, 0 corrupt: 100%|██████████| 775/775 [00:00<?, ?it/s]"
     ]
    },
    {
     "name": "stdout",
     "output_type": "stream",
     "text": [
      "\u001b[34m\u001b[1mval: \u001b[0mWARNING ⚠️ /raid/students/ryan/Cayas-AI-231/machine_exers/ME5/datasets/grocery/images/val/090008.jpg: corrupt JPEG restored and saved\n",
      "\u001b[34m\u001b[1mval: \u001b[0mWARNING ⚠️ /raid/students/ryan/Cayas-AI-231/machine_exers/ME5/datasets/grocery/images/val/090016.jpg: corrupt JPEG restored and saved\n",
      "\u001b[34m\u001b[1mval: \u001b[0mWARNING ⚠️ /raid/students/ryan/Cayas-AI-231/machine_exers/ME5/datasets/grocery/images/val/090039.jpg: corrupt JPEG restored and saved\n",
      "\u001b[34m\u001b[1mval: \u001b[0mWARNING ⚠️ /raid/students/ryan/Cayas-AI-231/machine_exers/ME5/datasets/grocery/images/val/090064.jpg: corrupt JPEG restored and saved\n",
      "\u001b[34m\u001b[1mval: \u001b[0mWARNING ⚠️ /raid/students/ryan/Cayas-AI-231/machine_exers/ME5/datasets/grocery/images/val/090081.jpg: corrupt JPEG restored and saved\n",
      "\u001b[34m\u001b[1mval: \u001b[0mWARNING ⚠️ /raid/students/ryan/Cayas-AI-231/machine_exers/ME5/datasets/grocery/images/val/090084.jpg: corrupt JPEG restored and saved\n",
      "\u001b[34m\u001b[1mval: \u001b[0mWARNING ⚠️ /raid/students/ryan/Cayas-AI-231/machine_exers/ME5/datasets/grocery/images/val/090097.jpg: corrupt JPEG restored and saved\n",
      "\u001b[34m\u001b[1mval: \u001b[0mWARNING ⚠️ /raid/students/ryan/Cayas-AI-231/machine_exers/ME5/datasets/grocery/images/val/090102.jpg: corrupt JPEG restored and saved\n",
      "\u001b[34m\u001b[1mval: \u001b[0mWARNING ⚠️ /raid/students/ryan/Cayas-AI-231/machine_exers/ME5/datasets/grocery/images/val/090103.jpg: corrupt JPEG restored and saved\n",
      "\u001b[34m\u001b[1mval: \u001b[0mWARNING ⚠️ /raid/students/ryan/Cayas-AI-231/machine_exers/ME5/datasets/grocery/images/val/090108.jpg: corrupt JPEG restored and saved\n",
      "\u001b[34m\u001b[1mval: \u001b[0mWARNING ⚠️ /raid/students/ryan/Cayas-AI-231/machine_exers/ME5/datasets/grocery/images/val/090116.jpg: corrupt JPEG restored and saved\n",
      "\u001b[34m\u001b[1mval: \u001b[0mWARNING ⚠️ /raid/students/ryan/Cayas-AI-231/machine_exers/ME5/datasets/grocery/images/val/090117.jpg: corrupt JPEG restored and saved\n",
      "\u001b[34m\u001b[1mval: \u001b[0mWARNING ⚠️ /raid/students/ryan/Cayas-AI-231/machine_exers/ME5/datasets/grocery/images/val/090124.jpg: corrupt JPEG restored and saved\n",
      "\u001b[34m\u001b[1mval: \u001b[0mWARNING ⚠️ /raid/students/ryan/Cayas-AI-231/machine_exers/ME5/datasets/grocery/images/val/090170.jpg: corrupt JPEG restored and saved\n",
      "\u001b[34m\u001b[1mval: \u001b[0mWARNING ⚠️ /raid/students/ryan/Cayas-AI-231/machine_exers/ME5/datasets/grocery/images/val/090172.jpg: corrupt JPEG restored and saved\n",
      "\u001b[34m\u001b[1mval: \u001b[0mWARNING ⚠️ /raid/students/ryan/Cayas-AI-231/machine_exers/ME5/datasets/grocery/images/val/090182.jpg: corrupt JPEG restored and saved\n",
      "\u001b[34m\u001b[1mval: \u001b[0mWARNING ⚠️ /raid/students/ryan/Cayas-AI-231/machine_exers/ME5/datasets/grocery/images/val/090185.jpg: corrupt JPEG restored and saved\n",
      "\u001b[34m\u001b[1mval: \u001b[0mWARNING ⚠️ /raid/students/ryan/Cayas-AI-231/machine_exers/ME5/datasets/grocery/images/val/090214.jpg: corrupt JPEG restored and saved\n",
      "\u001b[34m\u001b[1mval: \u001b[0mWARNING ⚠️ /raid/students/ryan/Cayas-AI-231/machine_exers/ME5/datasets/grocery/images/val/090224.jpg: corrupt JPEG restored and saved\n",
      "\u001b[34m\u001b[1mval: \u001b[0mWARNING ⚠️ /raid/students/ryan/Cayas-AI-231/machine_exers/ME5/datasets/grocery/images/val/090231.jpg: corrupt JPEG restored and saved\n",
      "\u001b[34m\u001b[1mval: \u001b[0mWARNING ⚠️ /raid/students/ryan/Cayas-AI-231/machine_exers/ME5/datasets/grocery/images/val/090234.jpg: corrupt JPEG restored and saved\n",
      "\u001b[34m\u001b[1mval: \u001b[0mWARNING ⚠️ /raid/students/ryan/Cayas-AI-231/machine_exers/ME5/datasets/grocery/images/val/090248.jpg: corrupt JPEG restored and saved\n",
      "\u001b[34m\u001b[1mval: \u001b[0mWARNING ⚠️ /raid/students/ryan/Cayas-AI-231/machine_exers/ME5/datasets/grocery/images/val/090259.jpg: corrupt JPEG restored and saved\n",
      "\u001b[34m\u001b[1mval: \u001b[0mWARNING ⚠️ /raid/students/ryan/Cayas-AI-231/machine_exers/ME5/datasets/grocery/images/val/090291.jpg: corrupt JPEG restored and saved\n",
      "\u001b[34m\u001b[1mval: \u001b[0mWARNING ⚠️ /raid/students/ryan/Cayas-AI-231/machine_exers/ME5/datasets/grocery/images/val/090297.jpg: corrupt JPEG restored and saved\n",
      "\u001b[34m\u001b[1mval: \u001b[0mWARNING ⚠️ /raid/students/ryan/Cayas-AI-231/machine_exers/ME5/datasets/grocery/images/val/090306.jpg: corrupt JPEG restored and saved\n",
      "\u001b[34m\u001b[1mval: \u001b[0mWARNING ⚠️ /raid/students/ryan/Cayas-AI-231/machine_exers/ME5/datasets/grocery/images/val/090318.jpg: corrupt JPEG restored and saved\n",
      "\u001b[34m\u001b[1mval: \u001b[0mWARNING ⚠️ /raid/students/ryan/Cayas-AI-231/machine_exers/ME5/datasets/grocery/images/val/090322.jpg: corrupt JPEG restored and saved\n",
      "\u001b[34m\u001b[1mval: \u001b[0mWARNING ⚠️ /raid/students/ryan/Cayas-AI-231/machine_exers/ME5/datasets/grocery/images/val/090328.jpg: corrupt JPEG restored and saved\n",
      "\u001b[34m\u001b[1mval: \u001b[0mWARNING ⚠️ /raid/students/ryan/Cayas-AI-231/machine_exers/ME5/datasets/grocery/images/val/090332.jpg: corrupt JPEG restored and saved\n"
     ]
    },
    {
     "name": "stderr",
     "output_type": "stream",
     "text": [
      "\n",
      "                 Class     Images  Instances      Box(P          R      mAP50  mAP50-95): 100%|██████████| 6/6 [00:05<00:00,  1.04it/s]\n"
     ]
    },
    {
     "name": "stdout",
     "output_type": "stream",
     "text": [
      "                   all        775       1765       0.96      0.926      0.946      0.884\n",
      "          bottled_soda         37         37      0.986          1      0.995      0.942\n",
      "                cheese         40         58       0.97      0.948      0.972      0.913\n",
      "                Kitkat         42         47      0.986      0.979      0.981      0.932\n",
      "                coffee         30         66       0.97      0.939      0.972      0.885\n",
      "        condensed_milk         37         52      0.973          1      0.994      0.978\n",
      "           Cooking_oil         40         40      0.987          1      0.995       0.95\n",
      "           corned_beef         41        247      0.976      0.983      0.989      0.931\n",
      "                garlic         33         33      0.997       0.97      0.993      0.912\n",
      "       instant_noodles         30         30      0.983          1      0.995      0.977\n",
      "                 lemon         37         46      0.988          1      0.995       0.98\n",
      "            Mayonnaise         31        105      0.919       0.97      0.986      0.904\n",
      "         peanut_butter         26        158      0.951      0.491      0.626      0.605\n",
      "                 pasta         37         39      0.827      0.846      0.846      0.681\n",
      "       pineapple_juice         35        116      0.948      0.946      0.977      0.942\n",
      "              crackers         32         48      0.902      0.979      0.966       0.92\n",
      "       canned_sardines         45         61      0.998      0.984      0.989      0.917\n",
      "          pink_shampoo         36         51      0.984          1      0.995       0.99\n",
      "                  soap         34         34      0.985          1      0.995      0.985\n",
      "            silverswan         34         95       0.88       0.85      0.936      0.764\n",
      "            toothpaste         25         42      0.989          1      0.995      0.952\n",
      "           canned_tuna         42        327      0.921      0.523      0.634      0.549\n",
      "GreenCross_Ethyl_Alcohol         31         33          1      0.964      0.992      0.841\n",
      "Speed: 0.2ms preprocess, 0.6ms inference, 0.0ms loss, 1.4ms postprocess per image\n",
      "Results saved to \u001b[1mYOLO-detect-v1/train12\u001b[0m\n",
      "Ultralytics 8.3.29 🚀 Python-3.12.7 torch-2.4.1+cu121 CPU (AMD EPYC 7742 64-Core Processor)\n",
      "\n",
      "\u001b[34m\u001b[1mPyTorch:\u001b[0m starting from 'YOLO-detect-v1/train1/weights/best.pt' with input shape (1, 3, 640, 640) BCHW and output shape(s) (1, 26, 8400) (5.2 MB)\n",
      "\n",
      "\u001b[34m\u001b[1mONNX:\u001b[0m starting export with onnx 1.17.0 opset 19...\n",
      "\u001b[34m\u001b[1mONNX:\u001b[0m slimming with onnxslim 0.1.37...\n",
      "\u001b[34m\u001b[1mONNX:\u001b[0m export success ✅ 0.9s, saved as 'YOLO-detect-v1/train1/weights/best.onnx' (10.1 MB)\n",
      "\n",
      "Export complete (1.1s)\n",
      "Results saved to \u001b[1m/raid/students/ryan/Cayas-AI-231/machine_exers/ME5/YOLO-detect-v1/train1/weights\u001b[0m\n",
      "Predict:         yolo predict task=detect model=YOLO-detect-v1/train1/weights/best.onnx imgsz=640  \n",
      "Validate:        yolo val task=detect model=YOLO-detect-v1/train1/weights/best.onnx imgsz=640 data=grocery.yaml  \n",
      "Visualize:       https://netron.app\n"
     ]
    }
   ],
   "source": [
    "from ultralytics import YOLO\n",
    "\n",
    "# Load a pretrained YOLO model (recommended for training)\n",
    "model = YOLO(\"yolo11n.pt\")\n",
    "\n",
    "# Check if CUDA is available and set the device\n",
    "device = 'cuda' if torch.cuda.is_available() else 'cpu'\n",
    "print(f\"Using device: {device}\")\n",
    "\n",
    "# Train the model\n",
    "results = model.train(data=\"grocery.yaml\", epochs=100, patience=10, batch=-1, project=\"YOLO-detect-v1\", name=\"train1\", device=device)\n",
    "\n",
    "# Evaluate the model's performance on the validation set\n",
    "results = model.val(device=device)\n",
    "\n",
    "# Export the model to ONNX format\n",
    "success = model.export(format=\"onnx\")"
   ]
  },
  {
   "cell_type": "markdown",
   "metadata": {},
   "source": [
    "## Segmentation Model"
   ]
  },
  {
   "cell_type": "code",
   "execution_count": 5,
   "metadata": {},
   "outputs": [
    {
     "name": "stdout",
     "output_type": "stream",
     "text": [
      "Using device: cuda\n",
      "Ultralytics 8.3.29 🚀 Python-3.12.7 torch-2.4.1+cu121 CUDA:0 (NVIDIA A100-SXM4-40GB, 40339MiB)\n",
      "\u001b[34m\u001b[1mengine/trainer: \u001b[0mtask=segment, mode=train, model=yolo11n-seg.pt, data=grocery.yaml, epochs=100, time=None, patience=10, batch=-1, imgsz=640, save=True, save_period=-1, cache=False, device=cuda, workers=8, project=YOLO-segment-v1, name=train1, exist_ok=False, pretrained=True, optimizer=auto, verbose=True, seed=0, deterministic=True, single_cls=False, rect=False, cos_lr=False, close_mosaic=10, resume=False, amp=True, fraction=1.0, profile=False, freeze=None, multi_scale=False, overlap_mask=True, mask_ratio=4, dropout=0.0, val=True, split=val, save_json=False, save_hybrid=False, conf=None, iou=0.7, max_det=300, half=False, dnn=False, plots=True, source=None, vid_stride=1, stream_buffer=False, visualize=False, augment=False, agnostic_nms=False, classes=None, retina_masks=False, embed=None, show=False, save_frames=False, save_txt=False, save_conf=False, save_crop=False, show_labels=True, show_conf=True, show_boxes=True, line_width=None, format=torchscript, keras=False, optimize=False, int8=False, dynamic=False, simplify=True, opset=None, workspace=4, nms=False, lr0=0.01, lrf=0.01, momentum=0.937, weight_decay=0.0005, warmup_epochs=3.0, warmup_momentum=0.8, warmup_bias_lr=0.1, box=7.5, cls=0.5, dfl=1.5, pose=12.0, kobj=1.0, label_smoothing=0.0, nbs=64, hsv_h=0.015, hsv_s=0.7, hsv_v=0.4, degrees=0.0, translate=0.1, scale=0.5, shear=0.0, perspective=0.0, flipud=0.0, fliplr=0.5, bgr=0.0, mosaic=1.0, mixup=0.0, copy_paste=0.0, copy_paste_mode=flip, auto_augment=randaugment, erasing=0.4, crop_fraction=1.0, cfg=None, tracker=botsort.yaml, save_dir=YOLO-segment-v1/train1\n",
      "Overriding model.yaml nc=80 with nc=22\n",
      "\n",
      "                   from  n    params  module                                       arguments                     \n",
      "  0                  -1  1       464  ultralytics.nn.modules.conv.Conv             [3, 16, 3, 2]                 \n",
      "  1                  -1  1      4672  ultralytics.nn.modules.conv.Conv             [16, 32, 3, 2]                \n",
      "  2                  -1  1      6640  ultralytics.nn.modules.block.C3k2            [32, 64, 1, False, 0.25]      \n",
      "  3                  -1  1     36992  ultralytics.nn.modules.conv.Conv             [64, 64, 3, 2]                \n",
      "  4                  -1  1     26080  ultralytics.nn.modules.block.C3k2            [64, 128, 1, False, 0.25]     \n",
      "  5                  -1  1    147712  ultralytics.nn.modules.conv.Conv             [128, 128, 3, 2]              \n",
      "  6                  -1  1     87040  ultralytics.nn.modules.block.C3k2            [128, 128, 1, True]           \n",
      "  7                  -1  1    295424  ultralytics.nn.modules.conv.Conv             [128, 256, 3, 2]              \n",
      "  8                  -1  1    346112  ultralytics.nn.modules.block.C3k2            [256, 256, 1, True]           \n",
      "  9                  -1  1    164608  ultralytics.nn.modules.block.SPPF            [256, 256, 5]                 \n",
      " 10                  -1  1    249728  ultralytics.nn.modules.block.C2PSA           [256, 256, 1]                 \n",
      " 11                  -1  1         0  torch.nn.modules.upsampling.Upsample         [None, 2, 'nearest']          \n",
      " 12             [-1, 6]  1         0  ultralytics.nn.modules.conv.Concat           [1]                           \n",
      " 13                  -1  1    111296  ultralytics.nn.modules.block.C3k2            [384, 128, 1, False]          \n",
      " 14                  -1  1         0  torch.nn.modules.upsampling.Upsample         [None, 2, 'nearest']          \n",
      " 15             [-1, 4]  1         0  ultralytics.nn.modules.conv.Concat           [1]                           \n",
      " 16                  -1  1     32096  ultralytics.nn.modules.block.C3k2            [256, 64, 1, False]           \n",
      " 17                  -1  1     36992  ultralytics.nn.modules.conv.Conv             [64, 64, 3, 2]                \n",
      " 18            [-1, 13]  1         0  ultralytics.nn.modules.conv.Concat           [1]                           \n",
      " 19                  -1  1     86720  ultralytics.nn.modules.block.C3k2            [192, 128, 1, False]          \n",
      " 20                  -1  1    147712  ultralytics.nn.modules.conv.Conv             [128, 128, 3, 2]              \n",
      " 21            [-1, 10]  1         0  ultralytics.nn.modules.conv.Concat           [1]                           \n",
      " 22                  -1  1    378880  ultralytics.nn.modules.block.C3k2            [384, 256, 1, True]           \n",
      " 23        [16, 19, 22]  1    687730  ultralytics.nn.modules.head.Segment          [22, 32, 64, [64, 128, 256]]  \n",
      "YOLO11n-seg summary: 355 layers, 2,846,898 parameters, 2,846,882 gradients, 10.4 GFLOPs\n",
      "\n",
      "Transferred 510/561 items from pretrained weights\n",
      "Freezing layer 'model.23.dfl.conv.weight'\n",
      "\u001b[34m\u001b[1mAMP: \u001b[0mrunning Automatic Mixed Precision (AMP) checks...\n",
      "\u001b[34m\u001b[1mAMP: \u001b[0mchecks passed ✅\n",
      "\u001b[34m\u001b[1mAutoBatch: \u001b[0mComputing optimal batch size for imgsz=640 at 60.0% CUDA memory utilization.\n",
      "\u001b[34m\u001b[1mAutoBatch: \u001b[0mCUDA:0 (NVIDIA A100-SXM4-40GB) 39.39G total, 0.31G reserved, 0.06G allocated, 39.02G free\n",
      "      Params      GFLOPs  GPU_mem (GB)  forward (ms) backward (ms)                   input                  output\n",
      "     2846898       10.38         0.218          31.4           nan        (1, 3, 640, 640)                    list\n",
      "     2846898       20.76         0.505         26.78           nan        (2, 3, 640, 640)                    list\n",
      "     2846898       41.51         0.950         56.52           nan        (4, 3, 640, 640)                    list\n",
      "     2846898       83.03         1.850          29.6           nan        (8, 3, 640, 640)                    list\n",
      "     2846898       166.1         3.595         33.44           nan       (16, 3, 640, 640)                    list\n",
      "     2846898       332.1         7.038         37.44           nan       (32, 3, 640, 640)                    list\n",
      "     2846898       664.2        13.871         73.61           nan       (64, 3, 640, 640)                    list\n",
      "\u001b[34m\u001b[1mAutoBatch: \u001b[0mUsing batch-size 108 for CUDA:0 23.79G/39.39G (60%) ✅\n"
     ]
    },
    {
     "name": "stderr",
     "output_type": "stream",
     "text": [
      "\u001b[34m\u001b[1mtrain: \u001b[0mScanning /raid/students/ryan/Cayas-AI-231/machine_exers/ME5/datasets/grocery/labels/train... 6974 images, 0 backgrounds, 0 corrupt: 100%|██████████| 6974/6974 [00:04<00:00, 1719.18it/s]"
     ]
    },
    {
     "name": "stdout",
     "output_type": "stream",
     "text": [
      "\u001b[34m\u001b[1mtrain: \u001b[0mWARNING ⚠️ /raid/students/ryan/Cayas-AI-231/machine_exers/ME5/datasets/grocery/images/train/090002.jpg: corrupt JPEG restored and saved\n",
      "\u001b[34m\u001b[1mtrain: \u001b[0mWARNING ⚠️ /raid/students/ryan/Cayas-AI-231/machine_exers/ME5/datasets/grocery/images/train/090003.jpg: corrupt JPEG restored and saved\n",
      "\u001b[34m\u001b[1mtrain: \u001b[0mWARNING ⚠️ /raid/students/ryan/Cayas-AI-231/machine_exers/ME5/datasets/grocery/images/train/090004.jpg: corrupt JPEG restored and saved\n",
      "\u001b[34m\u001b[1mtrain: \u001b[0mWARNING ⚠️ /raid/students/ryan/Cayas-AI-231/machine_exers/ME5/datasets/grocery/images/train/090005.jpg: corrupt JPEG restored and saved\n",
      "\u001b[34m\u001b[1mtrain: \u001b[0mWARNING ⚠️ /raid/students/ryan/Cayas-AI-231/machine_exers/ME5/datasets/grocery/images/train/090006.jpg: corrupt JPEG restored and saved\n",
      "\u001b[34m\u001b[1mtrain: \u001b[0mWARNING ⚠️ /raid/students/ryan/Cayas-AI-231/machine_exers/ME5/datasets/grocery/images/train/090007.jpg: corrupt JPEG restored and saved\n",
      "\u001b[34m\u001b[1mtrain: \u001b[0mWARNING ⚠️ /raid/students/ryan/Cayas-AI-231/machine_exers/ME5/datasets/grocery/images/train/090009.jpg: corrupt JPEG restored and saved\n",
      "\u001b[34m\u001b[1mtrain: \u001b[0mWARNING ⚠️ /raid/students/ryan/Cayas-AI-231/machine_exers/ME5/datasets/grocery/images/train/090010.jpg: corrupt JPEG restored and saved\n",
      "\u001b[34m\u001b[1mtrain: \u001b[0mWARNING ⚠️ /raid/students/ryan/Cayas-AI-231/machine_exers/ME5/datasets/grocery/images/train/090011.jpg: corrupt JPEG restored and saved\n",
      "\u001b[34m\u001b[1mtrain: \u001b[0mWARNING ⚠️ /raid/students/ryan/Cayas-AI-231/machine_exers/ME5/datasets/grocery/images/train/090012.jpg: corrupt JPEG restored and saved\n",
      "\u001b[34m\u001b[1mtrain: \u001b[0mWARNING ⚠️ /raid/students/ryan/Cayas-AI-231/machine_exers/ME5/datasets/grocery/images/train/090013.jpg: corrupt JPEG restored and saved\n",
      "\u001b[34m\u001b[1mtrain: \u001b[0mWARNING ⚠️ /raid/students/ryan/Cayas-AI-231/machine_exers/ME5/datasets/grocery/images/train/090014.jpg: corrupt JPEG restored and saved\n",
      "\u001b[34m\u001b[1mtrain: \u001b[0mWARNING ⚠️ /raid/students/ryan/Cayas-AI-231/machine_exers/ME5/datasets/grocery/images/train/090015.jpg: corrupt JPEG restored and saved\n",
      "\u001b[34m\u001b[1mtrain: \u001b[0mWARNING ⚠️ /raid/students/ryan/Cayas-AI-231/machine_exers/ME5/datasets/grocery/images/train/090017.jpg: corrupt JPEG restored and saved\n",
      "\u001b[34m\u001b[1mtrain: \u001b[0mWARNING ⚠️ /raid/students/ryan/Cayas-AI-231/machine_exers/ME5/datasets/grocery/images/train/090018.jpg: corrupt JPEG restored and saved\n",
      "\u001b[34m\u001b[1mtrain: \u001b[0mWARNING ⚠️ /raid/students/ryan/Cayas-AI-231/machine_exers/ME5/datasets/grocery/images/train/090019.jpg: corrupt JPEG restored and saved\n",
      "\u001b[34m\u001b[1mtrain: \u001b[0mWARNING ⚠️ /raid/students/ryan/Cayas-AI-231/machine_exers/ME5/datasets/grocery/images/train/090020.jpg: corrupt JPEG restored and saved\n",
      "\u001b[34m\u001b[1mtrain: \u001b[0mWARNING ⚠️ /raid/students/ryan/Cayas-AI-231/machine_exers/ME5/datasets/grocery/images/train/090021.jpg: corrupt JPEG restored and saved\n",
      "\u001b[34m\u001b[1mtrain: \u001b[0mWARNING ⚠️ /raid/students/ryan/Cayas-AI-231/machine_exers/ME5/datasets/grocery/images/train/090022.jpg: corrupt JPEG restored and saved\n",
      "\u001b[34m\u001b[1mtrain: \u001b[0mWARNING ⚠️ /raid/students/ryan/Cayas-AI-231/machine_exers/ME5/datasets/grocery/images/train/090023.jpg: corrupt JPEG restored and saved\n",
      "\u001b[34m\u001b[1mtrain: \u001b[0mWARNING ⚠️ /raid/students/ryan/Cayas-AI-231/machine_exers/ME5/datasets/grocery/images/train/090024.jpg: corrupt JPEG restored and saved\n",
      "\u001b[34m\u001b[1mtrain: \u001b[0mWARNING ⚠️ /raid/students/ryan/Cayas-AI-231/machine_exers/ME5/datasets/grocery/images/train/090025.jpg: corrupt JPEG restored and saved\n",
      "\u001b[34m\u001b[1mtrain: \u001b[0mWARNING ⚠️ /raid/students/ryan/Cayas-AI-231/machine_exers/ME5/datasets/grocery/images/train/090026.jpg: corrupt JPEG restored and saved\n",
      "\u001b[34m\u001b[1mtrain: \u001b[0mWARNING ⚠️ /raid/students/ryan/Cayas-AI-231/machine_exers/ME5/datasets/grocery/images/train/090027.jpg: corrupt JPEG restored and saved\n",
      "\u001b[34m\u001b[1mtrain: \u001b[0mWARNING ⚠️ /raid/students/ryan/Cayas-AI-231/machine_exers/ME5/datasets/grocery/images/train/090028.jpg: corrupt JPEG restored and saved\n",
      "\u001b[34m\u001b[1mtrain: \u001b[0mWARNING ⚠️ /raid/students/ryan/Cayas-AI-231/machine_exers/ME5/datasets/grocery/images/train/090029.jpg: corrupt JPEG restored and saved\n",
      "\u001b[34m\u001b[1mtrain: \u001b[0mWARNING ⚠️ /raid/students/ryan/Cayas-AI-231/machine_exers/ME5/datasets/grocery/images/train/090030.jpg: corrupt JPEG restored and saved\n",
      "\u001b[34m\u001b[1mtrain: \u001b[0mWARNING ⚠️ /raid/students/ryan/Cayas-AI-231/machine_exers/ME5/datasets/grocery/images/train/090031.jpg: corrupt JPEG restored and saved\n",
      "\u001b[34m\u001b[1mtrain: \u001b[0mWARNING ⚠️ /raid/students/ryan/Cayas-AI-231/machine_exers/ME5/datasets/grocery/images/train/090032.jpg: corrupt JPEG restored and saved\n",
      "\u001b[34m\u001b[1mtrain: \u001b[0mWARNING ⚠️ /raid/students/ryan/Cayas-AI-231/machine_exers/ME5/datasets/grocery/images/train/090033.jpg: corrupt JPEG restored and saved\n",
      "\u001b[34m\u001b[1mtrain: \u001b[0mWARNING ⚠️ /raid/students/ryan/Cayas-AI-231/machine_exers/ME5/datasets/grocery/images/train/090034.jpg: corrupt JPEG restored and saved\n",
      "\u001b[34m\u001b[1mtrain: \u001b[0mWARNING ⚠️ /raid/students/ryan/Cayas-AI-231/machine_exers/ME5/datasets/grocery/images/train/090035.jpg: corrupt JPEG restored and saved\n",
      "\u001b[34m\u001b[1mtrain: \u001b[0mWARNING ⚠️ /raid/students/ryan/Cayas-AI-231/machine_exers/ME5/datasets/grocery/images/train/090036.jpg: corrupt JPEG restored and saved\n",
      "\u001b[34m\u001b[1mtrain: \u001b[0mWARNING ⚠️ /raid/students/ryan/Cayas-AI-231/machine_exers/ME5/datasets/grocery/images/train/090037.jpg: corrupt JPEG restored and saved\n",
      "\u001b[34m\u001b[1mtrain: \u001b[0mWARNING ⚠️ /raid/students/ryan/Cayas-AI-231/machine_exers/ME5/datasets/grocery/images/train/090038.jpg: corrupt JPEG restored and saved\n",
      "\u001b[34m\u001b[1mtrain: \u001b[0mWARNING ⚠️ /raid/students/ryan/Cayas-AI-231/machine_exers/ME5/datasets/grocery/images/train/090040.jpg: corrupt JPEG restored and saved\n",
      "\u001b[34m\u001b[1mtrain: \u001b[0mWARNING ⚠️ /raid/students/ryan/Cayas-AI-231/machine_exers/ME5/datasets/grocery/images/train/090041.jpg: corrupt JPEG restored and saved\n",
      "\u001b[34m\u001b[1mtrain: \u001b[0mWARNING ⚠️ /raid/students/ryan/Cayas-AI-231/machine_exers/ME5/datasets/grocery/images/train/090042.jpg: corrupt JPEG restored and saved\n",
      "\u001b[34m\u001b[1mtrain: \u001b[0mWARNING ⚠️ /raid/students/ryan/Cayas-AI-231/machine_exers/ME5/datasets/grocery/images/train/090043.jpg: corrupt JPEG restored and saved\n",
      "\u001b[34m\u001b[1mtrain: \u001b[0mWARNING ⚠️ /raid/students/ryan/Cayas-AI-231/machine_exers/ME5/datasets/grocery/images/train/090044.jpg: corrupt JPEG restored and saved\n",
      "\u001b[34m\u001b[1mtrain: \u001b[0mWARNING ⚠️ /raid/students/ryan/Cayas-AI-231/machine_exers/ME5/datasets/grocery/images/train/090045.jpg: corrupt JPEG restored and saved\n",
      "\u001b[34m\u001b[1mtrain: \u001b[0mWARNING ⚠️ /raid/students/ryan/Cayas-AI-231/machine_exers/ME5/datasets/grocery/images/train/090046.jpg: corrupt JPEG restored and saved\n",
      "\u001b[34m\u001b[1mtrain: \u001b[0mWARNING ⚠️ /raid/students/ryan/Cayas-AI-231/machine_exers/ME5/datasets/grocery/images/train/090047.jpg: corrupt JPEG restored and saved\n",
      "\u001b[34m\u001b[1mtrain: \u001b[0mWARNING ⚠️ /raid/students/ryan/Cayas-AI-231/machine_exers/ME5/datasets/grocery/images/train/090048.jpg: corrupt JPEG restored and saved\n",
      "\u001b[34m\u001b[1mtrain: \u001b[0mWARNING ⚠️ /raid/students/ryan/Cayas-AI-231/machine_exers/ME5/datasets/grocery/images/train/090049.jpg: corrupt JPEG restored and saved\n",
      "\u001b[34m\u001b[1mtrain: \u001b[0mWARNING ⚠️ /raid/students/ryan/Cayas-AI-231/machine_exers/ME5/datasets/grocery/images/train/090050.jpg: corrupt JPEG restored and saved\n",
      "\u001b[34m\u001b[1mtrain: \u001b[0mWARNING ⚠️ /raid/students/ryan/Cayas-AI-231/machine_exers/ME5/datasets/grocery/images/train/090051.jpg: corrupt JPEG restored and saved\n",
      "\u001b[34m\u001b[1mtrain: \u001b[0mWARNING ⚠️ /raid/students/ryan/Cayas-AI-231/machine_exers/ME5/datasets/grocery/images/train/090052.jpg: corrupt JPEG restored and saved\n",
      "\u001b[34m\u001b[1mtrain: \u001b[0mWARNING ⚠️ /raid/students/ryan/Cayas-AI-231/machine_exers/ME5/datasets/grocery/images/train/090053.jpg: corrupt JPEG restored and saved\n",
      "\u001b[34m\u001b[1mtrain: \u001b[0mWARNING ⚠️ /raid/students/ryan/Cayas-AI-231/machine_exers/ME5/datasets/grocery/images/train/090054.jpg: corrupt JPEG restored and saved\n",
      "\u001b[34m\u001b[1mtrain: \u001b[0mWARNING ⚠️ /raid/students/ryan/Cayas-AI-231/machine_exers/ME5/datasets/grocery/images/train/090055.jpg: corrupt JPEG restored and saved\n",
      "\u001b[34m\u001b[1mtrain: \u001b[0mWARNING ⚠️ /raid/students/ryan/Cayas-AI-231/machine_exers/ME5/datasets/grocery/images/train/090056.jpg: corrupt JPEG restored and saved\n",
      "\u001b[34m\u001b[1mtrain: \u001b[0mWARNING ⚠️ /raid/students/ryan/Cayas-AI-231/machine_exers/ME5/datasets/grocery/images/train/090057.jpg: corrupt JPEG restored and saved\n",
      "\u001b[34m\u001b[1mtrain: \u001b[0mWARNING ⚠️ /raid/students/ryan/Cayas-AI-231/machine_exers/ME5/datasets/grocery/images/train/090058.jpg: corrupt JPEG restored and saved\n",
      "\u001b[34m\u001b[1mtrain: \u001b[0mWARNING ⚠️ /raid/students/ryan/Cayas-AI-231/machine_exers/ME5/datasets/grocery/images/train/090059.jpg: corrupt JPEG restored and saved\n",
      "\u001b[34m\u001b[1mtrain: \u001b[0mWARNING ⚠️ /raid/students/ryan/Cayas-AI-231/machine_exers/ME5/datasets/grocery/images/train/090060.jpg: corrupt JPEG restored and saved\n",
      "\u001b[34m\u001b[1mtrain: \u001b[0mWARNING ⚠️ /raid/students/ryan/Cayas-AI-231/machine_exers/ME5/datasets/grocery/images/train/090061.jpg: corrupt JPEG restored and saved\n",
      "\u001b[34m\u001b[1mtrain: \u001b[0mWARNING ⚠️ /raid/students/ryan/Cayas-AI-231/machine_exers/ME5/datasets/grocery/images/train/090062.jpg: corrupt JPEG restored and saved\n",
      "\u001b[34m\u001b[1mtrain: \u001b[0mWARNING ⚠️ /raid/students/ryan/Cayas-AI-231/machine_exers/ME5/datasets/grocery/images/train/090063.jpg: corrupt JPEG restored and saved\n",
      "\u001b[34m\u001b[1mtrain: \u001b[0mWARNING ⚠️ /raid/students/ryan/Cayas-AI-231/machine_exers/ME5/datasets/grocery/images/train/090065.jpg: corrupt JPEG restored and saved\n",
      "\u001b[34m\u001b[1mtrain: \u001b[0mWARNING ⚠️ /raid/students/ryan/Cayas-AI-231/machine_exers/ME5/datasets/grocery/images/train/090066.jpg: corrupt JPEG restored and saved\n",
      "\u001b[34m\u001b[1mtrain: \u001b[0mWARNING ⚠️ /raid/students/ryan/Cayas-AI-231/machine_exers/ME5/datasets/grocery/images/train/090067.jpg: corrupt JPEG restored and saved\n",
      "\u001b[34m\u001b[1mtrain: \u001b[0mWARNING ⚠️ /raid/students/ryan/Cayas-AI-231/machine_exers/ME5/datasets/grocery/images/train/090068.jpg: corrupt JPEG restored and saved\n",
      "\u001b[34m\u001b[1mtrain: \u001b[0mWARNING ⚠️ /raid/students/ryan/Cayas-AI-231/machine_exers/ME5/datasets/grocery/images/train/090069.jpg: corrupt JPEG restored and saved\n",
      "\u001b[34m\u001b[1mtrain: \u001b[0mWARNING ⚠️ /raid/students/ryan/Cayas-AI-231/machine_exers/ME5/datasets/grocery/images/train/090070.jpg: corrupt JPEG restored and saved\n",
      "\u001b[34m\u001b[1mtrain: \u001b[0mWARNING ⚠️ /raid/students/ryan/Cayas-AI-231/machine_exers/ME5/datasets/grocery/images/train/090071.jpg: corrupt JPEG restored and saved\n",
      "\u001b[34m\u001b[1mtrain: \u001b[0mWARNING ⚠️ /raid/students/ryan/Cayas-AI-231/machine_exers/ME5/datasets/grocery/images/train/090072.jpg: corrupt JPEG restored and saved\n",
      "\u001b[34m\u001b[1mtrain: \u001b[0mWARNING ⚠️ /raid/students/ryan/Cayas-AI-231/machine_exers/ME5/datasets/grocery/images/train/090073.jpg: corrupt JPEG restored and saved\n",
      "\u001b[34m\u001b[1mtrain: \u001b[0mWARNING ⚠️ /raid/students/ryan/Cayas-AI-231/machine_exers/ME5/datasets/grocery/images/train/090074.jpg: corrupt JPEG restored and saved\n",
      "\u001b[34m\u001b[1mtrain: \u001b[0mWARNING ⚠️ /raid/students/ryan/Cayas-AI-231/machine_exers/ME5/datasets/grocery/images/train/090075.jpg: corrupt JPEG restored and saved\n",
      "\u001b[34m\u001b[1mtrain: \u001b[0mWARNING ⚠️ /raid/students/ryan/Cayas-AI-231/machine_exers/ME5/datasets/grocery/images/train/090076.jpg: corrupt JPEG restored and saved\n",
      "\u001b[34m\u001b[1mtrain: \u001b[0mWARNING ⚠️ /raid/students/ryan/Cayas-AI-231/machine_exers/ME5/datasets/grocery/images/train/090077.jpg: corrupt JPEG restored and saved\n",
      "\u001b[34m\u001b[1mtrain: \u001b[0mWARNING ⚠️ /raid/students/ryan/Cayas-AI-231/machine_exers/ME5/datasets/grocery/images/train/090078.jpg: corrupt JPEG restored and saved\n",
      "\u001b[34m\u001b[1mtrain: \u001b[0mWARNING ⚠️ /raid/students/ryan/Cayas-AI-231/machine_exers/ME5/datasets/grocery/images/train/090079.jpg: corrupt JPEG restored and saved\n",
      "\u001b[34m\u001b[1mtrain: \u001b[0mWARNING ⚠️ /raid/students/ryan/Cayas-AI-231/machine_exers/ME5/datasets/grocery/images/train/090080.jpg: corrupt JPEG restored and saved\n",
      "\u001b[34m\u001b[1mtrain: \u001b[0mWARNING ⚠️ /raid/students/ryan/Cayas-AI-231/machine_exers/ME5/datasets/grocery/images/train/090082.jpg: corrupt JPEG restored and saved\n",
      "\u001b[34m\u001b[1mtrain: \u001b[0mWARNING ⚠️ /raid/students/ryan/Cayas-AI-231/machine_exers/ME5/datasets/grocery/images/train/090083.jpg: corrupt JPEG restored and saved\n",
      "\u001b[34m\u001b[1mtrain: \u001b[0mWARNING ⚠️ /raid/students/ryan/Cayas-AI-231/machine_exers/ME5/datasets/grocery/images/train/090085.jpg: corrupt JPEG restored and saved\n",
      "\u001b[34m\u001b[1mtrain: \u001b[0mWARNING ⚠️ /raid/students/ryan/Cayas-AI-231/machine_exers/ME5/datasets/grocery/images/train/090086.jpg: corrupt JPEG restored and saved\n",
      "\u001b[34m\u001b[1mtrain: \u001b[0mWARNING ⚠️ /raid/students/ryan/Cayas-AI-231/machine_exers/ME5/datasets/grocery/images/train/090087.jpg: corrupt JPEG restored and saved\n",
      "\u001b[34m\u001b[1mtrain: \u001b[0mWARNING ⚠️ /raid/students/ryan/Cayas-AI-231/machine_exers/ME5/datasets/grocery/images/train/090088.jpg: corrupt JPEG restored and saved\n",
      "\u001b[34m\u001b[1mtrain: \u001b[0mWARNING ⚠️ /raid/students/ryan/Cayas-AI-231/machine_exers/ME5/datasets/grocery/images/train/090089.jpg: corrupt JPEG restored and saved\n",
      "\u001b[34m\u001b[1mtrain: \u001b[0mWARNING ⚠️ /raid/students/ryan/Cayas-AI-231/machine_exers/ME5/datasets/grocery/images/train/090090.jpg: corrupt JPEG restored and saved\n",
      "\u001b[34m\u001b[1mtrain: \u001b[0mWARNING ⚠️ /raid/students/ryan/Cayas-AI-231/machine_exers/ME5/datasets/grocery/images/train/090091.jpg: corrupt JPEG restored and saved\n",
      "\u001b[34m\u001b[1mtrain: \u001b[0mWARNING ⚠️ /raid/students/ryan/Cayas-AI-231/machine_exers/ME5/datasets/grocery/images/train/090092.jpg: corrupt JPEG restored and saved\n",
      "\u001b[34m\u001b[1mtrain: \u001b[0mWARNING ⚠️ /raid/students/ryan/Cayas-AI-231/machine_exers/ME5/datasets/grocery/images/train/090093.jpg: corrupt JPEG restored and saved\n",
      "\u001b[34m\u001b[1mtrain: \u001b[0mWARNING ⚠️ /raid/students/ryan/Cayas-AI-231/machine_exers/ME5/datasets/grocery/images/train/090094.jpg: corrupt JPEG restored and saved\n",
      "\u001b[34m\u001b[1mtrain: \u001b[0mWARNING ⚠️ /raid/students/ryan/Cayas-AI-231/machine_exers/ME5/datasets/grocery/images/train/090095.jpg: corrupt JPEG restored and saved\n",
      "\u001b[34m\u001b[1mtrain: \u001b[0mWARNING ⚠️ /raid/students/ryan/Cayas-AI-231/machine_exers/ME5/datasets/grocery/images/train/090096.jpg: corrupt JPEG restored and saved\n",
      "\u001b[34m\u001b[1mtrain: \u001b[0mWARNING ⚠️ /raid/students/ryan/Cayas-AI-231/machine_exers/ME5/datasets/grocery/images/train/090098.jpg: corrupt JPEG restored and saved\n",
      "\u001b[34m\u001b[1mtrain: \u001b[0mWARNING ⚠️ /raid/students/ryan/Cayas-AI-231/machine_exers/ME5/datasets/grocery/images/train/090099.jpg: corrupt JPEG restored and saved\n",
      "\u001b[34m\u001b[1mtrain: \u001b[0mWARNING ⚠️ /raid/students/ryan/Cayas-AI-231/machine_exers/ME5/datasets/grocery/images/train/090100.jpg: corrupt JPEG restored and saved\n",
      "\u001b[34m\u001b[1mtrain: \u001b[0mWARNING ⚠️ /raid/students/ryan/Cayas-AI-231/machine_exers/ME5/datasets/grocery/images/train/090101.jpg: corrupt JPEG restored and saved\n",
      "\u001b[34m\u001b[1mtrain: \u001b[0mWARNING ⚠️ /raid/students/ryan/Cayas-AI-231/machine_exers/ME5/datasets/grocery/images/train/090104.jpg: corrupt JPEG restored and saved\n",
      "\u001b[34m\u001b[1mtrain: \u001b[0mWARNING ⚠️ /raid/students/ryan/Cayas-AI-231/machine_exers/ME5/datasets/grocery/images/train/090105.jpg: corrupt JPEG restored and saved\n",
      "\u001b[34m\u001b[1mtrain: \u001b[0mWARNING ⚠️ /raid/students/ryan/Cayas-AI-231/machine_exers/ME5/datasets/grocery/images/train/090106.jpg: corrupt JPEG restored and saved\n",
      "\u001b[34m\u001b[1mtrain: \u001b[0mWARNING ⚠️ /raid/students/ryan/Cayas-AI-231/machine_exers/ME5/datasets/grocery/images/train/090107.jpg: corrupt JPEG restored and saved\n",
      "\u001b[34m\u001b[1mtrain: \u001b[0mWARNING ⚠️ /raid/students/ryan/Cayas-AI-231/machine_exers/ME5/datasets/grocery/images/train/090109.jpg: corrupt JPEG restored and saved\n",
      "\u001b[34m\u001b[1mtrain: \u001b[0mWARNING ⚠️ /raid/students/ryan/Cayas-AI-231/machine_exers/ME5/datasets/grocery/images/train/090110.jpg: corrupt JPEG restored and saved\n",
      "\u001b[34m\u001b[1mtrain: \u001b[0mWARNING ⚠️ /raid/students/ryan/Cayas-AI-231/machine_exers/ME5/datasets/grocery/images/train/090111.jpg: corrupt JPEG restored and saved\n",
      "\u001b[34m\u001b[1mtrain: \u001b[0mWARNING ⚠️ /raid/students/ryan/Cayas-AI-231/machine_exers/ME5/datasets/grocery/images/train/090112.jpg: corrupt JPEG restored and saved\n",
      "\u001b[34m\u001b[1mtrain: \u001b[0mWARNING ⚠️ /raid/students/ryan/Cayas-AI-231/machine_exers/ME5/datasets/grocery/images/train/090113.jpg: corrupt JPEG restored and saved\n",
      "\u001b[34m\u001b[1mtrain: \u001b[0mWARNING ⚠️ /raid/students/ryan/Cayas-AI-231/machine_exers/ME5/datasets/grocery/images/train/090114.jpg: corrupt JPEG restored and saved\n",
      "\u001b[34m\u001b[1mtrain: \u001b[0mWARNING ⚠️ /raid/students/ryan/Cayas-AI-231/machine_exers/ME5/datasets/grocery/images/train/090115.jpg: corrupt JPEG restored and saved\n",
      "\u001b[34m\u001b[1mtrain: \u001b[0mWARNING ⚠️ /raid/students/ryan/Cayas-AI-231/machine_exers/ME5/datasets/grocery/images/train/090118.jpg: corrupt JPEG restored and saved\n",
      "\u001b[34m\u001b[1mtrain: \u001b[0mWARNING ⚠️ /raid/students/ryan/Cayas-AI-231/machine_exers/ME5/datasets/grocery/images/train/090119.jpg: corrupt JPEG restored and saved\n",
      "\u001b[34m\u001b[1mtrain: \u001b[0mWARNING ⚠️ /raid/students/ryan/Cayas-AI-231/machine_exers/ME5/datasets/grocery/images/train/090120.jpg: corrupt JPEG restored and saved\n",
      "\u001b[34m\u001b[1mtrain: \u001b[0mWARNING ⚠️ /raid/students/ryan/Cayas-AI-231/machine_exers/ME5/datasets/grocery/images/train/090121.jpg: corrupt JPEG restored and saved\n",
      "\u001b[34m\u001b[1mtrain: \u001b[0mWARNING ⚠️ /raid/students/ryan/Cayas-AI-231/machine_exers/ME5/datasets/grocery/images/train/090122.jpg: corrupt JPEG restored and saved\n",
      "\u001b[34m\u001b[1mtrain: \u001b[0mWARNING ⚠️ /raid/students/ryan/Cayas-AI-231/machine_exers/ME5/datasets/grocery/images/train/090123.jpg: corrupt JPEG restored and saved\n",
      "\u001b[34m\u001b[1mtrain: \u001b[0mWARNING ⚠️ /raid/students/ryan/Cayas-AI-231/machine_exers/ME5/datasets/grocery/images/train/090125.jpg: corrupt JPEG restored and saved\n",
      "\u001b[34m\u001b[1mtrain: \u001b[0mWARNING ⚠️ /raid/students/ryan/Cayas-AI-231/machine_exers/ME5/datasets/grocery/images/train/090126.jpg: corrupt JPEG restored and saved\n",
      "\u001b[34m\u001b[1mtrain: \u001b[0mWARNING ⚠️ /raid/students/ryan/Cayas-AI-231/machine_exers/ME5/datasets/grocery/images/train/090127.jpg: corrupt JPEG restored and saved\n",
      "\u001b[34m\u001b[1mtrain: \u001b[0mWARNING ⚠️ /raid/students/ryan/Cayas-AI-231/machine_exers/ME5/datasets/grocery/images/train/090128.jpg: corrupt JPEG restored and saved\n",
      "\u001b[34m\u001b[1mtrain: \u001b[0mWARNING ⚠️ /raid/students/ryan/Cayas-AI-231/machine_exers/ME5/datasets/grocery/images/train/090129.jpg: corrupt JPEG restored and saved\n",
      "\u001b[34m\u001b[1mtrain: \u001b[0mWARNING ⚠️ /raid/students/ryan/Cayas-AI-231/machine_exers/ME5/datasets/grocery/images/train/090130.jpg: corrupt JPEG restored and saved\n",
      "\u001b[34m\u001b[1mtrain: \u001b[0mWARNING ⚠️ /raid/students/ryan/Cayas-AI-231/machine_exers/ME5/datasets/grocery/images/train/090131.jpg: corrupt JPEG restored and saved\n",
      "\u001b[34m\u001b[1mtrain: \u001b[0mWARNING ⚠️ /raid/students/ryan/Cayas-AI-231/machine_exers/ME5/datasets/grocery/images/train/090132.jpg: corrupt JPEG restored and saved\n",
      "\u001b[34m\u001b[1mtrain: \u001b[0mWARNING ⚠️ /raid/students/ryan/Cayas-AI-231/machine_exers/ME5/datasets/grocery/images/train/090133.jpg: corrupt JPEG restored and saved\n",
      "\u001b[34m\u001b[1mtrain: \u001b[0mWARNING ⚠️ /raid/students/ryan/Cayas-AI-231/machine_exers/ME5/datasets/grocery/images/train/090134.jpg: corrupt JPEG restored and saved\n",
      "\u001b[34m\u001b[1mtrain: \u001b[0mWARNING ⚠️ /raid/students/ryan/Cayas-AI-231/machine_exers/ME5/datasets/grocery/images/train/090135.jpg: corrupt JPEG restored and saved\n",
      "\u001b[34m\u001b[1mtrain: \u001b[0mWARNING ⚠️ /raid/students/ryan/Cayas-AI-231/machine_exers/ME5/datasets/grocery/images/train/090136.jpg: corrupt JPEG restored and saved\n",
      "\u001b[34m\u001b[1mtrain: \u001b[0mWARNING ⚠️ /raid/students/ryan/Cayas-AI-231/machine_exers/ME5/datasets/grocery/images/train/090137.jpg: corrupt JPEG restored and saved\n",
      "\u001b[34m\u001b[1mtrain: \u001b[0mWARNING ⚠️ /raid/students/ryan/Cayas-AI-231/machine_exers/ME5/datasets/grocery/images/train/090138.jpg: corrupt JPEG restored and saved\n",
      "\u001b[34m\u001b[1mtrain: \u001b[0mWARNING ⚠️ /raid/students/ryan/Cayas-AI-231/machine_exers/ME5/datasets/grocery/images/train/090139.jpg: corrupt JPEG restored and saved\n",
      "\u001b[34m\u001b[1mtrain: \u001b[0mWARNING ⚠️ /raid/students/ryan/Cayas-AI-231/machine_exers/ME5/datasets/grocery/images/train/090140.jpg: corrupt JPEG restored and saved\n",
      "\u001b[34m\u001b[1mtrain: \u001b[0mWARNING ⚠️ /raid/students/ryan/Cayas-AI-231/machine_exers/ME5/datasets/grocery/images/train/090141.jpg: corrupt JPEG restored and saved\n",
      "\u001b[34m\u001b[1mtrain: \u001b[0mWARNING ⚠️ /raid/students/ryan/Cayas-AI-231/machine_exers/ME5/datasets/grocery/images/train/090142.jpg: corrupt JPEG restored and saved\n",
      "\u001b[34m\u001b[1mtrain: \u001b[0mWARNING ⚠️ /raid/students/ryan/Cayas-AI-231/machine_exers/ME5/datasets/grocery/images/train/090143.jpg: corrupt JPEG restored and saved\n",
      "\u001b[34m\u001b[1mtrain: \u001b[0mWARNING ⚠️ /raid/students/ryan/Cayas-AI-231/machine_exers/ME5/datasets/grocery/images/train/090144.jpg: corrupt JPEG restored and saved\n",
      "\u001b[34m\u001b[1mtrain: \u001b[0mWARNING ⚠️ /raid/students/ryan/Cayas-AI-231/machine_exers/ME5/datasets/grocery/images/train/090145.jpg: corrupt JPEG restored and saved\n",
      "\u001b[34m\u001b[1mtrain: \u001b[0mWARNING ⚠️ /raid/students/ryan/Cayas-AI-231/machine_exers/ME5/datasets/grocery/images/train/090146.jpg: corrupt JPEG restored and saved\n",
      "\u001b[34m\u001b[1mtrain: \u001b[0mWARNING ⚠️ /raid/students/ryan/Cayas-AI-231/machine_exers/ME5/datasets/grocery/images/train/090147.jpg: corrupt JPEG restored and saved\n",
      "\u001b[34m\u001b[1mtrain: \u001b[0mWARNING ⚠️ /raid/students/ryan/Cayas-AI-231/machine_exers/ME5/datasets/grocery/images/train/090148.jpg: corrupt JPEG restored and saved\n",
      "\u001b[34m\u001b[1mtrain: \u001b[0mWARNING ⚠️ /raid/students/ryan/Cayas-AI-231/machine_exers/ME5/datasets/grocery/images/train/090149.jpg: corrupt JPEG restored and saved\n",
      "\u001b[34m\u001b[1mtrain: \u001b[0mWARNING ⚠️ /raid/students/ryan/Cayas-AI-231/machine_exers/ME5/datasets/grocery/images/train/090150.jpg: corrupt JPEG restored and saved\n",
      "\u001b[34m\u001b[1mtrain: \u001b[0mWARNING ⚠️ /raid/students/ryan/Cayas-AI-231/machine_exers/ME5/datasets/grocery/images/train/090151.jpg: corrupt JPEG restored and saved\n",
      "\u001b[34m\u001b[1mtrain: \u001b[0mWARNING ⚠️ /raid/students/ryan/Cayas-AI-231/machine_exers/ME5/datasets/grocery/images/train/090152.jpg: corrupt JPEG restored and saved\n",
      "\u001b[34m\u001b[1mtrain: \u001b[0mWARNING ⚠️ /raid/students/ryan/Cayas-AI-231/machine_exers/ME5/datasets/grocery/images/train/090153.jpg: corrupt JPEG restored and saved\n",
      "\u001b[34m\u001b[1mtrain: \u001b[0mWARNING ⚠️ /raid/students/ryan/Cayas-AI-231/machine_exers/ME5/datasets/grocery/images/train/090154.jpg: corrupt JPEG restored and saved\n",
      "\u001b[34m\u001b[1mtrain: \u001b[0mWARNING ⚠️ /raid/students/ryan/Cayas-AI-231/machine_exers/ME5/datasets/grocery/images/train/090155.jpg: corrupt JPEG restored and saved\n",
      "\u001b[34m\u001b[1mtrain: \u001b[0mWARNING ⚠️ /raid/students/ryan/Cayas-AI-231/machine_exers/ME5/datasets/grocery/images/train/090156.jpg: corrupt JPEG restored and saved\n",
      "\u001b[34m\u001b[1mtrain: \u001b[0mWARNING ⚠️ /raid/students/ryan/Cayas-AI-231/machine_exers/ME5/datasets/grocery/images/train/090157.jpg: corrupt JPEG restored and saved\n",
      "\u001b[34m\u001b[1mtrain: \u001b[0mWARNING ⚠️ /raid/students/ryan/Cayas-AI-231/machine_exers/ME5/datasets/grocery/images/train/090158.jpg: corrupt JPEG restored and saved\n",
      "\u001b[34m\u001b[1mtrain: \u001b[0mWARNING ⚠️ /raid/students/ryan/Cayas-AI-231/machine_exers/ME5/datasets/grocery/images/train/090159.jpg: corrupt JPEG restored and saved\n",
      "\u001b[34m\u001b[1mtrain: \u001b[0mWARNING ⚠️ /raid/students/ryan/Cayas-AI-231/machine_exers/ME5/datasets/grocery/images/train/090160.jpg: corrupt JPEG restored and saved\n",
      "\u001b[34m\u001b[1mtrain: \u001b[0mWARNING ⚠️ /raid/students/ryan/Cayas-AI-231/machine_exers/ME5/datasets/grocery/images/train/090161.jpg: corrupt JPEG restored and saved\n",
      "\u001b[34m\u001b[1mtrain: \u001b[0mWARNING ⚠️ /raid/students/ryan/Cayas-AI-231/machine_exers/ME5/datasets/grocery/images/train/090162.jpg: corrupt JPEG restored and saved\n",
      "\u001b[34m\u001b[1mtrain: \u001b[0mWARNING ⚠️ /raid/students/ryan/Cayas-AI-231/machine_exers/ME5/datasets/grocery/images/train/090163.jpg: corrupt JPEG restored and saved\n",
      "\u001b[34m\u001b[1mtrain: \u001b[0mWARNING ⚠️ /raid/students/ryan/Cayas-AI-231/machine_exers/ME5/datasets/grocery/images/train/090164.jpg: corrupt JPEG restored and saved\n",
      "\u001b[34m\u001b[1mtrain: \u001b[0mWARNING ⚠️ /raid/students/ryan/Cayas-AI-231/machine_exers/ME5/datasets/grocery/images/train/090165.jpg: corrupt JPEG restored and saved\n",
      "\u001b[34m\u001b[1mtrain: \u001b[0mWARNING ⚠️ /raid/students/ryan/Cayas-AI-231/machine_exers/ME5/datasets/grocery/images/train/090166.jpg: corrupt JPEG restored and saved\n",
      "\u001b[34m\u001b[1mtrain: \u001b[0mWARNING ⚠️ /raid/students/ryan/Cayas-AI-231/machine_exers/ME5/datasets/grocery/images/train/090167.jpg: corrupt JPEG restored and saved\n",
      "\u001b[34m\u001b[1mtrain: \u001b[0mWARNING ⚠️ /raid/students/ryan/Cayas-AI-231/machine_exers/ME5/datasets/grocery/images/train/090168.jpg: corrupt JPEG restored and saved\n",
      "\u001b[34m\u001b[1mtrain: \u001b[0mWARNING ⚠️ /raid/students/ryan/Cayas-AI-231/machine_exers/ME5/datasets/grocery/images/train/090169.jpg: corrupt JPEG restored and saved\n",
      "\u001b[34m\u001b[1mtrain: \u001b[0mWARNING ⚠️ /raid/students/ryan/Cayas-AI-231/machine_exers/ME5/datasets/grocery/images/train/090171.jpg: corrupt JPEG restored and saved\n",
      "\u001b[34m\u001b[1mtrain: \u001b[0mWARNING ⚠️ /raid/students/ryan/Cayas-AI-231/machine_exers/ME5/datasets/grocery/images/train/090173.jpg: corrupt JPEG restored and saved\n",
      "\u001b[34m\u001b[1mtrain: \u001b[0mWARNING ⚠️ /raid/students/ryan/Cayas-AI-231/machine_exers/ME5/datasets/grocery/images/train/090174.jpg: corrupt JPEG restored and saved\n",
      "\u001b[34m\u001b[1mtrain: \u001b[0mWARNING ⚠️ /raid/students/ryan/Cayas-AI-231/machine_exers/ME5/datasets/grocery/images/train/090175.jpg: corrupt JPEG restored and saved\n",
      "\u001b[34m\u001b[1mtrain: \u001b[0mWARNING ⚠️ /raid/students/ryan/Cayas-AI-231/machine_exers/ME5/datasets/grocery/images/train/090176.jpg: corrupt JPEG restored and saved\n",
      "\u001b[34m\u001b[1mtrain: \u001b[0mWARNING ⚠️ /raid/students/ryan/Cayas-AI-231/machine_exers/ME5/datasets/grocery/images/train/090177.jpg: corrupt JPEG restored and saved\n",
      "\u001b[34m\u001b[1mtrain: \u001b[0mWARNING ⚠️ /raid/students/ryan/Cayas-AI-231/machine_exers/ME5/datasets/grocery/images/train/090178.jpg: corrupt JPEG restored and saved\n",
      "\u001b[34m\u001b[1mtrain: \u001b[0mWARNING ⚠️ /raid/students/ryan/Cayas-AI-231/machine_exers/ME5/datasets/grocery/images/train/090179.jpg: corrupt JPEG restored and saved\n",
      "\u001b[34m\u001b[1mtrain: \u001b[0mWARNING ⚠️ /raid/students/ryan/Cayas-AI-231/machine_exers/ME5/datasets/grocery/images/train/090180.jpg: corrupt JPEG restored and saved\n",
      "\u001b[34m\u001b[1mtrain: \u001b[0mWARNING ⚠️ /raid/students/ryan/Cayas-AI-231/machine_exers/ME5/datasets/grocery/images/train/090181.jpg: corrupt JPEG restored and saved\n",
      "\u001b[34m\u001b[1mtrain: \u001b[0mWARNING ⚠️ /raid/students/ryan/Cayas-AI-231/machine_exers/ME5/datasets/grocery/images/train/090183.jpg: corrupt JPEG restored and saved\n",
      "\u001b[34m\u001b[1mtrain: \u001b[0mWARNING ⚠️ /raid/students/ryan/Cayas-AI-231/machine_exers/ME5/datasets/grocery/images/train/090184.jpg: corrupt JPEG restored and saved\n",
      "\u001b[34m\u001b[1mtrain: \u001b[0mWARNING ⚠️ /raid/students/ryan/Cayas-AI-231/machine_exers/ME5/datasets/grocery/images/train/090186.jpg: corrupt JPEG restored and saved\n",
      "\u001b[34m\u001b[1mtrain: \u001b[0mWARNING ⚠️ /raid/students/ryan/Cayas-AI-231/machine_exers/ME5/datasets/grocery/images/train/090187.jpg: corrupt JPEG restored and saved\n",
      "\u001b[34m\u001b[1mtrain: \u001b[0mWARNING ⚠️ /raid/students/ryan/Cayas-AI-231/machine_exers/ME5/datasets/grocery/images/train/090188.jpg: corrupt JPEG restored and saved\n",
      "\u001b[34m\u001b[1mtrain: \u001b[0mWARNING ⚠️ /raid/students/ryan/Cayas-AI-231/machine_exers/ME5/datasets/grocery/images/train/090189.jpg: corrupt JPEG restored and saved\n",
      "\u001b[34m\u001b[1mtrain: \u001b[0mWARNING ⚠️ /raid/students/ryan/Cayas-AI-231/machine_exers/ME5/datasets/grocery/images/train/090190.jpg: corrupt JPEG restored and saved\n",
      "\u001b[34m\u001b[1mtrain: \u001b[0mWARNING ⚠️ /raid/students/ryan/Cayas-AI-231/machine_exers/ME5/datasets/grocery/images/train/090191.jpg: corrupt JPEG restored and saved\n",
      "\u001b[34m\u001b[1mtrain: \u001b[0mWARNING ⚠️ /raid/students/ryan/Cayas-AI-231/machine_exers/ME5/datasets/grocery/images/train/090192.jpg: corrupt JPEG restored and saved\n",
      "\u001b[34m\u001b[1mtrain: \u001b[0mWARNING ⚠️ /raid/students/ryan/Cayas-AI-231/machine_exers/ME5/datasets/grocery/images/train/090193.jpg: corrupt JPEG restored and saved\n",
      "\u001b[34m\u001b[1mtrain: \u001b[0mWARNING ⚠️ /raid/students/ryan/Cayas-AI-231/machine_exers/ME5/datasets/grocery/images/train/090194.jpg: corrupt JPEG restored and saved\n",
      "\u001b[34m\u001b[1mtrain: \u001b[0mWARNING ⚠️ /raid/students/ryan/Cayas-AI-231/machine_exers/ME5/datasets/grocery/images/train/090195.jpg: corrupt JPEG restored and saved\n",
      "\u001b[34m\u001b[1mtrain: \u001b[0mWARNING ⚠️ /raid/students/ryan/Cayas-AI-231/machine_exers/ME5/datasets/grocery/images/train/090196.jpg: corrupt JPEG restored and saved\n",
      "\u001b[34m\u001b[1mtrain: \u001b[0mWARNING ⚠️ /raid/students/ryan/Cayas-AI-231/machine_exers/ME5/datasets/grocery/images/train/090197.jpg: corrupt JPEG restored and saved\n",
      "\u001b[34m\u001b[1mtrain: \u001b[0mWARNING ⚠️ /raid/students/ryan/Cayas-AI-231/machine_exers/ME5/datasets/grocery/images/train/090198.jpg: corrupt JPEG restored and saved\n",
      "\u001b[34m\u001b[1mtrain: \u001b[0mWARNING ⚠️ /raid/students/ryan/Cayas-AI-231/machine_exers/ME5/datasets/grocery/images/train/090199.jpg: corrupt JPEG restored and saved\n",
      "\u001b[34m\u001b[1mtrain: \u001b[0mWARNING ⚠️ /raid/students/ryan/Cayas-AI-231/machine_exers/ME5/datasets/grocery/images/train/090200.jpg: corrupt JPEG restored and saved\n",
      "\u001b[34m\u001b[1mtrain: \u001b[0mWARNING ⚠️ /raid/students/ryan/Cayas-AI-231/machine_exers/ME5/datasets/grocery/images/train/090201.jpg: corrupt JPEG restored and saved\n",
      "\u001b[34m\u001b[1mtrain: \u001b[0mWARNING ⚠️ /raid/students/ryan/Cayas-AI-231/machine_exers/ME5/datasets/grocery/images/train/090202.jpg: corrupt JPEG restored and saved\n",
      "\u001b[34m\u001b[1mtrain: \u001b[0mWARNING ⚠️ /raid/students/ryan/Cayas-AI-231/machine_exers/ME5/datasets/grocery/images/train/090203.jpg: corrupt JPEG restored and saved\n",
      "\u001b[34m\u001b[1mtrain: \u001b[0mWARNING ⚠️ /raid/students/ryan/Cayas-AI-231/machine_exers/ME5/datasets/grocery/images/train/090204.jpg: corrupt JPEG restored and saved\n",
      "\u001b[34m\u001b[1mtrain: \u001b[0mWARNING ⚠️ /raid/students/ryan/Cayas-AI-231/machine_exers/ME5/datasets/grocery/images/train/090205.jpg: corrupt JPEG restored and saved\n",
      "\u001b[34m\u001b[1mtrain: \u001b[0mWARNING ⚠️ /raid/students/ryan/Cayas-AI-231/machine_exers/ME5/datasets/grocery/images/train/090206.jpg: corrupt JPEG restored and saved\n",
      "\u001b[34m\u001b[1mtrain: \u001b[0mWARNING ⚠️ /raid/students/ryan/Cayas-AI-231/machine_exers/ME5/datasets/grocery/images/train/090207.jpg: corrupt JPEG restored and saved\n",
      "\u001b[34m\u001b[1mtrain: \u001b[0mWARNING ⚠️ /raid/students/ryan/Cayas-AI-231/machine_exers/ME5/datasets/grocery/images/train/090208.jpg: corrupt JPEG restored and saved\n",
      "\u001b[34m\u001b[1mtrain: \u001b[0mWARNING ⚠️ /raid/students/ryan/Cayas-AI-231/machine_exers/ME5/datasets/grocery/images/train/090209.jpg: corrupt JPEG restored and saved\n",
      "\u001b[34m\u001b[1mtrain: \u001b[0mWARNING ⚠️ /raid/students/ryan/Cayas-AI-231/machine_exers/ME5/datasets/grocery/images/train/090210.jpg: corrupt JPEG restored and saved\n",
      "\u001b[34m\u001b[1mtrain: \u001b[0mWARNING ⚠️ /raid/students/ryan/Cayas-AI-231/machine_exers/ME5/datasets/grocery/images/train/090211.jpg: corrupt JPEG restored and saved\n",
      "\u001b[34m\u001b[1mtrain: \u001b[0mWARNING ⚠️ /raid/students/ryan/Cayas-AI-231/machine_exers/ME5/datasets/grocery/images/train/090212.jpg: corrupt JPEG restored and saved\n",
      "\u001b[34m\u001b[1mtrain: \u001b[0mWARNING ⚠️ /raid/students/ryan/Cayas-AI-231/machine_exers/ME5/datasets/grocery/images/train/090213.jpg: corrupt JPEG restored and saved\n",
      "\u001b[34m\u001b[1mtrain: \u001b[0mWARNING ⚠️ /raid/students/ryan/Cayas-AI-231/machine_exers/ME5/datasets/grocery/images/train/090215.jpg: corrupt JPEG restored and saved\n",
      "\u001b[34m\u001b[1mtrain: \u001b[0mWARNING ⚠️ /raid/students/ryan/Cayas-AI-231/machine_exers/ME5/datasets/grocery/images/train/090216.jpg: corrupt JPEG restored and saved\n",
      "\u001b[34m\u001b[1mtrain: \u001b[0mWARNING ⚠️ /raid/students/ryan/Cayas-AI-231/machine_exers/ME5/datasets/grocery/images/train/090217.jpg: corrupt JPEG restored and saved\n",
      "\u001b[34m\u001b[1mtrain: \u001b[0mWARNING ⚠️ /raid/students/ryan/Cayas-AI-231/machine_exers/ME5/datasets/grocery/images/train/090218.jpg: corrupt JPEG restored and saved\n",
      "\u001b[34m\u001b[1mtrain: \u001b[0mWARNING ⚠️ /raid/students/ryan/Cayas-AI-231/machine_exers/ME5/datasets/grocery/images/train/090219.jpg: corrupt JPEG restored and saved\n",
      "\u001b[34m\u001b[1mtrain: \u001b[0mWARNING ⚠️ /raid/students/ryan/Cayas-AI-231/machine_exers/ME5/datasets/grocery/images/train/090220.jpg: corrupt JPEG restored and saved\n",
      "\u001b[34m\u001b[1mtrain: \u001b[0mWARNING ⚠️ /raid/students/ryan/Cayas-AI-231/machine_exers/ME5/datasets/grocery/images/train/090221.jpg: corrupt JPEG restored and saved\n",
      "\u001b[34m\u001b[1mtrain: \u001b[0mWARNING ⚠️ /raid/students/ryan/Cayas-AI-231/machine_exers/ME5/datasets/grocery/images/train/090222.jpg: corrupt JPEG restored and saved\n",
      "\u001b[34m\u001b[1mtrain: \u001b[0mWARNING ⚠️ /raid/students/ryan/Cayas-AI-231/machine_exers/ME5/datasets/grocery/images/train/090223.jpg: corrupt JPEG restored and saved\n",
      "\u001b[34m\u001b[1mtrain: \u001b[0mWARNING ⚠️ /raid/students/ryan/Cayas-AI-231/machine_exers/ME5/datasets/grocery/images/train/090225.jpg: corrupt JPEG restored and saved\n",
      "\u001b[34m\u001b[1mtrain: \u001b[0mWARNING ⚠️ /raid/students/ryan/Cayas-AI-231/machine_exers/ME5/datasets/grocery/images/train/090226.jpg: corrupt JPEG restored and saved\n",
      "\u001b[34m\u001b[1mtrain: \u001b[0mWARNING ⚠️ /raid/students/ryan/Cayas-AI-231/machine_exers/ME5/datasets/grocery/images/train/090227.jpg: corrupt JPEG restored and saved\n",
      "\u001b[34m\u001b[1mtrain: \u001b[0mWARNING ⚠️ /raid/students/ryan/Cayas-AI-231/machine_exers/ME5/datasets/grocery/images/train/090228.jpg: corrupt JPEG restored and saved\n",
      "\u001b[34m\u001b[1mtrain: \u001b[0mWARNING ⚠️ /raid/students/ryan/Cayas-AI-231/machine_exers/ME5/datasets/grocery/images/train/090229.jpg: corrupt JPEG restored and saved\n",
      "\u001b[34m\u001b[1mtrain: \u001b[0mWARNING ⚠️ /raid/students/ryan/Cayas-AI-231/machine_exers/ME5/datasets/grocery/images/train/090230.jpg: corrupt JPEG restored and saved\n",
      "\u001b[34m\u001b[1mtrain: \u001b[0mWARNING ⚠️ /raid/students/ryan/Cayas-AI-231/machine_exers/ME5/datasets/grocery/images/train/090232.jpg: corrupt JPEG restored and saved\n",
      "\u001b[34m\u001b[1mtrain: \u001b[0mWARNING ⚠️ /raid/students/ryan/Cayas-AI-231/machine_exers/ME5/datasets/grocery/images/train/090233.jpg: corrupt JPEG restored and saved\n",
      "\u001b[34m\u001b[1mtrain: \u001b[0mWARNING ⚠️ /raid/students/ryan/Cayas-AI-231/machine_exers/ME5/datasets/grocery/images/train/090235.jpg: corrupt JPEG restored and saved\n",
      "\u001b[34m\u001b[1mtrain: \u001b[0mWARNING ⚠️ /raid/students/ryan/Cayas-AI-231/machine_exers/ME5/datasets/grocery/images/train/090236.jpg: corrupt JPEG restored and saved\n",
      "\u001b[34m\u001b[1mtrain: \u001b[0mWARNING ⚠️ /raid/students/ryan/Cayas-AI-231/machine_exers/ME5/datasets/grocery/images/train/090237.jpg: corrupt JPEG restored and saved\n",
      "\u001b[34m\u001b[1mtrain: \u001b[0mWARNING ⚠️ /raid/students/ryan/Cayas-AI-231/machine_exers/ME5/datasets/grocery/images/train/090238.jpg: corrupt JPEG restored and saved\n",
      "\u001b[34m\u001b[1mtrain: \u001b[0mWARNING ⚠️ /raid/students/ryan/Cayas-AI-231/machine_exers/ME5/datasets/grocery/images/train/090239.jpg: corrupt JPEG restored and saved\n",
      "\u001b[34m\u001b[1mtrain: \u001b[0mWARNING ⚠️ /raid/students/ryan/Cayas-AI-231/machine_exers/ME5/datasets/grocery/images/train/090240.jpg: corrupt JPEG restored and saved\n",
      "\u001b[34m\u001b[1mtrain: \u001b[0mWARNING ⚠️ /raid/students/ryan/Cayas-AI-231/machine_exers/ME5/datasets/grocery/images/train/090241.jpg: corrupt JPEG restored and saved\n",
      "\u001b[34m\u001b[1mtrain: \u001b[0mWARNING ⚠️ /raid/students/ryan/Cayas-AI-231/machine_exers/ME5/datasets/grocery/images/train/090242.jpg: corrupt JPEG restored and saved\n",
      "\u001b[34m\u001b[1mtrain: \u001b[0mWARNING ⚠️ /raid/students/ryan/Cayas-AI-231/machine_exers/ME5/datasets/grocery/images/train/090243.jpg: corrupt JPEG restored and saved\n",
      "\u001b[34m\u001b[1mtrain: \u001b[0mWARNING ⚠️ /raid/students/ryan/Cayas-AI-231/machine_exers/ME5/datasets/grocery/images/train/090244.jpg: corrupt JPEG restored and saved\n",
      "\u001b[34m\u001b[1mtrain: \u001b[0mWARNING ⚠️ /raid/students/ryan/Cayas-AI-231/machine_exers/ME5/datasets/grocery/images/train/090245.jpg: corrupt JPEG restored and saved\n",
      "\u001b[34m\u001b[1mtrain: \u001b[0mWARNING ⚠️ /raid/students/ryan/Cayas-AI-231/machine_exers/ME5/datasets/grocery/images/train/090246.jpg: corrupt JPEG restored and saved\n",
      "\u001b[34m\u001b[1mtrain: \u001b[0mWARNING ⚠️ /raid/students/ryan/Cayas-AI-231/machine_exers/ME5/datasets/grocery/images/train/090247.jpg: corrupt JPEG restored and saved\n",
      "\u001b[34m\u001b[1mtrain: \u001b[0mWARNING ⚠️ /raid/students/ryan/Cayas-AI-231/machine_exers/ME5/datasets/grocery/images/train/090249.jpg: corrupt JPEG restored and saved\n",
      "\u001b[34m\u001b[1mtrain: \u001b[0mWARNING ⚠️ /raid/students/ryan/Cayas-AI-231/machine_exers/ME5/datasets/grocery/images/train/090250.jpg: corrupt JPEG restored and saved\n",
      "\u001b[34m\u001b[1mtrain: \u001b[0mWARNING ⚠️ /raid/students/ryan/Cayas-AI-231/machine_exers/ME5/datasets/grocery/images/train/090251.jpg: corrupt JPEG restored and saved\n",
      "\u001b[34m\u001b[1mtrain: \u001b[0mWARNING ⚠️ /raid/students/ryan/Cayas-AI-231/machine_exers/ME5/datasets/grocery/images/train/090252.jpg: corrupt JPEG restored and saved\n",
      "\u001b[34m\u001b[1mtrain: \u001b[0mWARNING ⚠️ /raid/students/ryan/Cayas-AI-231/machine_exers/ME5/datasets/grocery/images/train/090253.jpg: corrupt JPEG restored and saved\n",
      "\u001b[34m\u001b[1mtrain: \u001b[0mWARNING ⚠️ /raid/students/ryan/Cayas-AI-231/machine_exers/ME5/datasets/grocery/images/train/090254.jpg: corrupt JPEG restored and saved\n",
      "\u001b[34m\u001b[1mtrain: \u001b[0mWARNING ⚠️ /raid/students/ryan/Cayas-AI-231/machine_exers/ME5/datasets/grocery/images/train/090255.jpg: corrupt JPEG restored and saved\n",
      "\u001b[34m\u001b[1mtrain: \u001b[0mWARNING ⚠️ /raid/students/ryan/Cayas-AI-231/machine_exers/ME5/datasets/grocery/images/train/090256.jpg: corrupt JPEG restored and saved\n",
      "\u001b[34m\u001b[1mtrain: \u001b[0mWARNING ⚠️ /raid/students/ryan/Cayas-AI-231/machine_exers/ME5/datasets/grocery/images/train/090257.jpg: corrupt JPEG restored and saved\n",
      "\u001b[34m\u001b[1mtrain: \u001b[0mWARNING ⚠️ /raid/students/ryan/Cayas-AI-231/machine_exers/ME5/datasets/grocery/images/train/090258.jpg: corrupt JPEG restored and saved\n",
      "\u001b[34m\u001b[1mtrain: \u001b[0mWARNING ⚠️ /raid/students/ryan/Cayas-AI-231/machine_exers/ME5/datasets/grocery/images/train/090260.jpg: corrupt JPEG restored and saved\n",
      "\u001b[34m\u001b[1mtrain: \u001b[0mWARNING ⚠️ /raid/students/ryan/Cayas-AI-231/machine_exers/ME5/datasets/grocery/images/train/090261.jpg: corrupt JPEG restored and saved\n",
      "\u001b[34m\u001b[1mtrain: \u001b[0mWARNING ⚠️ /raid/students/ryan/Cayas-AI-231/machine_exers/ME5/datasets/grocery/images/train/090262.jpg: corrupt JPEG restored and saved\n",
      "\u001b[34m\u001b[1mtrain: \u001b[0mWARNING ⚠️ /raid/students/ryan/Cayas-AI-231/machine_exers/ME5/datasets/grocery/images/train/090263.jpg: corrupt JPEG restored and saved\n",
      "\u001b[34m\u001b[1mtrain: \u001b[0mWARNING ⚠️ /raid/students/ryan/Cayas-AI-231/machine_exers/ME5/datasets/grocery/images/train/090264.jpg: corrupt JPEG restored and saved\n",
      "\u001b[34m\u001b[1mtrain: \u001b[0mWARNING ⚠️ /raid/students/ryan/Cayas-AI-231/machine_exers/ME5/datasets/grocery/images/train/090265.jpg: corrupt JPEG restored and saved\n",
      "\u001b[34m\u001b[1mtrain: \u001b[0mWARNING ⚠️ /raid/students/ryan/Cayas-AI-231/machine_exers/ME5/datasets/grocery/images/train/090266.jpg: corrupt JPEG restored and saved\n",
      "\u001b[34m\u001b[1mtrain: \u001b[0mWARNING ⚠️ /raid/students/ryan/Cayas-AI-231/machine_exers/ME5/datasets/grocery/images/train/090267.jpg: corrupt JPEG restored and saved\n",
      "\u001b[34m\u001b[1mtrain: \u001b[0mWARNING ⚠️ /raid/students/ryan/Cayas-AI-231/machine_exers/ME5/datasets/grocery/images/train/090268.jpg: corrupt JPEG restored and saved\n",
      "\u001b[34m\u001b[1mtrain: \u001b[0mWARNING ⚠️ /raid/students/ryan/Cayas-AI-231/machine_exers/ME5/datasets/grocery/images/train/090269.jpg: corrupt JPEG restored and saved\n",
      "\u001b[34m\u001b[1mtrain: \u001b[0mWARNING ⚠️ /raid/students/ryan/Cayas-AI-231/machine_exers/ME5/datasets/grocery/images/train/090270.jpg: corrupt JPEG restored and saved\n",
      "\u001b[34m\u001b[1mtrain: \u001b[0mWARNING ⚠️ /raid/students/ryan/Cayas-AI-231/machine_exers/ME5/datasets/grocery/images/train/090271.jpg: corrupt JPEG restored and saved\n",
      "\u001b[34m\u001b[1mtrain: \u001b[0mWARNING ⚠️ /raid/students/ryan/Cayas-AI-231/machine_exers/ME5/datasets/grocery/images/train/090272.jpg: corrupt JPEG restored and saved\n",
      "\u001b[34m\u001b[1mtrain: \u001b[0mWARNING ⚠️ /raid/students/ryan/Cayas-AI-231/machine_exers/ME5/datasets/grocery/images/train/090273.jpg: corrupt JPEG restored and saved\n",
      "\u001b[34m\u001b[1mtrain: \u001b[0mWARNING ⚠️ /raid/students/ryan/Cayas-AI-231/machine_exers/ME5/datasets/grocery/images/train/090274.jpg: corrupt JPEG restored and saved\n",
      "\u001b[34m\u001b[1mtrain: \u001b[0mWARNING ⚠️ /raid/students/ryan/Cayas-AI-231/machine_exers/ME5/datasets/grocery/images/train/090275.jpg: corrupt JPEG restored and saved\n",
      "\u001b[34m\u001b[1mtrain: \u001b[0mWARNING ⚠️ /raid/students/ryan/Cayas-AI-231/machine_exers/ME5/datasets/grocery/images/train/090276.jpg: corrupt JPEG restored and saved\n",
      "\u001b[34m\u001b[1mtrain: \u001b[0mWARNING ⚠️ /raid/students/ryan/Cayas-AI-231/machine_exers/ME5/datasets/grocery/images/train/090277.jpg: corrupt JPEG restored and saved\n",
      "\u001b[34m\u001b[1mtrain: \u001b[0mWARNING ⚠️ /raid/students/ryan/Cayas-AI-231/machine_exers/ME5/datasets/grocery/images/train/090278.jpg: corrupt JPEG restored and saved\n",
      "\u001b[34m\u001b[1mtrain: \u001b[0mWARNING ⚠️ /raid/students/ryan/Cayas-AI-231/machine_exers/ME5/datasets/grocery/images/train/090279.jpg: corrupt JPEG restored and saved\n",
      "\u001b[34m\u001b[1mtrain: \u001b[0mWARNING ⚠️ /raid/students/ryan/Cayas-AI-231/machine_exers/ME5/datasets/grocery/images/train/090280.jpg: corrupt JPEG restored and saved\n",
      "\u001b[34m\u001b[1mtrain: \u001b[0mWARNING ⚠️ /raid/students/ryan/Cayas-AI-231/machine_exers/ME5/datasets/grocery/images/train/090281.jpg: corrupt JPEG restored and saved\n",
      "\u001b[34m\u001b[1mtrain: \u001b[0mWARNING ⚠️ /raid/students/ryan/Cayas-AI-231/machine_exers/ME5/datasets/grocery/images/train/090282.jpg: corrupt JPEG restored and saved\n",
      "\u001b[34m\u001b[1mtrain: \u001b[0mWARNING ⚠️ /raid/students/ryan/Cayas-AI-231/machine_exers/ME5/datasets/grocery/images/train/090283.jpg: corrupt JPEG restored and saved\n",
      "\u001b[34m\u001b[1mtrain: \u001b[0mWARNING ⚠️ /raid/students/ryan/Cayas-AI-231/machine_exers/ME5/datasets/grocery/images/train/090284.jpg: corrupt JPEG restored and saved\n",
      "\u001b[34m\u001b[1mtrain: \u001b[0mWARNING ⚠️ /raid/students/ryan/Cayas-AI-231/machine_exers/ME5/datasets/grocery/images/train/090285.jpg: corrupt JPEG restored and saved\n",
      "\u001b[34m\u001b[1mtrain: \u001b[0mWARNING ⚠️ /raid/students/ryan/Cayas-AI-231/machine_exers/ME5/datasets/grocery/images/train/090286.jpg: corrupt JPEG restored and saved\n",
      "\u001b[34m\u001b[1mtrain: \u001b[0mWARNING ⚠️ /raid/students/ryan/Cayas-AI-231/machine_exers/ME5/datasets/grocery/images/train/090287.jpg: corrupt JPEG restored and saved\n",
      "\u001b[34m\u001b[1mtrain: \u001b[0mWARNING ⚠️ /raid/students/ryan/Cayas-AI-231/machine_exers/ME5/datasets/grocery/images/train/090288.jpg: corrupt JPEG restored and saved\n",
      "\u001b[34m\u001b[1mtrain: \u001b[0mWARNING ⚠️ /raid/students/ryan/Cayas-AI-231/machine_exers/ME5/datasets/grocery/images/train/090289.jpg: corrupt JPEG restored and saved\n",
      "\u001b[34m\u001b[1mtrain: \u001b[0mWARNING ⚠️ /raid/students/ryan/Cayas-AI-231/machine_exers/ME5/datasets/grocery/images/train/090290.jpg: corrupt JPEG restored and saved\n",
      "\u001b[34m\u001b[1mtrain: \u001b[0mWARNING ⚠️ /raid/students/ryan/Cayas-AI-231/machine_exers/ME5/datasets/grocery/images/train/090292.jpg: corrupt JPEG restored and saved\n",
      "\u001b[34m\u001b[1mtrain: \u001b[0mWARNING ⚠️ /raid/students/ryan/Cayas-AI-231/machine_exers/ME5/datasets/grocery/images/train/090293.jpg: corrupt JPEG restored and saved\n",
      "\u001b[34m\u001b[1mtrain: \u001b[0mWARNING ⚠️ /raid/students/ryan/Cayas-AI-231/machine_exers/ME5/datasets/grocery/images/train/090294.jpg: corrupt JPEG restored and saved\n",
      "\u001b[34m\u001b[1mtrain: \u001b[0mWARNING ⚠️ /raid/students/ryan/Cayas-AI-231/machine_exers/ME5/datasets/grocery/images/train/090295.jpg: corrupt JPEG restored and saved\n",
      "\u001b[34m\u001b[1mtrain: \u001b[0mWARNING ⚠️ /raid/students/ryan/Cayas-AI-231/machine_exers/ME5/datasets/grocery/images/train/090296.jpg: corrupt JPEG restored and saved\n",
      "\u001b[34m\u001b[1mtrain: \u001b[0mWARNING ⚠️ /raid/students/ryan/Cayas-AI-231/machine_exers/ME5/datasets/grocery/images/train/090298.jpg: corrupt JPEG restored and saved\n",
      "\u001b[34m\u001b[1mtrain: \u001b[0mWARNING ⚠️ /raid/students/ryan/Cayas-AI-231/machine_exers/ME5/datasets/grocery/images/train/090299.jpg: corrupt JPEG restored and saved\n",
      "\u001b[34m\u001b[1mtrain: \u001b[0mWARNING ⚠️ /raid/students/ryan/Cayas-AI-231/machine_exers/ME5/datasets/grocery/images/train/090300.jpg: corrupt JPEG restored and saved\n",
      "\u001b[34m\u001b[1mtrain: \u001b[0mWARNING ⚠️ /raid/students/ryan/Cayas-AI-231/machine_exers/ME5/datasets/grocery/images/train/090301.jpg: corrupt JPEG restored and saved\n",
      "\u001b[34m\u001b[1mtrain: \u001b[0mWARNING ⚠️ /raid/students/ryan/Cayas-AI-231/machine_exers/ME5/datasets/grocery/images/train/090302.jpg: corrupt JPEG restored and saved\n",
      "\u001b[34m\u001b[1mtrain: \u001b[0mWARNING ⚠️ /raid/students/ryan/Cayas-AI-231/machine_exers/ME5/datasets/grocery/images/train/090303.jpg: corrupt JPEG restored and saved\n",
      "\u001b[34m\u001b[1mtrain: \u001b[0mWARNING ⚠️ /raid/students/ryan/Cayas-AI-231/machine_exers/ME5/datasets/grocery/images/train/090304.jpg: corrupt JPEG restored and saved\n",
      "\u001b[34m\u001b[1mtrain: \u001b[0mWARNING ⚠️ /raid/students/ryan/Cayas-AI-231/machine_exers/ME5/datasets/grocery/images/train/090305.jpg: corrupt JPEG restored and saved\n",
      "\u001b[34m\u001b[1mtrain: \u001b[0mWARNING ⚠️ /raid/students/ryan/Cayas-AI-231/machine_exers/ME5/datasets/grocery/images/train/090307.jpg: corrupt JPEG restored and saved\n",
      "\u001b[34m\u001b[1mtrain: \u001b[0mWARNING ⚠️ /raid/students/ryan/Cayas-AI-231/machine_exers/ME5/datasets/grocery/images/train/090308.jpg: corrupt JPEG restored and saved\n",
      "\u001b[34m\u001b[1mtrain: \u001b[0mWARNING ⚠️ /raid/students/ryan/Cayas-AI-231/machine_exers/ME5/datasets/grocery/images/train/090309.jpg: corrupt JPEG restored and saved\n",
      "\u001b[34m\u001b[1mtrain: \u001b[0mWARNING ⚠️ /raid/students/ryan/Cayas-AI-231/machine_exers/ME5/datasets/grocery/images/train/090310.jpg: corrupt JPEG restored and saved\n",
      "\u001b[34m\u001b[1mtrain: \u001b[0mWARNING ⚠️ /raid/students/ryan/Cayas-AI-231/machine_exers/ME5/datasets/grocery/images/train/090311.jpg: corrupt JPEG restored and saved\n",
      "\u001b[34m\u001b[1mtrain: \u001b[0mWARNING ⚠️ /raid/students/ryan/Cayas-AI-231/machine_exers/ME5/datasets/grocery/images/train/090312.jpg: corrupt JPEG restored and saved\n",
      "\u001b[34m\u001b[1mtrain: \u001b[0mWARNING ⚠️ /raid/students/ryan/Cayas-AI-231/machine_exers/ME5/datasets/grocery/images/train/090313.jpg: corrupt JPEG restored and saved\n",
      "\u001b[34m\u001b[1mtrain: \u001b[0mWARNING ⚠️ /raid/students/ryan/Cayas-AI-231/machine_exers/ME5/datasets/grocery/images/train/090314.jpg: corrupt JPEG restored and saved\n",
      "\u001b[34m\u001b[1mtrain: \u001b[0mWARNING ⚠️ /raid/students/ryan/Cayas-AI-231/machine_exers/ME5/datasets/grocery/images/train/090315.jpg: corrupt JPEG restored and saved\n",
      "\u001b[34m\u001b[1mtrain: \u001b[0mWARNING ⚠️ /raid/students/ryan/Cayas-AI-231/machine_exers/ME5/datasets/grocery/images/train/090316.jpg: corrupt JPEG restored and saved\n",
      "\u001b[34m\u001b[1mtrain: \u001b[0mWARNING ⚠️ /raid/students/ryan/Cayas-AI-231/machine_exers/ME5/datasets/grocery/images/train/090317.jpg: corrupt JPEG restored and saved\n",
      "\u001b[34m\u001b[1mtrain: \u001b[0mWARNING ⚠️ /raid/students/ryan/Cayas-AI-231/machine_exers/ME5/datasets/grocery/images/train/090319.jpg: corrupt JPEG restored and saved\n",
      "\u001b[34m\u001b[1mtrain: \u001b[0mWARNING ⚠️ /raid/students/ryan/Cayas-AI-231/machine_exers/ME5/datasets/grocery/images/train/090320.jpg: corrupt JPEG restored and saved\n",
      "\u001b[34m\u001b[1mtrain: \u001b[0mWARNING ⚠️ /raid/students/ryan/Cayas-AI-231/machine_exers/ME5/datasets/grocery/images/train/090321.jpg: corrupt JPEG restored and saved\n",
      "\u001b[34m\u001b[1mtrain: \u001b[0mWARNING ⚠️ /raid/students/ryan/Cayas-AI-231/machine_exers/ME5/datasets/grocery/images/train/090323.jpg: corrupt JPEG restored and saved\n",
      "\u001b[34m\u001b[1mtrain: \u001b[0mWARNING ⚠️ /raid/students/ryan/Cayas-AI-231/machine_exers/ME5/datasets/grocery/images/train/090324.jpg: corrupt JPEG restored and saved\n",
      "\u001b[34m\u001b[1mtrain: \u001b[0mWARNING ⚠️ /raid/students/ryan/Cayas-AI-231/machine_exers/ME5/datasets/grocery/images/train/090325.jpg: corrupt JPEG restored and saved\n",
      "\u001b[34m\u001b[1mtrain: \u001b[0mWARNING ⚠️ /raid/students/ryan/Cayas-AI-231/machine_exers/ME5/datasets/grocery/images/train/090326.jpg: corrupt JPEG restored and saved\n",
      "\u001b[34m\u001b[1mtrain: \u001b[0mWARNING ⚠️ /raid/students/ryan/Cayas-AI-231/machine_exers/ME5/datasets/grocery/images/train/090327.jpg: corrupt JPEG restored and saved\n",
      "\u001b[34m\u001b[1mtrain: \u001b[0mWARNING ⚠️ /raid/students/ryan/Cayas-AI-231/machine_exers/ME5/datasets/grocery/images/train/090329.jpg: corrupt JPEG restored and saved\n",
      "\u001b[34m\u001b[1mtrain: \u001b[0mWARNING ⚠️ /raid/students/ryan/Cayas-AI-231/machine_exers/ME5/datasets/grocery/images/train/090330.jpg: corrupt JPEG restored and saved\n",
      "\u001b[34m\u001b[1mtrain: \u001b[0mWARNING ⚠️ /raid/students/ryan/Cayas-AI-231/machine_exers/ME5/datasets/grocery/images/train/090331.jpg: corrupt JPEG restored and saved\n",
      "\u001b[34m\u001b[1mtrain: \u001b[0mWARNING ⚠️ /raid/students/ryan/Cayas-AI-231/machine_exers/ME5/datasets/grocery/images/train/090333.jpg: corrupt JPEG restored and saved\n",
      "\u001b[34m\u001b[1mtrain: \u001b[0mWARNING ⚠️ /raid/students/ryan/Cayas-AI-231/machine_exers/ME5/datasets/grocery/images/train/090334.jpg: corrupt JPEG restored and saved\n",
      "\u001b[34m\u001b[1mtrain: \u001b[0mWARNING ⚠️ /raid/students/ryan/Cayas-AI-231/machine_exers/ME5/datasets/grocery/images/train/090335.jpg: corrupt JPEG restored and saved\n",
      "\u001b[34m\u001b[1mtrain: \u001b[0mWARNING ⚠️ /raid/students/ryan/Cayas-AI-231/machine_exers/ME5/datasets/grocery/images/train/090336.jpg: corrupt JPEG restored and saved\n",
      "\u001b[34m\u001b[1mtrain: \u001b[0mWARNING ⚠️ /raid/students/ryan/Cayas-AI-231/machine_exers/ME5/datasets/grocery/images/train/090338.jpg: corrupt JPEG restored and saved\n",
      "\u001b[34m\u001b[1mtrain: \u001b[0mWARNING ⚠️ /raid/students/ryan/Cayas-AI-231/machine_exers/ME5/datasets/grocery/images/train/090339.jpg: corrupt JPEG restored and saved\n",
      "\u001b[34m\u001b[1mtrain: \u001b[0mWARNING ⚠️ /raid/students/ryan/Cayas-AI-231/machine_exers/ME5/datasets/grocery/images/train/090340.jpg: corrupt JPEG restored and saved\n",
      "\u001b[34m\u001b[1mtrain: \u001b[0mWARNING ⚠️ /raid/students/ryan/Cayas-AI-231/machine_exers/ME5/datasets/grocery/images/train/090341.jpg: corrupt JPEG restored and saved\n",
      "\u001b[34m\u001b[1mtrain: \u001b[0mWARNING ⚠️ /raid/students/ryan/Cayas-AI-231/machine_exers/ME5/datasets/grocery/images/train/090342.jpg: corrupt JPEG restored and saved\n",
      "\u001b[34m\u001b[1mtrain: \u001b[0mWARNING ⚠️ /raid/students/ryan/Cayas-AI-231/machine_exers/ME5/datasets/grocery/images/train/090343.jpg: corrupt JPEG restored and saved\n",
      "\u001b[34m\u001b[1mtrain: \u001b[0mWARNING ⚠️ /raid/students/ryan/Cayas-AI-231/machine_exers/ME5/datasets/grocery/images/train/090344.jpg: corrupt JPEG restored and saved\n",
      "\u001b[34m\u001b[1mtrain: \u001b[0mWARNING ⚠️ /raid/students/ryan/Cayas-AI-231/machine_exers/ME5/datasets/grocery/images/train/090345.jpg: corrupt JPEG restored and saved\n",
      "\u001b[34m\u001b[1mtrain: \u001b[0mWARNING ⚠️ /raid/students/ryan/Cayas-AI-231/machine_exers/ME5/datasets/grocery/images/train/090346.jpg: corrupt JPEG restored and saved\n",
      "\u001b[34m\u001b[1mtrain: \u001b[0mWARNING ⚠️ /raid/students/ryan/Cayas-AI-231/machine_exers/ME5/datasets/grocery/images/train/090347.jpg: corrupt JPEG restored and saved\n",
      "\u001b[34m\u001b[1mtrain: \u001b[0mWARNING ⚠️ /raid/students/ryan/Cayas-AI-231/machine_exers/ME5/datasets/grocery/images/train/090348.jpg: corrupt JPEG restored and saved\n",
      "\u001b[34m\u001b[1mtrain: \u001b[0mWARNING ⚠️ /raid/students/ryan/Cayas-AI-231/machine_exers/ME5/datasets/grocery/images/train/090349.jpg: corrupt JPEG restored and saved\n",
      "\u001b[34m\u001b[1mtrain: \u001b[0mWARNING ⚠️ /raid/students/ryan/Cayas-AI-231/machine_exers/ME5/datasets/grocery/images/train/090350.jpg: corrupt JPEG restored and saved\n",
      "\u001b[34m\u001b[1mtrain: \u001b[0mWARNING ⚠️ /raid/students/ryan/Cayas-AI-231/machine_exers/ME5/datasets/grocery/images/train/220002.jpg: 5 duplicate labels removed\n",
      "\u001b[34m\u001b[1mtrain: \u001b[0mWARNING ⚠️ /raid/students/ryan/Cayas-AI-231/machine_exers/ME5/datasets/grocery/images/train/220004.jpg: 1 duplicate labels removed\n",
      "\u001b[34m\u001b[1mtrain: \u001b[0mWARNING ⚠️ /raid/students/ryan/Cayas-AI-231/machine_exers/ME5/datasets/grocery/images/train/220005.jpg: 2 duplicate labels removed\n",
      "\u001b[34m\u001b[1mtrain: \u001b[0mWARNING ⚠️ /raid/students/ryan/Cayas-AI-231/machine_exers/ME5/datasets/grocery/images/train/220011.jpg: 2 duplicate labels removed\n",
      "\u001b[34m\u001b[1mtrain: \u001b[0mWARNING ⚠️ /raid/students/ryan/Cayas-AI-231/machine_exers/ME5/datasets/grocery/images/train/230008.jpg: 1 duplicate labels removed\n",
      "\u001b[34m\u001b[1mtrain: \u001b[0mWARNING ⚠️ /raid/students/ryan/Cayas-AI-231/machine_exers/ME5/datasets/grocery/images/train/240001.jpg: 1 duplicate labels removed\n",
      "\u001b[34m\u001b[1mtrain: \u001b[0mWARNING ⚠️ /raid/students/ryan/Cayas-AI-231/machine_exers/ME5/datasets/grocery/images/train/240002.jpg: 1 duplicate labels removed\n"
     ]
    },
    {
     "name": "stderr",
     "output_type": "stream",
     "text": [
      "\n"
     ]
    },
    {
     "name": "stdout",
     "output_type": "stream",
     "text": [
      "\u001b[34m\u001b[1mtrain: \u001b[0mNew cache created: /raid/students/ryan/Cayas-AI-231/machine_exers/ME5/datasets/grocery/labels/train.cache\n"
     ]
    },
    {
     "name": "stderr",
     "output_type": "stream",
     "text": [
      "\u001b[34m\u001b[1mval: \u001b[0mScanning /raid/students/ryan/Cayas-AI-231/machine_exers/ME5/datasets/grocery/labels/val... 775 images, 0 backgrounds, 0 corrupt: 100%|██████████| 775/775 [00:00<00:00, 1409.90it/s]"
     ]
    },
    {
     "name": "stdout",
     "output_type": "stream",
     "text": [
      "\u001b[34m\u001b[1mval: \u001b[0mWARNING ⚠️ /raid/students/ryan/Cayas-AI-231/machine_exers/ME5/datasets/grocery/images/val/090008.jpg: corrupt JPEG restored and saved\n",
      "\u001b[34m\u001b[1mval: \u001b[0mWARNING ⚠️ /raid/students/ryan/Cayas-AI-231/machine_exers/ME5/datasets/grocery/images/val/090016.jpg: corrupt JPEG restored and saved\n",
      "\u001b[34m\u001b[1mval: \u001b[0mWARNING ⚠️ /raid/students/ryan/Cayas-AI-231/machine_exers/ME5/datasets/grocery/images/val/090039.jpg: corrupt JPEG restored and saved\n",
      "\u001b[34m\u001b[1mval: \u001b[0mWARNING ⚠️ /raid/students/ryan/Cayas-AI-231/machine_exers/ME5/datasets/grocery/images/val/090064.jpg: corrupt JPEG restored and saved\n",
      "\u001b[34m\u001b[1mval: \u001b[0mWARNING ⚠️ /raid/students/ryan/Cayas-AI-231/machine_exers/ME5/datasets/grocery/images/val/090081.jpg: corrupt JPEG restored and saved\n",
      "\u001b[34m\u001b[1mval: \u001b[0mWARNING ⚠️ /raid/students/ryan/Cayas-AI-231/machine_exers/ME5/datasets/grocery/images/val/090084.jpg: corrupt JPEG restored and saved\n",
      "\u001b[34m\u001b[1mval: \u001b[0mWARNING ⚠️ /raid/students/ryan/Cayas-AI-231/machine_exers/ME5/datasets/grocery/images/val/090097.jpg: corrupt JPEG restored and saved\n",
      "\u001b[34m\u001b[1mval: \u001b[0mWARNING ⚠️ /raid/students/ryan/Cayas-AI-231/machine_exers/ME5/datasets/grocery/images/val/090102.jpg: corrupt JPEG restored and saved\n",
      "\u001b[34m\u001b[1mval: \u001b[0mWARNING ⚠️ /raid/students/ryan/Cayas-AI-231/machine_exers/ME5/datasets/grocery/images/val/090103.jpg: corrupt JPEG restored and saved\n",
      "\u001b[34m\u001b[1mval: \u001b[0mWARNING ⚠️ /raid/students/ryan/Cayas-AI-231/machine_exers/ME5/datasets/grocery/images/val/090108.jpg: corrupt JPEG restored and saved\n",
      "\u001b[34m\u001b[1mval: \u001b[0mWARNING ⚠️ /raid/students/ryan/Cayas-AI-231/machine_exers/ME5/datasets/grocery/images/val/090116.jpg: corrupt JPEG restored and saved\n",
      "\u001b[34m\u001b[1mval: \u001b[0mWARNING ⚠️ /raid/students/ryan/Cayas-AI-231/machine_exers/ME5/datasets/grocery/images/val/090117.jpg: corrupt JPEG restored and saved\n",
      "\u001b[34m\u001b[1mval: \u001b[0mWARNING ⚠️ /raid/students/ryan/Cayas-AI-231/machine_exers/ME5/datasets/grocery/images/val/090124.jpg: corrupt JPEG restored and saved\n",
      "\u001b[34m\u001b[1mval: \u001b[0mWARNING ⚠️ /raid/students/ryan/Cayas-AI-231/machine_exers/ME5/datasets/grocery/images/val/090170.jpg: corrupt JPEG restored and saved\n",
      "\u001b[34m\u001b[1mval: \u001b[0mWARNING ⚠️ /raid/students/ryan/Cayas-AI-231/machine_exers/ME5/datasets/grocery/images/val/090172.jpg: corrupt JPEG restored and saved\n",
      "\u001b[34m\u001b[1mval: \u001b[0mWARNING ⚠️ /raid/students/ryan/Cayas-AI-231/machine_exers/ME5/datasets/grocery/images/val/090182.jpg: corrupt JPEG restored and saved\n",
      "\u001b[34m\u001b[1mval: \u001b[0mWARNING ⚠️ /raid/students/ryan/Cayas-AI-231/machine_exers/ME5/datasets/grocery/images/val/090185.jpg: corrupt JPEG restored and saved\n",
      "\u001b[34m\u001b[1mval: \u001b[0mWARNING ⚠️ /raid/students/ryan/Cayas-AI-231/machine_exers/ME5/datasets/grocery/images/val/090214.jpg: corrupt JPEG restored and saved\n",
      "\u001b[34m\u001b[1mval: \u001b[0mWARNING ⚠️ /raid/students/ryan/Cayas-AI-231/machine_exers/ME5/datasets/grocery/images/val/090224.jpg: corrupt JPEG restored and saved\n",
      "\u001b[34m\u001b[1mval: \u001b[0mWARNING ⚠️ /raid/students/ryan/Cayas-AI-231/machine_exers/ME5/datasets/grocery/images/val/090231.jpg: corrupt JPEG restored and saved\n",
      "\u001b[34m\u001b[1mval: \u001b[0mWARNING ⚠️ /raid/students/ryan/Cayas-AI-231/machine_exers/ME5/datasets/grocery/images/val/090234.jpg: corrupt JPEG restored and saved\n",
      "\u001b[34m\u001b[1mval: \u001b[0mWARNING ⚠️ /raid/students/ryan/Cayas-AI-231/machine_exers/ME5/datasets/grocery/images/val/090248.jpg: corrupt JPEG restored and saved\n",
      "\u001b[34m\u001b[1mval: \u001b[0mWARNING ⚠️ /raid/students/ryan/Cayas-AI-231/machine_exers/ME5/datasets/grocery/images/val/090259.jpg: corrupt JPEG restored and saved\n",
      "\u001b[34m\u001b[1mval: \u001b[0mWARNING ⚠️ /raid/students/ryan/Cayas-AI-231/machine_exers/ME5/datasets/grocery/images/val/090291.jpg: corrupt JPEG restored and saved\n",
      "\u001b[34m\u001b[1mval: \u001b[0mWARNING ⚠️ /raid/students/ryan/Cayas-AI-231/machine_exers/ME5/datasets/grocery/images/val/090297.jpg: corrupt JPEG restored and saved\n",
      "\u001b[34m\u001b[1mval: \u001b[0mWARNING ⚠️ /raid/students/ryan/Cayas-AI-231/machine_exers/ME5/datasets/grocery/images/val/090306.jpg: corrupt JPEG restored and saved\n",
      "\u001b[34m\u001b[1mval: \u001b[0mWARNING ⚠️ /raid/students/ryan/Cayas-AI-231/machine_exers/ME5/datasets/grocery/images/val/090318.jpg: corrupt JPEG restored and saved\n",
      "\u001b[34m\u001b[1mval: \u001b[0mWARNING ⚠️ /raid/students/ryan/Cayas-AI-231/machine_exers/ME5/datasets/grocery/images/val/090322.jpg: corrupt JPEG restored and saved\n",
      "\u001b[34m\u001b[1mval: \u001b[0mWARNING ⚠️ /raid/students/ryan/Cayas-AI-231/machine_exers/ME5/datasets/grocery/images/val/090328.jpg: corrupt JPEG restored and saved\n",
      "\u001b[34m\u001b[1mval: \u001b[0mWARNING ⚠️ /raid/students/ryan/Cayas-AI-231/machine_exers/ME5/datasets/grocery/images/val/090332.jpg: corrupt JPEG restored and saved\n",
      "\u001b[34m\u001b[1mval: \u001b[0mNew cache created: /raid/students/ryan/Cayas-AI-231/machine_exers/ME5/datasets/grocery/labels/val.cache\n"
     ]
    },
    {
     "name": "stderr",
     "output_type": "stream",
     "text": [
      "\n"
     ]
    },
    {
     "name": "stdout",
     "output_type": "stream",
     "text": [
      "Plotting labels to YOLO-segment-v1/train1/labels.jpg... \n",
      "\u001b[34m\u001b[1moptimizer:\u001b[0m 'optimizer=auto' found, ignoring 'lr0=0.01' and 'momentum=0.937' and determining best 'optimizer', 'lr0' and 'momentum' automatically... \n",
      "\u001b[34m\u001b[1moptimizer:\u001b[0m AdamW(lr=0.000385, momentum=0.9) with parameter groups 90 weight(decay=0.0), 101 weight(decay=0.00084375), 100 bias(decay=0.0)\n",
      "Image sizes 640 train, 640 val\n",
      "Using 8 dataloader workers\n",
      "Logging results to \u001b[1mYOLO-segment-v1/train1\u001b[0m\n",
      "Starting training for 100 epochs...\n",
      "\n",
      "      Epoch    GPU_mem   box_loss   seg_loss   cls_loss   dfl_loss  Instances       Size\n"
     ]
    },
    {
     "name": "stderr",
     "output_type": "stream",
     "text": [
      "      1/100      19.9G     0.7851      2.646      4.118      1.075        287        640: 100%|██████████| 65/65 [00:42<00:00,  1.55it/s]\n",
      "                 Class     Images  Instances      Box(P          R      mAP50  mAP50-95)     Mask(P          R      mAP50  mAP50-95): 100%|██████████| 4/4 [00:03<00:00,  1.27it/s]"
     ]
    },
    {
     "name": "stdout",
     "output_type": "stream",
     "text": [
      "                   all        775       1765     0.0922      0.331      0.156      0.143     0.0895      0.326      0.154      0.137\n"
     ]
    },
    {
     "name": "stderr",
     "output_type": "stream",
     "text": [
      "\n"
     ]
    },
    {
     "name": "stdout",
     "output_type": "stream",
     "text": [
      "\n",
      "      Epoch    GPU_mem   box_loss   seg_loss   cls_loss   dfl_loss  Instances       Size\n"
     ]
    },
    {
     "name": "stderr",
     "output_type": "stream",
     "text": [
      "      2/100      20.2G      0.741       2.07      2.608      1.023        240        640: 100%|██████████| 65/65 [00:37<00:00,  1.75it/s]\n",
      "                 Class     Images  Instances      Box(P          R      mAP50  mAP50-95)     Mask(P          R      mAP50  mAP50-95): 100%|██████████| 4/4 [00:04<00:00,  1.18s/it]"
     ]
    },
    {
     "name": "stdout",
     "output_type": "stream",
     "text": [
      "                   all        775       1765      0.655      0.553      0.628      0.527      0.648      0.543      0.607      0.491\n"
     ]
    },
    {
     "name": "stderr",
     "output_type": "stream",
     "text": [
      "\n"
     ]
    },
    {
     "name": "stdout",
     "output_type": "stream",
     "text": [
      "\n",
      "      Epoch    GPU_mem   box_loss   seg_loss   cls_loss   dfl_loss  Instances       Size\n"
     ]
    },
    {
     "name": "stderr",
     "output_type": "stream",
     "text": [
      "      3/100      20.1G     0.7178      2.004      1.549      1.008        305        640: 100%|██████████| 65/65 [00:37<00:00,  1.74it/s]\n",
      "                 Class     Images  Instances      Box(P          R      mAP50  mAP50-95)     Mask(P          R      mAP50  mAP50-95): 100%|██████████| 4/4 [00:04<00:00,  1.01s/it]"
     ]
    },
    {
     "name": "stdout",
     "output_type": "stream",
     "text": [
      "                   all        775       1765      0.769      0.603      0.719      0.594      0.757      0.586       0.69      0.516\n"
     ]
    },
    {
     "name": "stderr",
     "output_type": "stream",
     "text": [
      "\n"
     ]
    },
    {
     "name": "stdout",
     "output_type": "stream",
     "text": [
      "\n",
      "      Epoch    GPU_mem   box_loss   seg_loss   cls_loss   dfl_loss  Instances       Size\n"
     ]
    },
    {
     "name": "stderr",
     "output_type": "stream",
     "text": [
      "      4/100      19.9G     0.6923      1.913      1.262     0.9948        322        640: 100%|██████████| 65/65 [00:36<00:00,  1.79it/s]\n",
      "                 Class     Images  Instances      Box(P          R      mAP50  mAP50-95)     Mask(P          R      mAP50  mAP50-95): 100%|██████████| 4/4 [00:04<00:00,  1.02s/it]"
     ]
    },
    {
     "name": "stdout",
     "output_type": "stream",
     "text": [
      "                   all        775       1765      0.779      0.675      0.751       0.62      0.743      0.647      0.707      0.554\n"
     ]
    },
    {
     "name": "stderr",
     "output_type": "stream",
     "text": [
      "\n"
     ]
    },
    {
     "name": "stdout",
     "output_type": "stream",
     "text": [
      "\n",
      "      Epoch    GPU_mem   box_loss   seg_loss   cls_loss   dfl_loss  Instances       Size\n"
     ]
    },
    {
     "name": "stderr",
     "output_type": "stream",
     "text": [
      "      5/100      20.2G     0.6698      1.921      1.074     0.9839        280        640: 100%|██████████| 65/65 [00:36<00:00,  1.76it/s]\n",
      "                 Class     Images  Instances      Box(P          R      mAP50  mAP50-95)     Mask(P          R      mAP50  mAP50-95): 100%|██████████| 4/4 [00:03<00:00,  1.07it/s]"
     ]
    },
    {
     "name": "stdout",
     "output_type": "stream",
     "text": [
      "                   all        775       1765      0.888      0.779      0.846      0.702      0.876      0.766       0.82      0.648\n"
     ]
    },
    {
     "name": "stderr",
     "output_type": "stream",
     "text": [
      "\n"
     ]
    },
    {
     "name": "stdout",
     "output_type": "stream",
     "text": [
      "\n",
      "      Epoch    GPU_mem   box_loss   seg_loss   cls_loss   dfl_loss  Instances       Size\n"
     ]
    },
    {
     "name": "stderr",
     "output_type": "stream",
     "text": [
      "      6/100      20.3G     0.6446      1.835     0.9628     0.9717        257        640: 100%|██████████| 65/65 [00:35<00:00,  1.83it/s]\n",
      "                 Class     Images  Instances      Box(P          R      mAP50  mAP50-95)     Mask(P          R      mAP50  mAP50-95): 100%|██████████| 4/4 [00:03<00:00,  1.07it/s]"
     ]
    },
    {
     "name": "stdout",
     "output_type": "stream",
     "text": [
      "                   all        775       1765      0.863      0.789      0.866      0.735       0.86      0.765      0.848      0.685\n"
     ]
    },
    {
     "name": "stderr",
     "output_type": "stream",
     "text": [
      "\n"
     ]
    },
    {
     "name": "stdout",
     "output_type": "stream",
     "text": [
      "\n",
      "      Epoch    GPU_mem   box_loss   seg_loss   cls_loss   dfl_loss  Instances       Size\n"
     ]
    },
    {
     "name": "stderr",
     "output_type": "stream",
     "text": [
      "      7/100        20G     0.6308      1.831     0.8867      0.965        314        640: 100%|██████████| 65/65 [00:35<00:00,  1.83it/s]\n",
      "                 Class     Images  Instances      Box(P          R      mAP50  mAP50-95)     Mask(P          R      mAP50  mAP50-95): 100%|██████████| 4/4 [00:03<00:00,  1.08it/s]"
     ]
    },
    {
     "name": "stdout",
     "output_type": "stream",
     "text": [
      "                   all        775       1765      0.873      0.793      0.869       0.74      0.856      0.778      0.842      0.685\n"
     ]
    },
    {
     "name": "stderr",
     "output_type": "stream",
     "text": [
      "\n"
     ]
    },
    {
     "name": "stdout",
     "output_type": "stream",
     "text": [
      "\n",
      "      Epoch    GPU_mem   box_loss   seg_loss   cls_loss   dfl_loss  Instances       Size\n"
     ]
    },
    {
     "name": "stderr",
     "output_type": "stream",
     "text": [
      "      8/100      20.2G     0.6112      1.747     0.8105     0.9543        261        640: 100%|██████████| 65/65 [00:35<00:00,  1.83it/s]\n",
      "                 Class     Images  Instances      Box(P          R      mAP50  mAP50-95)     Mask(P          R      mAP50  mAP50-95): 100%|██████████| 4/4 [00:03<00:00,  1.08it/s]"
     ]
    },
    {
     "name": "stdout",
     "output_type": "stream",
     "text": [
      "                   all        775       1765      0.905      0.833      0.904      0.779      0.886      0.818      0.878      0.726\n"
     ]
    },
    {
     "name": "stderr",
     "output_type": "stream",
     "text": [
      "\n"
     ]
    },
    {
     "name": "stdout",
     "output_type": "stream",
     "text": [
      "\n",
      "      Epoch    GPU_mem   box_loss   seg_loss   cls_loss   dfl_loss  Instances       Size\n"
     ]
    },
    {
     "name": "stderr",
     "output_type": "stream",
     "text": [
      "      9/100      21.2G      0.606      1.735     0.7639     0.9507        238        640: 100%|██████████| 65/65 [00:35<00:00,  1.82it/s]\n",
      "                 Class     Images  Instances      Box(P          R      mAP50  mAP50-95)     Mask(P          R      mAP50  mAP50-95): 100%|██████████| 4/4 [00:03<00:00,  1.04it/s]"
     ]
    },
    {
     "name": "stdout",
     "output_type": "stream",
     "text": [
      "                   all        775       1765      0.856      0.773      0.876      0.754      0.847      0.762      0.857      0.714\n"
     ]
    },
    {
     "name": "stderr",
     "output_type": "stream",
     "text": [
      "\n"
     ]
    },
    {
     "name": "stdout",
     "output_type": "stream",
     "text": [
      "\n",
      "      Epoch    GPU_mem   box_loss   seg_loss   cls_loss   dfl_loss  Instances       Size\n"
     ]
    },
    {
     "name": "stderr",
     "output_type": "stream",
     "text": [
      "     10/100        20G     0.5955      1.685     0.7164     0.9466        316        640: 100%|██████████| 65/65 [00:35<00:00,  1.83it/s]\n",
      "                 Class     Images  Instances      Box(P          R      mAP50  mAP50-95)     Mask(P          R      mAP50  mAP50-95): 100%|██████████| 4/4 [00:03<00:00,  1.06it/s]"
     ]
    },
    {
     "name": "stdout",
     "output_type": "stream",
     "text": [
      "                   all        775       1765      0.931      0.844      0.914      0.788      0.917      0.832      0.888      0.741\n"
     ]
    },
    {
     "name": "stderr",
     "output_type": "stream",
     "text": [
      "\n"
     ]
    },
    {
     "name": "stdout",
     "output_type": "stream",
     "text": [
      "\n",
      "      Epoch    GPU_mem   box_loss   seg_loss   cls_loss   dfl_loss  Instances       Size\n"
     ]
    },
    {
     "name": "stderr",
     "output_type": "stream",
     "text": [
      "     11/100      20.1G      0.593      1.732     0.6828     0.9447        301        640: 100%|██████████| 65/65 [00:35<00:00,  1.81it/s]\n",
      "                 Class     Images  Instances      Box(P          R      mAP50  mAP50-95)     Mask(P          R      mAP50  mAP50-95): 100%|██████████| 4/4 [00:03<00:00,  1.08it/s]"
     ]
    },
    {
     "name": "stdout",
     "output_type": "stream",
     "text": [
      "                   all        775       1765      0.911      0.855      0.912      0.793       0.91      0.841      0.891      0.756\n"
     ]
    },
    {
     "name": "stderr",
     "output_type": "stream",
     "text": [
      "\n"
     ]
    },
    {
     "name": "stdout",
     "output_type": "stream",
     "text": [
      "\n",
      "      Epoch    GPU_mem   box_loss   seg_loss   cls_loss   dfl_loss  Instances       Size\n"
     ]
    },
    {
     "name": "stderr",
     "output_type": "stream",
     "text": [
      "     12/100      19.6G     0.5839      1.727     0.6519      0.944        273        640: 100%|██████████| 65/65 [00:35<00:00,  1.83it/s]\n",
      "                 Class     Images  Instances      Box(P          R      mAP50  mAP50-95)     Mask(P          R      mAP50  mAP50-95): 100%|██████████| 4/4 [00:03<00:00,  1.08it/s]"
     ]
    },
    {
     "name": "stdout",
     "output_type": "stream",
     "text": [
      "                   all        775       1765      0.932      0.854      0.907      0.788      0.913      0.836      0.873      0.723\n"
     ]
    },
    {
     "name": "stderr",
     "output_type": "stream",
     "text": [
      "\n"
     ]
    },
    {
     "name": "stdout",
     "output_type": "stream",
     "text": [
      "\n",
      "      Epoch    GPU_mem   box_loss   seg_loss   cls_loss   dfl_loss  Instances       Size\n"
     ]
    },
    {
     "name": "stderr",
     "output_type": "stream",
     "text": [
      "     13/100      20.1G     0.5767      1.685     0.6305      0.936        318        640: 100%|██████████| 65/65 [00:36<00:00,  1.80it/s]\n",
      "                 Class     Images  Instances      Box(P          R      mAP50  mAP50-95)     Mask(P          R      mAP50  mAP50-95): 100%|██████████| 4/4 [00:04<00:00,  1.01s/it]"
     ]
    },
    {
     "name": "stdout",
     "output_type": "stream",
     "text": [
      "                   all        775       1765      0.934      0.887      0.923      0.811      0.926       0.88      0.905       0.77\n"
     ]
    },
    {
     "name": "stderr",
     "output_type": "stream",
     "text": [
      "\n"
     ]
    },
    {
     "name": "stdout",
     "output_type": "stream",
     "text": [
      "\n",
      "      Epoch    GPU_mem   box_loss   seg_loss   cls_loss   dfl_loss  Instances       Size\n"
     ]
    },
    {
     "name": "stderr",
     "output_type": "stream",
     "text": [
      "     14/100        20G     0.5705      1.656     0.6075     0.9381        277        640: 100%|██████████| 65/65 [00:35<00:00,  1.83it/s]\n",
      "                 Class     Images  Instances      Box(P          R      mAP50  mAP50-95)     Mask(P          R      mAP50  mAP50-95): 100%|██████████| 4/4 [00:03<00:00,  1.08it/s]"
     ]
    },
    {
     "name": "stdout",
     "output_type": "stream",
     "text": [
      "                   all        775       1765      0.923      0.854      0.899      0.793      0.911      0.845      0.881      0.741\n"
     ]
    },
    {
     "name": "stderr",
     "output_type": "stream",
     "text": [
      "\n"
     ]
    },
    {
     "name": "stdout",
     "output_type": "stream",
     "text": [
      "\n",
      "      Epoch    GPU_mem   box_loss   seg_loss   cls_loss   dfl_loss  Instances       Size\n"
     ]
    },
    {
     "name": "stderr",
     "output_type": "stream",
     "text": [
      "     15/100      20.2G     0.5617      1.627     0.5901     0.9346        217        640: 100%|██████████| 65/65 [00:35<00:00,  1.83it/s]\n",
      "                 Class     Images  Instances      Box(P          R      mAP50  mAP50-95)     Mask(P          R      mAP50  mAP50-95): 100%|██████████| 4/4 [00:03<00:00,  1.04it/s]"
     ]
    },
    {
     "name": "stdout",
     "output_type": "stream",
     "text": [
      "                   all        775       1765      0.913      0.886      0.919      0.805      0.928      0.852      0.898      0.752\n"
     ]
    },
    {
     "name": "stderr",
     "output_type": "stream",
     "text": [
      "\n"
     ]
    },
    {
     "name": "stdout",
     "output_type": "stream",
     "text": [
      "\n",
      "      Epoch    GPU_mem   box_loss   seg_loss   cls_loss   dfl_loss  Instances       Size\n"
     ]
    },
    {
     "name": "stderr",
     "output_type": "stream",
     "text": [
      "     16/100      20.6G     0.5587      1.601      0.582     0.9315        242        640: 100%|██████████| 65/65 [00:35<00:00,  1.82it/s]\n",
      "                 Class     Images  Instances      Box(P          R      mAP50  mAP50-95)     Mask(P          R      mAP50  mAP50-95): 100%|██████████| 4/4 [00:03<00:00,  1.09it/s]"
     ]
    },
    {
     "name": "stdout",
     "output_type": "stream",
     "text": [
      "                   all        775       1765      0.935      0.885      0.922      0.816      0.926      0.874      0.902      0.772\n"
     ]
    },
    {
     "name": "stderr",
     "output_type": "stream",
     "text": [
      "\n"
     ]
    },
    {
     "name": "stdout",
     "output_type": "stream",
     "text": [
      "\n",
      "      Epoch    GPU_mem   box_loss   seg_loss   cls_loss   dfl_loss  Instances       Size\n"
     ]
    },
    {
     "name": "stderr",
     "output_type": "stream",
     "text": [
      "     17/100      19.7G     0.5579      1.608     0.5603     0.9329        252        640: 100%|██████████| 65/65 [00:35<00:00,  1.84it/s]\n",
      "                 Class     Images  Instances      Box(P          R      mAP50  mAP50-95)     Mask(P          R      mAP50  mAP50-95): 100%|██████████| 4/4 [00:03<00:00,  1.09it/s]"
     ]
    },
    {
     "name": "stdout",
     "output_type": "stream",
     "text": [
      "                   all        775       1765       0.92      0.895      0.919      0.812       0.91      0.883      0.899       0.77\n"
     ]
    },
    {
     "name": "stderr",
     "output_type": "stream",
     "text": [
      "\n"
     ]
    },
    {
     "name": "stdout",
     "output_type": "stream",
     "text": [
      "\n",
      "      Epoch    GPU_mem   box_loss   seg_loss   cls_loss   dfl_loss  Instances       Size\n"
     ]
    },
    {
     "name": "stderr",
     "output_type": "stream",
     "text": [
      "     18/100      19.9G     0.5572      1.597     0.5522     0.9307        267        640: 100%|██████████| 65/65 [00:35<00:00,  1.84it/s]\n",
      "                 Class     Images  Instances      Box(P          R      mAP50  mAP50-95)     Mask(P          R      mAP50  mAP50-95): 100%|██████████| 4/4 [00:03<00:00,  1.09it/s]"
     ]
    },
    {
     "name": "stdout",
     "output_type": "stream",
     "text": [
      "                   all        775       1765      0.935      0.883      0.926      0.812      0.931      0.874      0.904       0.77\n"
     ]
    },
    {
     "name": "stderr",
     "output_type": "stream",
     "text": [
      "\n"
     ]
    },
    {
     "name": "stdout",
     "output_type": "stream",
     "text": [
      "\n",
      "      Epoch    GPU_mem   box_loss   seg_loss   cls_loss   dfl_loss  Instances       Size\n"
     ]
    },
    {
     "name": "stderr",
     "output_type": "stream",
     "text": [
      "     19/100      20.2G     0.5451      1.599     0.5409     0.9281        278        640: 100%|██████████| 65/65 [00:35<00:00,  1.82it/s]\n",
      "                 Class     Images  Instances      Box(P          R      mAP50  mAP50-95)     Mask(P          R      mAP50  mAP50-95): 100%|██████████| 4/4 [00:03<00:00,  1.10it/s]"
     ]
    },
    {
     "name": "stdout",
     "output_type": "stream",
     "text": [
      "                   all        775       1765       0.92      0.872      0.914      0.811      0.919      0.854       0.89      0.757\n"
     ]
    },
    {
     "name": "stderr",
     "output_type": "stream",
     "text": [
      "\n"
     ]
    },
    {
     "name": "stdout",
     "output_type": "stream",
     "text": [
      "\n",
      "      Epoch    GPU_mem   box_loss   seg_loss   cls_loss   dfl_loss  Instances       Size\n"
     ]
    },
    {
     "name": "stderr",
     "output_type": "stream",
     "text": [
      "     20/100        20G     0.5423      1.567     0.5237      0.925        307        640: 100%|██████████| 65/65 [00:35<00:00,  1.83it/s]\n",
      "                 Class     Images  Instances      Box(P          R      mAP50  mAP50-95)     Mask(P          R      mAP50  mAP50-95): 100%|██████████| 4/4 [00:03<00:00,  1.11it/s]"
     ]
    },
    {
     "name": "stdout",
     "output_type": "stream",
     "text": [
      "                   all        775       1765      0.943      0.885      0.921      0.819      0.936      0.875      0.901      0.772\n"
     ]
    },
    {
     "name": "stderr",
     "output_type": "stream",
     "text": [
      "\n"
     ]
    },
    {
     "name": "stdout",
     "output_type": "stream",
     "text": [
      "\n",
      "      Epoch    GPU_mem   box_loss   seg_loss   cls_loss   dfl_loss  Instances       Size\n"
     ]
    },
    {
     "name": "stderr",
     "output_type": "stream",
     "text": [
      "     21/100      19.9G      0.538      1.558      0.517      0.924        269        640: 100%|██████████| 65/65 [00:36<00:00,  1.80it/s]\n",
      "                 Class     Images  Instances      Box(P          R      mAP50  mAP50-95)     Mask(P          R      mAP50  mAP50-95): 100%|██████████| 4/4 [00:03<00:00,  1.10it/s]"
     ]
    },
    {
     "name": "stdout",
     "output_type": "stream",
     "text": [
      "                   all        775       1765      0.942      0.899      0.928      0.833      0.933       0.89       0.91      0.791\n"
     ]
    },
    {
     "name": "stderr",
     "output_type": "stream",
     "text": [
      "\n"
     ]
    },
    {
     "name": "stdout",
     "output_type": "stream",
     "text": [
      "\n",
      "      Epoch    GPU_mem   box_loss   seg_loss   cls_loss   dfl_loss  Instances       Size\n"
     ]
    },
    {
     "name": "stderr",
     "output_type": "stream",
     "text": [
      "     22/100      20.2G     0.5345      1.538     0.5093     0.9212        229        640: 100%|██████████| 65/65 [00:36<00:00,  1.80it/s]\n",
      "                 Class     Images  Instances      Box(P          R      mAP50  mAP50-95)     Mask(P          R      mAP50  mAP50-95): 100%|██████████| 4/4 [00:03<00:00,  1.10it/s]"
     ]
    },
    {
     "name": "stdout",
     "output_type": "stream",
     "text": [
      "                   all        775       1765      0.934      0.889      0.924      0.823      0.926      0.875      0.901      0.779\n"
     ]
    },
    {
     "name": "stderr",
     "output_type": "stream",
     "text": [
      "\n"
     ]
    },
    {
     "name": "stdout",
     "output_type": "stream",
     "text": [
      "\n",
      "      Epoch    GPU_mem   box_loss   seg_loss   cls_loss   dfl_loss  Instances       Size\n"
     ]
    },
    {
     "name": "stderr",
     "output_type": "stream",
     "text": [
      "     23/100      20.3G     0.5402      1.575     0.5044     0.9259        266        640: 100%|██████████| 65/65 [00:35<00:00,  1.83it/s]\n",
      "                 Class     Images  Instances      Box(P          R      mAP50  mAP50-95)     Mask(P          R      mAP50  mAP50-95): 100%|██████████| 4/4 [00:03<00:00,  1.10it/s]"
     ]
    },
    {
     "name": "stdout",
     "output_type": "stream",
     "text": [
      "                   all        775       1765      0.956      0.893      0.926      0.827      0.941      0.893      0.909      0.786\n"
     ]
    },
    {
     "name": "stderr",
     "output_type": "stream",
     "text": [
      "\n"
     ]
    },
    {
     "name": "stdout",
     "output_type": "stream",
     "text": [
      "\n",
      "      Epoch    GPU_mem   box_loss   seg_loss   cls_loss   dfl_loss  Instances       Size\n"
     ]
    },
    {
     "name": "stderr",
     "output_type": "stream",
     "text": [
      "     24/100        20G     0.5333      1.511     0.4922     0.9197        228        640: 100%|██████████| 65/65 [00:35<00:00,  1.83it/s]\n",
      "                 Class     Images  Instances      Box(P          R      mAP50  mAP50-95)     Mask(P          R      mAP50  mAP50-95): 100%|██████████| 4/4 [00:03<00:00,  1.09it/s]"
     ]
    },
    {
     "name": "stdout",
     "output_type": "stream",
     "text": [
      "                   all        775       1765      0.928      0.883      0.919      0.824      0.929      0.864      0.899      0.779\n"
     ]
    },
    {
     "name": "stderr",
     "output_type": "stream",
     "text": [
      "\n"
     ]
    },
    {
     "name": "stdout",
     "output_type": "stream",
     "text": [
      "\n",
      "      Epoch    GPU_mem   box_loss   seg_loss   cls_loss   dfl_loss  Instances       Size\n"
     ]
    },
    {
     "name": "stderr",
     "output_type": "stream",
     "text": [
      "     25/100      20.6G     0.5289      1.504     0.4821     0.9202        241        640: 100%|██████████| 65/65 [00:35<00:00,  1.81it/s]\n",
      "                 Class     Images  Instances      Box(P          R      mAP50  mAP50-95)     Mask(P          R      mAP50  mAP50-95): 100%|██████████| 4/4 [00:03<00:00,  1.09it/s]"
     ]
    },
    {
     "name": "stdout",
     "output_type": "stream",
     "text": [
      "                   all        775       1765      0.957      0.879      0.927      0.828      0.947       0.87      0.905      0.775\n"
     ]
    },
    {
     "name": "stderr",
     "output_type": "stream",
     "text": [
      "\n"
     ]
    },
    {
     "name": "stdout",
     "output_type": "stream",
     "text": [
      "\n",
      "      Epoch    GPU_mem   box_loss   seg_loss   cls_loss   dfl_loss  Instances       Size\n"
     ]
    },
    {
     "name": "stderr",
     "output_type": "stream",
     "text": [
      "     26/100      20.5G     0.5264      1.502     0.4807     0.9189        229        640: 100%|██████████| 65/65 [00:35<00:00,  1.83it/s]\n",
      "                 Class     Images  Instances      Box(P          R      mAP50  mAP50-95)     Mask(P          R      mAP50  mAP50-95): 100%|██████████| 4/4 [00:03<00:00,  1.11it/s]"
     ]
    },
    {
     "name": "stdout",
     "output_type": "stream",
     "text": [
      "                   all        775       1765      0.943      0.888      0.925      0.831      0.928      0.876      0.901      0.783\n"
     ]
    },
    {
     "name": "stderr",
     "output_type": "stream",
     "text": [
      "\n"
     ]
    },
    {
     "name": "stdout",
     "output_type": "stream",
     "text": [
      "\n",
      "      Epoch    GPU_mem   box_loss   seg_loss   cls_loss   dfl_loss  Instances       Size\n"
     ]
    },
    {
     "name": "stderr",
     "output_type": "stream",
     "text": [
      "     27/100      19.8G     0.5256      1.524     0.4758     0.9183        313        640: 100%|██████████| 65/65 [00:35<00:00,  1.83it/s]\n",
      "                 Class     Images  Instances      Box(P          R      mAP50  mAP50-95)     Mask(P          R      mAP50  mAP50-95): 100%|██████████| 4/4 [00:03<00:00,  1.11it/s]"
     ]
    },
    {
     "name": "stdout",
     "output_type": "stream",
     "text": [
      "                   all        775       1765      0.953      0.899      0.932      0.833      0.945       0.89      0.911      0.792\n"
     ]
    },
    {
     "name": "stderr",
     "output_type": "stream",
     "text": [
      "\n"
     ]
    },
    {
     "name": "stdout",
     "output_type": "stream",
     "text": [
      "\n",
      "      Epoch    GPU_mem   box_loss   seg_loss   cls_loss   dfl_loss  Instances       Size\n"
     ]
    },
    {
     "name": "stderr",
     "output_type": "stream",
     "text": [
      "     28/100      19.6G     0.5175      1.455     0.4646     0.9131        254        640: 100%|██████████| 65/65 [00:35<00:00,  1.84it/s]\n",
      "                 Class     Images  Instances      Box(P          R      mAP50  mAP50-95)     Mask(P          R      mAP50  mAP50-95): 100%|██████████| 4/4 [00:03<00:00,  1.11it/s]"
     ]
    },
    {
     "name": "stdout",
     "output_type": "stream",
     "text": [
      "                   all        775       1765      0.948      0.911      0.935      0.848      0.939      0.899      0.918      0.805\n"
     ]
    },
    {
     "name": "stderr",
     "output_type": "stream",
     "text": [
      "\n"
     ]
    },
    {
     "name": "stdout",
     "output_type": "stream",
     "text": [
      "\n",
      "      Epoch    GPU_mem   box_loss   seg_loss   cls_loss   dfl_loss  Instances       Size\n"
     ]
    },
    {
     "name": "stderr",
     "output_type": "stream",
     "text": [
      "     29/100      20.2G     0.5206      1.462     0.4653      0.917        228        640: 100%|██████████| 65/65 [00:35<00:00,  1.82it/s]\n",
      "                 Class     Images  Instances      Box(P          R      mAP50  mAP50-95)     Mask(P          R      mAP50  mAP50-95): 100%|██████████| 4/4 [00:03<00:00,  1.07it/s]"
     ]
    },
    {
     "name": "stdout",
     "output_type": "stream",
     "text": [
      "                   all        775       1765      0.949      0.902      0.928       0.83      0.935      0.885      0.904      0.786\n"
     ]
    },
    {
     "name": "stderr",
     "output_type": "stream",
     "text": [
      "\n"
     ]
    },
    {
     "name": "stdout",
     "output_type": "stream",
     "text": [
      "\n",
      "      Epoch    GPU_mem   box_loss   seg_loss   cls_loss   dfl_loss  Instances       Size\n"
     ]
    },
    {
     "name": "stderr",
     "output_type": "stream",
     "text": [
      "     30/100      20.1G     0.5153      1.479     0.4616     0.9121        303        640: 100%|██████████| 65/65 [00:35<00:00,  1.84it/s]\n",
      "                 Class     Images  Instances      Box(P          R      mAP50  mAP50-95)     Mask(P          R      mAP50  mAP50-95): 100%|██████████| 4/4 [00:03<00:00,  1.11it/s]"
     ]
    },
    {
     "name": "stdout",
     "output_type": "stream",
     "text": [
      "                   all        775       1765      0.948      0.907      0.932      0.845      0.938      0.896       0.91      0.797\n"
     ]
    },
    {
     "name": "stderr",
     "output_type": "stream",
     "text": [
      "\n"
     ]
    },
    {
     "name": "stdout",
     "output_type": "stream",
     "text": [
      "\n",
      "      Epoch    GPU_mem   box_loss   seg_loss   cls_loss   dfl_loss  Instances       Size\n"
     ]
    },
    {
     "name": "stderr",
     "output_type": "stream",
     "text": [
      "     31/100      20.1G     0.5082       1.43      0.449     0.9117        307        640: 100%|██████████| 65/65 [00:35<00:00,  1.83it/s]\n",
      "                 Class     Images  Instances      Box(P          R      mAP50  mAP50-95)     Mask(P          R      mAP50  mAP50-95): 100%|██████████| 4/4 [00:03<00:00,  1.10it/s]"
     ]
    },
    {
     "name": "stdout",
     "output_type": "stream",
     "text": [
      "                   all        775       1765      0.954      0.906      0.937      0.852      0.955      0.884      0.914      0.808\n"
     ]
    },
    {
     "name": "stderr",
     "output_type": "stream",
     "text": [
      "\n"
     ]
    },
    {
     "name": "stdout",
     "output_type": "stream",
     "text": [
      "\n",
      "      Epoch    GPU_mem   box_loss   seg_loss   cls_loss   dfl_loss  Instances       Size\n"
     ]
    },
    {
     "name": "stderr",
     "output_type": "stream",
     "text": [
      "     32/100      20.1G     0.5138      1.496     0.4498     0.9141        301        640: 100%|██████████| 65/65 [00:35<00:00,  1.82it/s]\n",
      "                 Class     Images  Instances      Box(P          R      mAP50  mAP50-95)     Mask(P          R      mAP50  mAP50-95): 100%|██████████| 4/4 [00:03<00:00,  1.10it/s]"
     ]
    },
    {
     "name": "stdout",
     "output_type": "stream",
     "text": [
      "                   all        775       1765      0.949      0.899      0.935      0.848      0.943      0.884      0.916      0.803\n"
     ]
    },
    {
     "name": "stderr",
     "output_type": "stream",
     "text": [
      "\n"
     ]
    },
    {
     "name": "stdout",
     "output_type": "stream",
     "text": [
      "\n",
      "      Epoch    GPU_mem   box_loss   seg_loss   cls_loss   dfl_loss  Instances       Size\n"
     ]
    },
    {
     "name": "stderr",
     "output_type": "stream",
     "text": [
      "     33/100      20.2G     0.5006      1.446     0.4408     0.9044        282        640: 100%|██████████| 65/65 [00:36<00:00,  1.79it/s]\n",
      "                 Class     Images  Instances      Box(P          R      mAP50  mAP50-95)     Mask(P          R      mAP50  mAP50-95): 100%|██████████| 4/4 [00:03<00:00,  1.05it/s]"
     ]
    },
    {
     "name": "stdout",
     "output_type": "stream",
     "text": [
      "                   all        775       1765      0.951      0.907      0.933      0.849      0.947      0.896      0.915      0.807\n"
     ]
    },
    {
     "name": "stderr",
     "output_type": "stream",
     "text": [
      "\n"
     ]
    },
    {
     "name": "stdout",
     "output_type": "stream",
     "text": [
      "\n",
      "      Epoch    GPU_mem   box_loss   seg_loss   cls_loss   dfl_loss  Instances       Size\n"
     ]
    },
    {
     "name": "stderr",
     "output_type": "stream",
     "text": [
      "     34/100        20G     0.5079      1.457     0.4438     0.9106        232        640: 100%|██████████| 65/65 [00:38<00:00,  1.71it/s]\n",
      "                 Class     Images  Instances      Box(P          R      mAP50  mAP50-95)     Mask(P          R      mAP50  mAP50-95): 100%|██████████| 4/4 [00:04<00:00,  1.18s/it]"
     ]
    },
    {
     "name": "stdout",
     "output_type": "stream",
     "text": [
      "                   all        775       1765      0.954      0.912      0.935      0.848      0.943      0.899      0.915      0.806\n"
     ]
    },
    {
     "name": "stderr",
     "output_type": "stream",
     "text": [
      "\n"
     ]
    },
    {
     "name": "stdout",
     "output_type": "stream",
     "text": [
      "\n",
      "      Epoch    GPU_mem   box_loss   seg_loss   cls_loss   dfl_loss  Instances       Size\n"
     ]
    },
    {
     "name": "stderr",
     "output_type": "stream",
     "text": [
      "     35/100      20.5G        0.5      1.452     0.4296     0.9067        280        640: 100%|██████████| 65/65 [00:37<00:00,  1.74it/s]\n",
      "                 Class     Images  Instances      Box(P          R      mAP50  mAP50-95)     Mask(P          R      mAP50  mAP50-95): 100%|██████████| 4/4 [00:04<00:00,  1.11s/it]"
     ]
    },
    {
     "name": "stdout",
     "output_type": "stream",
     "text": [
      "                   all        775       1765      0.961      0.913      0.939      0.851      0.952      0.903      0.921       0.81\n"
     ]
    },
    {
     "name": "stderr",
     "output_type": "stream",
     "text": [
      "\n"
     ]
    },
    {
     "name": "stdout",
     "output_type": "stream",
     "text": [
      "\n",
      "      Epoch    GPU_mem   box_loss   seg_loss   cls_loss   dfl_loss  Instances       Size\n"
     ]
    },
    {
     "name": "stderr",
     "output_type": "stream",
     "text": [
      "     36/100      20.2G     0.4953       1.42     0.4262     0.9028        263        640: 100%|██████████| 65/65 [00:38<00:00,  1.70it/s]\n",
      "                 Class     Images  Instances      Box(P          R      mAP50  mAP50-95)     Mask(P          R      mAP50  mAP50-95): 100%|██████████| 4/4 [00:03<00:00,  1.10it/s]"
     ]
    },
    {
     "name": "stdout",
     "output_type": "stream",
     "text": [
      "                   all        775       1765      0.957      0.907      0.934      0.849      0.947      0.899      0.915      0.807\n"
     ]
    },
    {
     "name": "stderr",
     "output_type": "stream",
     "text": [
      "\n"
     ]
    },
    {
     "name": "stdout",
     "output_type": "stream",
     "text": [
      "\n",
      "      Epoch    GPU_mem   box_loss   seg_loss   cls_loss   dfl_loss  Instances       Size\n"
     ]
    },
    {
     "name": "stderr",
     "output_type": "stream",
     "text": [
      "     37/100        20G     0.5018      1.421     0.4287     0.9068        331        640: 100%|██████████| 65/65 [00:36<00:00,  1.81it/s]\n",
      "                 Class     Images  Instances      Box(P          R      mAP50  mAP50-95)     Mask(P          R      mAP50  mAP50-95): 100%|██████████| 4/4 [00:04<00:00,  1.02s/it]"
     ]
    },
    {
     "name": "stdout",
     "output_type": "stream",
     "text": [
      "                   all        775       1765      0.954      0.917      0.938      0.855      0.948      0.896      0.915      0.807\n"
     ]
    },
    {
     "name": "stderr",
     "output_type": "stream",
     "text": [
      "\n"
     ]
    },
    {
     "name": "stdout",
     "output_type": "stream",
     "text": [
      "\n",
      "      Epoch    GPU_mem   box_loss   seg_loss   cls_loss   dfl_loss  Instances       Size\n"
     ]
    },
    {
     "name": "stderr",
     "output_type": "stream",
     "text": [
      "     38/100      20.1G     0.4948      1.411     0.4206     0.9056        312        640: 100%|██████████| 65/65 [00:35<00:00,  1.81it/s]\n",
      "                 Class     Images  Instances      Box(P          R      mAP50  mAP50-95)     Mask(P          R      mAP50  mAP50-95): 100%|██████████| 4/4 [00:04<00:00,  1.10s/it]"
     ]
    },
    {
     "name": "stdout",
     "output_type": "stream",
     "text": [
      "                   all        775       1765      0.962       0.91      0.941      0.858      0.956      0.899      0.921      0.811\n"
     ]
    },
    {
     "name": "stderr",
     "output_type": "stream",
     "text": [
      "\n"
     ]
    },
    {
     "name": "stdout",
     "output_type": "stream",
     "text": [
      "\n",
      "      Epoch    GPU_mem   box_loss   seg_loss   cls_loss   dfl_loss  Instances       Size\n"
     ]
    },
    {
     "name": "stderr",
     "output_type": "stream",
     "text": [
      "     39/100        20G     0.4922      1.404     0.4185     0.9022        240        640: 100%|██████████| 65/65 [00:35<00:00,  1.82it/s]\n",
      "                 Class     Images  Instances      Box(P          R      mAP50  mAP50-95)     Mask(P          R      mAP50  mAP50-95): 100%|██████████| 4/4 [00:03<00:00,  1.11it/s]"
     ]
    },
    {
     "name": "stdout",
     "output_type": "stream",
     "text": [
      "                   all        775       1765      0.951      0.911      0.931      0.846      0.941      0.903      0.915      0.808\n"
     ]
    },
    {
     "name": "stderr",
     "output_type": "stream",
     "text": [
      "\n"
     ]
    },
    {
     "name": "stdout",
     "output_type": "stream",
     "text": [
      "\n",
      "      Epoch    GPU_mem   box_loss   seg_loss   cls_loss   dfl_loss  Instances       Size\n"
     ]
    },
    {
     "name": "stderr",
     "output_type": "stream",
     "text": [
      "     40/100      20.4G     0.4855      1.374      0.415        0.9        287        640: 100%|██████████| 65/65 [00:35<00:00,  1.82it/s]\n",
      "                 Class     Images  Instances      Box(P          R      mAP50  mAP50-95)     Mask(P          R      mAP50  mAP50-95): 100%|██████████| 4/4 [00:03<00:00,  1.10it/s]"
     ]
    },
    {
     "name": "stdout",
     "output_type": "stream",
     "text": [
      "                   all        775       1765      0.948      0.909      0.934      0.848      0.937      0.895      0.912      0.804\n"
     ]
    },
    {
     "name": "stderr",
     "output_type": "stream",
     "text": [
      "\n"
     ]
    },
    {
     "name": "stdout",
     "output_type": "stream",
     "text": [
      "\n",
      "      Epoch    GPU_mem   box_loss   seg_loss   cls_loss   dfl_loss  Instances       Size\n"
     ]
    },
    {
     "name": "stderr",
     "output_type": "stream",
     "text": [
      "     41/100      20.1G     0.4912      1.384     0.4126     0.9031        256        640: 100%|██████████| 65/65 [00:35<00:00,  1.82it/s]\n",
      "                 Class     Images  Instances      Box(P          R      mAP50  mAP50-95)     Mask(P          R      mAP50  mAP50-95): 100%|██████████| 4/4 [00:03<00:00,  1.09it/s]"
     ]
    },
    {
     "name": "stdout",
     "output_type": "stream",
     "text": [
      "                   all        775       1765      0.957      0.909      0.936      0.858      0.944      0.894      0.914      0.811\n"
     ]
    },
    {
     "name": "stderr",
     "output_type": "stream",
     "text": [
      "\n"
     ]
    },
    {
     "name": "stdout",
     "output_type": "stream",
     "text": [
      "\n",
      "      Epoch    GPU_mem   box_loss   seg_loss   cls_loss   dfl_loss  Instances       Size\n"
     ]
    },
    {
     "name": "stderr",
     "output_type": "stream",
     "text": [
      "     42/100      20.1G     0.4913      1.382     0.4119     0.9024        286        640: 100%|██████████| 65/65 [00:36<00:00,  1.79it/s]\n",
      "                 Class     Images  Instances      Box(P          R      mAP50  mAP50-95)     Mask(P          R      mAP50  mAP50-95): 100%|██████████| 4/4 [00:03<00:00,  1.11it/s]"
     ]
    },
    {
     "name": "stdout",
     "output_type": "stream",
     "text": [
      "                   all        775       1765      0.961      0.911      0.939      0.857      0.952      0.897      0.919      0.812\n"
     ]
    },
    {
     "name": "stderr",
     "output_type": "stream",
     "text": [
      "\n"
     ]
    },
    {
     "name": "stdout",
     "output_type": "stream",
     "text": [
      "\n",
      "      Epoch    GPU_mem   box_loss   seg_loss   cls_loss   dfl_loss  Instances       Size\n"
     ]
    },
    {
     "name": "stderr",
     "output_type": "stream",
     "text": [
      "     43/100      20.3G      0.484      1.368     0.4048     0.9001        247        640: 100%|██████████| 65/65 [00:36<00:00,  1.76it/s]\n",
      "                 Class     Images  Instances      Box(P          R      mAP50  mAP50-95)     Mask(P          R      mAP50  mAP50-95): 100%|██████████| 4/4 [00:04<00:00,  1.03s/it]"
     ]
    },
    {
     "name": "stdout",
     "output_type": "stream",
     "text": [
      "                   all        775       1765      0.961      0.914      0.939      0.861      0.952      0.907      0.924       0.82\n"
     ]
    },
    {
     "name": "stderr",
     "output_type": "stream",
     "text": [
      "\n"
     ]
    },
    {
     "name": "stdout",
     "output_type": "stream",
     "text": [
      "\n",
      "      Epoch    GPU_mem   box_loss   seg_loss   cls_loss   dfl_loss  Instances       Size\n"
     ]
    },
    {
     "name": "stderr",
     "output_type": "stream",
     "text": [
      "     44/100      20.3G     0.4869      1.396     0.4061     0.9054        262        640: 100%|██████████| 65/65 [00:35<00:00,  1.82it/s]\n",
      "                 Class     Images  Instances      Box(P          R      mAP50  mAP50-95)     Mask(P          R      mAP50  mAP50-95): 100%|██████████| 4/4 [00:03<00:00,  1.05it/s]"
     ]
    },
    {
     "name": "stdout",
     "output_type": "stream",
     "text": [
      "                   all        775       1765      0.962      0.914      0.938      0.863      0.956      0.906      0.925      0.821\n"
     ]
    },
    {
     "name": "stderr",
     "output_type": "stream",
     "text": [
      "\n"
     ]
    },
    {
     "name": "stdout",
     "output_type": "stream",
     "text": [
      "\n",
      "      Epoch    GPU_mem   box_loss   seg_loss   cls_loss   dfl_loss  Instances       Size\n"
     ]
    },
    {
     "name": "stderr",
     "output_type": "stream",
     "text": [
      "     45/100        20G     0.4828      1.393     0.4033     0.8984        266        640: 100%|██████████| 65/65 [00:35<00:00,  1.84it/s]\n",
      "                 Class     Images  Instances      Box(P          R      mAP50  mAP50-95)     Mask(P          R      mAP50  mAP50-95): 100%|██████████| 4/4 [00:03<00:00,  1.11it/s]"
     ]
    },
    {
     "name": "stdout",
     "output_type": "stream",
     "text": [
      "                   all        775       1765      0.961      0.917      0.942      0.862      0.947      0.904       0.92      0.821\n"
     ]
    },
    {
     "name": "stderr",
     "output_type": "stream",
     "text": [
      "\n"
     ]
    },
    {
     "name": "stdout",
     "output_type": "stream",
     "text": [
      "\n",
      "      Epoch    GPU_mem   box_loss   seg_loss   cls_loss   dfl_loss  Instances       Size\n"
     ]
    },
    {
     "name": "stderr",
     "output_type": "stream",
     "text": [
      "     46/100        20G     0.4819      1.376     0.4047     0.8981        335        640: 100%|██████████| 65/65 [00:35<00:00,  1.81it/s]\n",
      "                 Class     Images  Instances      Box(P          R      mAP50  mAP50-95)     Mask(P          R      mAP50  mAP50-95): 100%|██████████| 4/4 [00:05<00:00,  1.33s/it]"
     ]
    },
    {
     "name": "stdout",
     "output_type": "stream",
     "text": [
      "                   all        775       1765      0.963      0.915      0.939      0.863      0.951      0.905      0.918      0.814\n"
     ]
    },
    {
     "name": "stderr",
     "output_type": "stream",
     "text": [
      "\n"
     ]
    },
    {
     "name": "stdout",
     "output_type": "stream",
     "text": [
      "\n",
      "      Epoch    GPU_mem   box_loss   seg_loss   cls_loss   dfl_loss  Instances       Size\n"
     ]
    },
    {
     "name": "stderr",
     "output_type": "stream",
     "text": [
      "     47/100      20.1G      0.484      1.364     0.4006     0.8986        302        640: 100%|██████████| 65/65 [00:35<00:00,  1.83it/s]\n",
      "                 Class     Images  Instances      Box(P          R      mAP50  mAP50-95)     Mask(P          R      mAP50  mAP50-95): 100%|██████████| 4/4 [00:03<00:00,  1.09it/s]"
     ]
    },
    {
     "name": "stdout",
     "output_type": "stream",
     "text": [
      "                   all        775       1765      0.958      0.912      0.935      0.862      0.948      0.903      0.917      0.816\n"
     ]
    },
    {
     "name": "stderr",
     "output_type": "stream",
     "text": [
      "\n"
     ]
    },
    {
     "name": "stdout",
     "output_type": "stream",
     "text": [
      "\n",
      "      Epoch    GPU_mem   box_loss   seg_loss   cls_loss   dfl_loss  Instances       Size\n"
     ]
    },
    {
     "name": "stderr",
     "output_type": "stream",
     "text": [
      "     48/100      21.5G     0.4837      1.389     0.3979     0.8999        291        640: 100%|██████████| 65/65 [00:35<00:00,  1.81it/s]\n",
      "                 Class     Images  Instances      Box(P          R      mAP50  mAP50-95)     Mask(P          R      mAP50  mAP50-95): 100%|██████████| 4/4 [00:03<00:00,  1.11it/s]"
     ]
    },
    {
     "name": "stdout",
     "output_type": "stream",
     "text": [
      "                   all        775       1765      0.955      0.918       0.94      0.865      0.951      0.902      0.921      0.822\n"
     ]
    },
    {
     "name": "stderr",
     "output_type": "stream",
     "text": [
      "\n"
     ]
    },
    {
     "name": "stdout",
     "output_type": "stream",
     "text": [
      "\n",
      "      Epoch    GPU_mem   box_loss   seg_loss   cls_loss   dfl_loss  Instances       Size\n"
     ]
    },
    {
     "name": "stderr",
     "output_type": "stream",
     "text": [
      "     49/100        20G     0.4739      1.385     0.3908     0.8965        259        640: 100%|██████████| 65/65 [00:35<00:00,  1.82it/s]\n",
      "                 Class     Images  Instances      Box(P          R      mAP50  mAP50-95)     Mask(P          R      mAP50  mAP50-95): 100%|██████████| 4/4 [00:03<00:00,  1.10it/s]"
     ]
    },
    {
     "name": "stdout",
     "output_type": "stream",
     "text": [
      "                   all        775       1765      0.962       0.91      0.941      0.865      0.955      0.901      0.923       0.82\n"
     ]
    },
    {
     "name": "stderr",
     "output_type": "stream",
     "text": [
      "\n"
     ]
    },
    {
     "name": "stdout",
     "output_type": "stream",
     "text": [
      "\n",
      "      Epoch    GPU_mem   box_loss   seg_loss   cls_loss   dfl_loss  Instances       Size\n"
     ]
    },
    {
     "name": "stderr",
     "output_type": "stream",
     "text": [
      "     50/100      20.1G     0.4773       1.37     0.3941      0.899        255        640: 100%|██████████| 65/65 [00:35<00:00,  1.84it/s]\n",
      "                 Class     Images  Instances      Box(P          R      mAP50  mAP50-95)     Mask(P          R      mAP50  mAP50-95): 100%|██████████| 4/4 [00:03<00:00,  1.05it/s]"
     ]
    },
    {
     "name": "stdout",
     "output_type": "stream",
     "text": [
      "                   all        775       1765      0.959      0.919      0.939      0.865      0.951      0.904      0.917       0.82\n"
     ]
    },
    {
     "name": "stderr",
     "output_type": "stream",
     "text": [
      "\n"
     ]
    },
    {
     "name": "stdout",
     "output_type": "stream",
     "text": [
      "\n",
      "      Epoch    GPU_mem   box_loss   seg_loss   cls_loss   dfl_loss  Instances       Size\n"
     ]
    },
    {
     "name": "stderr",
     "output_type": "stream",
     "text": [
      "     51/100        20G     0.4737       1.34     0.3908     0.8949        388        640: 100%|██████████| 65/65 [00:35<00:00,  1.83it/s]\n",
      "                 Class     Images  Instances      Box(P          R      mAP50  mAP50-95)     Mask(P          R      mAP50  mAP50-95): 100%|██████████| 4/4 [00:03<00:00,  1.11it/s]"
     ]
    },
    {
     "name": "stdout",
     "output_type": "stream",
     "text": [
      "                   all        775       1765       0.96      0.912       0.94      0.862      0.949      0.903       0.92      0.821\n"
     ]
    },
    {
     "name": "stderr",
     "output_type": "stream",
     "text": [
      "\n"
     ]
    },
    {
     "name": "stdout",
     "output_type": "stream",
     "text": [
      "\n",
      "      Epoch    GPU_mem   box_loss   seg_loss   cls_loss   dfl_loss  Instances       Size\n"
     ]
    },
    {
     "name": "stderr",
     "output_type": "stream",
     "text": [
      "     52/100      20.1G     0.4666      1.338     0.3793     0.8941        225        640: 100%|██████████| 65/65 [00:35<00:00,  1.83it/s]\n",
      "                 Class     Images  Instances      Box(P          R      mAP50  mAP50-95)     Mask(P          R      mAP50  mAP50-95): 100%|██████████| 4/4 [00:03<00:00,  1.11it/s]"
     ]
    },
    {
     "name": "stdout",
     "output_type": "stream",
     "text": [
      "                   all        775       1765      0.962      0.914      0.941      0.865      0.951      0.904      0.921      0.819\n"
     ]
    },
    {
     "name": "stderr",
     "output_type": "stream",
     "text": [
      "\n"
     ]
    },
    {
     "name": "stdout",
     "output_type": "stream",
     "text": [
      "\n",
      "      Epoch    GPU_mem   box_loss   seg_loss   cls_loss   dfl_loss  Instances       Size\n"
     ]
    },
    {
     "name": "stderr",
     "output_type": "stream",
     "text": [
      "     53/100      20.1G     0.4686      1.324     0.3835     0.8953        300        640: 100%|██████████| 65/65 [00:35<00:00,  1.84it/s]\n",
      "                 Class     Images  Instances      Box(P          R      mAP50  mAP50-95)     Mask(P          R      mAP50  mAP50-95): 100%|██████████| 4/4 [00:03<00:00,  1.11it/s]"
     ]
    },
    {
     "name": "stdout",
     "output_type": "stream",
     "text": [
      "                   all        775       1765      0.967      0.908      0.939      0.867      0.959        0.9      0.924      0.825\n"
     ]
    },
    {
     "name": "stderr",
     "output_type": "stream",
     "text": [
      "\n"
     ]
    },
    {
     "name": "stdout",
     "output_type": "stream",
     "text": [
      "\n",
      "      Epoch    GPU_mem   box_loss   seg_loss   cls_loss   dfl_loss  Instances       Size\n"
     ]
    },
    {
     "name": "stderr",
     "output_type": "stream",
     "text": [
      "     54/100      20.3G     0.4684      1.343     0.3823     0.8926        185        640: 100%|██████████| 65/65 [00:35<00:00,  1.83it/s]\n",
      "                 Class     Images  Instances      Box(P          R      mAP50  mAP50-95)     Mask(P          R      mAP50  mAP50-95): 100%|██████████| 4/4 [00:03<00:00,  1.11it/s]"
     ]
    },
    {
     "name": "stdout",
     "output_type": "stream",
     "text": [
      "                   all        775       1765      0.961      0.917      0.942      0.865      0.953      0.909      0.922      0.821\n"
     ]
    },
    {
     "name": "stderr",
     "output_type": "stream",
     "text": [
      "\n"
     ]
    },
    {
     "name": "stdout",
     "output_type": "stream",
     "text": [
      "\n",
      "      Epoch    GPU_mem   box_loss   seg_loss   cls_loss   dfl_loss  Instances       Size\n"
     ]
    },
    {
     "name": "stderr",
     "output_type": "stream",
     "text": [
      "     55/100      20.4G     0.4643      1.309     0.3789     0.8926        237        640: 100%|██████████| 65/65 [00:36<00:00,  1.79it/s]\n",
      "                 Class     Images  Instances      Box(P          R      mAP50  mAP50-95)     Mask(P          R      mAP50  mAP50-95): 100%|██████████| 4/4 [00:03<00:00,  1.10it/s]"
     ]
    },
    {
     "name": "stdout",
     "output_type": "stream",
     "text": [
      "                   all        775       1765      0.965      0.917      0.942      0.869      0.957      0.907      0.925      0.826\n"
     ]
    },
    {
     "name": "stderr",
     "output_type": "stream",
     "text": [
      "\n"
     ]
    },
    {
     "name": "stdout",
     "output_type": "stream",
     "text": [
      "\n",
      "      Epoch    GPU_mem   box_loss   seg_loss   cls_loss   dfl_loss  Instances       Size\n"
     ]
    },
    {
     "name": "stderr",
     "output_type": "stream",
     "text": [
      "     56/100      19.7G     0.4658      1.333      0.376     0.8941        373        640: 100%|██████████| 65/65 [00:37<00:00,  1.74it/s]\n",
      "                 Class     Images  Instances      Box(P          R      mAP50  mAP50-95)     Mask(P          R      mAP50  mAP50-95): 100%|██████████| 4/4 [00:03<00:00,  1.08it/s]"
     ]
    },
    {
     "name": "stdout",
     "output_type": "stream",
     "text": [
      "                   all        775       1765      0.959      0.917      0.944      0.867      0.955      0.906      0.925      0.828\n"
     ]
    },
    {
     "name": "stderr",
     "output_type": "stream",
     "text": [
      "\n"
     ]
    },
    {
     "name": "stdout",
     "output_type": "stream",
     "text": [
      "\n",
      "      Epoch    GPU_mem   box_loss   seg_loss   cls_loss   dfl_loss  Instances       Size\n"
     ]
    },
    {
     "name": "stderr",
     "output_type": "stream",
     "text": [
      "     57/100      20.4G      0.462      1.299     0.3731     0.8896        266        640: 100%|██████████| 65/65 [00:36<00:00,  1.79it/s]\n",
      "                 Class     Images  Instances      Box(P          R      mAP50  mAP50-95)     Mask(P          R      mAP50  mAP50-95): 100%|██████████| 4/4 [00:03<00:00,  1.11it/s]"
     ]
    },
    {
     "name": "stdout",
     "output_type": "stream",
     "text": [
      "                   all        775       1765      0.969      0.916      0.944      0.869      0.962      0.908      0.925      0.831\n"
     ]
    },
    {
     "name": "stderr",
     "output_type": "stream",
     "text": [
      "\n"
     ]
    },
    {
     "name": "stdout",
     "output_type": "stream",
     "text": [
      "\n",
      "      Epoch    GPU_mem   box_loss   seg_loss   cls_loss   dfl_loss  Instances       Size\n"
     ]
    },
    {
     "name": "stderr",
     "output_type": "stream",
     "text": [
      "     58/100        20G     0.4695      1.348     0.3766     0.8945        296        640: 100%|██████████| 65/65 [00:36<00:00,  1.77it/s]\n",
      "                 Class     Images  Instances      Box(P          R      mAP50  mAP50-95)     Mask(P          R      mAP50  mAP50-95): 100%|██████████| 4/4 [00:03<00:00,  1.10it/s]"
     ]
    },
    {
     "name": "stdout",
     "output_type": "stream",
     "text": [
      "                   all        775       1765      0.964      0.916      0.942      0.873      0.958      0.906      0.925      0.828\n"
     ]
    },
    {
     "name": "stderr",
     "output_type": "stream",
     "text": [
      "\n"
     ]
    },
    {
     "name": "stdout",
     "output_type": "stream",
     "text": [
      "\n",
      "      Epoch    GPU_mem   box_loss   seg_loss   cls_loss   dfl_loss  Instances       Size\n"
     ]
    },
    {
     "name": "stderr",
     "output_type": "stream",
     "text": [
      "     59/100      20.1G     0.4553      1.273     0.3638     0.8866        255        640: 100%|██████████| 65/65 [00:36<00:00,  1.79it/s]\n",
      "                 Class     Images  Instances      Box(P          R      mAP50  mAP50-95)     Mask(P          R      mAP50  mAP50-95): 100%|██████████| 4/4 [00:03<00:00,  1.09it/s]"
     ]
    },
    {
     "name": "stdout",
     "output_type": "stream",
     "text": [
      "                   all        775       1765      0.961      0.919      0.946      0.875      0.952      0.908      0.925      0.829\n"
     ]
    },
    {
     "name": "stderr",
     "output_type": "stream",
     "text": [
      "\n"
     ]
    },
    {
     "name": "stdout",
     "output_type": "stream",
     "text": [
      "\n",
      "      Epoch    GPU_mem   box_loss   seg_loss   cls_loss   dfl_loss  Instances       Size\n"
     ]
    },
    {
     "name": "stderr",
     "output_type": "stream",
     "text": [
      "     60/100      20.2G     0.4645      1.299     0.3727     0.8908        285        640: 100%|██████████| 65/65 [00:35<00:00,  1.82it/s]\n",
      "                 Class     Images  Instances      Box(P          R      mAP50  mAP50-95)     Mask(P          R      mAP50  mAP50-95): 100%|██████████| 4/4 [00:03<00:00,  1.11it/s]"
     ]
    },
    {
     "name": "stdout",
     "output_type": "stream",
     "text": [
      "                   all        775       1765      0.965      0.915      0.941      0.865       0.96      0.909      0.926      0.827\n"
     ]
    },
    {
     "name": "stderr",
     "output_type": "stream",
     "text": [
      "\n"
     ]
    },
    {
     "name": "stdout",
     "output_type": "stream",
     "text": [
      "\n",
      "      Epoch    GPU_mem   box_loss   seg_loss   cls_loss   dfl_loss  Instances       Size\n"
     ]
    },
    {
     "name": "stderr",
     "output_type": "stream",
     "text": [
      "     61/100      20.9G     0.4518      1.284     0.3605     0.8855        235        640: 100%|██████████| 65/65 [00:38<00:00,  1.69it/s]\n",
      "                 Class     Images  Instances      Box(P          R      mAP50  mAP50-95)     Mask(P          R      mAP50  mAP50-95): 100%|██████████| 4/4 [00:03<00:00,  1.10it/s]"
     ]
    },
    {
     "name": "stdout",
     "output_type": "stream",
     "text": [
      "                   all        775       1765      0.966      0.915      0.941      0.865      0.955      0.907      0.923      0.825\n"
     ]
    },
    {
     "name": "stderr",
     "output_type": "stream",
     "text": [
      "\n"
     ]
    },
    {
     "name": "stdout",
     "output_type": "stream",
     "text": [
      "\n",
      "      Epoch    GPU_mem   box_loss   seg_loss   cls_loss   dfl_loss  Instances       Size\n"
     ]
    },
    {
     "name": "stderr",
     "output_type": "stream",
     "text": [
      "     62/100      20.7G     0.4606        1.3      0.367     0.8912        288        640: 100%|██████████| 65/65 [00:36<00:00,  1.76it/s]\n",
      "                 Class     Images  Instances      Box(P          R      mAP50  mAP50-95)     Mask(P          R      mAP50  mAP50-95): 100%|██████████| 4/4 [00:03<00:00,  1.11it/s]"
     ]
    },
    {
     "name": "stdout",
     "output_type": "stream",
     "text": [
      "                   all        775       1765      0.961      0.918      0.944       0.87      0.952      0.907      0.923      0.828\n"
     ]
    },
    {
     "name": "stderr",
     "output_type": "stream",
     "text": [
      "\n"
     ]
    },
    {
     "name": "stdout",
     "output_type": "stream",
     "text": [
      "\n",
      "      Epoch    GPU_mem   box_loss   seg_loss   cls_loss   dfl_loss  Instances       Size\n"
     ]
    },
    {
     "name": "stderr",
     "output_type": "stream",
     "text": [
      "     63/100      20.2G      0.456      1.321     0.3658     0.8899        221        640: 100%|██████████| 65/65 [00:35<00:00,  1.83it/s]\n",
      "                 Class     Images  Instances      Box(P          R      mAP50  mAP50-95)     Mask(P          R      mAP50  mAP50-95): 100%|██████████| 4/4 [00:03<00:00,  1.11it/s]"
     ]
    },
    {
     "name": "stdout",
     "output_type": "stream",
     "text": [
      "                   all        775       1765      0.961      0.924      0.943       0.87      0.964      0.905      0.926      0.831\n"
     ]
    },
    {
     "name": "stderr",
     "output_type": "stream",
     "text": [
      "\n"
     ]
    },
    {
     "name": "stdout",
     "output_type": "stream",
     "text": [
      "\n",
      "      Epoch    GPU_mem   box_loss   seg_loss   cls_loss   dfl_loss  Instances       Size\n"
     ]
    },
    {
     "name": "stderr",
     "output_type": "stream",
     "text": [
      "     64/100        20G     0.4547      1.272     0.3626     0.8868        247        640: 100%|██████████| 65/65 [00:35<00:00,  1.83it/s]\n",
      "                 Class     Images  Instances      Box(P          R      mAP50  mAP50-95)     Mask(P          R      mAP50  mAP50-95): 100%|██████████| 4/4 [00:03<00:00,  1.11it/s]"
     ]
    },
    {
     "name": "stdout",
     "output_type": "stream",
     "text": [
      "                   all        775       1765      0.959      0.923      0.944       0.87       0.96      0.907      0.923      0.826\n"
     ]
    },
    {
     "name": "stderr",
     "output_type": "stream",
     "text": [
      "\n"
     ]
    },
    {
     "name": "stdout",
     "output_type": "stream",
     "text": [
      "\n",
      "      Epoch    GPU_mem   box_loss   seg_loss   cls_loss   dfl_loss  Instances       Size\n"
     ]
    },
    {
     "name": "stderr",
     "output_type": "stream",
     "text": [
      "     65/100      20.5G     0.4509      1.254     0.3556     0.8863        214        640: 100%|██████████| 65/65 [00:35<00:00,  1.83it/s]\n",
      "                 Class     Images  Instances      Box(P          R      mAP50  mAP50-95)     Mask(P          R      mAP50  mAP50-95): 100%|██████████| 4/4 [00:03<00:00,  1.11it/s]"
     ]
    },
    {
     "name": "stdout",
     "output_type": "stream",
     "text": [
      "                   all        775       1765      0.971      0.916      0.943      0.872      0.963       0.91      0.925      0.829\n"
     ]
    },
    {
     "name": "stderr",
     "output_type": "stream",
     "text": [
      "\n"
     ]
    },
    {
     "name": "stdout",
     "output_type": "stream",
     "text": [
      "\n",
      "      Epoch    GPU_mem   box_loss   seg_loss   cls_loss   dfl_loss  Instances       Size\n"
     ]
    },
    {
     "name": "stderr",
     "output_type": "stream",
     "text": [
      "     66/100        20G     0.4563      1.279     0.3592     0.8899        268        640: 100%|██████████| 65/65 [00:35<00:00,  1.84it/s]\n",
      "                 Class     Images  Instances      Box(P          R      mAP50  mAP50-95)     Mask(P          R      mAP50  mAP50-95): 100%|██████████| 4/4 [00:03<00:00,  1.11it/s]"
     ]
    },
    {
     "name": "stdout",
     "output_type": "stream",
     "text": [
      "                   all        775       1765      0.961      0.923      0.942      0.873      0.954       0.91      0.924       0.83\n"
     ]
    },
    {
     "name": "stderr",
     "output_type": "stream",
     "text": [
      "\n"
     ]
    },
    {
     "name": "stdout",
     "output_type": "stream",
     "text": [
      "\n",
      "      Epoch    GPU_mem   box_loss   seg_loss   cls_loss   dfl_loss  Instances       Size\n"
     ]
    },
    {
     "name": "stderr",
     "output_type": "stream",
     "text": [
      "     67/100      20.1G     0.4569      1.325     0.3555     0.8881        249        640: 100%|██████████| 65/65 [00:36<00:00,  1.79it/s]\n",
      "                 Class     Images  Instances      Box(P          R      mAP50  mAP50-95)     Mask(P          R      mAP50  mAP50-95): 100%|██████████| 4/4 [00:03<00:00,  1.07it/s]"
     ]
    },
    {
     "name": "stdout",
     "output_type": "stream",
     "text": [
      "                   all        775       1765      0.966      0.918      0.944      0.871      0.958      0.906      0.924      0.827\n"
     ]
    },
    {
     "name": "stderr",
     "output_type": "stream",
     "text": [
      "\n"
     ]
    },
    {
     "name": "stdout",
     "output_type": "stream",
     "text": [
      "\n",
      "      Epoch    GPU_mem   box_loss   seg_loss   cls_loss   dfl_loss  Instances       Size\n"
     ]
    },
    {
     "name": "stderr",
     "output_type": "stream",
     "text": [
      "     68/100      20.2G      0.447       1.25     0.3545     0.8868        269        640: 100%|██████████| 65/65 [00:35<00:00,  1.83it/s]\n",
      "                 Class     Images  Instances      Box(P          R      mAP50  mAP50-95)     Mask(P          R      mAP50  mAP50-95): 100%|██████████| 4/4 [00:03<00:00,  1.11it/s]"
     ]
    },
    {
     "name": "stdout",
     "output_type": "stream",
     "text": [
      "                   all        775       1765      0.958      0.923      0.945      0.873      0.962      0.908      0.926      0.834\n"
     ]
    },
    {
     "name": "stderr",
     "output_type": "stream",
     "text": [
      "\n"
     ]
    },
    {
     "name": "stdout",
     "output_type": "stream",
     "text": [
      "\n",
      "      Epoch    GPU_mem   box_loss   seg_loss   cls_loss   dfl_loss  Instances       Size\n"
     ]
    },
    {
     "name": "stderr",
     "output_type": "stream",
     "text": [
      "     69/100      20.1G     0.4544      1.283      0.358      0.886        343        640: 100%|██████████| 65/65 [00:35<00:00,  1.82it/s]\n",
      "                 Class     Images  Instances      Box(P          R      mAP50  mAP50-95)     Mask(P          R      mAP50  mAP50-95): 100%|██████████| 4/4 [00:03<00:00,  1.10it/s]"
     ]
    },
    {
     "name": "stdout",
     "output_type": "stream",
     "text": [
      "                   all        775       1765      0.963      0.921      0.943      0.873      0.958      0.903       0.92      0.828\n"
     ]
    },
    {
     "name": "stderr",
     "output_type": "stream",
     "text": [
      "\n"
     ]
    },
    {
     "name": "stdout",
     "output_type": "stream",
     "text": [
      "\n",
      "      Epoch    GPU_mem   box_loss   seg_loss   cls_loss   dfl_loss  Instances       Size\n"
     ]
    },
    {
     "name": "stderr",
     "output_type": "stream",
     "text": [
      "     70/100      20.4G     0.4443      1.262     0.3492     0.8857        317        640: 100%|██████████| 65/65 [00:41<00:00,  1.55it/s]\n",
      "                 Class     Images  Instances      Box(P          R      mAP50  mAP50-95)     Mask(P          R      mAP50  mAP50-95): 100%|██████████| 4/4 [00:05<00:00,  1.32s/it]"
     ]
    },
    {
     "name": "stdout",
     "output_type": "stream",
     "text": [
      "                   all        775       1765      0.966       0.92      0.944      0.876      0.954      0.915      0.925      0.836\n"
     ]
    },
    {
     "name": "stderr",
     "output_type": "stream",
     "text": [
      "\n"
     ]
    },
    {
     "name": "stdout",
     "output_type": "stream",
     "text": [
      "\n",
      "      Epoch    GPU_mem   box_loss   seg_loss   cls_loss   dfl_loss  Instances       Size\n"
     ]
    },
    {
     "name": "stderr",
     "output_type": "stream",
     "text": [
      "     71/100      20.2G      0.442      1.266     0.3465     0.8852        227        640: 100%|██████████| 65/65 [00:42<00:00,  1.53it/s]\n",
      "                 Class     Images  Instances      Box(P          R      mAP50  mAP50-95)     Mask(P          R      mAP50  mAP50-95): 100%|██████████| 4/4 [00:03<00:00,  1.10it/s]"
     ]
    },
    {
     "name": "stdout",
     "output_type": "stream",
     "text": [
      "                   all        775       1765      0.964      0.923      0.944      0.873      0.965       0.91      0.926      0.833\n"
     ]
    },
    {
     "name": "stderr",
     "output_type": "stream",
     "text": [
      "\n"
     ]
    },
    {
     "name": "stdout",
     "output_type": "stream",
     "text": [
      "\n",
      "      Epoch    GPU_mem   box_loss   seg_loss   cls_loss   dfl_loss  Instances       Size\n"
     ]
    },
    {
     "name": "stderr",
     "output_type": "stream",
     "text": [
      "     72/100      20.2G     0.4376       1.22     0.3436     0.8839        299        640: 100%|██████████| 65/65 [00:38<00:00,  1.70it/s]\n",
      "                 Class     Images  Instances      Box(P          R      mAP50  mAP50-95)     Mask(P          R      mAP50  mAP50-95): 100%|██████████| 4/4 [00:03<00:00,  1.11it/s]"
     ]
    },
    {
     "name": "stdout",
     "output_type": "stream",
     "text": [
      "                   all        775       1765      0.969      0.917      0.944      0.873       0.96      0.908      0.924      0.832\n"
     ]
    },
    {
     "name": "stderr",
     "output_type": "stream",
     "text": [
      "\n"
     ]
    },
    {
     "name": "stdout",
     "output_type": "stream",
     "text": [
      "\n",
      "      Epoch    GPU_mem   box_loss   seg_loss   cls_loss   dfl_loss  Instances       Size\n"
     ]
    },
    {
     "name": "stderr",
     "output_type": "stream",
     "text": [
      "     73/100        20G      0.444      1.265     0.3463     0.8834        349        640: 100%|██████████| 65/65 [00:41<00:00,  1.55it/s]\n",
      "                 Class     Images  Instances      Box(P          R      mAP50  mAP50-95)     Mask(P          R      mAP50  mAP50-95): 100%|██████████| 4/4 [00:03<00:00,  1.08it/s]"
     ]
    },
    {
     "name": "stdout",
     "output_type": "stream",
     "text": [
      "                   all        775       1765      0.964      0.925      0.946      0.878      0.953      0.916      0.927      0.836\n"
     ]
    },
    {
     "name": "stderr",
     "output_type": "stream",
     "text": [
      "\n"
     ]
    },
    {
     "name": "stdout",
     "output_type": "stream",
     "text": [
      "\n",
      "      Epoch    GPU_mem   box_loss   seg_loss   cls_loss   dfl_loss  Instances       Size\n"
     ]
    },
    {
     "name": "stderr",
     "output_type": "stream",
     "text": [
      "     74/100      20.2G     0.4374      1.204     0.3402     0.8815        238        640: 100%|██████████| 65/65 [00:35<00:00,  1.82it/s]\n",
      "                 Class     Images  Instances      Box(P          R      mAP50  mAP50-95)     Mask(P          R      mAP50  mAP50-95): 100%|██████████| 4/4 [00:03<00:00,  1.06it/s]"
     ]
    },
    {
     "name": "stdout",
     "output_type": "stream",
     "text": [
      "                   all        775       1765      0.968       0.92      0.945      0.874      0.959      0.913      0.927      0.833\n"
     ]
    },
    {
     "name": "stderr",
     "output_type": "stream",
     "text": [
      "\n"
     ]
    },
    {
     "name": "stdout",
     "output_type": "stream",
     "text": [
      "\n",
      "      Epoch    GPU_mem   box_loss   seg_loss   cls_loss   dfl_loss  Instances       Size\n"
     ]
    },
    {
     "name": "stderr",
     "output_type": "stream",
     "text": [
      "     75/100      20.4G     0.4408      1.223     0.3432     0.8813        310        640: 100%|██████████| 65/65 [00:35<00:00,  1.81it/s]\n",
      "                 Class     Images  Instances      Box(P          R      mAP50  mAP50-95)     Mask(P          R      mAP50  mAP50-95): 100%|██████████| 4/4 [00:03<00:00,  1.11it/s]"
     ]
    },
    {
     "name": "stdout",
     "output_type": "stream",
     "text": [
      "                   all        775       1765      0.965      0.924      0.947      0.878      0.957      0.914      0.928      0.837\n"
     ]
    },
    {
     "name": "stderr",
     "output_type": "stream",
     "text": [
      "\n"
     ]
    },
    {
     "name": "stdout",
     "output_type": "stream",
     "text": [
      "\n",
      "      Epoch    GPU_mem   box_loss   seg_loss   cls_loss   dfl_loss  Instances       Size\n"
     ]
    },
    {
     "name": "stderr",
     "output_type": "stream",
     "text": [
      "     76/100      20.8G     0.4409      1.269     0.3408     0.8805        302        640: 100%|██████████| 65/65 [00:35<00:00,  1.84it/s]\n",
      "                 Class     Images  Instances      Box(P          R      mAP50  mAP50-95)     Mask(P          R      mAP50  mAP50-95): 100%|██████████| 4/4 [00:03<00:00,  1.11it/s]"
     ]
    },
    {
     "name": "stdout",
     "output_type": "stream",
     "text": [
      "                   all        775       1765      0.965      0.923      0.946      0.878      0.953      0.913      0.925      0.836\n"
     ]
    },
    {
     "name": "stderr",
     "output_type": "stream",
     "text": [
      "\n"
     ]
    },
    {
     "name": "stdout",
     "output_type": "stream",
     "text": [
      "\n",
      "      Epoch    GPU_mem   box_loss   seg_loss   cls_loss   dfl_loss  Instances       Size\n"
     ]
    },
    {
     "name": "stderr",
     "output_type": "stream",
     "text": [
      "     77/100      19.9G     0.4386      1.223     0.3383     0.8828        274        640: 100%|██████████| 65/65 [00:35<00:00,  1.84it/s]\n",
      "                 Class     Images  Instances      Box(P          R      mAP50  mAP50-95)     Mask(P          R      mAP50  mAP50-95): 100%|██████████| 4/4 [00:03<00:00,  1.11it/s]"
     ]
    },
    {
     "name": "stdout",
     "output_type": "stream",
     "text": [
      "                   all        775       1765      0.963      0.918      0.946      0.876       0.96      0.909      0.929      0.835\n"
     ]
    },
    {
     "name": "stderr",
     "output_type": "stream",
     "text": [
      "\n"
     ]
    },
    {
     "name": "stdout",
     "output_type": "stream",
     "text": [
      "\n",
      "      Epoch    GPU_mem   box_loss   seg_loss   cls_loss   dfl_loss  Instances       Size\n"
     ]
    },
    {
     "name": "stderr",
     "output_type": "stream",
     "text": [
      "     78/100      20.2G     0.4378      1.261     0.3416     0.8844        295        640: 100%|██████████| 65/65 [00:35<00:00,  1.82it/s]\n",
      "                 Class     Images  Instances      Box(P          R      mAP50  mAP50-95)     Mask(P          R      mAP50  mAP50-95): 100%|██████████| 4/4 [00:03<00:00,  1.01it/s]"
     ]
    },
    {
     "name": "stdout",
     "output_type": "stream",
     "text": [
      "                   all        775       1765      0.963      0.922      0.946      0.877      0.956      0.914      0.927      0.833\n"
     ]
    },
    {
     "name": "stderr",
     "output_type": "stream",
     "text": [
      "\n"
     ]
    },
    {
     "name": "stdout",
     "output_type": "stream",
     "text": [
      "\n",
      "      Epoch    GPU_mem   box_loss   seg_loss   cls_loss   dfl_loss  Instances       Size\n"
     ]
    },
    {
     "name": "stderr",
     "output_type": "stream",
     "text": [
      "     79/100      19.6G     0.4369       1.24     0.3364     0.8785        302        640: 100%|██████████| 65/65 [00:36<00:00,  1.77it/s]\n",
      "                 Class     Images  Instances      Box(P          R      mAP50  mAP50-95)     Mask(P          R      mAP50  mAP50-95): 100%|██████████| 4/4 [00:04<00:00,  1.18s/it]"
     ]
    },
    {
     "name": "stdout",
     "output_type": "stream",
     "text": [
      "                   all        775       1765      0.962      0.925      0.944      0.875      0.952      0.915      0.927      0.837\n"
     ]
    },
    {
     "name": "stderr",
     "output_type": "stream",
     "text": [
      "\n"
     ]
    },
    {
     "name": "stdout",
     "output_type": "stream",
     "text": [
      "\n",
      "      Epoch    GPU_mem   box_loss   seg_loss   cls_loss   dfl_loss  Instances       Size\n"
     ]
    },
    {
     "name": "stderr",
     "output_type": "stream",
     "text": [
      "     80/100      20.1G     0.4344      1.197     0.3378     0.8806        233        640: 100%|██████████| 65/65 [00:36<00:00,  1.80it/s]\n",
      "                 Class     Images  Instances      Box(P          R      mAP50  mAP50-95)     Mask(P          R      mAP50  mAP50-95): 100%|██████████| 4/4 [00:03<00:00,  1.10it/s]"
     ]
    },
    {
     "name": "stdout",
     "output_type": "stream",
     "text": [
      "                   all        775       1765      0.974      0.917      0.944      0.877      0.962      0.904      0.922      0.834\n"
     ]
    },
    {
     "name": "stderr",
     "output_type": "stream",
     "text": [
      "\n"
     ]
    },
    {
     "name": "stdout",
     "output_type": "stream",
     "text": [
      "\n",
      "      Epoch    GPU_mem   box_loss   seg_loss   cls_loss   dfl_loss  Instances       Size\n"
     ]
    },
    {
     "name": "stderr",
     "output_type": "stream",
     "text": [
      "     81/100      20.2G       0.43      1.203     0.3297     0.8801        287        640: 100%|██████████| 65/65 [00:47<00:00,  1.37it/s]\n",
      "                 Class     Images  Instances      Box(P          R      mAP50  mAP50-95)     Mask(P          R      mAP50  mAP50-95): 100%|██████████| 4/4 [00:03<00:00,  1.11it/s]"
     ]
    },
    {
     "name": "stdout",
     "output_type": "stream",
     "text": [
      "                   all        775       1765      0.966       0.92      0.945      0.876      0.957      0.912      0.924      0.833\n"
     ]
    },
    {
     "name": "stderr",
     "output_type": "stream",
     "text": [
      "\n"
     ]
    },
    {
     "name": "stdout",
     "output_type": "stream",
     "text": [
      "\n",
      "      Epoch    GPU_mem   box_loss   seg_loss   cls_loss   dfl_loss  Instances       Size\n"
     ]
    },
    {
     "name": "stderr",
     "output_type": "stream",
     "text": [
      "     82/100      20.2G     0.4353      1.216     0.3342     0.8805        260        640: 100%|██████████| 65/65 [00:41<00:00,  1.58it/s]\n",
      "                 Class     Images  Instances      Box(P          R      mAP50  mAP50-95)     Mask(P          R      mAP50  mAP50-95): 100%|██████████| 4/4 [00:03<00:00,  1.11it/s]"
     ]
    },
    {
     "name": "stdout",
     "output_type": "stream",
     "text": [
      "                   all        775       1765       0.96      0.927      0.946      0.877      0.962      0.907      0.925      0.834\n"
     ]
    },
    {
     "name": "stderr",
     "output_type": "stream",
     "text": [
      "\n"
     ]
    },
    {
     "name": "stdout",
     "output_type": "stream",
     "text": [
      "\n",
      "      Epoch    GPU_mem   box_loss   seg_loss   cls_loss   dfl_loss  Instances       Size\n"
     ]
    },
    {
     "name": "stderr",
     "output_type": "stream",
     "text": [
      "     83/100      19.8G     0.4262      1.204     0.3279     0.8802        238        640: 100%|██████████| 65/65 [00:45<00:00,  1.42it/s]\n",
      "                 Class     Images  Instances      Box(P          R      mAP50  mAP50-95)     Mask(P          R      mAP50  mAP50-95): 100%|██████████| 4/4 [00:03<00:00,  1.10it/s]"
     ]
    },
    {
     "name": "stdout",
     "output_type": "stream",
     "text": [
      "                   all        775       1765      0.963      0.926      0.945      0.877      0.963      0.909      0.923      0.833\n"
     ]
    },
    {
     "name": "stderr",
     "output_type": "stream",
     "text": [
      "\n"
     ]
    },
    {
     "name": "stdout",
     "output_type": "stream",
     "text": [
      "\n",
      "      Epoch    GPU_mem   box_loss   seg_loss   cls_loss   dfl_loss  Instances       Size\n"
     ]
    },
    {
     "name": "stderr",
     "output_type": "stream",
     "text": [
      "     84/100      19.9G     0.4274      1.176     0.3244     0.8804        294        640: 100%|██████████| 65/65 [00:42<00:00,  1.52it/s]\n",
      "                 Class     Images  Instances      Box(P          R      mAP50  mAP50-95)     Mask(P          R      mAP50  mAP50-95): 100%|██████████| 4/4 [00:05<00:00,  1.48s/it]"
     ]
    },
    {
     "name": "stdout",
     "output_type": "stream",
     "text": [
      "                   all        775       1765      0.968      0.918      0.945      0.876      0.958       0.91      0.926      0.836\n"
     ]
    },
    {
     "name": "stderr",
     "output_type": "stream",
     "text": [
      "\n"
     ]
    },
    {
     "name": "stdout",
     "output_type": "stream",
     "text": [
      "\n",
      "      Epoch    GPU_mem   box_loss   seg_loss   cls_loss   dfl_loss  Instances       Size\n"
     ]
    },
    {
     "name": "stderr",
     "output_type": "stream",
     "text": [
      "     85/100      20.4G     0.4252      1.204     0.3262     0.8806        325        640: 100%|██████████| 65/65 [00:45<00:00,  1.43it/s]\n",
      "                 Class     Images  Instances      Box(P          R      mAP50  mAP50-95)     Mask(P          R      mAP50  mAP50-95): 100%|██████████| 4/4 [00:04<00:00,  1.03s/it]"
     ]
    },
    {
     "name": "stdout",
     "output_type": "stream",
     "text": [
      "                   all        775       1765      0.969       0.92      0.946      0.875      0.957      0.907      0.924      0.834\n",
      "\u001b[34m\u001b[1mEarlyStopping: \u001b[0mTraining stopped early as no improvement observed in last 10 epochs. Best results observed at epoch 75, best model saved as best.pt.\n",
      "To update EarlyStopping(patience=10) pass a new patience value, i.e. `patience=300` or use `patience=0` to disable EarlyStopping.\n"
     ]
    },
    {
     "name": "stderr",
     "output_type": "stream",
     "text": [
      "\n"
     ]
    },
    {
     "name": "stdout",
     "output_type": "stream",
     "text": [
      "\n",
      "85 epochs completed in 0.973 hours.\n",
      "Optimizer stripped from YOLO-segment-v1/train1/weights/last.pt, 6.0MB\n",
      "Optimizer stripped from YOLO-segment-v1/train1/weights/best.pt, 6.0MB\n",
      "\n",
      "Validating YOLO-segment-v1/train1/weights/best.pt...\n",
      "Ultralytics 8.3.29 🚀 Python-3.12.7 torch-2.4.1+cu121 CUDA:0 (NVIDIA A100-SXM4-40GB, 40339MiB)\n",
      "YOLO11n-seg summary (fused): 265 layers, 2,838,858 parameters, 0 gradients, 10.2 GFLOPs\n"
     ]
    },
    {
     "name": "stderr",
     "output_type": "stream",
     "text": [
      "                 Class     Images  Instances      Box(P          R      mAP50  mAP50-95)     Mask(P          R      mAP50  mAP50-95): 100%|██████████| 4/4 [00:05<00:00,  1.41s/it]\n"
     ]
    },
    {
     "name": "stdout",
     "output_type": "stream",
     "text": [
      "                   all        775       1765      0.965      0.924      0.947      0.877      0.957      0.914      0.928      0.837\n",
      "          bottled_soda         37         37      0.959          1      0.995      0.932      0.961          1      0.995      0.902\n",
      "                cheese         40         58          1      0.909      0.955      0.891      0.981       0.89      0.939      0.855\n",
      "                Kitkat         42         47      0.978      0.946      0.981      0.934      0.992      0.957      0.982      0.913\n",
      "                coffee         30         66      0.969      0.954      0.984      0.897      0.969       0.95      0.964      0.894\n",
      "        condensed_milk         37         52      0.974          1      0.994      0.976      0.957      0.981      0.978      0.957\n",
      "           Cooking_oil         40         40      0.987          1      0.995      0.936      0.988          1      0.995      0.937\n",
      "           corned_beef         41        247      0.956       0.98      0.989      0.922      0.957       0.98      0.989      0.836\n",
      "                garlic         33         33      0.983       0.97      0.991      0.906      0.987       0.97      0.991      0.881\n",
      "       instant_noodles         30         30      0.983          1      0.995      0.962      0.984          1      0.995      0.979\n",
      "                 lemon         37         46      0.988          1      0.995      0.976      0.989          1      0.995       0.98\n",
      "            Mayonnaise         31        105      0.963      0.962      0.988      0.887      0.947      0.943      0.948      0.703\n",
      "         peanut_butter         26        158      0.936      0.494      0.631      0.592      0.926      0.487      0.603      0.534\n",
      "                 pasta         37         39      0.895      0.876      0.901      0.686      0.815      0.792      0.768      0.644\n",
      "       pineapple_juice         35        116      0.956       0.93      0.969      0.944      0.956      0.929      0.973      0.926\n",
      "              crackers         32         48       0.95      0.979      0.967      0.925      0.971          1      0.985      0.932\n",
      "       canned_sardines         45         61      0.985      0.967      0.989      0.921      0.987      0.967      0.985      0.879\n",
      "          pink_shampoo         36         51      0.989          1      0.995      0.984       0.99          1      0.995      0.992\n",
      "                  soap         34         34      0.985          1      0.995      0.985      0.986          1      0.995       0.98\n",
      "            silverswan         34         95       0.92      0.846      0.912      0.722      0.891        0.8      0.855      0.592\n",
      "            toothpaste         25         42      0.989          1      0.995      0.946       0.99          1      0.995      0.928\n",
      "           canned_tuna         42        327      0.903       0.52      0.618      0.537      0.836      0.469      0.496      0.375\n",
      "GreenCross_Ethyl_Alcohol         31         33      0.989          1      0.995      0.843      0.991          1      0.995      0.798\n",
      "Speed: 0.1ms preprocess, 0.6ms inference, 0.0ms loss, 0.8ms postprocess per image\n",
      "Results saved to \u001b[1mYOLO-segment-v1/train1\u001b[0m\n",
      "Ultralytics 8.3.29 🚀 Python-3.12.7 torch-2.4.1+cu121 CUDA:0 (NVIDIA A100-SXM4-40GB, 40339MiB)\n",
      "YOLO11n-seg summary (fused): 265 layers, 2,838,858 parameters, 0 gradients, 10.2 GFLOPs\n"
     ]
    },
    {
     "name": "stderr",
     "output_type": "stream",
     "text": [
      "\u001b[34m\u001b[1mval: \u001b[0mScanning /raid/students/ryan/Cayas-AI-231/machine_exers/ME5/datasets/grocery/labels/val.cache... 775 images, 0 backgrounds, 0 corrupt: 100%|██████████| 775/775 [00:00<?, ?it/s]"
     ]
    },
    {
     "name": "stdout",
     "output_type": "stream",
     "text": [
      "\u001b[34m\u001b[1mval: \u001b[0mWARNING ⚠️ /raid/students/ryan/Cayas-AI-231/machine_exers/ME5/datasets/grocery/images/val/090008.jpg: corrupt JPEG restored and saved\n",
      "\u001b[34m\u001b[1mval: \u001b[0mWARNING ⚠️ /raid/students/ryan/Cayas-AI-231/machine_exers/ME5/datasets/grocery/images/val/090016.jpg: corrupt JPEG restored and saved\n",
      "\u001b[34m\u001b[1mval: \u001b[0mWARNING ⚠️ /raid/students/ryan/Cayas-AI-231/machine_exers/ME5/datasets/grocery/images/val/090039.jpg: corrupt JPEG restored and saved\n",
      "\u001b[34m\u001b[1mval: \u001b[0mWARNING ⚠️ /raid/students/ryan/Cayas-AI-231/machine_exers/ME5/datasets/grocery/images/val/090064.jpg: corrupt JPEG restored and saved\n",
      "\u001b[34m\u001b[1mval: \u001b[0mWARNING ⚠️ /raid/students/ryan/Cayas-AI-231/machine_exers/ME5/datasets/grocery/images/val/090081.jpg: corrupt JPEG restored and saved\n",
      "\u001b[34m\u001b[1mval: \u001b[0mWARNING ⚠️ /raid/students/ryan/Cayas-AI-231/machine_exers/ME5/datasets/grocery/images/val/090084.jpg: corrupt JPEG restored and saved\n",
      "\u001b[34m\u001b[1mval: \u001b[0mWARNING ⚠️ /raid/students/ryan/Cayas-AI-231/machine_exers/ME5/datasets/grocery/images/val/090097.jpg: corrupt JPEG restored and saved\n",
      "\u001b[34m\u001b[1mval: \u001b[0mWARNING ⚠️ /raid/students/ryan/Cayas-AI-231/machine_exers/ME5/datasets/grocery/images/val/090102.jpg: corrupt JPEG restored and saved\n",
      "\u001b[34m\u001b[1mval: \u001b[0mWARNING ⚠️ /raid/students/ryan/Cayas-AI-231/machine_exers/ME5/datasets/grocery/images/val/090103.jpg: corrupt JPEG restored and saved\n",
      "\u001b[34m\u001b[1mval: \u001b[0mWARNING ⚠️ /raid/students/ryan/Cayas-AI-231/machine_exers/ME5/datasets/grocery/images/val/090108.jpg: corrupt JPEG restored and saved\n",
      "\u001b[34m\u001b[1mval: \u001b[0mWARNING ⚠️ /raid/students/ryan/Cayas-AI-231/machine_exers/ME5/datasets/grocery/images/val/090116.jpg: corrupt JPEG restored and saved\n",
      "\u001b[34m\u001b[1mval: \u001b[0mWARNING ⚠️ /raid/students/ryan/Cayas-AI-231/machine_exers/ME5/datasets/grocery/images/val/090117.jpg: corrupt JPEG restored and saved\n",
      "\u001b[34m\u001b[1mval: \u001b[0mWARNING ⚠️ /raid/students/ryan/Cayas-AI-231/machine_exers/ME5/datasets/grocery/images/val/090124.jpg: corrupt JPEG restored and saved\n",
      "\u001b[34m\u001b[1mval: \u001b[0mWARNING ⚠️ /raid/students/ryan/Cayas-AI-231/machine_exers/ME5/datasets/grocery/images/val/090170.jpg: corrupt JPEG restored and saved\n",
      "\u001b[34m\u001b[1mval: \u001b[0mWARNING ⚠️ /raid/students/ryan/Cayas-AI-231/machine_exers/ME5/datasets/grocery/images/val/090172.jpg: corrupt JPEG restored and saved\n",
      "\u001b[34m\u001b[1mval: \u001b[0mWARNING ⚠️ /raid/students/ryan/Cayas-AI-231/machine_exers/ME5/datasets/grocery/images/val/090182.jpg: corrupt JPEG restored and saved\n",
      "\u001b[34m\u001b[1mval: \u001b[0mWARNING ⚠️ /raid/students/ryan/Cayas-AI-231/machine_exers/ME5/datasets/grocery/images/val/090185.jpg: corrupt JPEG restored and saved\n",
      "\u001b[34m\u001b[1mval: \u001b[0mWARNING ⚠️ /raid/students/ryan/Cayas-AI-231/machine_exers/ME5/datasets/grocery/images/val/090214.jpg: corrupt JPEG restored and saved\n",
      "\u001b[34m\u001b[1mval: \u001b[0mWARNING ⚠️ /raid/students/ryan/Cayas-AI-231/machine_exers/ME5/datasets/grocery/images/val/090224.jpg: corrupt JPEG restored and saved\n",
      "\u001b[34m\u001b[1mval: \u001b[0mWARNING ⚠️ /raid/students/ryan/Cayas-AI-231/machine_exers/ME5/datasets/grocery/images/val/090231.jpg: corrupt JPEG restored and saved\n",
      "\u001b[34m\u001b[1mval: \u001b[0mWARNING ⚠️ /raid/students/ryan/Cayas-AI-231/machine_exers/ME5/datasets/grocery/images/val/090234.jpg: corrupt JPEG restored and saved\n",
      "\u001b[34m\u001b[1mval: \u001b[0mWARNING ⚠️ /raid/students/ryan/Cayas-AI-231/machine_exers/ME5/datasets/grocery/images/val/090248.jpg: corrupt JPEG restored and saved\n",
      "\u001b[34m\u001b[1mval: \u001b[0mWARNING ⚠️ /raid/students/ryan/Cayas-AI-231/machine_exers/ME5/datasets/grocery/images/val/090259.jpg: corrupt JPEG restored and saved\n",
      "\u001b[34m\u001b[1mval: \u001b[0mWARNING ⚠️ /raid/students/ryan/Cayas-AI-231/machine_exers/ME5/datasets/grocery/images/val/090291.jpg: corrupt JPEG restored and saved\n",
      "\u001b[34m\u001b[1mval: \u001b[0mWARNING ⚠️ /raid/students/ryan/Cayas-AI-231/machine_exers/ME5/datasets/grocery/images/val/090297.jpg: corrupt JPEG restored and saved\n",
      "\u001b[34m\u001b[1mval: \u001b[0mWARNING ⚠️ /raid/students/ryan/Cayas-AI-231/machine_exers/ME5/datasets/grocery/images/val/090306.jpg: corrupt JPEG restored and saved\n",
      "\u001b[34m\u001b[1mval: \u001b[0mWARNING ⚠️ /raid/students/ryan/Cayas-AI-231/machine_exers/ME5/datasets/grocery/images/val/090318.jpg: corrupt JPEG restored and saved\n",
      "\u001b[34m\u001b[1mval: \u001b[0mWARNING ⚠️ /raid/students/ryan/Cayas-AI-231/machine_exers/ME5/datasets/grocery/images/val/090322.jpg: corrupt JPEG restored and saved\n",
      "\u001b[34m\u001b[1mval: \u001b[0mWARNING ⚠️ /raid/students/ryan/Cayas-AI-231/machine_exers/ME5/datasets/grocery/images/val/090328.jpg: corrupt JPEG restored and saved\n",
      "\u001b[34m\u001b[1mval: \u001b[0mWARNING ⚠️ /raid/students/ryan/Cayas-AI-231/machine_exers/ME5/datasets/grocery/images/val/090332.jpg: corrupt JPEG restored and saved\n"
     ]
    },
    {
     "name": "stderr",
     "output_type": "stream",
     "text": [
      "\n",
      "                 Class     Images  Instances      Box(P          R      mAP50  mAP50-95)     Mask(P          R      mAP50  mAP50-95): 100%|██████████| 8/8 [00:07<00:00,  1.03it/s]\n"
     ]
    },
    {
     "name": "stdout",
     "output_type": "stream",
     "text": [
      "                   all        775       1765      0.965      0.925      0.946      0.876      0.963      0.908      0.928      0.835\n",
      "          bottled_soda         37         37      0.959          1      0.995       0.93      0.968          1      0.995      0.898\n",
      "                cheese         40         58          1      0.909      0.955      0.889      0.981      0.887      0.938      0.855\n",
      "                Kitkat         42         47      0.991      0.957       0.98      0.928          1       0.95       0.98      0.899\n",
      "                coffee         30         66      0.984      0.954      0.986      0.906      0.984      0.942      0.965      0.892\n",
      "        condensed_milk         37         52      0.974          1      0.993      0.977      0.961      0.981      0.977      0.956\n",
      "           Cooking_oil         40         40      0.987          1      0.995      0.936      0.992          1      0.995      0.936\n",
      "           corned_beef         41        247      0.956       0.98      0.989      0.923      0.964       0.98      0.989      0.835\n",
      "                garlic         33         33      0.985       0.97      0.991      0.905      0.998       0.97      0.991       0.88\n",
      "       instant_noodles         30         30      0.983          1      0.995      0.963      0.989          1      0.995       0.98\n",
      "                 lemon         37         46      0.989          1      0.995      0.979      0.992          1      0.995      0.981\n",
      "            Mayonnaise         31        105      0.934      0.962      0.988      0.887      0.951       0.93      0.955      0.699\n",
      "         peanut_butter         26        158      0.928        0.5      0.617      0.586      0.939      0.485      0.598      0.521\n",
      "                 pasta         37         39      0.895      0.876      0.901      0.676      0.806      0.745      0.758      0.645\n",
      "       pineapple_juice         35        116      0.956       0.93       0.97      0.939      0.959      0.922      0.972      0.925\n",
      "              crackers         32         48       0.95      0.979      0.969      0.927      0.974          1      0.987      0.934\n",
      "       canned_sardines         45         61      0.984      0.967      0.989      0.919      0.991      0.967      0.985      0.872\n",
      "          pink_shampoo         36         51      0.988          1      0.995       0.99      0.992          1      0.995      0.989\n",
      "                  soap         34         34      0.985          1      0.995      0.984       0.99          1      0.995      0.983\n",
      "            silverswan         34         95       0.93      0.845      0.914      0.715      0.923       0.76      0.855      0.585\n",
      "            toothpaste         25         42      0.989          1      0.995      0.941      0.993          1      0.995      0.928\n",
      "           canned_tuna         42        327      0.904      0.523      0.621      0.534      0.849      0.463      0.495      0.374\n",
      "GreenCross_Ethyl_Alcohol         31         33      0.989          1      0.995      0.839      0.997          1      0.995      0.799\n",
      "Speed: 0.2ms preprocess, 1.4ms inference, 0.0ms loss, 1.0ms postprocess per image\n",
      "Results saved to \u001b[1mYOLO-segment-v1/train12\u001b[0m\n",
      "Ultralytics 8.3.29 🚀 Python-3.12.7 torch-2.4.1+cu121 CPU (AMD EPYC 7742 64-Core Processor)\n",
      "\n",
      "\u001b[34m\u001b[1mPyTorch:\u001b[0m starting from 'YOLO-segment-v1/train1/weights/best.pt' with input shape (1, 3, 640, 640) BCHW and output shape(s) ((1, 58, 8400), (1, 32, 160, 160)) (5.7 MB)\n",
      "\n",
      "\u001b[34m\u001b[1mONNX:\u001b[0m starting export with onnx 1.17.0 opset 19...\n",
      "\u001b[34m\u001b[1mONNX:\u001b[0m slimming with onnxslim 0.1.37...\n",
      "\u001b[34m\u001b[1mONNX:\u001b[0m export success ✅ 1.9s, saved as 'YOLO-segment-v1/train1/weights/best.onnx' (11.1 MB)\n",
      "\n",
      "Export complete (2.3s)\n",
      "Results saved to \u001b[1m/raid/students/ryan/Cayas-AI-231/machine_exers/ME5/YOLO-segment-v1/train1/weights\u001b[0m\n",
      "Predict:         yolo predict task=segment model=YOLO-segment-v1/train1/weights/best.onnx imgsz=640  \n",
      "Validate:        yolo val task=segment model=YOLO-segment-v1/train1/weights/best.onnx imgsz=640 data=grocery.yaml  \n",
      "Visualize:       https://netron.app\n"
     ]
    }
   ],
   "source": [
    "from ultralytics import YOLO\n",
    "\n",
    "# Load a pretrained YOLO model (recommended for training)\n",
    "model = YOLO(\"yolo11n-seg.pt\")\n",
    "\n",
    "# Check if CUDA is available and set the device\n",
    "device = 'cuda' if torch.cuda.is_available() else 'cpu'\n",
    "print(f\"Using device: {device}\")\n",
    "\n",
    "# Train the model\n",
    "results = model.train(data=\"grocery.yaml\", epochs=100, patience=10, batch=-1, project=\"YOLO-segment-v1\", name=\"train1\", device=device)\n",
    "\n",
    "# Evaluate the model's performance on the validation set\n",
    "results = model.val(device=device)\n",
    "\n",
    "# Export the model to ONNX format\n",
    "success = model.export(format=\"onnx\")"
   ]
  }
 ],
 "metadata": {
  "kernelspec": {
   "display_name": "ai231-venv",
   "language": "python",
   "name": "python3"
  },
  "language_info": {
   "codemirror_mode": {
    "name": "ipython",
    "version": 3
   },
   "file_extension": ".py",
   "mimetype": "text/x-python",
   "name": "python",
   "nbconvert_exporter": "python",
   "pygments_lexer": "ipython3",
   "version": "3.12.7"
  }
 },
 "nbformat": 4,
 "nbformat_minor": 2
}
