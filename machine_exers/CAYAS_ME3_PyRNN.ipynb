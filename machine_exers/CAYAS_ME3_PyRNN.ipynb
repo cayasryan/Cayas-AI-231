{
  "nbformat": 4,
  "nbformat_minor": 0,
  "metadata": {
    "colab": {
      "provenance": []
    },
    "kernelspec": {
      "name": "python3",
      "display_name": "Python 3"
    },
    "language_info": {
      "name": "python"
    }
  },
  "cells": [
    {
      "cell_type": "markdown",
      "source": [
        "# RNN Model Using Numpy\n",
        "\n",
        "Ryan Roi Cayas \\\n",
        "2022-22085\n"
      ],
      "metadata": {
        "id": "pWlJ4IVtUS-R"
      }
    },
    {
      "cell_type": "code",
      "source": [
        "import torch\n",
        "torch.manual_seed(42)\n",
        "\n",
        "import random\n",
        "random.seed(42)"
      ],
      "metadata": {
        "id": "_WZBxBjTn3cQ"
      },
      "execution_count": null,
      "outputs": []
    },
    {
      "cell_type": "markdown",
      "source": [
        "## Load MNIST data"
      ],
      "metadata": {
        "id": "g6M_Wn-lUtJv"
      }
    },
    {
      "cell_type": "code",
      "source": [
        "import torch\n",
        "import torchvision\n",
        "from torchvision import transforms\n",
        "import os\n",
        "\n",
        "# Define the transformations to apply to the data\n",
        "transform = transforms.Compose([\n",
        "    transforms.ToTensor(),\n",
        "    transforms.Normalize((0.5,), (0.5,))\n",
        "])\n",
        "\n",
        "# Load the MNIST dataset\n",
        "if os.path.exists('./data/MNIST'):\n",
        "  train_dataset = torchvision.datasets.MNIST(root='./data', train=True, download=False, transform=transform)\n",
        "  test_dataset = torchvision.datasets.MNIST(root='./data', train=False, download=False, transform=transform)\n",
        "else:\n",
        "  train_dataset = torchvision.datasets.MNIST(root='./data', train=True, download=True, transform=transform)\n",
        "  test_dataset = torchvision.datasets.MNIST(root='./data', train=False, download=True, transform=transform)\n",
        "\n",
        "# Create the data loaders\n",
        "batch_size = 64\n",
        "train_loader = torch.utils.data.DataLoader(train_dataset, batch_size=batch_size, shuffle=True)\n",
        "test_loader = torch.utils.data.DataLoader(test_dataset, batch_size=batch_size, shuffle=False)"
      ],
      "metadata": {
        "id": "h4qa_REeUqLG"
      },
      "execution_count": null,
      "outputs": []
    },
    {
      "cell_type": "markdown",
      "source": [
        "## Train an RNN Model Using Torch"
      ],
      "metadata": {
        "id": "lF-7IkQjUJLR"
      }
    },
    {
      "cell_type": "code",
      "source": [
        "import torch\n",
        "import torch.nn as nn\n",
        "\n",
        "# Build an RNN model to classsify MNIST images\n",
        "class RNN(nn.Module):\n",
        "    def __init__(self, input_size=28, hidden_size=256, num_layers=1, num_classes=10):\n",
        "        super(RNN, self).__init__()\n",
        "        self.rnn = nn.RNN(input_size, hidden_size, num_layers, batch_first=True)\n",
        "        self.fc = nn.Linear(hidden_size, num_classes)\n",
        "\n",
        "    def forward(self, x):\n",
        "        # input is a \"sequence\" of 28 features w/ length 28\n",
        "        x = x.squeeze(1)\n",
        "        y, _ = self.rnn(x) #, h0)\n",
        "        # retrieve the last element of the sequence\n",
        "        y = self.fc(y[:, -1, :])\n",
        "        return y\n",
        "\n",
        "\n",
        "x = torch.randn(64, 1, 28, 28)\n",
        "model = RNN(num_layers=2)\n",
        "print(model)\n",
        "print(model(x).shape)\n",
        "\n",
        "# print the number of parameters\n",
        "num_params = sum(p.numel() for p in model.parameters())\n",
        "# Use comma to print the number in a more readable format\n",
        "print(f\"Number of parameters: {num_params:,}\")\n",
        "\n",
        "\n",
        "device = torch.device('cuda' if torch.cuda.is_available() else 'cpu')\n",
        "model.to(device)\n",
        "\n",
        "# Define the loss function and optimizer\n",
        "criterion = nn.CrossEntropyLoss()\n",
        "optimizer = torch.optim.Adam(model.parameters(), lr=0.001)\n",
        "\n",
        "from tqdm import tqdm\n",
        "\n",
        "num_epochs = 10\n",
        "\n",
        "model.train()\n",
        "for epoch in tqdm(range(num_epochs)):\n",
        "    total_loss = 0\n",
        "\n",
        "    for images, labels in train_loader:\n",
        "        images = images.to(device)\n",
        "        labels = labels.to(device)\n",
        "\n",
        "        # Forward pass\n",
        "        outputs = model(images)\n",
        "        loss = criterion(outputs, labels)\n",
        "\n",
        "        # Backward and optimize\n",
        "        optimizer.zero_grad()\n",
        "        loss.backward()\n",
        "        optimizer.step()\n",
        "\n",
        "        total_loss += loss.item()\n",
        "\n",
        "\n",
        "    avg_loss = total_loss / len(train_loader)\n",
        "    print(f\"Epoch: {epoch+1}, Loss: {avg_loss:.4f}\")\n"
      ],
      "metadata": {
        "colab": {
          "base_uri": "https://localhost:8080/"
        },
        "id": "QDQrTcKUW9Pa",
        "outputId": "a336f00b-4c71-4792-b122-24750de56bdb"
      },
      "execution_count": null,
      "outputs": [
        {
          "output_type": "stream",
          "name": "stdout",
          "text": [
            "RNN(\n",
            "  (rnn): RNN(28, 256, num_layers=2, batch_first=True)\n",
            "  (fc): Linear(in_features=256, out_features=10, bias=True)\n",
            ")\n",
            "torch.Size([64, 10])\n",
            "Number of parameters: 207,370\n"
          ]
        },
        {
          "output_type": "stream",
          "name": "stderr",
          "text": [
            " 10%|█         | 1/10 [01:26<12:59, 86.63s/it]"
          ]
        },
        {
          "output_type": "stream",
          "name": "stdout",
          "text": [
            "Epoch: 1, Loss: 0.5977\n"
          ]
        },
        {
          "output_type": "stream",
          "name": "stderr",
          "text": [
            "\r 20%|██        | 2/10 [02:44<10:50, 81.32s/it]"
          ]
        },
        {
          "output_type": "stream",
          "name": "stdout",
          "text": [
            "Epoch: 2, Loss: 0.2429\n"
          ]
        },
        {
          "output_type": "stream",
          "name": "stderr",
          "text": [
            "\r 30%|███       | 3/10 [03:59<09:11, 78.72s/it]"
          ]
        },
        {
          "output_type": "stream",
          "name": "stdout",
          "text": [
            "Epoch: 3, Loss: 0.1922\n"
          ]
        },
        {
          "output_type": "stream",
          "name": "stderr",
          "text": [
            "\r 40%|████      | 4/10 [05:16<07:46, 77.75s/it]"
          ]
        },
        {
          "output_type": "stream",
          "name": "stdout",
          "text": [
            "Epoch: 4, Loss: 0.1646\n"
          ]
        },
        {
          "output_type": "stream",
          "name": "stderr",
          "text": [
            "\r 50%|█████     | 5/10 [06:32<06:25, 77.11s/it]"
          ]
        },
        {
          "output_type": "stream",
          "name": "stdout",
          "text": [
            "Epoch: 5, Loss: 0.1528\n"
          ]
        },
        {
          "output_type": "stream",
          "name": "stderr",
          "text": [
            "\r 60%|██████    | 6/10 [07:45<05:03, 75.77s/it]"
          ]
        },
        {
          "output_type": "stream",
          "name": "stdout",
          "text": [
            "Epoch: 6, Loss: 0.1356\n"
          ]
        },
        {
          "output_type": "stream",
          "name": "stderr",
          "text": [
            "\r 70%|███████   | 7/10 [08:58<03:44, 74.86s/it]"
          ]
        },
        {
          "output_type": "stream",
          "name": "stdout",
          "text": [
            "Epoch: 7, Loss: 0.1304\n"
          ]
        },
        {
          "output_type": "stream",
          "name": "stderr",
          "text": [
            "\r 80%|████████  | 8/10 [10:11<02:28, 74.49s/it]"
          ]
        },
        {
          "output_type": "stream",
          "name": "stdout",
          "text": [
            "Epoch: 8, Loss: 0.1423\n"
          ]
        },
        {
          "output_type": "stream",
          "name": "stderr",
          "text": [
            "\r 90%|█████████ | 9/10 [11:25<01:14, 74.27s/it]"
          ]
        },
        {
          "output_type": "stream",
          "name": "stdout",
          "text": [
            "Epoch: 9, Loss: 0.1402\n"
          ]
        },
        {
          "output_type": "stream",
          "name": "stderr",
          "text": [
            "100%|██████████| 10/10 [12:39<00:00, 75.95s/it]"
          ]
        },
        {
          "output_type": "stream",
          "name": "stdout",
          "text": [
            "Epoch: 10, Loss: 0.1400\n"
          ]
        },
        {
          "output_type": "stream",
          "name": "stderr",
          "text": [
            "\n"
          ]
        }
      ]
    },
    {
      "cell_type": "markdown",
      "source": [
        "## Verify Test Accuracy of Torch RNN Model"
      ],
      "metadata": {
        "id": "qSjkiC6DfOS4"
      }
    },
    {
      "cell_type": "code",
      "source": [
        "model.eval()  # Set the model to evaluation mode\n",
        "\n",
        "correct = 0\n",
        "total = 0\n",
        "\n",
        "with torch.no_grad():\n",
        "    for images, labels in test_loader:\n",
        "        images = images.to(device)\n",
        "        labels = labels.to(device)\n",
        "\n",
        "        # Forward pass\n",
        "        outputs = model(images)\n",
        "        _, predicted = torch.max(outputs.data, 1)\n",
        "\n",
        "        total += labels.size(0)\n",
        "        correct += (predicted == labels).sum().item()\n",
        "\n",
        "accuracy = correct / total\n",
        "print(f\"Test Accuracy Using NN Module: {accuracy:.4f}\")"
      ],
      "metadata": {
        "id": "LNeoZehUXJVX",
        "colab": {
          "base_uri": "https://localhost:8080/"
        },
        "outputId": "41eacebb-b040-4b06-eba5-4b6c727e8d1f"
      },
      "execution_count": null,
      "outputs": [
        {
          "output_type": "stream",
          "name": "stdout",
          "text": [
            "Test Accuracy Using NN Module: 0.9532\n"
          ]
        }
      ]
    },
    {
      "cell_type": "markdown",
      "source": [
        "## Get Torch Model Weights"
      ],
      "metadata": {
        "id": "NsuHvAY8gRyM"
      }
    },
    {
      "cell_type": "code",
      "source": [
        "# Check RNN model weights\n",
        "for name, param in model.named_parameters():\n",
        "    if param.requires_grad:\n",
        "        print(name, param.shape)"
      ],
      "metadata": {
        "id": "FeWkBMkFgRMk",
        "colab": {
          "base_uri": "https://localhost:8080/"
        },
        "outputId": "221b0101-99bb-4619-e489-3243ddb1e826"
      },
      "execution_count": null,
      "outputs": [
        {
          "output_type": "stream",
          "name": "stdout",
          "text": [
            "rnn.weight_ih_l0 torch.Size([256, 28])\n",
            "rnn.weight_hh_l0 torch.Size([256, 256])\n",
            "rnn.bias_ih_l0 torch.Size([256])\n",
            "rnn.bias_hh_l0 torch.Size([256])\n",
            "rnn.weight_ih_l1 torch.Size([256, 256])\n",
            "rnn.weight_hh_l1 torch.Size([256, 256])\n",
            "rnn.bias_ih_l1 torch.Size([256])\n",
            "rnn.bias_hh_l1 torch.Size([256])\n",
            "fc.weight torch.Size([10, 256])\n",
            "fc.bias torch.Size([10])\n"
          ]
        }
      ]
    },
    {
      "cell_type": "code",
      "source": [
        "import numpy as np\n",
        "\n",
        "# Create an empty dictionary to store the parameters\n",
        "param_dict = {}\n",
        "\n",
        "# Iterate over the model's named parameters\n",
        "for name, param in model.named_parameters():\n",
        "    # Convert the parameter to a NumPy array and store it in the dictionary\n",
        "    param_dict[name] = param.detach().cpu().numpy()"
      ],
      "metadata": {
        "id": "E1T_-AuSlNcu"
      },
      "execution_count": null,
      "outputs": []
    },
    {
      "cell_type": "markdown",
      "source": [
        "## Building the pyRNN Model"
      ],
      "metadata": {
        "id": "-sXFGbpJWofs"
      }
    },
    {
      "cell_type": "code",
      "source": [
        "import numpy as np\n",
        "\n",
        "class PyRNN():\n",
        "    def __init__(self, input_size=28, hidden_size=256, num_layers=1, num_classes=10, param_dict=None):\n",
        "        # param_dict is a dict containing the model weights:\n",
        "          # e.g. param_dict['rnn.weight_ih_l0']\n",
        "\n",
        "        self.num_layers = num_layers\n",
        "\n",
        "        # Initialize weights randomly if param_dict is not provided (OPTIONAL)\n",
        "        if param_dict is None:\n",
        "            # Initialization for W_ih and W_hh\n",
        "            self.W_ih = [np.random.uniform(low=-np.sqrt(1 / hidden_size),\n",
        "                                          high=np.sqrt(1 / hidden_size),\n",
        "                                          size=(hidden_size, input_size if i == 0 else hidden_size))\n",
        "                          for i in range(num_layers)]\n",
        "            self.W_hh = [np.random.uniform(low=-np.sqrt(1 / hidden_size),\n",
        "                                          high=np.sqrt(1 / hidden_size),\n",
        "                                          size=(hidden_size, hidden_size))\n",
        "                          for i in range(num_layers)]\n",
        "            self.b_ih = [np.random.uniform(low=-np.sqrt(1 / hidden_size),\n",
        "                                          high=np.sqrt(1 / hidden_size),\n",
        "                                          size=(hidden_size,))\n",
        "                          for i in range(num_layers)]\n",
        "            self.b_hh = [np.random.uniform(low=-np.sqrt(1 / hidden_size),\n",
        "                                          high=np.sqrt(1 / hidden_size),\n",
        "                                          size=(hidden_size,))\n",
        "                          for i in range(num_layers)]\n",
        "\n",
        "\n",
        "            # Weights for fully connected layer\n",
        "            self.W_fc = np.random.uniform(low=-np.sqrt(6 / (hidden_size + num_classes)),\n",
        "                                        high=np.sqrt(6 / (hidden_size + num_classes)),\n",
        "                                        size=(num_classes, hidden_size))\n",
        "            self.b_fc = np.zeros(num_classes)\n",
        "        else:\n",
        "            # Load weights from param_dict\n",
        "            self.W_ih = [param_dict[f'rnn.weight_ih_l{i}'] for i in range(num_layers)]\n",
        "            self.W_hh = [param_dict[f'rnn.weight_hh_l{i}'] for i in range(num_layers)]\n",
        "            self.b_ih = [param_dict[f'rnn.bias_ih_l{i}'] for i in range(num_layers)]\n",
        "            self.b_hh = [param_dict[f'rnn.bias_hh_l{i}'] for i in range(num_layers)]\n",
        "            self.W_fc = param_dict['fc.weight']\n",
        "            self.b_fc = param_dict['fc.bias']\n",
        "\n",
        "\n",
        "\n",
        "        def fc_linear(x, W, b):\n",
        "            return np.dot(x, W.T) + b\n",
        "\n",
        "        def RNN_forward(x, W_ih, W_hh, b_ih, b_hh, h0 = None):\n",
        "            # Initialize the hidden state\n",
        "            if h0 is None:\n",
        "              h = np.zeros((x.shape[0], hidden_size))\n",
        "            else:\n",
        "              h = h0\n",
        "\n",
        "            # Initialize the output\n",
        "            y = np.zeros((x.shape[0], x.shape[1], hidden_size))\n",
        "\n",
        "            for t in range(x.shape[1]):\n",
        "                # print variable shapes\n",
        "                # print(\"x[:, t, :] shape:\", x[:, t, :].shape)\n",
        "                # print(\"W_ih shape:\", W_ih.shape)\n",
        "                # print(\"W_hh shape:\", W_hh.shape)\n",
        "                # print(\"b_ih shape:\", b_ih.shape)\n",
        "                # print(\"b_hh shape:\", b_ih.shape)\n",
        "\n",
        "                # Compute the hidden state\n",
        "                h = np.tanh(np.dot(x[:, t, :], W_ih.T) + np.dot(h, W_hh.T) + b_ih + b_hh)\n",
        "\n",
        "                # Compute the output\n",
        "                y[:, t, :] = h\n",
        "\n",
        "            return y, h\n",
        "\n",
        "        self.RNN_forward = RNN_forward\n",
        "        self.fc_linear = fc_linear\n",
        "\n",
        "    def forward(self, x):\n",
        "        # input is a \"sequence\" of 28 features w/ length 28\n",
        "        x = np.squeeze(x, axis=1)\n",
        "\n",
        "        # Loop through layers\n",
        "        for i in range(self.num_layers):\n",
        "            # Apply RNN logic for current layer\n",
        "            y, _ = self.RNN_forward(\n",
        "                x if i == 0 else y,  # Input is x for first layer, previous layer's output otherwise\n",
        "                self.W_ih[i], self.W_hh[i], self.b_ih[i], self.b_hh[i]\n",
        "            )\n",
        "\n",
        "        # Use output of last layer for classification\n",
        "        y = self.fc_linear(y[:, -1, :], self.W_fc, self.b_fc)\n",
        "        return y\n",
        "\n",
        "x = torch.randn(64, 1, 28, 28)\n",
        "model_pyRNN = PyRNN(num_layers=2, param_dict=param_dict)\n",
        "print(model_pyRNN.forward(x).shape)"
      ],
      "metadata": {
        "id": "WuGWdW2nYS1A",
        "colab": {
          "base_uri": "https://localhost:8080/"
        },
        "outputId": "4d7d2816-88f0-4a33-d6c4-d1a9ce6ba3ac"
      },
      "execution_count": null,
      "outputs": [
        {
          "output_type": "stream",
          "name": "stdout",
          "text": [
            "(64, 10)\n"
          ]
        }
      ]
    },
    {
      "cell_type": "markdown",
      "source": [
        "## Evaluate the pyRNN model"
      ],
      "metadata": {
        "id": "6o5H2loIYg-c"
      }
    },
    {
      "cell_type": "code",
      "source": [
        "correct = 0\n",
        "total = 0\n",
        "\n",
        "for images, labels in test_loader:\n",
        "    # Forward pass\n",
        "    outputs = model_pyRNN.forward(images)\n",
        "    predicted = np.argmax(outputs, axis=1)\n",
        "\n",
        "    total += labels.size(0)\n",
        "    correct += (predicted == labels).sum().item()\n",
        "\n",
        "accuracy = correct / total\n",
        "print(f\"Test Accuracy of the PyRNN Model: {accuracy:.4f}\")"
      ],
      "metadata": {
        "id": "po3illNmYi4h",
        "colab": {
          "base_uri": "https://localhost:8080/"
        },
        "outputId": "b7586c3c-3996-4183-d7b4-7d7bb01c2309"
      },
      "execution_count": null,
      "outputs": [
        {
          "output_type": "stream",
          "name": "stdout",
          "text": [
            "Test Accuracy of the PyRNN Model: 0.9532\n"
          ]
        }
      ]
    },
    {
      "cell_type": "markdown",
      "source": [
        "## Visualize random test sample predictions"
      ],
      "metadata": {
        "id": "wZzRKoB7rIsJ"
      }
    },
    {
      "cell_type": "code",
      "source": [
        "import matplotlib.pyplot as plt\n",
        "\n",
        "# Get 16 random indices\n",
        "indices = np.random.choice(len(test_dataset), size=16, replace=False)\n",
        "\n",
        "# Get the corresponding images and labels\n",
        "images = np.array([test_dataset[i][0] for i in indices])\n",
        "labels = [test_dataset[i][1] for i in indices]\n",
        "\n",
        "# Get predicted label of all images\n",
        "outputs = model_pyRNN.forward(images)\n",
        "predictions = np.argmax(outputs, axis=1)\n",
        "\n",
        "# Create a figure with 4x4 subplots\n",
        "fig, axes = plt.subplots(4, 4, figsize=(10, 10))\n",
        "\n",
        "# Iterate over the subplots and display the images with labels\n",
        "for i, ax in enumerate(axes.flat):\n",
        "    ax.imshow(images[i].squeeze(), cmap='gray')\n",
        "    ax.set_title(f\"Label: {labels[i]}, Predicted: {predictions[i]}\")\n",
        "    ax.axis('off')\n",
        "\n",
        "# Adjust the spacing between subplots\n",
        "plt.tight_layout()\n",
        "\n",
        "# Show the figure\n",
        "plt.show()"
      ],
      "metadata": {
        "id": "IKcuHLoXrIHR",
        "colab": {
          "base_uri": "https://localhost:8080/",
          "height": 1000
        },
        "outputId": "e406d6c8-474d-475d-ef8a-4203c5c85563"
      },
      "execution_count": null,
      "outputs": [
        {
          "output_type": "display_data",
          "data": {
            "text/plain": [
              "<Figure size 1000x1000 with 16 Axes>"
            ],
            "image/png": "[encoded data removed]"
          },
          "metadata": {}
        }
      ]
    },
    {
      "cell_type": "markdown",
      "source": [
        "# The accuracy of the RNN implementation using Python Numpy is close/equal to the accuracy of the RNN algorithm using the torch.nn module.\n",
        "\n",
        "## Accuracy using Python Numpy: 95.32 %\n",
        "## Accuracy using NN Module: 95.32 %"
      ],
      "metadata": {
        "id": "h9_1OjYQoFb3"
      }
    }
  ]
}